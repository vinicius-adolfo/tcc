{
  "cells": [
    {
      "cell_type": "code",
      "execution_count": 1,
      "metadata": {
        "colab": {
          "base_uri": "https://localhost:8080/"
        },
        "id": "9Huu9wBk8R9X",
        "outputId": "f443c6af-1ccf-4577-b7ff-51ff9a79f9f4"
      },
      "outputs": [],
      "source": [
        "#from google.colab import drive\n",
        "#drive.mount('/content/drive')\n",
        "import pandas as pd\n",
        "import numpy as np\n",
        "from IPython.display import clear_output\n",
        "from tqdm import tqdm\n",
        "from time import time\n",
        "import json\n",
        "from sklearn.utils.fixes import *\n",
        "random_state = 20"
      ]
    },
    {
      "cell_type": "code",
      "execution_count": 2,
      "metadata": {
        "id": "-bvZKm2wJCfP"
      },
      "outputs": [],
      "source": [
        "class color:\n",
        "   PURPLE = '\\033[95m'\n",
        "   CYAN = '\\033[96m'\n",
        "   DARKCYAN = '\\033[36m'\n",
        "   BLUE = '\\033[94m'\n",
        "   GREEN = '\\033[92m'\n",
        "   YELLOW = '\\033[93m'\n",
        "   RED = '\\033[91m'\n",
        "   BOLD = '\\033[1m'\n",
        "   UNDERLINE = '\\033[4m'\n",
        "   END = '\\033[0m'"
      ]
    },
    {
      "cell_type": "code",
      "execution_count": 3,
      "metadata": {
        "id": "wDjM34qSy5TX"
      },
      "outputs": [],
      "source": [
        "# Utility function to report best scores\n",
        "def report(results, pipeline, n_top=3):\n",
        "    for i in range(1, n_top + 1):\n",
        "        candidates = np.flatnonzero(results[\"rank_test_score\"] == i)\n",
        "        if i == 1:\n",
        "          results['pipeline'] = pipeline\n",
        "          df_results = pd.DataFrame(results)\n",
        "          df = df_results[df_results['rank_test_score'] == 1].filter(regex=(\"split*\"))\n",
        "          df['pipeline'] = df_results['pipeline']\n",
        "          df['params'] = df_results['params']\n",
        "          with open(f'Arquivos TCC/perfomance_cv.csv', 'a') as f:\n",
        "            df.to_csv(f, mode='a', header=f.tell()==0, index=False)\n",
        "        for candidate in candidates:\n",
        "            print(color.BOLD + \"Model with rank: {0}\".format(i)+ color.END)\n",
        "            print(color.BOLD + \n",
        "                \"Mean validation score: {0:.4f} (std: {1:.4f})\".format(\n",
        "                    results[\"mean_test_score\"][candidate],\n",
        "                    results[\"std_test_score\"][candidate],\n",
        "                )+ color.END\n",
        "            )\n",
        "            print(color.BOLD + \"Parameters: {0}\".format(results[\"params\"][candidate])+ color.END)\n",
        "            print(\"\")"
      ]
    },
    {
      "cell_type": "markdown",
      "metadata": {
        "id": "_nX89b1lVnwR"
      },
      "source": [
        "# Obtenção dos embeddings"
      ]
    },
    {
      "cell_type": "code",
      "execution_count": null,
      "metadata": {
        "id": "jLo5BuuMWALI"
      },
      "outputs": [],
      "source": [
        "import pandas as pd\n",
        "import numpy as np\n",
        "!pip install -U sentence-transformers\n",
        "from IPython.display import clear_output\n",
        "from sentence_transformers import SentenceTransformer\n",
        "import pickle\n",
        "clear_output()"
      ]
    },
    {
      "cell_type": "code",
      "execution_count": null,
      "metadata": {
        "id": "hDO_ZhTOCvsc"
      },
      "outputs": [],
      "source": [
        "###### Models ######\n",
        "models_names = [\"all-MiniLM-L6-v2\",\"all-MiniLM-L12-v2\"]\n",
        "###### Datasets ######\n",
        "datasets = ['TC02_20news', 'TC14_wos']\n",
        "for dataset in datasets:\n",
        "  df = pd.read_csv(f'Arquivos TCC/datasets/{dataset}.csv', sep=';')\n",
        "  df = df.dropna()\n",
        "  for model_name in models_names:\n",
        "    model = SentenceTransformer(f\"sentence-transformers/{model_name}\")\n",
        "    textos = df['text'].values.tolist()\n",
        "    embeddings = model.encode(textos)\n",
        "    with open(f'Arquivos TCC/embeddings/sbert/{model_name}_{dataset}.pkl', \"wb\") as fOut:\n",
        "      pickle.dump({'sentences': textos, 'embeddings': embeddings, 'labels': df['label']}, fOut, protocol=pickle.HIGHEST_PROTOCOL)\n",
        "\n",
        "clear_output()"
      ]
    },
    {
      "cell_type": "code",
      "execution_count": null,
      "metadata": {
        "colab": {
          "base_uri": "https://localhost:8080/"
        },
        "id": "rmduZOnodeEV",
        "outputId": "af59ad73-dd6d-431a-a8ff-309fceb7f5f6"
      },
      "outputs": [
        {
          "name": "stderr",
          "output_type": "stream",
          "text": [
            "/usr/local/lib/python3.7/dist-packages/numba/np/ufunc/parallel.py:363: NumbaWarning: The TBB threading layer requires TBB version 2019.5 or later i.e., TBB_INTERFACE_VERSION >= 11005. Found TBB_INTERFACE_VERSION = 9107. The TBB threading layer is disabled.\n",
            "  warnings.warn(problem)\n"
          ]
        }
      ],
      "source": [
        "#umap para redução da dimensão do embedding\n",
        "!pip install umap-learn\n",
        "from umap import UMAP\n",
        "import pandas as pd\n",
        "import numpy as np\n",
        "import pickle\n",
        "from IPython.display import clear_output\n",
        "clear_output()\n",
        "datasets = ['TC02_20news', 'TC14_wos']\n",
        "models_names = [\"all-MiniLM-L6-v2\",\"all-MiniLM-L12-v2\"]\n",
        "for model_name in models_names:\n",
        "  for dataset in datasets:\n",
        "    embeddings_path = f'Arquivos TCC/embeddings/{model_name}_{dataset}.pkl'\n",
        "    with open(embeddings_path, \"rb\") as fIn:\n",
        "      stored_data = pickle.load(fIn)\n",
        "      stored_sentences = stored_data['sentences']\n",
        "      stored_embeddings = stored_data['embeddings']\n",
        "      stored_labels = stored_data['labels']\n",
        "      umap_model = UMAP(\n",
        "              n_components=30,\n",
        "              min_dist=0.01,\n",
        "              random_state=5,\n",
        "              n_neighbors=20,\n",
        "              metric='cosine',\n",
        "              low_memory=True\n",
        "          )\n",
        "      embeddings_umap = umap_model.fit_transform(stored_embeddings)\n",
        "      with open(f'Arquivos TCC/embeddings/umap/{model_name}_{dataset}.pkl', \"wb\") as fOut:\n",
        "        pickle.dump({'sentences': stored_sentences, 'umap_embeddings': embeddings_umap, 'labels': stored_labels}, fOut, protocol=pickle.HIGHEST_PROTOCOL)"
      ]
    },
    {
      "cell_type": "markdown",
      "metadata": {
        "id": "GUF_mdLfdh15"
      },
      "source": [
        "# Pipeline 1: 20NG + all-MiniLM-L6-v2\n"
      ]
    },
    {
      "cell_type": "code",
      "execution_count": 5,
      "metadata": {
        "id": "eTX57jEPdd8A"
      },
      "outputs": [],
      "source": [
        "#LOADING DATA\n",
        "import pandas as pd\n",
        "import numpy as np\n",
        "import pickle\n",
        "from IPython.display import clear_output\n",
        "from sklearn import preprocessing\n",
        "clear_output()\n",
        "#datasets = ['TC02_20news', 'TC14_wos']\n",
        "#models_names = [\"all-MiniLM-L6-v2\",\"all-MiniLM-L12-v2\"]\n",
        "dataset = 'TC02_20news'\n",
        "model_name = \"all-MiniLM-L6-v2\"\n",
        "embeddings_path = f'Arquivos TCC/embeddings/sbert/{model_name}_{dataset}.pkl'\n",
        "with open(embeddings_path, \"rb\") as fIn:\n",
        "  stored_data = pickle.load(fIn)\n",
        "embeddings = stored_data['embeddings']\n",
        "labels = stored_data['labels']\n",
        "labels_enc = preprocessing.LabelEncoder().fit_transform(labels)\n",
        "unique, counts = np.unique(stored_data['labels'], return_counts=True)\n",
        "#Split hold-out test data\n",
        "from sklearn.model_selection import train_test_split\n",
        "X_train, X_test, y_train, y_test = train_test_split(embeddings, labels_enc, test_size=0.10, random_state=random_state,stratify=labels_enc)\n",
        "unique, counts = np.unique(y_test, return_counts=True)\n",
        "#dict(zip(unique, counts))\n",
        "#K-fold cross validation strategy and import dependencies\n",
        "from sklearn.neighbors import KNeighborsClassifier\n",
        "from sklearn.linear_model import LogisticRegression\n",
        "from sklearn.model_selection import RandomizedSearchCV\n",
        "from sklearn.model_selection import StratifiedKFold\n",
        "from sklearn.metrics import balanced_accuracy_score\n",
        "cv = StratifiedKFold(n_splits=10, shuffle=False)#, random_state=random_state)"
      ]
    },
    {
      "cell_type": "markdown",
      "metadata": {
        "id": "Y2Mxj4yy9O_s"
      },
      "source": [
        "**KNN**"
      ]
    },
    {
      "cell_type": "code",
      "execution_count": 26,
      "metadata": {
        "colab": {
          "base_uri": "https://localhost:8080/"
        },
        "id": "YOVwYFp4iLxv",
        "outputId": "c08cf48d-f6ee-417e-a0aa-91e3425e53e4"
      },
      "outputs": [
        {
          "name": "stdout",
          "output_type": "stream",
          "text": [
            "RandomizedSearchCV took 770.67 seconds for 10 candidates parameter settings.\n",
            "\u001b[1mModel with rank: 1\u001b[0m\n",
            "\u001b[1mMean validation score: 0.8236 (std: 0.0111)\u001b[0m\n",
            "\u001b[1mParameters: {'weights': 'distance', 'p': 1, 'n_neighbors': 3}\u001b[0m\n",
            "\n",
            "\u001b[1mModel with rank: 2\u001b[0m\n",
            "\u001b[1mMean validation score: 0.8202 (std: 0.0102)\u001b[0m\n",
            "\u001b[1mParameters: {'weights': 'distance', 'p': 2, 'n_neighbors': 5}\u001b[0m\n",
            "\n",
            "\u001b[1mModel with rank: 3\u001b[0m\n",
            "\u001b[1mMean validation score: 0.8186 (std: 0.0126)\u001b[0m\n",
            "\u001b[1mParameters: {'weights': 'distance', 'p': 1, 'n_neighbors': 5}\u001b[0m\n",
            "\n"
          ]
        }
      ],
      "source": [
        "#KNN\n",
        "clf_KNN = KNeighborsClassifier(algorithm= \"ball_tree\")\n",
        "param_dist_KNN = {\n",
        "    \"n_neighbors\": [3,5,11,21],\n",
        "    \"p\": [1,2],\n",
        "    \"weights\" :[\"uniform\",\"distance\"]\n",
        "}\n",
        "n_it = 10\n",
        "random_search_KNN = RandomizedSearchCV(\n",
        "    clf_KNN, param_distributions=param_dist_KNN, n_iter=n_it, cv = cv, random_state = random_state, verbose = 2, scoring='balanced_accuracy', n_jobs=-1\n",
        ")\n",
        "start = time()\n",
        "random_search_KNN.fit(X_train, y_train)\n",
        "clear_output()\n",
        "print(\n",
        "    \"RandomizedSearchCV took %.2f seconds for %d candidates parameter settings.\"\n",
        "    % ((time() - start), n_it)\n",
        ")\n",
        "report(random_search_KNN.cv_results_ , f'{dataset}+{model_name}+KNN')\n",
        "\n"
      ]
    },
    {
      "cell_type": "code",
      "execution_count": 27,
      "metadata": {
        "id": "x4pVFA0Vd9V8"
      },
      "outputs": [
        {
          "name": "stdout",
          "output_type": "stream",
          "text": [
            "\u001b[1mA acurácia balanceada nos dados de teste: 0.8279\u001b[0m\n"
          ]
        }
      ],
      "source": [
        "from sklearn.metrics import balanced_accuracy_score\n",
        "balanced_acc = balanced_accuracy_score(y_test,random_search_KNN.best_estimator_.predict(X_test))\n",
        "print(color.BOLD+\"A acurácia balanceada nos dados de teste: {0:.4f}\".format(balanced_acc)+color.END)"
      ]
    },
    {
      "cell_type": "markdown",
      "metadata": {
        "id": "IkC99S769Fpj"
      },
      "source": [
        "**Logistic Regression**"
      ]
    },
    {
      "cell_type": "code",
      "execution_count": 28,
      "metadata": {
        "id": "70jMDrF855tx"
      },
      "outputs": [
        {
          "name": "stdout",
          "output_type": "stream",
          "text": [
            "RandomizedSearchCV took 308.60 seconds for 4 candidates parameter settings.\n",
            "\u001b[1mModel with rank: 1\u001b[0m\n",
            "\u001b[1mMean validation score: 0.7782 (std: 0.0091)\u001b[0m\n",
            "\u001b[1mParameters: {'C': 10}\u001b[0m\n",
            "\n",
            "\u001b[1mModel with rank: 2\u001b[0m\n",
            "\u001b[1mMean validation score: 0.7732 (std: 0.0066)\u001b[0m\n",
            "\u001b[1mParameters: {'C': 1}\u001b[0m\n",
            "\n",
            "\u001b[1mModel with rank: 3\u001b[0m\n",
            "\u001b[1mMean validation score: 0.7436 (std: 0.0086)\u001b[0m\n",
            "\u001b[1mParameters: {'C': 0.1}\u001b[0m\n",
            "\n"
          ]
        }
      ],
      "source": [
        "#Logistic Regression\n",
        "\n",
        "clf_LR = LogisticRegression(random_state=42,multi_class='multinomial', solver='sag', tol= 1e-4,max_iter=300)\n",
        "param_dist_LR = {\n",
        "    \"C\": [1e-1,1,10]\n",
        "}\n",
        "n_it = 4\n",
        "random_search_LR = RandomizedSearchCV(\n",
        "    clf_LR, param_distributions=param_dist_LR, n_iter=n_it, cv = cv, random_state = random_state, verbose = 2, scoring='balanced_accuracy', n_jobs=-1\n",
        ")\n",
        "start = time()\n",
        "random_search_LR.fit(X_train, y_train)\n",
        "clear_output()\n",
        "print(\n",
        "    \"RandomizedSearchCV took %.2f seconds for %d candidates parameter settings.\"\n",
        "    % ((time() - start), n_it)\n",
        ")\n",
        "report(random_search_LR.cv_results_, f'{dataset}+{model_name}+LR')\n"
      ]
    },
    {
      "cell_type": "code",
      "execution_count": 29,
      "metadata": {
        "colab": {
          "base_uri": "https://localhost:8080/"
        },
        "id": "KMMe_qsFenMc",
        "outputId": "21cdd963-9bb0-494a-f147-f81b51622321"
      },
      "outputs": [
        {
          "name": "stdout",
          "output_type": "stream",
          "text": [
            "\u001b[1mA acurácia balanceada nos dados de teste: 0.7774\u001b[0m\n"
          ]
        }
      ],
      "source": [
        "balanced_acc= balanced_accuracy_score(y_test,random_search_LR.best_estimator_.predict(X_test))\n",
        "print(color.BOLD+\"A acurácia balanceada nos dados de teste: {0:.4f}\".format(balanced_acc)+color.END)"
      ]
    },
    {
      "cell_type": "markdown",
      "metadata": {
        "id": "i97R30je9TMk"
      },
      "source": [
        "**SVC**"
      ]
    },
    {
      "cell_type": "code",
      "execution_count": 30,
      "metadata": {
        "colab": {
          "base_uri": "https://localhost:8080/"
        },
        "id": "oq24eG_rZhyx",
        "outputId": "c610e5ef-a19c-4414-9354-b945e8c43274"
      },
      "outputs": [
        {
          "name": "stdout",
          "output_type": "stream",
          "text": [
            "RandomizedSearchCV took 138.70 seconds for 6 candidates parameter settings.\n",
            "\u001b[1mModel with rank: 1\u001b[0m\n",
            "\u001b[1mMean validation score: 0.7775 (std: 0.0102)\u001b[0m\n",
            "\u001b[1mParameters: {'C': 1}\u001b[0m\n",
            "\n",
            "\u001b[1mModel with rank: 2\u001b[0m\n",
            "\u001b[1mMean validation score: 0.7711 (std: 0.0093)\u001b[0m\n",
            "\u001b[1mParameters: {'C': 10}\u001b[0m\n",
            "\n",
            "\u001b[1mModel with rank: 3\u001b[0m\n",
            "\u001b[1mMean validation score: 0.7690 (std: 0.0067)\u001b[0m\n",
            "\u001b[1mParameters: {'C': 0.1}\u001b[0m\n",
            "\n"
          ]
        }
      ],
      "source": [
        "from sklearn.svm import LinearSVC\n",
        "clf_SVC = LinearSVC(random_state=random_state, tol=1e-4)\n",
        "param_dist_SVC = {\n",
        "    'C': [0.1,1, 10],\n",
        "    }\n",
        "n_it = 6\n",
        "random_search_SVC = RandomizedSearchCV(\n",
        "    clf_SVC, param_distributions=param_dist_SVC, n_iter=n_it, cv = cv, random_state = random_state, verbose = 2, scoring='balanced_accuracy', n_jobs=-1\n",
        ")\n",
        "start = time()\n",
        "random_search_SVC.fit(X_train, y_train)\n",
        "clear_output()\n",
        "print(\n",
        "    \"RandomizedSearchCV took %.2f seconds for %d candidates parameter settings.\"\n",
        "    % ((time() - start), n_it)\n",
        ")\n",
        "report(random_search_SVC.cv_results_, f'{dataset}+{model_name}+SVC')"
      ]
    },
    {
      "cell_type": "code",
      "execution_count": 31,
      "metadata": {
        "colab": {
          "base_uri": "https://localhost:8080/"
        },
        "id": "yDtbXMLwZho7",
        "outputId": "a3f73735-3412-4d6c-c9d3-cadd868fc70a"
      },
      "outputs": [
        {
          "name": "stdout",
          "output_type": "stream",
          "text": [
            "\u001b[1mA acurácia balanceada nos dados de teste: 0.7879\u001b[0m\n"
          ]
        }
      ],
      "source": [
        "from sklearn.metrics import balanced_accuracy_score\n",
        "balanced_acc = balanced_accuracy_score(y_test,random_search_SVC.best_estimator_.predict(X_test))\n",
        "print(color.BOLD+\"A acurácia balanceada nos dados de teste: {0:.4f}\".format(balanced_acc)+color.END)"
      ]
    },
    {
      "cell_type": "code",
      "execution_count": 72,
      "metadata": {},
      "outputs": [
        {
          "name": "stdout",
          "output_type": "stream",
          "text": [
            "RandomizedSearchCV took 299.58 seconds for 6 candidates parameter settings.\n",
            "\u001b[1mModel with rank: 1\u001b[0m\n",
            "\u001b[1mMean validation score: 0.8239 (std: 0.0147)\u001b[0m\n",
            "\u001b[1mParameters: {'linearsvc__C': 1}\u001b[0m\n",
            "\n",
            "\u001b[1mModel with rank: 2\u001b[0m\n",
            "\u001b[1mMean validation score: 0.8167 (std: 0.0153)\u001b[0m\n",
            "\u001b[1mParameters: {'linearsvc__C': 0.1}\u001b[0m\n",
            "\n",
            "\u001b[1mModel with rank: 3\u001b[0m\n",
            "\u001b[1mMean validation score: 0.8144 (std: 0.0142)\u001b[0m\n",
            "\u001b[1mParameters: {'linearsvc__C': 10}\u001b[0m\n",
            "\n"
          ]
        }
      ],
      "source": [
        "from sklearn.ensemble import RandomForestClassifier\n",
        "clf_RF = RandomForestClassifier(random_state=random_state)\n",
        "param_dist_RF = {\n",
        "    'n_estimators': [10,50,100,200],\n",
        "    }\n",
        "n_it = 10\n",
        "random_search_RF = RandomizedSearchCV(\n",
        "    clf_RF, param_distributions=param_dist_RF, n_iter=n_it, cv = cv, random_state = random_state, verbose = 2, scoring='balanced_accuracy', n_jobs=-1\n",
        ")\n",
        "start = time()\n",
        "random_search_RF.fit(X_train, y_train)\n",
        "clear_output()\n",
        "print(\n",
        "    \"RandomizedSearchCV took %.2f seconds for %d candidates parameter settings.\"\n",
        "    % ((time() - start), n_it)\n",
        ")\n",
        "report(random_search_RF.cv_results_, f'{dataset}+{model_name}+RF')\n",
        "from sklearn.metrics import balanced_accuracy_score\n",
        "balanced_acc = balanced_accuracy_score(y_test,random_search_RF.best_estimator_.predict(X_test))\n",
        "print(color.BOLD+\"A acurácia balanceada nos dados de teste: {0:.4f}\".format(balanced_acc)+color.END)"
      ]
    },
    {
      "cell_type": "code",
      "execution_count": 73,
      "metadata": {},
      "outputs": [
        {
          "name": "stdout",
          "output_type": "stream",
          "text": [
            "\u001b[1mModel with rank: 1\u001b[0m\n",
            "\u001b[1mMean validation score: 0.7643 (std: 0.0075)\u001b[0m\n",
            "\u001b[1mParameters: {'n_estimators': 200}\u001b[0m\n",
            "\n",
            "\u001b[1mModel with rank: 2\u001b[0m\n",
            "\u001b[1mMean validation score: 0.7470 (std: 0.0095)\u001b[0m\n",
            "\u001b[1mParameters: {'n_estimators': 100}\u001b[0m\n",
            "\n",
            "\u001b[1mModel with rank: 3\u001b[0m\n",
            "\u001b[1mMean validation score: 0.7146 (std: 0.0091)\u001b[0m\n",
            "\u001b[1mParameters: {'n_estimators': 50}\u001b[0m\n",
            "\n"
          ]
        }
      ],
      "source": [
        "report(random_search_RF.cv_results_, f'{dataset}+{model_name}+RF')"
      ]
    },
    {
      "cell_type": "markdown",
      "metadata": {
        "id": "RVsCld2sZlja"
      },
      "source": [
        "# Pipeline 2: 20NG + all-MiniLM-L12-v2"
      ]
    },
    {
      "cell_type": "code",
      "execution_count": 13,
      "metadata": {
        "colab": {
          "base_uri": "https://localhost:8080/"
        },
        "id": "YHqaV_cfZhlK",
        "outputId": "60383222-36be-44b8-cb1b-6de374ae9dfb"
      },
      "outputs": [
        {
          "name": "stdout",
          "output_type": "stream",
          "text": [
            "[ 0.04915353  0.08488183 -0.01936629  0.00663146 -0.01925441  0.00633633\n",
            "  0.00899213  0.04904805 -0.08862329  0.03560806] \n",
            " 12\n"
          ]
        }
      ],
      "source": [
        "#LOADING DATA\n",
        "import pandas as pd\n",
        "import numpy as np\n",
        "import pickle\n",
        "from IPython.display import clear_output\n",
        "from sklearn import preprocessing\n",
        "clear_output()\n",
        "#datasets = ['TC02_20news', 'TC14_wos']\n",
        "#models_names = [\"all-MiniLM-L6-v2\",\"all-MiniLM-L12-v2\"]\n",
        "dataset = 'TC02_20news'\n",
        "model_name = \"all-MiniLM-L12-v2\"\n",
        "embeddings_path = f'Arquivos TCC/embeddings/sbert/{model_name}_{dataset}.pkl'\n",
        "with open(embeddings_path, \"rb\") as fIn:\n",
        "  stored_data = pickle.load(fIn)\n",
        "embeddings = stored_data['embeddings']\n",
        "labels = stored_data['labels']\n",
        "labels_enc = preprocessing.LabelEncoder().fit_transform(labels)\n",
        "#Split hold-out test data\n",
        "from sklearn.model_selection import train_test_split\n",
        "X_train, X_test, y_train, y_test = train_test_split(embeddings, labels_enc, test_size=0.10, random_state=random_state,stratify=labels_enc)\n",
        "unique, counts = np.unique(y_test, return_counts=True)\n",
        "#K-fold cross validation strategy and import dependencies\n",
        "from sklearn.neighbors import KNeighborsClassifier\n",
        "from sklearn.linear_model import LogisticRegression\n",
        "from sklearn.model_selection import RandomizedSearchCV\n",
        "from sklearn.model_selection import StratifiedKFold\n",
        "from sklearn.metrics import balanced_accuracy_score\n",
        "cv = StratifiedKFold(n_splits=10, shuffle=False)#, random_state=random_state)\n",
        "print(X_train[10][:10],'\\n', y_test[50])"
      ]
    },
    {
      "cell_type": "markdown",
      "metadata": {
        "id": "01oC08gq9hO0"
      },
      "source": [
        "**KNN**"
      ]
    },
    {
      "cell_type": "code",
      "execution_count": 33,
      "metadata": {
        "colab": {
          "base_uri": "https://localhost:8080/"
        },
        "id": "UWmOc24SZ9py",
        "outputId": "22108118-e50a-4c13-b001-348d9971f395"
      },
      "outputs": [
        {
          "name": "stdout",
          "output_type": "stream",
          "text": [
            "RandomizedSearchCV took 755.04 seconds for 10 candidates parameter settings.\n",
            "\u001b[1mModel with rank: 1\u001b[0m\n",
            "\u001b[1mMean validation score: 0.8198 (std: 0.0053)\u001b[0m\n",
            "\u001b[1mParameters: {'weights': 'distance', 'p': 1, 'n_neighbors': 3}\u001b[0m\n",
            "\n",
            "\u001b[1mModel with rank: 2\u001b[0m\n",
            "\u001b[1mMean validation score: 0.8151 (std: 0.0073)\u001b[0m\n",
            "\u001b[1mParameters: {'weights': 'distance', 'p': 2, 'n_neighbors': 5}\u001b[0m\n",
            "\n",
            "\u001b[1mModel with rank: 3\u001b[0m\n",
            "\u001b[1mMean validation score: 0.8144 (std: 0.0064)\u001b[0m\n",
            "\u001b[1mParameters: {'weights': 'distance', 'p': 1, 'n_neighbors': 5}\u001b[0m\n",
            "\n"
          ]
        }
      ],
      "source": [
        "#KNN\n",
        "clf_KNN = KNeighborsClassifier(algorithm= \"ball_tree\")\n",
        "param_dist_KNN = {\n",
        "    \"n_neighbors\": [3,5,11,21],\n",
        "    \"p\": [1,2],\n",
        "    \"weights\" :[\"uniform\",\"distance\"]\n",
        "}\n",
        "n_it = 10\n",
        "random_search_KNN = RandomizedSearchCV(\n",
        "    clf_KNN, param_distributions=param_dist_KNN, n_iter=n_it, cv = cv, random_state = random_state, verbose = 2, scoring='balanced_accuracy', n_jobs=-1\n",
        ")\n",
        "start = time()\n",
        "random_search_KNN.fit(X_train, y_train)\n",
        "clear_output()\n",
        "print(\n",
        "    \"RandomizedSearchCV took %.2f seconds for %d candidates parameter settings.\"\n",
        "    % ((time() - start), n_it)\n",
        ")\n",
        "report(random_search_KNN.cv_results_, f'{dataset}+{model_name}+KNN')"
      ]
    },
    {
      "cell_type": "code",
      "execution_count": 34,
      "metadata": {
        "colab": {
          "base_uri": "https://localhost:8080/"
        },
        "id": "rf-_bLLRZ9mq",
        "outputId": "bd5f28cf-ac8e-4bd1-f907-75f46629e451"
      },
      "outputs": [
        {
          "name": "stdout",
          "output_type": "stream",
          "text": [
            "\u001b[1mA acurácia balanceada nos dados de teste: 0.8179\u001b[0m\n"
          ]
        }
      ],
      "source": [
        "from sklearn.metrics import balanced_accuracy_score\n",
        "balanced_acc = balanced_accuracy_score(y_test,random_search_KNN.best_estimator_.predict(X_test))\n",
        "print(color.BOLD+\"A acurácia balanceada nos dados de teste: {0:.4f}\".format(balanced_acc)+color.END)"
      ]
    },
    {
      "cell_type": "markdown",
      "metadata": {
        "id": "Kaanawyv9j8M"
      },
      "source": [
        "**Logistic Regression**"
      ]
    },
    {
      "cell_type": "code",
      "execution_count": 35,
      "metadata": {
        "colab": {
          "base_uri": "https://localhost:8080/"
        },
        "id": "iLSsusXUZ9jT",
        "outputId": "f35f0a0c-490b-423a-d935-1ed2a842b68d"
      },
      "outputs": [
        {
          "name": "stdout",
          "output_type": "stream",
          "text": [
            "RandomizedSearchCV took 383.07 seconds for 8 candidates parameter settings.\n",
            "\u001b[1mModel with rank: 1\u001b[0m\n",
            "\u001b[1mMean validation score: 0.7722 (std: 0.0059)\u001b[0m\n",
            "\u001b[1mParameters: {'C': 10}\u001b[0m\n",
            "\n",
            "\u001b[1mModel with rank: 2\u001b[0m\n",
            "\u001b[1mMean validation score: 0.7674 (std: 0.0052)\u001b[0m\n",
            "\u001b[1mParameters: {'C': 1}\u001b[0m\n",
            "\n",
            "\u001b[1mModel with rank: 3\u001b[0m\n",
            "\u001b[1mMean validation score: 0.7418 (std: 0.0080)\u001b[0m\n",
            "\u001b[1mParameters: {'C': 0.1}\u001b[0m\n",
            "\n"
          ]
        }
      ],
      "source": [
        "#Logistic Regression\n",
        "\n",
        "clf_LR = LogisticRegression(random_state=42,multi_class='multinomial', solver='sag', tol= 1e-4,max_iter=300)\n",
        "param_dist_LR = {\n",
        "    \"C\": [1e-1,1,10]\n",
        "}\n",
        "n_it = 8\n",
        "random_search_LR = RandomizedSearchCV(\n",
        "    clf_LR, param_distributions=param_dist_LR, n_iter=n_it, cv = cv, random_state = random_state, verbose = 2, scoring='balanced_accuracy', n_jobs=-1\n",
        ")\n",
        "start = time()\n",
        "random_search_LR.fit(X_train, y_train)\n",
        "clear_output()\n",
        "print(\n",
        "    \"RandomizedSearchCV took %.2f seconds for %d candidates parameter settings.\"\n",
        "    % ((time() - start), n_it)\n",
        ")\n",
        "report(random_search_LR.cv_results_, f'{dataset}+{model_name}+LR')"
      ]
    },
    {
      "cell_type": "code",
      "execution_count": 36,
      "metadata": {
        "colab": {
          "base_uri": "https://localhost:8080/"
        },
        "id": "M-6Ga-e4aOkf",
        "outputId": "4b76433c-86a6-474c-cf31-ff48d416c13f"
      },
      "outputs": [
        {
          "name": "stdout",
          "output_type": "stream",
          "text": [
            "\u001b[1mA acurácia balanceada nos dados de teste: 0.7779\u001b[0m\n"
          ]
        }
      ],
      "source": [
        "balanced_acc= balanced_accuracy_score(y_test,random_search_LR.best_estimator_.predict(X_test))\n",
        "print(color.BOLD+\"A acurácia balanceada nos dados de teste: {0:.4f}\".format(balanced_acc)+color.END)"
      ]
    },
    {
      "cell_type": "markdown",
      "metadata": {
        "id": "GnjLz-gK9s81"
      },
      "source": [
        "**SVC**"
      ]
    },
    {
      "cell_type": "code",
      "execution_count": 37,
      "metadata": {
        "colab": {
          "base_uri": "https://localhost:8080/"
        },
        "id": "fruJbXdPaOex",
        "outputId": "4ac2c60f-6eb0-4da9-ed74-6d8153c9b99f"
      },
      "outputs": [
        {
          "name": "stdout",
          "output_type": "stream",
          "text": [
            "RandomizedSearchCV took 143.49 seconds for 6 candidates parameter settings.\n",
            "\u001b[1mModel with rank: 1\u001b[0m\n",
            "\u001b[1mMean validation score: 0.7748 (std: 0.0035)\u001b[0m\n",
            "\u001b[1mParameters: {'C': 1}\u001b[0m\n",
            "\n",
            "\u001b[1mModel with rank: 2\u001b[0m\n",
            "\u001b[1mMean validation score: 0.7671 (std: 0.0051)\u001b[0m\n",
            "\u001b[1mParameters: {'C': 0.1}\u001b[0m\n",
            "\n",
            "\u001b[1mModel with rank: 3\u001b[0m\n",
            "\u001b[1mMean validation score: 0.7656 (std: 0.0057)\u001b[0m\n",
            "\u001b[1mParameters: {'C': 10}\u001b[0m\n",
            "\n"
          ]
        }
      ],
      "source": [
        "from sklearn.svm import LinearSVC\n",
        "clf_SVC = LinearSVC(random_state=random_state, tol=1e-4)\n",
        "param_dist_SVC = {\n",
        "    'C': [0.1,1, 10],\n",
        "    }\n",
        "n_it = 6\n",
        "random_search_SVC = RandomizedSearchCV(\n",
        "    clf_SVC, param_distributions=param_dist_SVC, n_iter=n_it, cv = cv, random_state = random_state, verbose = 2, scoring='balanced_accuracy', n_jobs=-1\n",
        ")\n",
        "start = time()\n",
        "random_search_SVC.fit(X_train, y_train)\n",
        "clear_output()\n",
        "print(\n",
        "    \"RandomizedSearchCV took %.2f seconds for %d candidates parameter settings.\"\n",
        "    % ((time() - start), n_it)\n",
        ")\n",
        "report(random_search_SVC.cv_results_, f'{dataset}+{model_name}+SVC')"
      ]
    },
    {
      "cell_type": "code",
      "execution_count": 38,
      "metadata": {
        "colab": {
          "base_uri": "https://localhost:8080/"
        },
        "id": "f6IY3yWRaOYy",
        "outputId": "27293a58-a46c-401d-ec78-30903d5b212a"
      },
      "outputs": [
        {
          "name": "stdout",
          "output_type": "stream",
          "text": [
            "\u001b[1mA acurácia balanceada nos dados de teste: 0.7779\u001b[0m\n"
          ]
        }
      ],
      "source": [
        "from sklearn.metrics import balanced_accuracy_score\n",
        "balanced_acc = balanced_accuracy_score(y_test,random_search_SVC.best_estimator_.predict(X_test))\n",
        "print(color.BOLD+\"A acurácia balanceada nos dados de teste: {0:.4f}\".format(balanced_acc)+color.END)"
      ]
    },
    {
      "cell_type": "code",
      "execution_count": 14,
      "metadata": {},
      "outputs": [
        {
          "name": "stdout",
          "output_type": "stream",
          "text": [
            "RandomizedSearchCV took 755.72 seconds for 10 candidates parameter settings.\n",
            "\u001b[1mModel with rank: 1\u001b[0m\n",
            "\u001b[1mMean validation score: 0.7711 (std: 0.0105)\u001b[0m\n",
            "\u001b[1mParameters: {'n_estimators': 200}\u001b[0m\n",
            "\n",
            "\u001b[1mModel with rank: 2\u001b[0m\n",
            "\u001b[1mMean validation score: 0.7507 (std: 0.0115)\u001b[0m\n",
            "\u001b[1mParameters: {'n_estimators': 100}\u001b[0m\n",
            "\n",
            "\u001b[1mModel with rank: 3\u001b[0m\n",
            "\u001b[1mMean validation score: 0.7202 (std: 0.0081)\u001b[0m\n",
            "\u001b[1mParameters: {'n_estimators': 50}\u001b[0m\n",
            "\n",
            "\u001b[1mA acurácia balanceada nos dados de teste: 0.7829\u001b[0m\n"
          ]
        }
      ],
      "source": [
        "from sklearn.ensemble import RandomForestClassifier\n",
        "clf_RF = RandomForestClassifier(random_state=random_state)\n",
        "param_dist_RF = {\n",
        "    'n_estimators': [10,50,100,200],\n",
        "    }\n",
        "n_it = 10\n",
        "random_search_RF = RandomizedSearchCV(\n",
        "    clf_RF, param_distributions=param_dist_RF, n_iter=n_it, cv = cv, random_state = random_state, verbose = 2, scoring='balanced_accuracy', n_jobs=-1\n",
        ")\n",
        "start = time()\n",
        "random_search_RF.fit(X_train, y_train)\n",
        "clear_output()\n",
        "print(\n",
        "    \"RandomizedSearchCV took %.2f seconds for %d candidates parameter settings.\"\n",
        "    % ((time() - start), n_it)\n",
        ")\n",
        "report(random_search_RF.cv_results_, f'{dataset}+{model_name}+RF')\n",
        "from sklearn.metrics import balanced_accuracy_score\n",
        "balanced_acc = balanced_accuracy_score(y_test,random_search_RF.best_estimator_.predict(X_test))\n",
        "print(color.BOLD+\"A acurácia balanceada nos dados de teste: {0:.4f}\".format(balanced_acc)+color.END)"
      ]
    },
    {
      "cell_type": "markdown",
      "metadata": {
        "id": "DNpd80paKM6H"
      },
      "source": [
        "# Pipeline 3: WOS + all-MiniLM-L6-v2"
      ]
    },
    {
      "cell_type": "code",
      "execution_count": 5,
      "metadata": {
        "colab": {
          "base_uri": "https://localhost:8080/"
        },
        "id": "MaAbS-2qKFUc",
        "outputId": "eebb6b6b-c586-4b7e-87f2-e25e1f1d8bab"
      },
      "outputs": [
        {
          "name": "stdout",
          "output_type": "stream",
          "text": [
            "[-0.04389033 -0.09177981 -0.02245235 -0.05314789 -0.02382849 -0.08375161\n",
            " -0.01472456 -0.00565096  0.02871884  0.02558138] 30\n"
          ]
        }
      ],
      "source": [
        "#LOADING DATA\n",
        "import pandas as pd\n",
        "import numpy as np\n",
        "import pickle\n",
        "from IPython.display import clear_output\n",
        "from sklearn import preprocessing\n",
        "clear_output()\n",
        "#datasets = ['TC02_20news', 'TC14_wos']\n",
        "#models_names = [\"all-MiniLM-L6-v2\",\"all-MiniLM-L12-v2\"]\n",
        "dataset = 'TC14_wos'\n",
        "model_name = \"all-MiniLM-L6-v2\"\n",
        "embeddings_path = f'Arquivos TCC/embeddings/sbert/{model_name}_{dataset}.pkl'\n",
        "with open(embeddings_path, \"rb\") as fIn:\n",
        "  stored_data = pickle.load(fIn)\n",
        "embeddings = stored_data['embeddings']\n",
        "labels = stored_data['labels']\n",
        "labels_enc = preprocessing.LabelEncoder().fit_transform(labels)\n",
        "#Split hold-out test data\n",
        "from sklearn.model_selection import train_test_split\n",
        "X_train, X_test, y_train, y_test = train_test_split(embeddings, labels_enc, test_size=0.10, random_state=random_state,stratify=labels_enc)\n",
        "unique, counts = np.unique(y_test, return_counts=True)\n",
        "#K-fold cross validation strategy and import dependencies\n",
        "from sklearn.neighbors import KNeighborsClassifier\n",
        "from sklearn.linear_model import LogisticRegression\n",
        "from sklearn.model_selection import RandomizedSearchCV\n",
        "from sklearn.model_selection import StratifiedKFold\n",
        "from sklearn.metrics import balanced_accuracy_score\n",
        "cv = StratifiedKFold(n_splits=10, shuffle=False)#, random_state=random_state)\n",
        "print(X_train[10][:10], y_test[50])"
      ]
    },
    {
      "cell_type": "markdown",
      "metadata": {
        "id": "hxbpq6EI93aj"
      },
      "source": [
        "**KNN**"
      ]
    },
    {
      "cell_type": "code",
      "execution_count": 40,
      "metadata": {
        "colab": {
          "base_uri": "https://localhost:8080/"
        },
        "id": "OA1SEVBLKFRU",
        "outputId": "c27d7cfb-9409-42dd-8b0c-2aa3278f5322"
      },
      "outputs": [
        {
          "name": "stdout",
          "output_type": "stream",
          "text": [
            "RandomizedSearchCV took 275.16 seconds for 10 candidates parameter settings.\n",
            "\u001b[1mModel with rank: 1\u001b[0m\n",
            "\u001b[1mMean validation score: 0.7488 (std: 0.0108)\u001b[0m\n",
            "\u001b[1mParameters: {'weights': 'distance', 'p': 2, 'n_neighbors': 11}\u001b[0m\n",
            "\n",
            "\u001b[1mModel with rank: 2\u001b[0m\n",
            "\u001b[1mMean validation score: 0.7463 (std: 0.0102)\u001b[0m\n",
            "\u001b[1mParameters: {'weights': 'distance', 'p': 2, 'n_neighbors': 21}\u001b[0m\n",
            "\n",
            "\u001b[1mModel with rank: 3\u001b[0m\n",
            "\u001b[1mMean validation score: 0.7441 (std: 0.0098)\u001b[0m\n",
            "\u001b[1mParameters: {'weights': 'uniform', 'p': 1, 'n_neighbors': 11}\u001b[0m\n",
            "\n"
          ]
        }
      ],
      "source": [
        "#KNN\n",
        "clf_KNN = KNeighborsClassifier(algorithm= \"ball_tree\")\n",
        "param_dist_KNN = {\n",
        "    \"n_neighbors\": [3,5,11,21],\n",
        "    \"p\": [1,2],\n",
        "    \"weights\" :[\"uniform\",\"distance\"]\n",
        "}\n",
        "n_it = 10\n",
        "random_search_KNN = RandomizedSearchCV(\n",
        "    clf_KNN, param_distributions=param_dist_KNN, n_iter=n_it, cv = cv, random_state = random_state, verbose = 2, scoring='balanced_accuracy', n_jobs=-1\n",
        ")\n",
        "start = time()\n",
        "random_search_KNN.fit(X_train, y_train)\n",
        "clear_output()\n",
        "print(\n",
        "    \"RandomizedSearchCV took %.2f seconds for %d candidates parameter settings.\"\n",
        "    % ((time() - start), n_it)\n",
        ")\n",
        "report(random_search_KNN.cv_results_, f'{dataset}+{model_name}+KNN')"
      ]
    },
    {
      "cell_type": "code",
      "execution_count": 41,
      "metadata": {
        "colab": {
          "base_uri": "https://localhost:8080/"
        },
        "id": "Qv104r7VM7bA",
        "outputId": "aa4ec997-d0bf-42fc-8b42-1747335c7a95"
      },
      "outputs": [
        {
          "name": "stdout",
          "output_type": "stream",
          "text": [
            "\u001b[1mA acurácia balanceada nos dados de teste: 0.7468\u001b[0m\n"
          ]
        }
      ],
      "source": [
        "from sklearn.metrics import balanced_accuracy_score\n",
        "balanced_acc = balanced_accuracy_score(y_test,random_search_KNN.best_estimator_.predict(X_test))\n",
        "print(color.BOLD+\"A acurácia balanceada nos dados de teste: {0:.4f}\".format(balanced_acc)+color.END)"
      ]
    },
    {
      "cell_type": "markdown",
      "metadata": {
        "id": "8zsLpN7497Wk"
      },
      "source": [
        "**Logistic Regression**"
      ]
    },
    {
      "cell_type": "code",
      "execution_count": 42,
      "metadata": {
        "colab": {
          "base_uri": "https://localhost:8080/"
        },
        "id": "tJV64mHOKFOl",
        "outputId": "683276a0-b02c-40f7-83a7-fd2449df4cc2"
      },
      "outputs": [
        {
          "name": "stdout",
          "output_type": "stream",
          "text": [
            "RandomizedSearchCV took 281.27 seconds for 8 candidates parameter settings.\n",
            "\u001b[1mModel with rank: 1\u001b[0m\n",
            "\u001b[1mMean validation score: 0.7803 (std: 0.0118)\u001b[0m\n",
            "\u001b[1mParameters: {'C': 1}\u001b[0m\n",
            "\n",
            "\u001b[1mModel with rank: 2\u001b[0m\n",
            "\u001b[1mMean validation score: 0.7726 (std: 0.0114)\u001b[0m\n",
            "\u001b[1mParameters: {'C': 10}\u001b[0m\n",
            "\n",
            "\u001b[1mModel with rank: 3\u001b[0m\n",
            "\u001b[1mMean validation score: 0.7499 (std: 0.0112)\u001b[0m\n",
            "\u001b[1mParameters: {'C': 0.1}\u001b[0m\n",
            "\n"
          ]
        }
      ],
      "source": [
        "#Logistic Regression\n",
        "\n",
        "clf_LR = LogisticRegression(random_state=42,multi_class='multinomial', solver='sag', tol= 1e-4,max_iter=300)\n",
        "param_dist_LR = {\n",
        "    \"C\": [1e-1,1,10]\n",
        "}\n",
        "n_it = 8\n",
        "random_search_LR = RandomizedSearchCV(\n",
        "    clf_LR, param_distributions=param_dist_LR, n_iter=n_it, cv = cv, random_state = random_state, verbose = 2, scoring='balanced_accuracy', n_jobs=-1\n",
        ")\n",
        "start = time()\n",
        "random_search_LR.fit(X_train, y_train)\n",
        "clear_output()\n",
        "print(\n",
        "    \"RandomizedSearchCV took %.2f seconds for %d candidates parameter settings.\"\n",
        "    % ((time() - start), n_it)\n",
        ")\n",
        "report(random_search_LR.cv_results_, f'{dataset}+{model_name}+LR')"
      ]
    },
    {
      "cell_type": "code",
      "execution_count": 43,
      "metadata": {
        "colab": {
          "base_uri": "https://localhost:8080/"
        },
        "id": "JUedvxaaKFLx",
        "outputId": "0770acbb-6810-4f8c-bc8b-88af96530463"
      },
      "outputs": [
        {
          "name": "stdout",
          "output_type": "stream",
          "text": [
            "\u001b[1mA acurácia balanceada nos dados de teste: 0.7847\u001b[0m\n"
          ]
        }
      ],
      "source": [
        "from sklearn.metrics import balanced_accuracy_score\n",
        "balanced_acc = balanced_accuracy_score(y_test,random_search_LR.best_estimator_.predict(X_test))\n",
        "print(color.BOLD+\"A acurácia balanceada nos dados de teste: {0:.4f}\".format(balanced_acc)+color.END)"
      ]
    },
    {
      "cell_type": "markdown",
      "metadata": {
        "id": "Q8Rb3pdD-BVX"
      },
      "source": [
        "**SVC**"
      ]
    },
    {
      "cell_type": "code",
      "execution_count": 45,
      "metadata": {
        "colab": {
          "base_uri": "https://localhost:8080/"
        },
        "id": "s54qxETCU1uC",
        "outputId": "491436ab-e570-47f7-a31c-a73dde223b3c"
      },
      "outputs": [
        {
          "name": "stdout",
          "output_type": "stream",
          "text": [
            "RandomizedSearchCV took 68.02 seconds for 6 candidates parameter settings.\n",
            "\u001b[1mModel with rank: 1\u001b[0m\n",
            "\u001b[1mMean validation score: 0.7823 (std: 0.0119)\u001b[0m\n",
            "\u001b[1mParameters: {'C': 0.1}\u001b[0m\n",
            "\n",
            "\u001b[1mModel with rank: 2\u001b[0m\n",
            "\u001b[1mMean validation score: 0.7773 (std: 0.0128)\u001b[0m\n",
            "\u001b[1mParameters: {'C': 1}\u001b[0m\n",
            "\n",
            "\u001b[1mModel with rank: 3\u001b[0m\n",
            "\u001b[1mMean validation score: 0.7393 (std: 0.0094)\u001b[0m\n",
            "\u001b[1mParameters: {'C': 10}\u001b[0m\n",
            "\n"
          ]
        }
      ],
      "source": [
        "from sklearn.svm import LinearSVC\n",
        "clf_SVC = LinearSVC(random_state=random_state, tol=1e-4)\n",
        "param_dist_SVC = {\n",
        "    'C': [0.1,1, 10],\n",
        "    }\n",
        "n_it = 6\n",
        "random_search_SVC = RandomizedSearchCV(\n",
        "    clf_SVC, param_distributions=param_dist_SVC, n_iter=n_it, cv = cv, random_state = random_state, verbose = 2, scoring='balanced_accuracy', n_jobs=-1\n",
        ")\n",
        "start = time()\n",
        "random_search_SVC.fit(X_train, y_train)\n",
        "clear_output()\n",
        "print(\n",
        "    \"RandomizedSearchCV took %.2f seconds for %d candidates parameter settings.\"\n",
        "    % ((time() - start), n_it)\n",
        ")\n",
        "report(random_search_SVC.cv_results_, f'{dataset}+{model_name}+SVC')"
      ]
    },
    {
      "cell_type": "code",
      "execution_count": 46,
      "metadata": {
        "colab": {
          "base_uri": "https://localhost:8080/"
        },
        "id": "lf18dJGUU1qw",
        "outputId": "2d938ae8-789e-49ce-a4e2-e3ac65b5bc00"
      },
      "outputs": [
        {
          "name": "stdout",
          "output_type": "stream",
          "text": [
            "\u001b[1mA acurácia balanceada nos dados de teste: 0.7835\u001b[0m\n"
          ]
        }
      ],
      "source": [
        "from sklearn.metrics import balanced_accuracy_score\n",
        "balanced_acc = balanced_accuracy_score(y_test,random_search_SVC.best_estimator_.predict(X_test))\n",
        "print(color.BOLD+\"A acurácia balanceada nos dados de teste: {0:.4f}\".format(balanced_acc)+color.END)"
      ]
    },
    {
      "cell_type": "code",
      "execution_count": 28,
      "metadata": {
        "id": "9fZQBuHNy4Mt"
      },
      "outputs": [
        {
          "name": "stdout",
          "output_type": "stream",
          "text": [
            "RandomizedSearchCV took 496.93 seconds for 10 candidates parameter settings.\n",
            "\u001b[1mModel with rank: 1\u001b[0m\n",
            "\u001b[1mMean validation score: 0.7312 (std: 0.0115)\u001b[0m\n",
            "\u001b[1mParameters: {'n_estimators': 200}\u001b[0m\n",
            "\n",
            "\u001b[1mModel with rank: 2\u001b[0m\n",
            "\u001b[1mMean validation score: 0.7137 (std: 0.0127)\u001b[0m\n",
            "\u001b[1mParameters: {'n_estimators': 100}\u001b[0m\n",
            "\n",
            "\u001b[1mModel with rank: 3\u001b[0m\n",
            "\u001b[1mMean validation score: 0.6810 (std: 0.0117)\u001b[0m\n",
            "\u001b[1mParameters: {'n_estimators': 50}\u001b[0m\n",
            "\n",
            "\u001b[1mA acurácia balanceada nos dados de teste: 0.7456\u001b[0m\n"
          ]
        }
      ],
      "source": [
        "from sklearn.ensemble import RandomForestClassifier\n",
        "clf_RF = RandomForestClassifier(random_state=random_state)\n",
        "param_dist_RF = {\n",
        "    'n_estimators': [10,50,100,200],\n",
        "    }\n",
        "n_it = 10\n",
        "random_search_RF = RandomizedSearchCV(\n",
        "    clf_RF, param_distributions=param_dist_RF, n_iter=n_it, cv = cv, random_state = random_state, verbose = 2, scoring='balanced_accuracy', n_jobs=-1\n",
        ")\n",
        "start = time()\n",
        "random_search_RF.fit(X_train, y_train)\n",
        "clear_output()\n",
        "print(\n",
        "    \"RandomizedSearchCV took %.2f seconds for %d candidates parameter settings.\"\n",
        "    % ((time() - start), n_it)\n",
        ")\n",
        "report(random_search_RF.cv_results_, f'{dataset}+{model_name}+RF')\n",
        "from sklearn.metrics import balanced_accuracy_score\n",
        "balanced_acc = balanced_accuracy_score(y_test,random_search_RF.best_estimator_.predict(X_test))\n",
        "print(color.BOLD+\"A acurácia balanceada nos dados de teste: {0:.4f}\".format(balanced_acc)+color.END)"
      ]
    },
    {
      "cell_type": "markdown",
      "metadata": {
        "id": "_QhkQ9xrVuSU"
      },
      "source": [
        "# Pipeline 4: WOS + all-MiniLM-L12-v2\n"
      ]
    },
    {
      "cell_type": "code",
      "execution_count": 4,
      "metadata": {
        "colab": {
          "base_uri": "https://localhost:8080/"
        },
        "id": "borU74t0_4tG",
        "outputId": "7ca159d8-3a81-4f6a-e454-7c3d0f3abe5b"
      },
      "outputs": [
        {
          "name": "stdout",
          "output_type": "stream",
          "text": [
            "[-0.03677584 -0.08568367  0.03027113  0.00241753 -0.07861282 -0.10965899\n",
            " -0.09844724  0.00531735  0.06428049  0.03564424] 30\n"
          ]
        }
      ],
      "source": [
        "#LOADING DATA\n",
        "import pandas as pd\n",
        "import numpy as np\n",
        "import pickle\n",
        "from IPython.display import clear_output\n",
        "from sklearn import preprocessing\n",
        "clear_output()\n",
        "#datasets = ['TC02_20news', 'TC14_wos']\n",
        "#models_names = [\"all-MiniLM-L6-v2\",\"all-MiniLM-L12-v2\"]\n",
        "dataset = 'TC14_wos'\n",
        "model_name = \"all-MiniLM-L12-v2\"\n",
        "embeddings_path = f'Arquivos TCC/embeddings/sbert/{model_name}_{dataset}.pkl'\n",
        "with open(embeddings_path, \"rb\") as fIn:\n",
        "  stored_data = pickle.load(fIn)\n",
        "embeddings = stored_data['embeddings']\n",
        "labels = stored_data['labels']\n",
        "labels_enc = preprocessing.LabelEncoder().fit_transform(labels)\n",
        "#Split hold-out test data\n",
        "from sklearn.model_selection import train_test_split\n",
        "X_train, X_test, y_train, y_test = train_test_split(embeddings, labels_enc, test_size=0.10, random_state=random_state,stratify=labels_enc)\n",
        "unique, counts = np.unique(y_test, return_counts=True)\n",
        "#K-fold cross validation strategy and import dependencies\n",
        "from sklearn.neighbors import KNeighborsClassifier\n",
        "from sklearn.linear_model import LogisticRegression\n",
        "from sklearn.model_selection import RandomizedSearchCV\n",
        "from sklearn.model_selection import StratifiedKFold\n",
        "from sklearn.metrics import balanced_accuracy_score\n",
        "cv = StratifiedKFold(n_splits=10, shuffle=False)#, random_state=random_state)\n",
        "print(X_train[10][:10], y_test[50])"
      ]
    },
    {
      "cell_type": "markdown",
      "metadata": {
        "id": "ytqt7Mj__4tG"
      },
      "source": [
        "**KNN**"
      ]
    },
    {
      "cell_type": "code",
      "execution_count": 48,
      "metadata": {
        "colab": {
          "base_uri": "https://localhost:8080/"
        },
        "id": "5TsJyPVe_4tH",
        "outputId": "45da2d1a-473d-4daa-f040-0f5c8e633464"
      },
      "outputs": [
        {
          "name": "stdout",
          "output_type": "stream",
          "text": [
            "RandomizedSearchCV took 268.88 seconds for 10 candidates parameter settings.\n",
            "\u001b[1mModel with rank: 1\u001b[0m\n",
            "\u001b[1mMean validation score: 0.7297 (std: 0.0093)\u001b[0m\n",
            "\u001b[1mParameters: {'weights': 'distance', 'p': 2, 'n_neighbors': 11}\u001b[0m\n",
            "\n",
            "\u001b[1mModel with rank: 2\u001b[0m\n",
            "\u001b[1mMean validation score: 0.7280 (std: 0.0098)\u001b[0m\n",
            "\u001b[1mParameters: {'weights': 'distance', 'p': 1, 'n_neighbors': 21}\u001b[0m\n",
            "\n",
            "\u001b[1mModel with rank: 3\u001b[0m\n",
            "\u001b[1mMean validation score: 0.7261 (std: 0.0091)\u001b[0m\n",
            "\u001b[1mParameters: {'weights': 'distance', 'p': 2, 'n_neighbors': 21}\u001b[0m\n",
            "\n"
          ]
        }
      ],
      "source": [
        "#KNN\n",
        "clf_KNN = KNeighborsClassifier(algorithm= \"ball_tree\")\n",
        "param_dist_KNN = {\n",
        "    \"n_neighbors\": [3,5,11,21],\n",
        "    \"p\": [1,2],\n",
        "    \"weights\" :[\"uniform\",\"distance\"]\n",
        "}\n",
        "n_it = 10\n",
        "random_search_KNN = RandomizedSearchCV(\n",
        "    clf_KNN, param_distributions=param_dist_KNN, n_iter=n_it, cv = cv, random_state = random_state, verbose = 2, scoring='balanced_accuracy', n_jobs=-1\n",
        ")\n",
        "start = time()\n",
        "random_search_KNN.fit(X_train, y_train)\n",
        "clear_output()\n",
        "print(\n",
        "    \"RandomizedSearchCV took %.2f seconds for %d candidates parameter settings.\"\n",
        "    % ((time() - start), n_it)\n",
        ")\n",
        "report(random_search_KNN.cv_results_, f'{dataset}+{model_name}+KNN')"
      ]
    },
    {
      "cell_type": "code",
      "execution_count": 49,
      "metadata": {
        "colab": {
          "base_uri": "https://localhost:8080/"
        },
        "id": "a_baoNbb_4tH",
        "outputId": "e56393a5-4d7f-4d42-d6eb-61b700543157"
      },
      "outputs": [
        {
          "name": "stdout",
          "output_type": "stream",
          "text": [
            "\u001b[1mA acurácia balanceada nos dados de teste: 0.7378\u001b[0m\n"
          ]
        }
      ],
      "source": [
        "from sklearn.metrics import balanced_accuracy_score\n",
        "balanced_acc = balanced_accuracy_score(y_test,random_search_KNN.best_estimator_.predict(X_test))\n",
        "print(color.BOLD+\"A acurácia balanceada nos dados de teste: {0:.4f}\".format(balanced_acc)+color.END)"
      ]
    },
    {
      "cell_type": "markdown",
      "metadata": {
        "id": "vcpiZdy9_4tH"
      },
      "source": [
        "**Logistic Regression**"
      ]
    },
    {
      "cell_type": "code",
      "execution_count": 50,
      "metadata": {
        "colab": {
          "base_uri": "https://localhost:8080/"
        },
        "id": "rZ1rsGMK_4tH",
        "outputId": "b5d9bfcc-f769-4dd0-e043-9a673d90d44c"
      },
      "outputs": [
        {
          "name": "stdout",
          "output_type": "stream",
          "text": [
            "RandomizedSearchCV took 273.23 seconds for 8 candidates parameter settings.\n",
            "\u001b[1mModel with rank: 1\u001b[0m\n",
            "\u001b[1mMean validation score: 0.7602 (std: 0.0080)\u001b[0m\n",
            "\u001b[1mParameters: {'C': 1}\u001b[0m\n",
            "\n",
            "\u001b[1mModel with rank: 2\u001b[0m\n",
            "\u001b[1mMean validation score: 0.7448 (std: 0.0098)\u001b[0m\n",
            "\u001b[1mParameters: {'C': 10}\u001b[0m\n",
            "\n",
            "\u001b[1mModel with rank: 3\u001b[0m\n",
            "\u001b[1mMean validation score: 0.7347 (std: 0.0097)\u001b[0m\n",
            "\u001b[1mParameters: {'C': 0.1}\u001b[0m\n",
            "\n"
          ]
        }
      ],
      "source": [
        "#Logistic Regression\n",
        "\n",
        "clf_LR = LogisticRegression(random_state=42,multi_class='multinomial', solver='sag', tol= 1e-4,max_iter=300)\n",
        "param_dist_LR = {\n",
        "    \"C\": [1e-1,1,10]\n",
        "}\n",
        "n_it = 8\n",
        "random_search_LR = RandomizedSearchCV(\n",
        "    clf_LR, param_distributions=param_dist_LR, n_iter=n_it, cv = cv, random_state = random_state, verbose = 2, scoring='balanced_accuracy', n_jobs=-1\n",
        ")\n",
        "start = time()\n",
        "random_search_LR.fit(X_train, y_train)\n",
        "clear_output()\n",
        "print(\n",
        "    \"RandomizedSearchCV took %.2f seconds for %d candidates parameter settings.\"\n",
        "    % ((time() - start), n_it)\n",
        ")\n",
        "report(random_search_LR.cv_results_, f'{dataset}+{model_name}+LR')"
      ]
    },
    {
      "cell_type": "code",
      "execution_count": 51,
      "metadata": {
        "colab": {
          "base_uri": "https://localhost:8080/"
        },
        "id": "LfXj4XjA_4tH",
        "outputId": "b08af6c7-5160-4d3f-8e45-d207790cb919"
      },
      "outputs": [
        {
          "name": "stdout",
          "output_type": "stream",
          "text": [
            "\u001b[1mA acurácia balanceada nos dados de teste: 0.7666\u001b[0m\n"
          ]
        }
      ],
      "source": [
        "from sklearn.metrics import balanced_accuracy_score\n",
        "balanced_acc = balanced_accuracy_score(y_test,random_search_LR.best_estimator_.predict(X_test))\n",
        "print(color.BOLD+\"A acurácia balanceada nos dados de teste: {0:.4f}\".format(balanced_acc)+color.END)"
      ]
    },
    {
      "cell_type": "markdown",
      "metadata": {
        "id": "5E2nKG3h_4tI"
      },
      "source": [
        "**SVC**"
      ]
    },
    {
      "cell_type": "code",
      "execution_count": 52,
      "metadata": {
        "colab": {
          "base_uri": "https://localhost:8080/"
        },
        "id": "4z6-VhXv_4tI",
        "outputId": "ad1dcd7c-0197-49cf-d9fc-4b3d2207e04d"
      },
      "outputs": [
        {
          "name": "stdout",
          "output_type": "stream",
          "text": [
            "RandomizedSearchCV took 77.75 seconds for 6 candidates parameter settings.\n",
            "\u001b[1mModel with rank: 1\u001b[0m\n",
            "\u001b[1mMean validation score: 0.7585 (std: 0.0088)\u001b[0m\n",
            "\u001b[1mParameters: {'C': 0.1}\u001b[0m\n",
            "\n",
            "\u001b[1mModel with rank: 2\u001b[0m\n",
            "\u001b[1mMean validation score: 0.7511 (std: 0.0132)\u001b[0m\n",
            "\u001b[1mParameters: {'C': 1}\u001b[0m\n",
            "\n",
            "\u001b[1mModel with rank: 3\u001b[0m\n",
            "\u001b[1mMean validation score: 0.7094 (std: 0.0133)\u001b[0m\n",
            "\u001b[1mParameters: {'C': 10}\u001b[0m\n",
            "\n"
          ]
        }
      ],
      "source": [
        "from sklearn.svm import LinearSVC\n",
        "clf_SVC = LinearSVC(random_state=random_state, tol=1e-4)\n",
        "param_dist_SVC = {\n",
        "    'C': [0.1,1, 10],\n",
        "    }\n",
        "n_it = 6\n",
        "random_search_SVC = RandomizedSearchCV(\n",
        "    clf_SVC, param_distributions=param_dist_SVC, n_iter=n_it, cv = cv, random_state = random_state, verbose = 2, scoring='balanced_accuracy', n_jobs=-1\n",
        ")\n",
        "start = time()\n",
        "random_search_SVC.fit(X_train, y_train)\n",
        "clear_output()\n",
        "print(\n",
        "    \"RandomizedSearchCV took %.2f seconds for %d candidates parameter settings.\"\n",
        "    % ((time() - start), n_it)\n",
        ")\n",
        "report(random_search_SVC.cv_results_, f'{dataset}+{model_name}+SVC')"
      ]
    },
    {
      "cell_type": "code",
      "execution_count": null,
      "metadata": {
        "colab": {
          "base_uri": "https://localhost:8080/"
        },
        "id": "ab8ZB9D1_4tI",
        "outputId": "e9475a62-9c9c-4291-fab1-dabfad1a2fec"
      },
      "outputs": [
        {
          "name": "stdout",
          "output_type": "stream",
          "text": [
            "\u001b[1mA acurácia balanceada nos dados de teste: 0.7567\u001b[0m\n"
          ]
        }
      ],
      "source": [
        "from sklearn.metrics import balanced_accuracy_score\n",
        "balanced_acc = balanced_accuracy_score(y_test,random_search_SVC.best_estimator_.predict(X_test))\n",
        "print(color.BOLD+\"A acurácia balanceada nos dados de teste: {0:.4f}\".format(balanced_acc)+color.END)"
      ]
    },
    {
      "cell_type": "code",
      "execution_count": 5,
      "metadata": {
        "id": "z7PdEz2d_4tI"
      },
      "outputs": [
        {
          "name": "stdout",
          "output_type": "stream",
          "text": [
            "RandomizedSearchCV took 639.65 seconds for 10 candidates parameter settings.\n",
            "\u001b[1mModel with rank: 1\u001b[0m\n",
            "\u001b[1mMean validation score: 0.7160 (std: 0.0122)\u001b[0m\n",
            "\u001b[1mParameters: {'n_estimators': 200}\u001b[0m\n",
            "\n",
            "\u001b[1mModel with rank: 2\u001b[0m\n",
            "\u001b[1mMean validation score: 0.7019 (std: 0.0101)\u001b[0m\n",
            "\u001b[1mParameters: {'n_estimators': 100}\u001b[0m\n",
            "\n",
            "\u001b[1mModel with rank: 3\u001b[0m\n",
            "\u001b[1mMean validation score: 0.6681 (std: 0.0113)\u001b[0m\n",
            "\u001b[1mParameters: {'n_estimators': 50}\u001b[0m\n",
            "\n",
            "\u001b[1mA acurácia balanceada nos dados de teste: 0.7112\u001b[0m\n"
          ]
        }
      ],
      "source": [
        "from sklearn.ensemble import RandomForestClassifier\n",
        "clf_RF = RandomForestClassifier(random_state=random_state)\n",
        "param_dist_RF = {\n",
        "    'n_estimators': [10,50,100,200],\n",
        "    }\n",
        "n_it = 10\n",
        "random_search_RF = RandomizedSearchCV(\n",
        "    clf_RF, param_distributions=param_dist_RF, n_iter=n_it, cv = cv, random_state = random_state, verbose = 2, scoring='balanced_accuracy', n_jobs=-1\n",
        ")\n",
        "start = time()\n",
        "random_search_RF.fit(X_train, y_train)\n",
        "clear_output()\n",
        "print(\n",
        "    \"RandomizedSearchCV took %.2f seconds for %d candidates parameter settings.\"\n",
        "    % ((time() - start), n_it)\n",
        ")\n",
        "report(random_search_RF.cv_results_, f'{dataset}+{model_name}+RF')\n",
        "from sklearn.metrics import balanced_accuracy_score\n",
        "balanced_acc = balanced_accuracy_score(y_test,random_search_RF.best_estimator_.predict(X_test))\n",
        "print(color.BOLD+\"A acurácia balanceada nos dados de teste: {0:.4f}\".format(balanced_acc)+color.END)"
      ]
    },
    {
      "cell_type": "code",
      "execution_count": null,
      "metadata": {
        "id": "WLYTTlUvt383"
      },
      "outputs": [],
      "source": []
    },
    {
      "cell_type": "code",
      "execution_count": null,
      "metadata": {
        "id": "VUcNaxs8V2yb"
      },
      "outputs": [],
      "source": []
    },
    {
      "cell_type": "code",
      "execution_count": null,
      "metadata": {
        "id": "hr1DXQXtV2rs"
      },
      "outputs": [],
      "source": []
    },
    {
      "cell_type": "markdown",
      "metadata": {
        "id": "57JCOwzUV44d"
      },
      "source": [
        "# Pipeline 5: 20NG + TF-IDF\n"
      ]
    },
    {
      "cell_type": "code",
      "execution_count": 17,
      "metadata": {
        "id": "f0O0oBTpVrZc"
      },
      "outputs": [],
      "source": [
        "#TF-IDF\n",
        "from sklearn.feature_extraction.text import TfidfVectorizer\n",
        "from sklearn import preprocessing\n",
        "import pandas as pd\n",
        "import numpy as np\n",
        "import pickle\n",
        "from sklearn.pipeline import make_pipeline\n",
        "dataset = 'TC02_20news'\n",
        "model_name = 'TDIDF'\n",
        "df = pd.read_csv(f'Arquivos TCC/datasets/{dataset}.csv', sep=';')\n",
        "df = df.dropna()\n",
        "textos = df['text'].values.tolist()\n",
        "labels = df['label']\n",
        "labels_enc = preprocessing.LabelEncoder().fit_transform(labels)\n",
        "#Split hold-out test data\n",
        "from sklearn.model_selection import train_test_split\n",
        "textos_train, textos_test, y_train, y_test = train_test_split(textos, labels_enc, test_size=0.10, random_state=random_state,stratify=labels_enc)"
      ]
    },
    {
      "cell_type": "code",
      "execution_count": 18,
      "metadata": {
        "colab": {
          "base_uri": "https://localhost:8080/"
        },
        "id": "oRF3oV_9WQ8s",
        "outputId": "3ebd784e-ffd1-4d7b-d49b-fd528f866cc7"
      },
      "outputs": [
        {
          "name": "stdout",
          "output_type": "stream",
          "text": [
            "8 12\n"
          ]
        }
      ],
      "source": [
        "from sklearn.neighbors import KNeighborsClassifier\n",
        "from sklearn.linear_model import LogisticRegression\n",
        "from sklearn.svm import LinearSVC\n",
        "from sklearn.model_selection import RandomizedSearchCV\n",
        "from sklearn.model_selection import StratifiedKFold\n",
        "from sklearn.metrics import balanced_accuracy_score\n",
        "from sklearn.model_selection import cross_validate\n",
        "cv = StratifiedKFold(n_splits=10, shuffle=True, random_state=random_state)\n",
        "unique, counts = np.unique(y_test, return_counts=True)\n",
        "print(y_train[10], y_test[50])"
      ]
    },
    {
      "cell_type": "markdown",
      "metadata": {
        "id": "FS6dRCOx-WHE"
      },
      "source": [
        "**KNN**"
      ]
    },
    {
      "cell_type": "code",
      "execution_count": 55,
      "metadata": {
        "colab": {
          "base_uri": "https://localhost:8080/"
        },
        "id": "AUHpz_FPWc3l",
        "outputId": "2f49f9d6-a5f4-4317-df45-fc8d22321b80"
      },
      "outputs": [
        {
          "name": "stdout",
          "output_type": "stream",
          "text": [
            "\u001b[1mA acurácia balanceada nos dados de teste: 0.7413\u001b[0m\n"
          ]
        }
      ],
      "source": [
        "\n",
        "KNN = KNeighborsClassifier(n_neighbors=150, p = 2, weights='uniform', metric='cosine')\n",
        "LR = LogisticRegression(C=10, solver='sag', multi_class='multinomial', random_state=random_state, n_jobs=-1, tol = 1e-4, max_iter=200)\n",
        "SVC = LinearSVC()\n",
        "pipeline_KNN = make_pipeline(TfidfVectorizer(stop_words='english',smooth_idf=True), KNN)\n",
        "pipeline_KNN.fit(textos_train, y_train)\n",
        "pipeline_LR = make_pipeline(TfidfVectorizer(stop_words='english',smooth_idf=True), LR)\n",
        "pipeline_SVC = make_pipeline(TfidfVectorizer(stop_words='english',smooth_idf=True), SVC)\n",
        "\n",
        "from sklearn.metrics import balanced_accuracy_score\n",
        "balanced_acc = balanced_accuracy_score(y_test,pipeline_KNN.predict(textos_test))\n",
        "print(color.BOLD+\"A acurácia balanceada nos dados de teste: {0:.4f}\".format(balanced_acc)+color.END)"
      ]
    },
    {
      "cell_type": "code",
      "execution_count": null,
      "metadata": {
        "colab": {
          "base_uri": "https://localhost:8080/"
        },
        "id": "vQWq41wmRroS",
        "outputId": "921ef984-95f6-4d6c-8c68-4e87388e0775"
      },
      "outputs": [
        {
          "data": {
            "text/plain": [
              "dict_keys(['memory', 'steps', 'verbose', 'tfidfvectorizer', 'linearsvc', 'tfidfvectorizer__analyzer', 'tfidfvectorizer__binary', 'tfidfvectorizer__decode_error', 'tfidfvectorizer__dtype', 'tfidfvectorizer__encoding', 'tfidfvectorizer__input', 'tfidfvectorizer__lowercase', 'tfidfvectorizer__max_df', 'tfidfvectorizer__max_features', 'tfidfvectorizer__min_df', 'tfidfvectorizer__ngram_range', 'tfidfvectorizer__norm', 'tfidfvectorizer__preprocessor', 'tfidfvectorizer__smooth_idf', 'tfidfvectorizer__stop_words', 'tfidfvectorizer__strip_accents', 'tfidfvectorizer__sublinear_tf', 'tfidfvectorizer__token_pattern', 'tfidfvectorizer__tokenizer', 'tfidfvectorizer__use_idf', 'tfidfvectorizer__vocabulary', 'linearsvc__C', 'linearsvc__class_weight', 'linearsvc__dual', 'linearsvc__fit_intercept', 'linearsvc__intercept_scaling', 'linearsvc__loss', 'linearsvc__max_iter', 'linearsvc__multi_class', 'linearsvc__penalty', 'linearsvc__random_state', 'linearsvc__tol', 'linearsvc__verbose'])"
            ]
          },
          "execution_count": 15,
          "metadata": {},
          "output_type": "execute_result"
        }
      ],
      "source": [
        "pipeline_SVC.get_params().keys()"
      ]
    },
    {
      "cell_type": "code",
      "execution_count": 56,
      "metadata": {
        "colab": {
          "base_uri": "https://localhost:8080/"
        },
        "id": "81fzDnrFSHVf",
        "outputId": "4397d251-dbfd-4071-dece-450e5294fe1a"
      },
      "outputs": [
        {
          "name": "stdout",
          "output_type": "stream",
          "text": [
            "RandomizedSearchCV took 69.36 seconds for 6 candidates parameter settings.\n",
            "\u001b[1mModel with rank: 1\u001b[0m\n",
            "\u001b[1mMean validation score: 0.7534 (std: 0.0074)\u001b[0m\n",
            "\u001b[1mParameters: {'kneighborsclassifier__weights': 'uniform', 'kneighborsclassifier__p': 2, 'kneighborsclassifier__n_neighbors': 51}\u001b[0m\n",
            "\n",
            "\u001b[1mModel with rank: 2\u001b[0m\n",
            "\u001b[1mMean validation score: 0.7412 (std: 0.0069)\u001b[0m\n",
            "\u001b[1mParameters: {'kneighborsclassifier__weights': 'distance', 'kneighborsclassifier__p': 2, 'kneighborsclassifier__n_neighbors': 101}\u001b[0m\n",
            "\n",
            "\u001b[1mModel with rank: 3\u001b[0m\n",
            "\u001b[1mMean validation score: 0.7337 (std: 0.0068)\u001b[0m\n",
            "\u001b[1mParameters: {'kneighborsclassifier__weights': 'distance', 'kneighborsclassifier__p': 2, 'kneighborsclassifier__n_neighbors': 151}\u001b[0m\n",
            "\n"
          ]
        }
      ],
      "source": [
        "clf_KNN = KNeighborsClassifier()\n",
        "param_dist_KNN_pipeline = {\n",
        "    'kneighborsclassifier__n_neighbors': [15,51,101,151,201],\n",
        "    'kneighborsclassifier__p': [2],\n",
        "    'kneighborsclassifier__weights' :[\"uniform\",\"distance\"]\n",
        "}\n",
        "pipeline_KNN = make_pipeline(TfidfVectorizer(stop_words='english',smooth_idf=True), clf_KNN)\n",
        "random_search_KNN = RandomizedSearchCV(\n",
        "    pipeline_KNN, param_distributions=param_dist_KNN_pipeline, n_iter=n_it, cv = cv, random_state = random_state, verbose = 2, scoring='balanced_accuracy', n_jobs=-1\n",
        ")\n",
        "start = time()\n",
        "random_search_KNN.fit(textos_train, y_train)\n",
        "clear_output()\n",
        "print(\n",
        "    \"RandomizedSearchCV took %.2f seconds for %d candidates parameter settings.\"\n",
        "    % ((time() - start), n_it)\n",
        ")\n",
        "report(random_search_KNN.cv_results_, f'{dataset}+{model_name}+KNN')"
      ]
    },
    {
      "cell_type": "code",
      "execution_count": 57,
      "metadata": {
        "colab": {
          "base_uri": "https://localhost:8080/"
        },
        "id": "KnzObCo2XND8",
        "outputId": "75061c4b-6d1d-4aa2-937f-e307368f5b69"
      },
      "outputs": [
        {
          "name": "stdout",
          "output_type": "stream",
          "text": [
            "\u001b[1mA acurácia balanceada nos dados de teste: 0.7408\u001b[0m\n"
          ]
        }
      ],
      "source": [
        "from sklearn.metrics import balanced_accuracy_score\n",
        "balanced_acc = balanced_accuracy_score(y_test,random_search_KNN.best_estimator_.predict(textos_test))\n",
        "print(color.BOLD+\"A acurácia balanceada nos dados de teste: {0:.4f}\".format(balanced_acc)+color.END)"
      ]
    },
    {
      "cell_type": "markdown",
      "metadata": {
        "id": "j_esu7ur-gJs"
      },
      "source": [
        "**Logistic Regression**"
      ]
    },
    {
      "cell_type": "code",
      "execution_count": 6,
      "metadata": {
        "colab": {
          "base_uri": "https://localhost:8080/"
        },
        "id": "phRjJy0DVFr4",
        "outputId": "52657004-7991-4d3f-abdb-7f6d94a052fe"
      },
      "outputs": [
        {
          "name": "stdout",
          "output_type": "stream",
          "text": [
            "RandomizedSearchCV took 483.04 seconds for 10 candidates parameter settings.\n",
            "\u001b[1mModel with rank: 1\u001b[0m\n",
            "\u001b[1mMean validation score: 0.8442 (std: 0.0055)\u001b[0m\n",
            "\u001b[1mParameters: {'logisticregression__C': 10}\u001b[0m\n",
            "\n",
            "\u001b[1mModel with rank: 2\u001b[0m\n",
            "\u001b[1mMean validation score: 0.8340 (std: 0.0069)\u001b[0m\n",
            "\u001b[1mParameters: {'logisticregression__C': 1}\u001b[0m\n",
            "\n",
            "\u001b[1mModel with rank: 3\u001b[0m\n",
            "\u001b[1mMean validation score: 0.7867 (std: 0.0105)\u001b[0m\n",
            "\u001b[1mParameters: {'logisticregression__C': 0.1}\u001b[0m\n",
            "\n"
          ]
        }
      ],
      "source": [
        "clf_LR = LogisticRegression(random_state=42,multi_class='multinomial', solver='sag', tol= 1e-4,max_iter=300)\n",
        "param_dist_LR_pipeline = {\n",
        "    'logisticregression__C': [0.1,1,10]\n",
        "}\n",
        "pipeline_LR = make_pipeline(TfidfVectorizer(stop_words='english',smooth_idf=True), clf_LR)\n",
        "n_it = 10\n",
        "random_search_LR = RandomizedSearchCV(\n",
        "    pipeline_LR, param_distributions=param_dist_LR_pipeline, n_iter=n_it, cv = cv, random_state = random_state, verbose = 2, scoring='balanced_accuracy', n_jobs=-1\n",
        ")\n",
        "start = time()\n",
        "random_search_LR.fit(textos_train, y_train)\n",
        "clear_output()\n",
        "print(\n",
        "    \"RandomizedSearchCV took %.2f seconds for %d candidates parameter settings.\"\n",
        "    % ((time() - start), n_it)\n",
        ")\n",
        "report(random_search_LR.cv_results_, f'{dataset}+{model_name}+LR')"
      ]
    },
    {
      "cell_type": "code",
      "execution_count": 7,
      "metadata": {
        "colab": {
          "base_uri": "https://localhost:8080/"
        },
        "id": "fsnJqqMAVFkX",
        "outputId": "0af47e74-7193-48ba-a329-3751729a7d15"
      },
      "outputs": [
        {
          "name": "stdout",
          "output_type": "stream",
          "text": [
            "\u001b[1mA acurácia balanceada nos dados de teste: 0.8544\u001b[0m\n"
          ]
        }
      ],
      "source": [
        "from sklearn.metrics import balanced_accuracy_score\n",
        "balanced_acc = balanced_accuracy_score(y_test,random_search_LR.best_estimator_.predict(textos_test))\n",
        "print(color.BOLD+\"A acurácia balanceada nos dados de teste: {0:.4f}\".format(balanced_acc)+color.END)"
      ]
    },
    {
      "cell_type": "markdown",
      "metadata": {
        "id": "Tc7xe1O3-q5d"
      },
      "source": [
        "**SVC**"
      ]
    },
    {
      "cell_type": "code",
      "execution_count": 60,
      "metadata": {
        "colab": {
          "base_uri": "https://localhost:8080/"
        },
        "id": "QVyJ5FXx4061",
        "outputId": "2a434089-bc45-4dd3-dc9d-cbbe6a5b43ab"
      },
      "outputs": [
        {
          "name": "stdout",
          "output_type": "stream",
          "text": [
            "RandomizedSearchCV took 111.65 seconds for 6 candidates parameter settings.\n",
            "\u001b[1mModel with rank: 1\u001b[0m\n",
            "\u001b[1mMean validation score: 0.8534 (std: 0.0058)\u001b[0m\n",
            "\u001b[1mParameters: {'linearsvc__C': 1}\u001b[0m\n",
            "\n",
            "\u001b[1mModel with rank: 2\u001b[0m\n",
            "\u001b[1mMean validation score: 0.8497 (std: 0.0059)\u001b[0m\n",
            "\u001b[1mParameters: {'linearsvc__C': 10}\u001b[0m\n",
            "\n",
            "\u001b[1mModel with rank: 3\u001b[0m\n",
            "\u001b[1mMean validation score: 0.8389 (std: 0.0076)\u001b[0m\n",
            "\u001b[1mParameters: {'linearsvc__C': 0.1}\u001b[0m\n",
            "\n"
          ]
        }
      ],
      "source": [
        "from sklearn.svm import LinearSVC\n",
        "clf_SVC = LinearSVC(random_state=random_state, tol=1e-4)\n",
        "param_dist_SVC_pipeline = {\n",
        "    'linearsvc__C': [0.1,1, 10],\n",
        "    }\n",
        "pipeline_SVC = make_pipeline(TfidfVectorizer(stop_words='english',smooth_idf=True), clf_SVC)\n",
        "n_it = 6\n",
        "random_search_SVC = RandomizedSearchCV(\n",
        "    pipeline_SVC, param_distributions=param_dist_SVC_pipeline, n_iter=n_it, cv = cv, random_state = random_state, verbose = 2, scoring='balanced_accuracy', n_jobs=-1\n",
        ")\n",
        "start = time()\n",
        "random_search_SVC.fit(textos_train, y_train)\n",
        "clear_output()\n",
        "print(\n",
        "    \"RandomizedSearchCV took %.2f seconds for %d candidates parameter settings.\"\n",
        "    % ((time() - start), n_it)\n",
        ")\n",
        "report(random_search_SVC.cv_results_, f'{dataset}+{model_name}+SVC')"
      ]
    },
    {
      "cell_type": "code",
      "execution_count": 61,
      "metadata": {
        "colab": {
          "base_uri": "https://localhost:8080/"
        },
        "id": "4l_jXNKr40us",
        "outputId": "13759e79-60b9-4624-b085-0f5f5719f9ab"
      },
      "outputs": [
        {
          "name": "stdout",
          "output_type": "stream",
          "text": [
            "\u001b[1mA acurácia balanceada nos dados de teste: 0.8604\u001b[0m\n"
          ]
        }
      ],
      "source": [
        "from sklearn.metrics import balanced_accuracy_score\n",
        "balanced_acc = balanced_accuracy_score(y_test,random_search_SVC.best_estimator_.predict(textos_test))\n",
        "print(color.BOLD+\"A acurácia balanceada nos dados de teste: {0:.4f}\".format(balanced_acc)+color.END)"
      ]
    },
    {
      "cell_type": "code",
      "execution_count": 19,
      "metadata": {
        "id": "iv5Wu3ex40i7"
      },
      "outputs": [
        {
          "name": "stdout",
          "output_type": "stream",
          "text": [
            "RandomizedSearchCV took 7437.07 seconds for 10 candidates parameter settings.\n"
          ]
        },
        {
          "name": "stdout",
          "output_type": "stream",
          "text": [
            "\u001b[1mModel with rank: 1\u001b[0m\n",
            "\u001b[1mMean validation score: 0.7867 (std: 0.0098)\u001b[0m\n",
            "\u001b[1mParameters: {'randomforestclassifier__n_estimators': 100}\u001b[0m\n",
            "\n",
            "\u001b[1mModel with rank: 2\u001b[0m\n",
            "\u001b[1mMean validation score: 0.7685 (std: 0.0075)\u001b[0m\n",
            "\u001b[1mParameters: {'randomforestclassifier__n_estimators': 50}\u001b[0m\n",
            "\n",
            "\u001b[1mModel with rank: 3\u001b[0m\n",
            "\u001b[1mMean validation score: 0.6683 (std: 0.0068)\u001b[0m\n",
            "\u001b[1mParameters: {'randomforestclassifier__n_estimators': 10}\u001b[0m\n",
            "\n"
          ]
        },
        {
          "ename": "AttributeError",
          "evalue": "'numpy.ndarray' object has no attribute 'lower'",
          "output_type": "error",
          "traceback": [
            "\u001b[0;31m---------------------------------------------------------------------------\u001b[0m",
            "\u001b[0;31mAttributeError\u001b[0m                            Traceback (most recent call last)",
            "Cell \u001b[0;32mIn [19], line 20\u001b[0m\n\u001b[1;32m     18\u001b[0m report(random_search_RF\u001b[39m.\u001b[39mcv_results_, \u001b[39mf\u001b[39m\u001b[39m'\u001b[39m\u001b[39m{\u001b[39;00mdataset\u001b[39m}\u001b[39;00m\u001b[39m+\u001b[39m\u001b[39m{\u001b[39;00mmodel_name\u001b[39m}\u001b[39;00m\u001b[39m+RF\u001b[39m\u001b[39m'\u001b[39m)\n\u001b[1;32m     19\u001b[0m \u001b[39mfrom\u001b[39;00m \u001b[39msklearn\u001b[39;00m\u001b[39m.\u001b[39;00m\u001b[39mmetrics\u001b[39;00m \u001b[39mimport\u001b[39;00m balanced_accuracy_score\n\u001b[0;32m---> 20\u001b[0m balanced_acc \u001b[39m=\u001b[39m balanced_accuracy_score(y_test,random_search_RF\u001b[39m.\u001b[39;49mbest_estimator_\u001b[39m.\u001b[39;49mpredict(X_test))\n\u001b[1;32m     21\u001b[0m \u001b[39mprint\u001b[39m(color\u001b[39m.\u001b[39mBOLD\u001b[39m+\u001b[39m\u001b[39m\"\u001b[39m\u001b[39mA acurácia balanceada nos dados de teste: \u001b[39m\u001b[39m{0:.4f}\u001b[39;00m\u001b[39m\"\u001b[39m\u001b[39m.\u001b[39mformat(balanced_acc)\u001b[39m+\u001b[39mcolor\u001b[39m.\u001b[39mEND)\n",
            "File \u001b[0;32m~/.local/lib/python3.8/site-packages/sklearn/pipeline.py:457\u001b[0m, in \u001b[0;36mPipeline.predict\u001b[0;34m(self, X, **predict_params)\u001b[0m\n\u001b[1;32m    455\u001b[0m Xt \u001b[39m=\u001b[39m X\n\u001b[1;32m    456\u001b[0m \u001b[39mfor\u001b[39;00m _, name, transform \u001b[39min\u001b[39;00m \u001b[39mself\u001b[39m\u001b[39m.\u001b[39m_iter(with_final\u001b[39m=\u001b[39m\u001b[39mFalse\u001b[39;00m):\n\u001b[0;32m--> 457\u001b[0m     Xt \u001b[39m=\u001b[39m transform\u001b[39m.\u001b[39;49mtransform(Xt)\n\u001b[1;32m    458\u001b[0m \u001b[39mreturn\u001b[39;00m \u001b[39mself\u001b[39m\u001b[39m.\u001b[39msteps[\u001b[39m-\u001b[39m\u001b[39m1\u001b[39m][\u001b[39m1\u001b[39m]\u001b[39m.\u001b[39mpredict(Xt, \u001b[39m*\u001b[39m\u001b[39m*\u001b[39mpredict_params)\n",
            "File \u001b[0;32m~/.local/lib/python3.8/site-packages/sklearn/feature_extraction/text.py:2103\u001b[0m, in \u001b[0;36mTfidfVectorizer.transform\u001b[0;34m(self, raw_documents)\u001b[0m\n\u001b[1;32m   2086\u001b[0m \u001b[39m\"\"\"Transform documents to document-term matrix.\u001b[39;00m\n\u001b[1;32m   2087\u001b[0m \n\u001b[1;32m   2088\u001b[0m \u001b[39mUses the vocabulary and document frequencies (df) learned by fit (or\u001b[39;00m\n\u001b[0;32m   (...)\u001b[0m\n\u001b[1;32m   2099\u001b[0m \u001b[39m    Tf-idf-weighted document-term matrix.\u001b[39;00m\n\u001b[1;32m   2100\u001b[0m \u001b[39m\"\"\"\u001b[39;00m\n\u001b[1;32m   2101\u001b[0m check_is_fitted(\u001b[39mself\u001b[39m, msg\u001b[39m=\u001b[39m\u001b[39m\"\u001b[39m\u001b[39mThe TF-IDF vectorizer is not fitted\u001b[39m\u001b[39m\"\u001b[39m)\n\u001b[0;32m-> 2103\u001b[0m X \u001b[39m=\u001b[39m \u001b[39msuper\u001b[39;49m()\u001b[39m.\u001b[39;49mtransform(raw_documents)\n\u001b[1;32m   2104\u001b[0m \u001b[39mreturn\u001b[39;00m \u001b[39mself\u001b[39m\u001b[39m.\u001b[39m_tfidf\u001b[39m.\u001b[39mtransform(X, copy\u001b[39m=\u001b[39m\u001b[39mFalse\u001b[39;00m)\n",
            "File \u001b[0;32m~/.local/lib/python3.8/site-packages/sklearn/feature_extraction/text.py:1387\u001b[0m, in \u001b[0;36mCountVectorizer.transform\u001b[0;34m(self, raw_documents)\u001b[0m\n\u001b[1;32m   1384\u001b[0m \u001b[39mself\u001b[39m\u001b[39m.\u001b[39m_check_vocabulary()\n\u001b[1;32m   1386\u001b[0m \u001b[39m# use the same matrix-building strategy as fit_transform\u001b[39;00m\n\u001b[0;32m-> 1387\u001b[0m _, X \u001b[39m=\u001b[39m \u001b[39mself\u001b[39;49m\u001b[39m.\u001b[39;49m_count_vocab(raw_documents, fixed_vocab\u001b[39m=\u001b[39;49m\u001b[39mTrue\u001b[39;49;00m)\n\u001b[1;32m   1388\u001b[0m \u001b[39mif\u001b[39;00m \u001b[39mself\u001b[39m\u001b[39m.\u001b[39mbinary:\n\u001b[1;32m   1389\u001b[0m     X\u001b[39m.\u001b[39mdata\u001b[39m.\u001b[39mfill(\u001b[39m1\u001b[39m)\n",
            "File \u001b[0;32m~/.local/lib/python3.8/site-packages/sklearn/feature_extraction/text.py:1209\u001b[0m, in \u001b[0;36mCountVectorizer._count_vocab\u001b[0;34m(self, raw_documents, fixed_vocab)\u001b[0m\n\u001b[1;32m   1207\u001b[0m \u001b[39mfor\u001b[39;00m doc \u001b[39min\u001b[39;00m raw_documents:\n\u001b[1;32m   1208\u001b[0m     feature_counter \u001b[39m=\u001b[39m {}\n\u001b[0;32m-> 1209\u001b[0m     \u001b[39mfor\u001b[39;00m feature \u001b[39min\u001b[39;00m analyze(doc):\n\u001b[1;32m   1210\u001b[0m         \u001b[39mtry\u001b[39;00m:\n\u001b[1;32m   1211\u001b[0m             feature_idx \u001b[39m=\u001b[39m vocabulary[feature]\n",
            "File \u001b[0;32m~/.local/lib/python3.8/site-packages/sklearn/feature_extraction/text.py:111\u001b[0m, in \u001b[0;36m_analyze\u001b[0;34m(doc, analyzer, tokenizer, ngrams, preprocessor, decoder, stop_words)\u001b[0m\n\u001b[1;32m    109\u001b[0m \u001b[39melse\u001b[39;00m:\n\u001b[1;32m    110\u001b[0m     \u001b[39mif\u001b[39;00m preprocessor \u001b[39mis\u001b[39;00m \u001b[39mnot\u001b[39;00m \u001b[39mNone\u001b[39;00m:\n\u001b[0;32m--> 111\u001b[0m         doc \u001b[39m=\u001b[39m preprocessor(doc)\n\u001b[1;32m    112\u001b[0m     \u001b[39mif\u001b[39;00m tokenizer \u001b[39mis\u001b[39;00m \u001b[39mnot\u001b[39;00m \u001b[39mNone\u001b[39;00m:\n\u001b[1;32m    113\u001b[0m         doc \u001b[39m=\u001b[39m tokenizer(doc)\n",
            "File \u001b[0;32m~/.local/lib/python3.8/site-packages/sklearn/feature_extraction/text.py:69\u001b[0m, in \u001b[0;36m_preprocess\u001b[0;34m(doc, accent_function, lower)\u001b[0m\n\u001b[1;32m     50\u001b[0m \u001b[39m\"\"\"Chain together an optional series of text preprocessing steps to\u001b[39;00m\n\u001b[1;32m     51\u001b[0m \u001b[39mapply to a document.\u001b[39;00m\n\u001b[1;32m     52\u001b[0m \n\u001b[0;32m   (...)\u001b[0m\n\u001b[1;32m     66\u001b[0m \u001b[39m    preprocessed string\u001b[39;00m\n\u001b[1;32m     67\u001b[0m \u001b[39m\"\"\"\u001b[39;00m\n\u001b[1;32m     68\u001b[0m \u001b[39mif\u001b[39;00m lower:\n\u001b[0;32m---> 69\u001b[0m     doc \u001b[39m=\u001b[39m doc\u001b[39m.\u001b[39;49mlower()\n\u001b[1;32m     70\u001b[0m \u001b[39mif\u001b[39;00m accent_function \u001b[39mis\u001b[39;00m \u001b[39mnot\u001b[39;00m \u001b[39mNone\u001b[39;00m:\n\u001b[1;32m     71\u001b[0m     doc \u001b[39m=\u001b[39m accent_function(doc)\n",
            "\u001b[0;31mAttributeError\u001b[0m: 'numpy.ndarray' object has no attribute 'lower'"
          ]
        }
      ],
      "source": [
        "from sklearn.ensemble import RandomForestClassifier\n",
        "clf_RF = RandomForestClassifier(random_state=random_state)\n",
        "param_dist_RF_pipeline = {\n",
        "    'randomforestclassifier__n_estimators': [10,50,100],\n",
        "    }\n",
        "pipeline_RF = make_pipeline(TfidfVectorizer(stop_words='english',smooth_idf=True), clf_RF)\n",
        "n_it = 10\n",
        "random_search_RF = RandomizedSearchCV(\n",
        "    pipeline_RF, param_distributions=param_dist_RF_pipeline, n_iter=n_it, cv = cv, random_state = random_state, verbose = 2, scoring='balanced_accuracy', n_jobs=-1\n",
        ")\n",
        "start = time()\n",
        "random_search_RF.fit(textos_train, y_train)\n",
        "clear_output()\n",
        "print(\n",
        "    \"RandomizedSearchCV took %.2f seconds for %d candidates parameter settings.\"\n",
        "    % ((time() - start), n_it)\n",
        ")\n",
        "report(random_search_RF.cv_results_, f'{dataset}+{model_name}+RF')\n",
        "from sklearn.metrics import balanced_accuracy_score\n",
        "balanced_acc = balanced_accuracy_score(y_test,random_search_RF.best_estimator_.predict(X_test))\n",
        "print(color.BOLD+\"A acurácia balanceada nos dados de teste: {0:.4f}\".format(balanced_acc)+color.END)"
      ]
    },
    {
      "cell_type": "code",
      "execution_count": 22,
      "metadata": {
        "id": "tizuYixID0fh"
      },
      "outputs": [
        {
          "name": "stdout",
          "output_type": "stream",
          "text": [
            "\u001b[1mA acurácia balanceada nos dados de teste: 0.7949\u001b[0m\n"
          ]
        }
      ],
      "source": [
        "from sklearn.metrics import balanced_accuracy_score\n",
        "balanced_acc = balanced_accuracy_score(y_test,random_search_RF.best_estimator_.predict(textos_test))\n",
        "print(color.BOLD+\"A acurácia balanceada nos dados de teste: {0:.4f}\".format(balanced_acc)+color.END)"
      ]
    },
    {
      "cell_type": "markdown",
      "metadata": {
        "id": "ISFl8QMDD1xD"
      },
      "source": [
        "# Pipeline 6: WOS + TF-IDF"
      ]
    },
    {
      "cell_type": "code",
      "execution_count": 62,
      "metadata": {
        "id": "V9CHLv6yD0Yy"
      },
      "outputs": [],
      "source": [
        "#TF-IDF\n",
        "from sklearn.feature_extraction.text import TfidfVectorizer\n",
        "from sklearn import preprocessing\n",
        "import pandas as pd\n",
        "import numpy as np\n",
        "import pickle\n",
        "dataset = 'TC14_wos'\n",
        "model_name = 'TDIDF'\n",
        "df = pd.read_csv(f'Arquivos TCC/datasets/{dataset}.csv', sep=';')\n",
        "df = df.dropna()\n",
        "textos = df['text'].values.tolist()\n",
        "from sklearn.neighbors import KNeighborsClassifier\n",
        "from sklearn.linear_model import LogisticRegression\n",
        "from sklearn.model_selection import RandomizedSearchCV\n",
        "from sklearn.model_selection import StratifiedKFold\n",
        "from sklearn.metrics import balanced_accuracy_score\n",
        "from sklearn.model_selection import cross_validate\n",
        "cv = StratifiedKFold(n_splits=10, shuffle=True, random_state=random_state)\n",
        "labels = df['label']\n",
        "labels_enc = preprocessing.LabelEncoder().fit_transform(labels)\n",
        "#Split hold-out test data\n",
        "from sklearn.model_selection import train_test_split\n",
        "textos_train, textos_test, y_train, y_test = train_test_split(textos, labels_enc, test_size=0.10, random_state=random_state,stratify=labels_enc)"
      ]
    },
    {
      "cell_type": "code",
      "execution_count": 63,
      "metadata": {
        "colab": {
          "base_uri": "https://localhost:8080/"
        },
        "id": "6J5nEjXhEKYZ",
        "outputId": "e0ac5c56-07c9-4567-eaf0-baf81b975a93"
      },
      "outputs": [
        {
          "name": "stdout",
          "output_type": "stream",
          "text": [
            "A acurácia balanceada nos dados de teste: 0.709\n"
          ]
        }
      ],
      "source": [
        "KNN = KNeighborsClassifier(n_neighbors=150, p = 2, weights='distance')\n",
        "KNN.fit(X_train, y_train)\n",
        "from sklearn.metrics import balanced_accuracy_score\n",
        "balanced_acc = balanced_accuracy_score(y_test,KNN.predict(X_test))\n",
        "print(\"A acurácia balanceada nos dados de teste: {0:.3f}\".format(balanced_acc))"
      ]
    },
    {
      "cell_type": "code",
      "execution_count": 64,
      "metadata": {
        "colab": {
          "base_uri": "https://localhost:8080/"
        },
        "id": "sxwULIQzEKS6",
        "outputId": "8f345e3c-be74-4140-a496-cda8ceaa1e6a"
      },
      "outputs": [
        {
          "name": "stdout",
          "output_type": "stream",
          "text": [
            "A acurácia balanceada nos dados de teste: 0.747\n"
          ]
        }
      ],
      "source": [
        "LR = LogisticRegression(C=10, solver='sag', multi_class='multinomial', random_state=random_state, n_jobs=-1, tol = 1e-4, max_iter=200)\n",
        "LR.fit(X_train, y_train)\n",
        "from sklearn.metrics import balanced_accuracy_score\n",
        "balanced_acc = balanced_accuracy_score(y_test,LR.predict(X_test))\n",
        "print(\"A acurácia balanceada nos dados de teste: {0:.3f}\".format(balanced_acc))"
      ]
    },
    {
      "cell_type": "markdown",
      "metadata": {
        "id": "7L8djSDlGvTc"
      },
      "source": [
        "**KNN**"
      ]
    },
    {
      "cell_type": "code",
      "execution_count": 65,
      "metadata": {
        "colab": {
          "base_uri": "https://localhost:8080/"
        },
        "id": "OHOizKx1GvTd",
        "outputId": "14d8b24d-f2af-42d5-a5cb-9c2a6e01c8b3"
      },
      "outputs": [
        {
          "name": "stdout",
          "output_type": "stream",
          "text": [
            "RandomizedSearchCV took 46.25 seconds for 10 candidates parameter settings.\n",
            "\u001b[1mModel with rank: 1\u001b[0m\n",
            "\u001b[1mMean validation score: 0.7016 (std: 0.0133)\u001b[0m\n",
            "\u001b[1mParameters: {'kneighborsclassifier__weights': 'distance', 'kneighborsclassifier__p': 2, 'kneighborsclassifier__n_neighbors': 201}\u001b[0m\n",
            "\n",
            "\u001b[1mModel with rank: 2\u001b[0m\n",
            "\u001b[1mMean validation score: 0.6997 (std: 0.0131)\u001b[0m\n",
            "\u001b[1mParameters: {'kneighborsclassifier__weights': 'uniform', 'kneighborsclassifier__p': 2, 'kneighborsclassifier__n_neighbors': 201}\u001b[0m\n",
            "\n",
            "\u001b[1mModel with rank: 3\u001b[0m\n",
            "\u001b[1mMean validation score: 0.6993 (std: 0.0105)\u001b[0m\n",
            "\u001b[1mParameters: {'kneighborsclassifier__weights': 'distance', 'kneighborsclassifier__p': 2, 'kneighborsclassifier__n_neighbors': 151}\u001b[0m\n",
            "\n"
          ]
        }
      ],
      "source": [
        "clf_KNN = KNeighborsClassifier()\n",
        "param_dist_KNN_pipeline = {\n",
        "    'kneighborsclassifier__n_neighbors': [15,51,101,151,201],\n",
        "    'kneighborsclassifier__p': [2],\n",
        "    'kneighborsclassifier__weights' :[\"uniform\",\"distance\"]\n",
        "}\n",
        "pipeline_KNN = make_pipeline(TfidfVectorizer(stop_words='english',smooth_idf=True), clf_KNN)\n",
        "n_it=10\n",
        "random_search_KNN = RandomizedSearchCV(\n",
        "    pipeline_KNN, param_distributions=param_dist_KNN_pipeline, n_iter=n_it, cv = cv, random_state = random_state, verbose = 2, scoring='balanced_accuracy', n_jobs=-1\n",
        ")\n",
        "start = time()\n",
        "random_search_KNN.fit(textos_train, y_train)\n",
        "clear_output()\n",
        "print(\n",
        "    \"RandomizedSearchCV took %.2f seconds for %d candidates parameter settings.\"\n",
        "    % ((time() - start), n_it)\n",
        ")\n",
        "report(random_search_KNN.cv_results_, f'{dataset}+{model_name}+KNN')"
      ]
    },
    {
      "cell_type": "code",
      "execution_count": 66,
      "metadata": {
        "colab": {
          "base_uri": "https://localhost:8080/"
        },
        "id": "sJ5QyWRjGvTd",
        "outputId": "5c1711c9-77dd-467e-e298-40ce15ba92fa"
      },
      "outputs": [
        {
          "name": "stdout",
          "output_type": "stream",
          "text": [
            "\u001b[1mA acurácia balanceada nos dados de teste: 0.6987\u001b[0m\n"
          ]
        }
      ],
      "source": [
        "from sklearn.metrics import balanced_accuracy_score\n",
        "balanced_acc = balanced_accuracy_score(y_test,random_search_KNN.best_estimator_.predict(textos_test))\n",
        "print(color.BOLD+\"A acurácia balanceada nos dados de teste: {0:.4f}\".format(balanced_acc)+color.END)"
      ]
    },
    {
      "cell_type": "markdown",
      "metadata": {
        "id": "AJ8PCWKSGvTd"
      },
      "source": [
        "**Logistic Regression**"
      ]
    },
    {
      "cell_type": "code",
      "execution_count": 67,
      "metadata": {
        "colab": {
          "base_uri": "https://localhost:8080/"
        },
        "id": "7PmnL0aIGvTe",
        "outputId": "45c38414-b4c4-4647-bb8a-fb98fc0c4352"
      },
      "outputs": [
        {
          "name": "stdout",
          "output_type": "stream",
          "text": [
            "RandomizedSearchCV took 77.99 seconds for 6 candidates parameter settings.\n",
            "\u001b[1mModel with rank: 1\u001b[0m\n",
            "\u001b[1mMean validation score: 0.8192 (std: 0.0156)\u001b[0m\n",
            "\u001b[1mParameters: {'logisticregression__C': 10}\u001b[0m\n",
            "\n",
            "\u001b[1mModel with rank: 2\u001b[0m\n",
            "\u001b[1mMean validation score: 0.8080 (std: 0.0140)\u001b[0m\n",
            "\u001b[1mParameters: {'logisticregression__C': 1}\u001b[0m\n",
            "\n",
            "\u001b[1mModel with rank: 3\u001b[0m\n",
            "\u001b[1mMean validation score: 0.6969 (std: 0.0107)\u001b[0m\n",
            "\u001b[1mParameters: {'logisticregression__C': 0.1}\u001b[0m\n",
            "\n"
          ]
        }
      ],
      "source": [
        "clf_LR = LogisticRegression(random_state=42,multi_class='multinomial', solver='sag', tol= 1e-4,max_iter=300)\n",
        "param_dist_LR_pipeline = {\n",
        "    'logisticregression__C': [0.1,1,10]\n",
        "}\n",
        "pipeline_LR = make_pipeline(TfidfVectorizer(stop_words='english',smooth_idf=True), clf_LR)\n",
        "n_it = 6\n",
        "random_search_LR = RandomizedSearchCV(\n",
        "    pipeline_LR, param_distributions=param_dist_LR_pipeline, n_iter=n_it, cv = cv, random_state = random_state, verbose = 2, scoring='balanced_accuracy', n_jobs=-1\n",
        ")\n",
        "start = time()\n",
        "random_search_LR.fit(textos_train, y_train)\n",
        "clear_output()\n",
        "print(\n",
        "    \"RandomizedSearchCV took %.2f seconds for %d candidates parameter settings.\"\n",
        "    % ((time() - start), n_it)\n",
        ")\n",
        "report(random_search_LR.cv_results_, f'{dataset}+{model_name}+LR')"
      ]
    },
    {
      "cell_type": "code",
      "execution_count": 68,
      "metadata": {
        "colab": {
          "base_uri": "https://localhost:8080/"
        },
        "id": "D8upf5DFGvTe",
        "outputId": "51314180-06e0-4141-bb2d-670382c57e6e"
      },
      "outputs": [
        {
          "name": "stdout",
          "output_type": "stream",
          "text": [
            "\u001b[1mA acurácia balanceada nos dados de teste: 0.8092\u001b[0m\n"
          ]
        }
      ],
      "source": [
        "from sklearn.metrics import balanced_accuracy_score\n",
        "balanced_acc = balanced_accuracy_score(y_test,random_search_LR.best_estimator_.predict(textos_test))\n",
        "print(color.BOLD+\"A acurácia balanceada nos dados de teste: {0:.4f}\".format(balanced_acc)+color.END)"
      ]
    },
    {
      "cell_type": "markdown",
      "metadata": {
        "id": "iGttvrJXGvTe"
      },
      "source": [
        "**SVC**"
      ]
    },
    {
      "cell_type": "code",
      "execution_count": 69,
      "metadata": {
        "colab": {
          "base_uri": "https://localhost:8080/"
        },
        "id": "R1l8rnW4GvTe",
        "outputId": "27956f18-7186-4bb8-bb37-f31bfc955f9c"
      },
      "outputs": [
        {
          "name": "stdout",
          "output_type": "stream",
          "text": [
            "RandomizedSearchCV took 33.25 seconds for 6 candidates parameter settings.\n",
            "\u001b[1mModel with rank: 1\u001b[0m\n",
            "\u001b[1mMean validation score: 0.8239 (std: 0.0147)\u001b[0m\n",
            "\u001b[1mParameters: {'linearsvc__C': 1}\u001b[0m\n",
            "\n",
            "\u001b[1mModel with rank: 2\u001b[0m\n",
            "\u001b[1mMean validation score: 0.8167 (std: 0.0153)\u001b[0m\n",
            "\u001b[1mParameters: {'linearsvc__C': 0.1}\u001b[0m\n",
            "\n",
            "\u001b[1mModel with rank: 3\u001b[0m\n",
            "\u001b[1mMean validation score: 0.8144 (std: 0.0142)\u001b[0m\n",
            "\u001b[1mParameters: {'linearsvc__C': 10}\u001b[0m\n",
            "\n"
          ]
        }
      ],
      "source": [
        "from sklearn.svm import LinearSVC\n",
        "clf_SVC = LinearSVC(random_state=random_state, tol=1e-4)\n",
        "param_dist_SVC_pipeline = {\n",
        "    'linearsvc__C': [0.1,1, 10],\n",
        "    }\n",
        "pipeline_SVC = make_pipeline(TfidfVectorizer(stop_words='english',smooth_idf=True), clf_SVC)\n",
        "n_it = 6\n",
        "random_search_SVC = RandomizedSearchCV(\n",
        "    pipeline_SVC, param_distributions=param_dist_SVC_pipeline, n_iter=n_it, cv = cv, random_state = random_state, verbose = 2, scoring='balanced_accuracy', n_jobs=-1\n",
        ")\n",
        "start = time()\n",
        "random_search_SVC.fit(textos_train, y_train)\n",
        "clear_output()\n",
        "print(\n",
        "    \"RandomizedSearchCV took %.2f seconds for %d candidates parameter settings.\"\n",
        "    % ((time() - start), n_it)\n",
        ")\n",
        "report(random_search_SVC.cv_results_, f'{dataset}+{model_name}+SVC')"
      ]
    },
    {
      "cell_type": "code",
      "execution_count": 70,
      "metadata": {
        "colab": {
          "base_uri": "https://localhost:8080/"
        },
        "id": "--jJ3AjDGvTe",
        "outputId": "c22dcb84-109c-4f53-9d1d-a3f585c76c49"
      },
      "outputs": [
        {
          "name": "stdout",
          "output_type": "stream",
          "text": [
            "\u001b[1mA acurácia balanceada nos dados de teste: 0.8229\u001b[0m\n"
          ]
        }
      ],
      "source": [
        "from sklearn.metrics import balanced_accuracy_score\n",
        "balanced_acc = balanced_accuracy_score(y_test,random_search_SVC.best_estimator_.predict(textos_test))\n",
        "print(color.BOLD+\"A acurácia balanceada nos dados de teste: {0:.4f}\".format(balanced_acc)+color.END)"
      ]
    },
    {
      "cell_type": "code",
      "execution_count": null,
      "metadata": {
        "id": "4Y4kJpM0GvTf"
      },
      "outputs": [],
      "source": [
        "from sklearn.ensemble import RandomForestClassifier\n",
        "clf_RF = RandomForestClassifier(random_state=random_state)\n",
        "param_dist_RF_pipeline = {\n",
        "    'randomforestclassifier__n_estimators': [10,50,100],\n",
        "    }\n",
        "pipeline_RF = make_pipeline(TfidfVectorizer(stop_words='english',smooth_idf=True), clf_RF)\n",
        "n_it = 10\n",
        "random_search_RF = RandomizedSearchCV(\n",
        "    pipeline_RF, param_distributions=param_dist_RF_pipeline, n_iter=n_it, cv = cv, random_state = random_state, verbose = 2, scoring='balanced_accuracy', n_jobs=-1\n",
        ")\n",
        "start = time()\n",
        "random_search_RF.fit(textos_train, y_train)\n",
        "clear_output()\n",
        "print(\n",
        "    \"RandomizedSearchCV took %.2f seconds for %d candidates parameter settings.\"\n",
        "    % ((time() - start), n_it)\n",
        ")\n",
        "report(random_search_RF.cv_results_, f'{dataset}+{model_name}+RF')\n",
        "from sklearn.metrics import balanced_accuracy_score\n",
        "balanced_acc = balanced_accuracy_score(y_test,random_search_RF.best_estimator_.predict(X_test))\n",
        "print(color.BOLD+\"A acurácia balanceada nos dados de teste: {0:.4f}\".format(balanced_acc)+color.END)"
      ]
    },
    {
      "cell_type": "code",
      "execution_count": null,
      "metadata": {
        "id": "7HJ45UahGvTf"
      },
      "outputs": [],
      "source": []
    },
    {
      "cell_type": "markdown",
      "metadata": {
        "id": "q8Gl7Q5Ry5mW"
      },
      "source": [
        "# Testes Resultados\n"
      ]
    },
    {
      "cell_type": "code",
      "execution_count": null,
      "metadata": {
        "id": "vV0qMGYwz7HF"
      },
      "outputs": [],
      "source": [
        "#K-fold cross validation strategy and import dependencies\n",
        "from sklearn.neighbors import KNeighborsClassifier\n",
        "from sklearn.linear_model import LogisticRegression\n",
        "from sklearn.model_selection import RandomizedSearchCV\n",
        "from sklearn.model_selection import StratifiedKFold\n",
        "from sklearn.metrics import balanced_accuracy_score\n",
        "from sklearn.model_selection import cross_validate\n",
        "cv = StratifiedKFold(n_splits=10, shuffle=True, random_state=random_state)"
      ]
    },
    {
      "cell_type": "code",
      "execution_count": null,
      "metadata": {
        "id": "t2_uyx00t35i"
      },
      "outputs": [],
      "source": [
        "best_KNN = KNeighborsClassifier(n_neighbors=2, p = 1, weights='distance', algorithm='ball_tree')\n",
        "cv_results = cross_validate(best_KNN, X_train, y_train, cv=cv, n_jobs=-1, scoring='balanced_accuracy')"
      ]
    },
    {
      "cell_type": "code",
      "execution_count": null,
      "metadata": {
        "colab": {
          "base_uri": "https://localhost:8080/"
        },
        "id": "6V2Mr8-otyBD",
        "outputId": "310665e8-b27c-447f-dc21-449c565dd152"
      },
      "outputs": [
        {
          "data": {
            "text/plain": [
              "0.8187464985994397"
            ]
          },
          "execution_count": 18,
          "metadata": {},
          "output_type": "execute_result"
        }
      ],
      "source": [
        "cv_results['test_score'].mean()"
      ]
    },
    {
      "cell_type": "code",
      "execution_count": null,
      "metadata": {
        "id": "7Q2EMpb4tx5a"
      },
      "outputs": [],
      "source": []
    },
    {
      "cell_type": "code",
      "execution_count": null,
      "metadata": {
        "id": "gL8YrP1lQB2E"
      },
      "outputs": [],
      "source": []
    },
    {
      "cell_type": "code",
      "execution_count": null,
      "metadata": {
        "id": "i9Sn-_IpQBqd"
      },
      "outputs": [],
      "source": []
    },
    {
      "cell_type": "code",
      "execution_count": null,
      "metadata": {
        "id": "7K_QkJaeQBnu"
      },
      "outputs": [],
      "source": []
    },
    {
      "cell_type": "code",
      "execution_count": null,
      "metadata": {
        "id": "mMuKFLt6QBks"
      },
      "outputs": [],
      "source": [
        "df_cv = pd.read_csv('Arquivos TCC/perfomance_cv.csv')"
      ]
    },
    {
      "cell_type": "code",
      "execution_count": null,
      "metadata": {
        "colab": {
          "base_uri": "https://localhost:8080/",
          "height": 162
        },
        "id": "90AN6jItQBhr",
        "outputId": "02da8c1d-1d92-49be-faf9-1e33a20bfe12"
      },
      "outputs": [
        {
          "data": {
            "text/html": [
              "\n",
              "  <div id=\"df-a4082a69-fa3f-4aa6-bbc8-8b5f46232593\">\n",
              "    <div class=\"colab-df-container\">\n",
              "      <div>\n",
              "<style scoped>\n",
              "    .dataframe tbody tr th:only-of-type {\n",
              "        vertical-align: middle;\n",
              "    }\n",
              "\n",
              "    .dataframe tbody tr th {\n",
              "        vertical-align: top;\n",
              "    }\n",
              "\n",
              "    .dataframe thead th {\n",
              "        text-align: right;\n",
              "    }\n",
              "</style>\n",
              "<table border=\"1\" class=\"dataframe\">\n",
              "  <thead>\n",
              "    <tr style=\"text-align: right;\">\n",
              "      <th></th>\n",
              "      <th>split0_test_score</th>\n",
              "      <th>split1_test_score</th>\n",
              "      <th>split2_test_score</th>\n",
              "      <th>split3_test_score</th>\n",
              "      <th>split4_test_score</th>\n",
              "      <th>split5_test_score</th>\n",
              "      <th>split6_test_score</th>\n",
              "      <th>split7_test_score</th>\n",
              "      <th>split8_test_score</th>\n",
              "      <th>split9_test_score</th>\n",
              "      <th>pipeline</th>\n",
              "      <th>params</th>\n",
              "    </tr>\n",
              "  </thead>\n",
              "  <tbody>\n",
              "    <tr>\n",
              "      <th>0</th>\n",
              "      <td>0.746498</td>\n",
              "      <td>0.729844</td>\n",
              "      <td>0.742484</td>\n",
              "      <td>0.750318</td>\n",
              "      <td>0.736504</td>\n",
              "      <td>0.753034</td>\n",
              "      <td>0.758034</td>\n",
              "      <td>0.735843</td>\n",
              "      <td>0.748102</td>\n",
              "      <td>0.735337</td>\n",
              "      <td>TC02_20news+all-MiniLM-L6-v2+LR</td>\n",
              "      <td>{'C': 0.1}</td>\n",
              "    </tr>\n",
              "  </tbody>\n",
              "</table>\n",
              "</div>\n",
              "      <button class=\"colab-df-convert\" onclick=\"convertToInteractive('df-a4082a69-fa3f-4aa6-bbc8-8b5f46232593')\"\n",
              "              title=\"Convert this dataframe to an interactive table.\"\n",
              "              style=\"display:none;\">\n",
              "        \n",
              "  <svg xmlns=\"http://www.w3.org/2000/svg\" height=\"24px\"viewBox=\"0 0 24 24\"\n",
              "       width=\"24px\">\n",
              "    <path d=\"M0 0h24v24H0V0z\" fill=\"none\"/>\n",
              "    <path d=\"M18.56 5.44l.94 2.06.94-2.06 2.06-.94-2.06-.94-.94-2.06-.94 2.06-2.06.94zm-11 1L8.5 8.5l.94-2.06 2.06-.94-2.06-.94L8.5 2.5l-.94 2.06-2.06.94zm10 10l.94 2.06.94-2.06 2.06-.94-2.06-.94-.94-2.06-.94 2.06-2.06.94z\"/><path d=\"M17.41 7.96l-1.37-1.37c-.4-.4-.92-.59-1.43-.59-.52 0-1.04.2-1.43.59L10.3 9.45l-7.72 7.72c-.78.78-.78 2.05 0 2.83L4 21.41c.39.39.9.59 1.41.59.51 0 1.02-.2 1.41-.59l7.78-7.78 2.81-2.81c.8-.78.8-2.07 0-2.86zM5.41 20L4 18.59l7.72-7.72 1.47 1.35L5.41 20z\"/>\n",
              "  </svg>\n",
              "      </button>\n",
              "      \n",
              "  <style>\n",
              "    .colab-df-container {\n",
              "      display:flex;\n",
              "      flex-wrap:wrap;\n",
              "      gap: 12px;\n",
              "    }\n",
              "\n",
              "    .colab-df-convert {\n",
              "      background-color: #E8F0FE;\n",
              "      border: none;\n",
              "      border-radius: 50%;\n",
              "      cursor: pointer;\n",
              "      display: none;\n",
              "      fill: #1967D2;\n",
              "      height: 32px;\n",
              "      padding: 0 0 0 0;\n",
              "      width: 32px;\n",
              "    }\n",
              "\n",
              "    .colab-df-convert:hover {\n",
              "      background-color: #E2EBFA;\n",
              "      box-shadow: 0px 1px 2px rgba(60, 64, 67, 0.3), 0px 1px 3px 1px rgba(60, 64, 67, 0.15);\n",
              "      fill: #174EA6;\n",
              "    }\n",
              "\n",
              "    [theme=dark] .colab-df-convert {\n",
              "      background-color: #3B4455;\n",
              "      fill: #D2E3FC;\n",
              "    }\n",
              "\n",
              "    [theme=dark] .colab-df-convert:hover {\n",
              "      background-color: #434B5C;\n",
              "      box-shadow: 0px 1px 3px 1px rgba(0, 0, 0, 0.15);\n",
              "      filter: drop-shadow(0px 1px 2px rgba(0, 0, 0, 0.3));\n",
              "      fill: #FFFFFF;\n",
              "    }\n",
              "  </style>\n",
              "\n",
              "      <script>\n",
              "        const buttonEl =\n",
              "          document.querySelector('#df-a4082a69-fa3f-4aa6-bbc8-8b5f46232593 button.colab-df-convert');\n",
              "        buttonEl.style.display =\n",
              "          google.colab.kernel.accessAllowed ? 'block' : 'none';\n",
              "\n",
              "        async function convertToInteractive(key) {\n",
              "          const element = document.querySelector('#df-a4082a69-fa3f-4aa6-bbc8-8b5f46232593');\n",
              "          const dataTable =\n",
              "            await google.colab.kernel.invokeFunction('convertToInteractive',\n",
              "                                                     [key], {});\n",
              "          if (!dataTable) return;\n",
              "\n",
              "          const docLinkHtml = 'Like what you see? Visit the ' +\n",
              "            '<a target=\"_blank\" href=https://colab.research.google.com/notebooks/data_table.ipynb>data table notebook</a>'\n",
              "            + ' to learn more about interactive tables.';\n",
              "          element.innerHTML = '';\n",
              "          dataTable['output_type'] = 'display_data';\n",
              "          await google.colab.output.renderOutput(dataTable, element);\n",
              "          const docLink = document.createElement('div');\n",
              "          docLink.innerHTML = docLinkHtml;\n",
              "          element.appendChild(docLink);\n",
              "        }\n",
              "      </script>\n",
              "    </div>\n",
              "  </div>\n",
              "  "
            ],
            "text/plain": [
              "   split0_test_score  split1_test_score  split2_test_score  split3_test_score  \\\n",
              "0           0.746498           0.729844           0.742484           0.750318   \n",
              "\n",
              "   split4_test_score  split5_test_score  split6_test_score  split7_test_score  \\\n",
              "0           0.736504           0.753034           0.758034           0.735843   \n",
              "\n",
              "   split8_test_score  split9_test_score                         pipeline  \\\n",
              "0           0.748102           0.735337  TC02_20news+all-MiniLM-L6-v2+LR   \n",
              "\n",
              "       params  \n",
              "0  {'C': 0.1}  "
            ]
          },
          "execution_count": 29,
          "metadata": {},
          "output_type": "execute_result"
        }
      ],
      "source": [
        "df_cv"
      ]
    },
    {
      "cell_type": "code",
      "execution_count": null,
      "metadata": {
        "id": "7O_dsopGQBe8"
      },
      "outputs": [],
      "source": [
        "\n",
        "df_cv_explode = df_cv.melt(['pipeline','params'], var_name='Date', value_name='Value')"
      ]
    },
    {
      "cell_type": "code",
      "execution_count": null,
      "metadata": {
        "colab": {
          "base_uri": "https://localhost:8080/",
          "height": 145
        },
        "id": "hYDsrljBnfGy",
        "outputId": "71f0daae-81ab-4ff7-8884-e13deebe543e"
      },
      "outputs": [
        {
          "data": {
            "text/html": [
              "\n",
              "  <div id=\"df-77997df7-0ce1-447b-8b5f-aa055431514e\">\n",
              "    <div class=\"colab-df-container\">\n",
              "      <div>\n",
              "<style scoped>\n",
              "    .dataframe tbody tr th:only-of-type {\n",
              "        vertical-align: middle;\n",
              "    }\n",
              "\n",
              "    .dataframe tbody tr th {\n",
              "        vertical-align: top;\n",
              "    }\n",
              "\n",
              "    .dataframe thead th {\n",
              "        text-align: right;\n",
              "    }\n",
              "</style>\n",
              "<table border=\"1\" class=\"dataframe\">\n",
              "  <thead>\n",
              "    <tr style=\"text-align: right;\">\n",
              "      <th></th>\n",
              "      <th>split0_test_score</th>\n",
              "      <th>split1_test_score</th>\n",
              "      <th>split2_test_score</th>\n",
              "      <th>split3_test_score</th>\n",
              "      <th>split4_test_score</th>\n",
              "      <th>split5_test_score</th>\n",
              "      <th>split6_test_score</th>\n",
              "      <th>split7_test_score</th>\n",
              "      <th>split8_test_score</th>\n",
              "      <th>split9_test_score</th>\n",
              "    </tr>\n",
              "  </thead>\n",
              "  <tbody>\n",
              "    <tr>\n",
              "      <th>0</th>\n",
              "      <td>0.746498</td>\n",
              "      <td>0.729844</td>\n",
              "      <td>0.742484</td>\n",
              "      <td>0.750318</td>\n",
              "      <td>0.736504</td>\n",
              "      <td>0.753034</td>\n",
              "      <td>0.758034</td>\n",
              "      <td>0.735843</td>\n",
              "      <td>0.748102</td>\n",
              "      <td>0.735337</td>\n",
              "    </tr>\n",
              "  </tbody>\n",
              "</table>\n",
              "</div>\n",
              "      <button class=\"colab-df-convert\" onclick=\"convertToInteractive('df-77997df7-0ce1-447b-8b5f-aa055431514e')\"\n",
              "              title=\"Convert this dataframe to an interactive table.\"\n",
              "              style=\"display:none;\">\n",
              "        \n",
              "  <svg xmlns=\"http://www.w3.org/2000/svg\" height=\"24px\"viewBox=\"0 0 24 24\"\n",
              "       width=\"24px\">\n",
              "    <path d=\"M0 0h24v24H0V0z\" fill=\"none\"/>\n",
              "    <path d=\"M18.56 5.44l.94 2.06.94-2.06 2.06-.94-2.06-.94-.94-2.06-.94 2.06-2.06.94zm-11 1L8.5 8.5l.94-2.06 2.06-.94-2.06-.94L8.5 2.5l-.94 2.06-2.06.94zm10 10l.94 2.06.94-2.06 2.06-.94-2.06-.94-.94-2.06-.94 2.06-2.06.94z\"/><path d=\"M17.41 7.96l-1.37-1.37c-.4-.4-.92-.59-1.43-.59-.52 0-1.04.2-1.43.59L10.3 9.45l-7.72 7.72c-.78.78-.78 2.05 0 2.83L4 21.41c.39.39.9.59 1.41.59.51 0 1.02-.2 1.41-.59l7.78-7.78 2.81-2.81c.8-.78.8-2.07 0-2.86zM5.41 20L4 18.59l7.72-7.72 1.47 1.35L5.41 20z\"/>\n",
              "  </svg>\n",
              "      </button>\n",
              "      \n",
              "  <style>\n",
              "    .colab-df-container {\n",
              "      display:flex;\n",
              "      flex-wrap:wrap;\n",
              "      gap: 12px;\n",
              "    }\n",
              "\n",
              "    .colab-df-convert {\n",
              "      background-color: #E8F0FE;\n",
              "      border: none;\n",
              "      border-radius: 50%;\n",
              "      cursor: pointer;\n",
              "      display: none;\n",
              "      fill: #1967D2;\n",
              "      height: 32px;\n",
              "      padding: 0 0 0 0;\n",
              "      width: 32px;\n",
              "    }\n",
              "\n",
              "    .colab-df-convert:hover {\n",
              "      background-color: #E2EBFA;\n",
              "      box-shadow: 0px 1px 2px rgba(60, 64, 67, 0.3), 0px 1px 3px 1px rgba(60, 64, 67, 0.15);\n",
              "      fill: #174EA6;\n",
              "    }\n",
              "\n",
              "    [theme=dark] .colab-df-convert {\n",
              "      background-color: #3B4455;\n",
              "      fill: #D2E3FC;\n",
              "    }\n",
              "\n",
              "    [theme=dark] .colab-df-convert:hover {\n",
              "      background-color: #434B5C;\n",
              "      box-shadow: 0px 1px 3px 1px rgba(0, 0, 0, 0.15);\n",
              "      filter: drop-shadow(0px 1px 2px rgba(0, 0, 0, 0.3));\n",
              "      fill: #FFFFFF;\n",
              "    }\n",
              "  </style>\n",
              "\n",
              "      <script>\n",
              "        const buttonEl =\n",
              "          document.querySelector('#df-77997df7-0ce1-447b-8b5f-aa055431514e button.colab-df-convert');\n",
              "        buttonEl.style.display =\n",
              "          google.colab.kernel.accessAllowed ? 'block' : 'none';\n",
              "\n",
              "        async function convertToInteractive(key) {\n",
              "          const element = document.querySelector('#df-77997df7-0ce1-447b-8b5f-aa055431514e');\n",
              "          const dataTable =\n",
              "            await google.colab.kernel.invokeFunction('convertToInteractive',\n",
              "                                                     [key], {});\n",
              "          if (!dataTable) return;\n",
              "\n",
              "          const docLinkHtml = 'Like what you see? Visit the ' +\n",
              "            '<a target=\"_blank\" href=https://colab.research.google.com/notebooks/data_table.ipynb>data table notebook</a>'\n",
              "            + ' to learn more about interactive tables.';\n",
              "          element.innerHTML = '';\n",
              "          dataTable['output_type'] = 'display_data';\n",
              "          await google.colab.output.renderOutput(dataTable, element);\n",
              "          const docLink = document.createElement('div');\n",
              "          docLink.innerHTML = docLinkHtml;\n",
              "          element.appendChild(docLink);\n",
              "        }\n",
              "      </script>\n",
              "    </div>\n",
              "  </div>\n",
              "  "
            ],
            "text/plain": [
              "   split0_test_score  split1_test_score  split2_test_score  split3_test_score  \\\n",
              "0           0.746498           0.729844           0.742484           0.750318   \n",
              "\n",
              "   split4_test_score  split5_test_score  split6_test_score  split7_test_score  \\\n",
              "0           0.736504           0.753034           0.758034           0.735843   \n",
              "\n",
              "   split8_test_score  split9_test_score  \n",
              "0           0.748102           0.735337  "
            ]
          },
          "execution_count": 23,
          "metadata": {},
          "output_type": "execute_result"
        }
      ],
      "source": [
        "df_cv.filter(regex=(\"split*\"))"
      ]
    },
    {
      "cell_type": "code",
      "execution_count": null,
      "metadata": {
        "id": "DsJGZi0vnhTP"
      },
      "outputs": [],
      "source": []
    }
  ],
  "metadata": {
    "colab": {
      "collapsed_sections": [
        "_nX89b1lVnwR"
      ],
      "provenance": []
    },
    "gpuClass": "standard",
    "interpreter": {
      "hash": "31f2aee4e71d21fbe5cf8b01ff0e069b9275f58929596ceb00d14d90e3e16cd6"
    },
    "kernelspec": {
      "display_name": "Python 3.8.10 64-bit",
      "name": "python3"
    },
    "language_info": {
      "codemirror_mode": {
        "name": "ipython",
        "version": 3
      },
      "file_extension": ".py",
      "mimetype": "text/x-python",
      "name": "python",
      "nbconvert_exporter": "python",
      "pygments_lexer": "ipython3",
      "version": "3.8.10"
    },
    "vscode": {
      "interpreter": {
        "hash": "767d51c1340bd893661ea55ea3124f6de3c7a262a8b4abca0554b478b1e2ff90"
      }
    }
  },
  "nbformat": 4,
  "nbformat_minor": 0
}
