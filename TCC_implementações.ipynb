{
  "cells": [
    {
      "cell_type": "code",
      "execution_count": 1,
      "metadata": {
        "colab": {
          "base_uri": "https://localhost:8080/"
        },
        "id": "9Huu9wBk8R9X",
        "outputId": "f443c6af-1ccf-4577-b7ff-51ff9a79f9f4"
      },
      "outputs": [],
      "source": [
        "#from google.colab import drive\n",
        "#drive.mount('/content/drive')\n",
        "import pandas as pd\n",
        "import numpy as np\n",
        "from IPython.display import clear_output\n",
        "from tqdm import tqdm\n",
        "from time import time\n",
        "import json\n",
        "from sklearn.utils.fixes import *\n",
        "random_state = 20"
      ]
    },
    {
      "cell_type": "code",
      "execution_count": 2,
      "metadata": {
        "id": "-bvZKm2wJCfP"
      },
      "outputs": [],
      "source": [
        "class color:\n",
        "   PURPLE = '\\033[95m'\n",
        "   CYAN = '\\033[96m'\n",
        "   DARKCYAN = '\\033[36m'\n",
        "   BLUE = '\\033[94m'\n",
        "   GREEN = '\\033[92m'\n",
        "   YELLOW = '\\033[93m'\n",
        "   RED = '\\033[91m'\n",
        "   BOLD = '\\033[1m'\n",
        "   UNDERLINE = '\\033[4m'\n",
        "   END = '\\033[0m'"
      ]
    },
    {
      "cell_type": "code",
      "execution_count": 3,
      "metadata": {
        "id": "wDjM34qSy5TX"
      },
      "outputs": [],
      "source": [
        "# Utility function to report best scores\n",
        "def report(results, pipeline, n_top=3):\n",
        "    for i in range(1, n_top + 1):\n",
        "        candidates = np.flatnonzero(results[\"rank_test_score\"] == i)\n",
        "        if i == 1:\n",
        "          results['pipeline'] = pipeline\n",
        "          df_results = pd.DataFrame(results)\n",
        "          df = df_results[df_results['rank_test_score'] == 1].filter(regex=(\"split*\"))\n",
        "          df['pipeline'] = df_results['pipeline']\n",
        "          df['params'] = df_results['params']\n",
        "          with open(f'Arquivos TCC/perfomance_cv.csv', 'a') as f:\n",
        "            df.to_csv(f, mode='a', header=f.tell()==0, index=False)\n",
        "        for candidate in candidates:\n",
        "            print(color.BOLD + \"Model with rank: {0}\".format(i)+ color.END)\n",
        "            print(color.BOLD + \n",
        "                \"Mean validation score: {0:.4f} (std: {1:.4f})\".format(\n",
        "                    results[\"mean_test_score\"][candidate],\n",
        "                    results[\"std_test_score\"][candidate],\n",
        "                )+ color.END\n",
        "            )\n",
        "            print(color.BOLD + \"Parameters: {0}\".format(results[\"params\"][candidate])+ color.END)\n",
        "            print(\"\")"
      ]
    },
    {
      "cell_type": "markdown",
      "metadata": {
        "id": "GUF_mdLfdh15"
      },
      "source": [
        "# Pipeline 1: 20NG + all-MiniLM-L6-v2\n"
      ]
    },
    {
      "cell_type": "code",
      "execution_count": 4,
      "metadata": {
        "id": "eTX57jEPdd8A"
      },
      "outputs": [],
      "source": [
        "#LOADING DATA\n",
        "import pandas as pd\n",
        "import numpy as np\n",
        "import pickle\n",
        "from IPython.display import clear_output\n",
        "from sklearn import preprocessing\n",
        "clear_output()\n",
        "#datasets = ['TC02_20news', 'TC14_wos']\n",
        "#models_names = [\"all-MiniLM-L6-v2\",\"all-MiniLM-L12-v2\"]\n",
        "dataset = 'TC02_20news'\n",
        "model_name = \"all-MiniLM-L6-v2\"\n",
        "embeddings_path = f'Arquivos TCC/embeddings/sbert/{model_name}_{dataset}.pkl'\n",
        "with open(embeddings_path, \"rb\") as fIn:\n",
        "  stored_data = pickle.load(fIn)\n",
        "embeddings = stored_data['embeddings']\n",
        "labels = stored_data['labels']\n",
        "labels_enc = preprocessing.LabelEncoder().fit_transform(labels)\n",
        "unique, counts = np.unique(stored_data['labels'], return_counts=True)\n",
        "#Split hold-out test data\n",
        "from sklearn.model_selection import train_test_split\n",
        "X_train, X_test, y_train, y_test = train_test_split(embeddings, labels_enc, test_size=0.10, random_state=random_state,stratify=labels_enc)\n",
        "unique, counts = np.unique(y_test, return_counts=True)\n",
        "#dict(zip(unique, counts))\n",
        "#K-fold cross validation strategy and import dependencies\n",
        "from sklearn.neighbors import KNeighborsClassifier\n",
        "from sklearn.linear_model import LogisticRegression\n",
        "from sklearn.model_selection import RandomizedSearchCV\n",
        "from sklearn.model_selection import StratifiedKFold\n",
        "from sklearn.metrics import balanced_accuracy_score\n",
        "cv = StratifiedKFold(n_splits=10, shuffle=True, random_state=random_state)"
      ]
    },
    {
      "cell_type": "markdown",
      "metadata": {
        "id": "Y2Mxj4yy9O_s"
      },
      "source": [
        "**KNN**"
      ]
    },
    {
      "cell_type": "code",
      "execution_count": 10,
      "metadata": {
        "colab": {
          "base_uri": "https://localhost:8080/"
        },
        "id": "YOVwYFp4iLxv",
        "outputId": "c08cf48d-f6ee-417e-a0aa-91e3425e53e4"
      },
      "outputs": [
        {
          "name": "stdout",
          "output_type": "stream",
          "text": [
            "RandomizedSearchCV took 426.27 seconds for 10 candidates parameter settings.\n",
            "\u001b[1mModel with rank: 1\u001b[0m\n",
            "\u001b[1mMean validation score: 0.8242 (std: 0.0069)\u001b[0m\n",
            "\u001b[1mParameters: {'weights': 'distance', 'p': 1, 'n_neighbors': 3}\u001b[0m\n",
            "\n",
            "\u001b[1mModel with rank: 2\u001b[0m\n",
            "\u001b[1mMean validation score: 0.8123 (std: 0.0059)\u001b[0m\n",
            "\u001b[1mParameters: {'weights': 'uniform', 'p': 1, 'n_neighbors': 5}\u001b[0m\n",
            "\n",
            "\u001b[1mModel with rank: 3\u001b[0m\n",
            "\u001b[1mMean validation score: 0.8062 (std: 0.0071)\u001b[0m\n",
            "\u001b[1mParameters: {'weights': 'uniform', 'p': 2, 'n_neighbors': 11}\u001b[0m\n",
            "\n"
          ]
        }
      ],
      "source": [
        "#KNN\n",
        "clf_KNN = KNeighborsClassifier(algorithm= \"ball_tree\")\n",
        "param_dist_KNN = {\n",
        "    \"n_neighbors\": [3,5,11,21,51,101,151,201],\n",
        "    \"p\": [1,2],\n",
        "    \"weights\" :[\"uniform\",\"distance\"]\n",
        "}\n",
        "n_it = 10\n",
        "random_search_KNN = RandomizedSearchCV(\n",
        "    clf_KNN, param_distributions=param_dist_KNN, n_iter=n_it, cv = cv, random_state = random_state, verbose = 2, scoring='balanced_accuracy', n_jobs=-1\n",
        ")\n",
        "start = time()\n",
        "random_search_KNN.fit(X_train, y_train)\n",
        "clear_output()\n",
        "print(\n",
        "    \"RandomizedSearchCV took %.2f seconds for %d candidates parameter settings.\"\n",
        "    % ((time() - start), n_it)\n",
        ")\n",
        "report(random_search_KNN.cv_results_ , f'{dataset}+{model_name}+KNN')\n",
        "\n"
      ]
    },
    {
      "cell_type": "code",
      "execution_count": 11,
      "metadata": {
        "id": "x4pVFA0Vd9V8"
      },
      "outputs": [
        {
          "name": "stdout",
          "output_type": "stream",
          "text": [
            "\u001b[1mA acurácia balanceada nos dados de teste: 0.8279\u001b[0m\n"
          ]
        }
      ],
      "source": [
        "from sklearn.metrics import balanced_accuracy_score\n",
        "balanced_acc = balanced_accuracy_score(y_test,random_search_KNN.best_estimator_.predict(X_test))\n",
        "print(color.BOLD+\"A acurácia balanceada nos dados de teste: {0:.4f}\".format(balanced_acc)+color.END)"
      ]
    },
    {
      "cell_type": "markdown",
      "metadata": {
        "id": "IkC99S769Fpj"
      },
      "source": [
        "**Logistic Regression**"
      ]
    },
    {
      "cell_type": "code",
      "execution_count": 5,
      "metadata": {
        "id": "70jMDrF855tx"
      },
      "outputs": [
        {
          "name": "stdout",
          "output_type": "stream",
          "text": [
            "RandomizedSearchCV took 556.33 seconds for 6 candidates parameter settings.\n",
            "\u001b[1mModel with rank: 1\u001b[0m\n",
            "\u001b[1mMean validation score: 0.7744 (std: 0.0063)\u001b[0m\n",
            "\u001b[1mParameters: {'penalty': 'l2', 'C': 10}\u001b[0m\n",
            "\n",
            "\u001b[1mModel with rank: 2\u001b[0m\n",
            "\u001b[1mMean validation score: 0.7725 (std: 0.0055)\u001b[0m\n",
            "\u001b[1mParameters: {'penalty': 'l2', 'C': 1}\u001b[0m\n",
            "\n",
            "\u001b[1mModel with rank: 3\u001b[0m\n",
            "\u001b[1mMean validation score: 0.7454 (std: 0.0058)\u001b[0m\n",
            "\u001b[1mParameters: {'penalty': 'l2', 'C': 0.1}\u001b[0m\n",
            "\n"
          ]
        }
      ],
      "source": [
        "#Logistic Regression\n",
        "\n",
        "clf_LR = LogisticRegression(random_state=random_state,multi_class='multinomial', solver='sag', tol= 1e-4,max_iter=300)\n",
        "param_dist_LR = {\n",
        "    \"C\": [1e-1,1,10],\n",
        "    \"penalty\": [\"l2\", \"none\"]\n",
        "}\n",
        "n_it = 6\n",
        "random_search_LR = RandomizedSearchCV(\n",
        "    clf_LR, param_distributions=param_dist_LR, n_iter=n_it, cv = cv, random_state = random_state, verbose = 2, scoring='balanced_accuracy', n_jobs=-1\n",
        ")\n",
        "start = time()\n",
        "random_search_LR.fit(X_train, y_train)\n",
        "clear_output()\n",
        "print(\n",
        "    \"RandomizedSearchCV took %.2f seconds for %d candidates parameter settings.\"\n",
        "    % ((time() - start), n_it)\n",
        ")\n",
        "report(random_search_LR.cv_results_, f'{dataset}+{model_name}+LR')\n"
      ]
    },
    {
      "cell_type": "code",
      "execution_count": 6,
      "metadata": {
        "colab": {
          "base_uri": "https://localhost:8080/"
        },
        "id": "KMMe_qsFenMc",
        "outputId": "21cdd963-9bb0-494a-f147-f81b51622321"
      },
      "outputs": [
        {
          "name": "stdout",
          "output_type": "stream",
          "text": [
            "\u001b[1mA acurácia balanceada nos dados de teste: 0.7774\u001b[0m\n"
          ]
        }
      ],
      "source": [
        "balanced_acc= balanced_accuracy_score(y_test,random_search_LR.best_estimator_.predict(X_test))\n",
        "print(color.BOLD+\"A acurácia balanceada nos dados de teste: {0:.4f}\".format(balanced_acc)+color.END)"
      ]
    },
    {
      "cell_type": "markdown",
      "metadata": {
        "id": "i97R30je9TMk"
      },
      "source": [
        "**SVC**"
      ]
    },
    {
      "cell_type": "code",
      "execution_count": 7,
      "metadata": {
        "colab": {
          "base_uri": "https://localhost:8080/"
        },
        "id": "oq24eG_rZhyx",
        "outputId": "c610e5ef-a19c-4414-9354-b945e8c43274"
      },
      "outputs": [
        {
          "name": "stdout",
          "output_type": "stream",
          "text": [
            "RandomizedSearchCV took 84.51 seconds for 6 candidates parameter settings.\n",
            "\u001b[1mModel with rank: 1\u001b[0m\n",
            "\u001b[1mMean validation score: 0.7757 (std: 0.0091)\u001b[0m\n",
            "\u001b[1mParameters: {'penalty': 'l2', 'C': 1}\u001b[0m\n",
            "\n",
            "\u001b[1mModel with rank: 2\u001b[0m\n",
            "\u001b[1mMean validation score: 0.7721 (std: 0.0080)\u001b[0m\n",
            "\u001b[1mParameters: {'penalty': 'l2', 'C': 10}\u001b[0m\n",
            "\n",
            "\u001b[1mModel with rank: 3\u001b[0m\n",
            "\u001b[1mMean validation score: 0.7697 (std: 0.0070)\u001b[0m\n",
            "\u001b[1mParameters: {'penalty': 'l2', 'C': 0.1}\u001b[0m\n",
            "\n"
          ]
        }
      ],
      "source": [
        "from sklearn.svm import LinearSVC\n",
        "clf_SVC = LinearSVC(random_state=random_state, tol=1e-4)\n",
        "param_dist_SVC = {\n",
        "    'C': [1e-1,1,10],\n",
        "    \"penalty\": [\"l2\", \"none\"]\n",
        "    }\n",
        "n_it = 6\n",
        "random_search_SVC = RandomizedSearchCV(\n",
        "    clf_SVC, param_distributions=param_dist_SVC, n_iter=n_it, cv = cv, random_state = random_state, verbose = 2, scoring='balanced_accuracy', n_jobs=-1\n",
        ")\n",
        "start = time()\n",
        "random_search_SVC.fit(X_train, y_train)\n",
        "clear_output()\n",
        "print(\n",
        "    \"RandomizedSearchCV took %.2f seconds for %d candidates parameter settings.\"\n",
        "    % ((time() - start), n_it)\n",
        ")\n",
        "report(random_search_SVC.cv_results_, f'{dataset}+{model_name}+SVC')"
      ]
    },
    {
      "cell_type": "code",
      "execution_count": 8,
      "metadata": {
        "colab": {
          "base_uri": "https://localhost:8080/"
        },
        "id": "yDtbXMLwZho7",
        "outputId": "a3f73735-3412-4d6c-c9d3-cadd868fc70a"
      },
      "outputs": [
        {
          "name": "stdout",
          "output_type": "stream",
          "text": [
            "\u001b[1mA acurácia balanceada nos dados de teste: 0.7879\u001b[0m\n"
          ]
        }
      ],
      "source": [
        "from sklearn.metrics import balanced_accuracy_score\n",
        "balanced_acc = balanced_accuracy_score(y_test,random_search_SVC.best_estimator_.predict(X_test))\n",
        "print(color.BOLD+\"A acurácia balanceada nos dados de teste: {0:.4f}\".format(balanced_acc)+color.END)"
      ]
    },
    {
      "cell_type": "code",
      "execution_count": 16,
      "metadata": {},
      "outputs": [
        {
          "name": "stdout",
          "output_type": "stream",
          "text": [
            "RandomizedSearchCV took 153.72 seconds for 10 candidates parameter settings.\n",
            "\u001b[1mModel with rank: 1\u001b[0m\n",
            "\u001b[1mMean validation score: 0.7680 (std: 0.0081)\u001b[0m\n",
            "\u001b[1mParameters: {'n_estimators': 200}\u001b[0m\n",
            "\n",
            "\u001b[1mModel with rank: 2\u001b[0m\n",
            "\u001b[1mMean validation score: 0.7498 (std: 0.0055)\u001b[0m\n",
            "\u001b[1mParameters: {'n_estimators': 100}\u001b[0m\n",
            "\n",
            "\u001b[1mModel with rank: 3\u001b[0m\n",
            "\u001b[1mMean validation score: 0.7202 (std: 0.0089)\u001b[0m\n",
            "\u001b[1mParameters: {'n_estimators': 50}\u001b[0m\n",
            "\n",
            "\u001b[1mA acurácia balanceada nos dados de teste: 0.7699\u001b[0m\n"
          ]
        }
      ],
      "source": [
        "from sklearn.ensemble import RandomForestClassifier\n",
        "clf_RF = RandomForestClassifier(random_state=random_state)\n",
        "param_dist_RF = {\n",
        "    'n_estimators': [10,50,100,200],\n",
        "    }\n",
        "n_it = 10\n",
        "random_search_RF = RandomizedSearchCV(\n",
        "    clf_RF, param_distributions=param_dist_RF, n_iter=n_it, cv = cv, random_state = random_state, verbose = 2, scoring='balanced_accuracy', n_jobs=-1\n",
        ")\n",
        "start = time()\n",
        "random_search_RF.fit(X_train, y_train)\n",
        "clear_output()\n",
        "print(\n",
        "    \"RandomizedSearchCV took %.2f seconds for %d candidates parameter settings.\"\n",
        "    % ((time() - start), n_it)\n",
        ")\n",
        "report(random_search_RF.cv_results_, f'{dataset}+{model_name}+RF')\n",
        "from sklearn.metrics import balanced_accuracy_score\n",
        "balanced_acc = balanced_accuracy_score(y_test,random_search_RF.best_estimator_.predict(X_test))\n",
        "print(color.BOLD+\"A acurácia balanceada nos dados de teste: {0:.4f}\".format(balanced_acc)+color.END)"
      ]
    },
    {
      "cell_type": "code",
      "execution_count": 17,
      "metadata": {},
      "outputs": [
        {
          "name": "stdout",
          "output_type": "stream",
          "text": [
            "\u001b[1mModel with rank: 1\u001b[0m\n",
            "\u001b[1mMean validation score: 0.7680 (std: 0.0081)\u001b[0m\n",
            "\u001b[1mParameters: {'n_estimators': 200}\u001b[0m\n",
            "\n",
            "\u001b[1mModel with rank: 2\u001b[0m\n",
            "\u001b[1mMean validation score: 0.7498 (std: 0.0055)\u001b[0m\n",
            "\u001b[1mParameters: {'n_estimators': 100}\u001b[0m\n",
            "\n",
            "\u001b[1mModel with rank: 3\u001b[0m\n",
            "\u001b[1mMean validation score: 0.7202 (std: 0.0089)\u001b[0m\n",
            "\u001b[1mParameters: {'n_estimators': 50}\u001b[0m\n",
            "\n"
          ]
        }
      ],
      "source": [
        "report(random_search_RF.cv_results_, f'{dataset}+{model_name}+RF')"
      ]
    },
    {
      "cell_type": "markdown",
      "metadata": {
        "id": "RVsCld2sZlja"
      },
      "source": [
        "# Pipeline 2: 20NG + all-MiniLM-L12-v2"
      ]
    },
    {
      "cell_type": "code",
      "execution_count": 18,
      "metadata": {
        "colab": {
          "base_uri": "https://localhost:8080/"
        },
        "id": "YHqaV_cfZhlK",
        "outputId": "60383222-36be-44b8-cb1b-6de374ae9dfb"
      },
      "outputs": [
        {
          "name": "stdout",
          "output_type": "stream",
          "text": [
            "[ 0.04915353  0.08488183 -0.01936629  0.00663146 -0.01925441  0.00633633\n",
            "  0.00899213  0.04904805 -0.08862329  0.03560806] \n",
            " 12\n"
          ]
        }
      ],
      "source": [
        "#LOADING DATA\n",
        "import pandas as pd\n",
        "import numpy as np\n",
        "import pickle\n",
        "from IPython.display import clear_output\n",
        "from sklearn import preprocessing\n",
        "clear_output()\n",
        "#datasets = ['TC02_20news', 'TC14_wos']\n",
        "#models_names = [\"all-MiniLM-L6-v2\",\"all-MiniLM-L12-v2\"]\n",
        "dataset = 'TC02_20news'\n",
        "model_name = \"all-MiniLM-L12-v2\"\n",
        "embeddings_path = f'Arquivos TCC/embeddings/sbert/{model_name}_{dataset}.pkl'\n",
        "with open(embeddings_path, \"rb\") as fIn:\n",
        "  stored_data = pickle.load(fIn)\n",
        "embeddings = stored_data['embeddings']\n",
        "labels = stored_data['labels']\n",
        "labels_enc = preprocessing.LabelEncoder().fit_transform(labels)\n",
        "#Split hold-out test data\n",
        "from sklearn.model_selection import train_test_split\n",
        "X_train, X_test, y_train, y_test = train_test_split(embeddings, labels_enc, test_size=0.10, random_state=random_state,stratify=labels_enc)\n",
        "unique, counts = np.unique(y_test, return_counts=True)\n",
        "#K-fold cross validation strategy and import dependencies\n",
        "from sklearn.neighbors import KNeighborsClassifier\n",
        "from sklearn.linear_model import LogisticRegression\n",
        "from sklearn.model_selection import RandomizedSearchCV\n",
        "from sklearn.model_selection import StratifiedKFold\n",
        "from sklearn.metrics import balanced_accuracy_score\n",
        "cv = StratifiedKFold(n_splits=10, shuffle=True, random_state=random_state)\n",
        "print(X_train[10][:10],'\\n', y_test[50])"
      ]
    },
    {
      "cell_type": "markdown",
      "metadata": {
        "id": "01oC08gq9hO0"
      },
      "source": [
        "**KNN**"
      ]
    },
    {
      "cell_type": "code",
      "execution_count": 19,
      "metadata": {
        "colab": {
          "base_uri": "https://localhost:8080/"
        },
        "id": "UWmOc24SZ9py",
        "outputId": "22108118-e50a-4c13-b001-348d9971f395"
      },
      "outputs": [
        {
          "name": "stdout",
          "output_type": "stream",
          "text": [
            "RandomizedSearchCV took 432.54 seconds for 10 candidates parameter settings.\n",
            "\u001b[1mModel with rank: 1\u001b[0m\n",
            "\u001b[1mMean validation score: 0.8173 (std: 0.0049)\u001b[0m\n",
            "\u001b[1mParameters: {'weights': 'distance', 'p': 1, 'n_neighbors': 3}\u001b[0m\n",
            "\n",
            "\u001b[1mModel with rank: 2\u001b[0m\n",
            "\u001b[1mMean validation score: 0.7987 (std: 0.0037)\u001b[0m\n",
            "\u001b[1mParameters: {'weights': 'uniform', 'p': 1, 'n_neighbors': 5}\u001b[0m\n",
            "\n",
            "\u001b[1mModel with rank: 3\u001b[0m\n",
            "\u001b[1mMean validation score: 0.7938 (std: 0.0050)\u001b[0m\n",
            "\u001b[1mParameters: {'weights': 'uniform', 'p': 2, 'n_neighbors': 11}\u001b[0m\n",
            "\n"
          ]
        }
      ],
      "source": [
        "#KNN\n",
        "clf_KNN = KNeighborsClassifier(algorithm= \"ball_tree\")\n",
        "param_dist_KNN = {\n",
        "    \"n_neighbors\": [3,5,11,21,51,101,151,201],\n",
        "    \"p\": [1,2],\n",
        "    \"weights\" :[\"uniform\",\"distance\"]\n",
        "}\n",
        "n_it = 10\n",
        "random_search_KNN = RandomizedSearchCV(\n",
        "    clf_KNN, param_distributions=param_dist_KNN, n_iter=n_it, cv = cv, random_state = random_state, verbose = 2, scoring='balanced_accuracy', n_jobs=-1\n",
        ")\n",
        "start = time()\n",
        "random_search_KNN.fit(X_train, y_train)\n",
        "clear_output()\n",
        "print(\n",
        "    \"RandomizedSearchCV took %.2f seconds for %d candidates parameter settings.\"\n",
        "    % ((time() - start), n_it)\n",
        ")\n",
        "report(random_search_KNN.cv_results_, f'{dataset}+{model_name}+KNN')"
      ]
    },
    {
      "cell_type": "code",
      "execution_count": 20,
      "metadata": {
        "colab": {
          "base_uri": "https://localhost:8080/"
        },
        "id": "rf-_bLLRZ9mq",
        "outputId": "bd5f28cf-ac8e-4bd1-f907-75f46629e451"
      },
      "outputs": [
        {
          "name": "stdout",
          "output_type": "stream",
          "text": [
            "\u001b[1mA acurácia balanceada nos dados de teste: 0.8179\u001b[0m\n"
          ]
        }
      ],
      "source": [
        "from sklearn.metrics import balanced_accuracy_score\n",
        "balanced_acc = balanced_accuracy_score(y_test,random_search_KNN.best_estimator_.predict(X_test))\n",
        "print(color.BOLD+\"A acurácia balanceada nos dados de teste: {0:.4f}\".format(balanced_acc)+color.END)"
      ]
    },
    {
      "cell_type": "markdown",
      "metadata": {
        "id": "Kaanawyv9j8M"
      },
      "source": [
        "**Logistic Regression**"
      ]
    },
    {
      "cell_type": "code",
      "execution_count": 21,
      "metadata": {
        "colab": {
          "base_uri": "https://localhost:8080/"
        },
        "id": "iLSsusXUZ9jT",
        "outputId": "f35f0a0c-490b-423a-d935-1ed2a842b68d"
      },
      "outputs": [
        {
          "name": "stdout",
          "output_type": "stream",
          "text": [
            "RandomizedSearchCV took 173.86 seconds for 8 candidates parameter settings.\n",
            "\u001b[1mModel with rank: 1\u001b[0m\n",
            "\u001b[1mMean validation score: 0.7732 (std: 0.0093)\u001b[0m\n",
            "\u001b[1mParameters: {'C': 10}\u001b[0m\n",
            "\n",
            "\u001b[1mModel with rank: 2\u001b[0m\n",
            "\u001b[1mMean validation score: 0.7683 (std: 0.0093)\u001b[0m\n",
            "\u001b[1mParameters: {'C': 1}\u001b[0m\n",
            "\n",
            "\u001b[1mModel with rank: 3\u001b[0m\n",
            "\u001b[1mMean validation score: 0.7422 (std: 0.0095)\u001b[0m\n",
            "\u001b[1mParameters: {'C': 0.1}\u001b[0m\n",
            "\n"
          ]
        }
      ],
      "source": [
        "#Logistic Regression\n",
        "\n",
        "clf_LR = LogisticRegression(random_state=random_state,multi_class='multinomial', solver='sag', tol= 1e-4,max_iter=300)\n",
        "param_dist_LR = {\n",
        "    \"C\": [1e-1,1,10],\n",
        "    \"penalty\": [\"l2\", \"none\"]\n",
        "}\n",
        "n_it = 6\n",
        "random_search_LR = RandomizedSearchCV(\n",
        "    clf_LR, param_distributions=param_dist_LR, n_iter=n_it, cv = cv, random_state = random_state, verbose = 2, scoring='balanced_accuracy', n_jobs=-1\n",
        ")\n",
        "start = time()\n",
        "random_search_LR.fit(X_train, y_train)\n",
        "clear_output()\n",
        "print(\n",
        "    \"RandomizedSearchCV took %.2f seconds for %d candidates parameter settings.\"\n",
        "    % ((time() - start), n_it)\n",
        ")\n",
        "report(random_search_LR.cv_results_, f'{dataset}+{model_name}+LR')"
      ]
    },
    {
      "cell_type": "code",
      "execution_count": 22,
      "metadata": {
        "colab": {
          "base_uri": "https://localhost:8080/"
        },
        "id": "M-6Ga-e4aOkf",
        "outputId": "4b76433c-86a6-474c-cf31-ff48d416c13f"
      },
      "outputs": [
        {
          "name": "stdout",
          "output_type": "stream",
          "text": [
            "\u001b[1mA acurácia balanceada nos dados de teste: 0.7779\u001b[0m\n"
          ]
        }
      ],
      "source": [
        "balanced_acc= balanced_accuracy_score(y_test,random_search_LR.best_estimator_.predict(X_test))\n",
        "print(color.BOLD+\"A acurácia balanceada nos dados de teste: {0:.4f}\".format(balanced_acc)+color.END)"
      ]
    },
    {
      "cell_type": "markdown",
      "metadata": {
        "id": "GnjLz-gK9s81"
      },
      "source": [
        "**SVC**"
      ]
    },
    {
      "cell_type": "code",
      "execution_count": 23,
      "metadata": {
        "colab": {
          "base_uri": "https://localhost:8080/"
        },
        "id": "fruJbXdPaOex",
        "outputId": "4ac2c60f-6eb0-4da9-ed74-6d8153c9b99f"
      },
      "outputs": [
        {
          "name": "stdout",
          "output_type": "stream",
          "text": [
            "RandomizedSearchCV took 82.35 seconds for 6 candidates parameter settings.\n",
            "\u001b[1mModel with rank: 1\u001b[0m\n",
            "\u001b[1mMean validation score: 0.7756 (std: 0.0085)\u001b[0m\n",
            "\u001b[1mParameters: {'C': 1}\u001b[0m\n",
            "\n",
            "\u001b[1mModel with rank: 2\u001b[0m\n",
            "\u001b[1mMean validation score: 0.7675 (std: 0.0090)\u001b[0m\n",
            "\u001b[1mParameters: {'C': 0.1}\u001b[0m\n",
            "\n",
            "\u001b[1mModel with rank: 3\u001b[0m\n",
            "\u001b[1mMean validation score: 0.7669 (std: 0.0077)\u001b[0m\n",
            "\u001b[1mParameters: {'C': 10}\u001b[0m\n",
            "\n"
          ]
        }
      ],
      "source": [
        "from sklearn.svm import LinearSVC\n",
        "clf_SVC = LinearSVC(random_state=random_state, tol=1e-4)\n",
        "param_dist_SVC = {\n",
        "    'C': [1e-1,1,10],\n",
        "    \"penalty\": [\"l2\", \"none\"]\n",
        "    }\n",
        "n_it = 6\n",
        "random_search_SVC = RandomizedSearchCV(\n",
        "    clf_SVC, param_distributions=param_dist_SVC, n_iter=n_it, cv = cv, random_state = random_state, verbose = 2, scoring='balanced_accuracy', n_jobs=-1\n",
        ")\n",
        "start = time()\n",
        "random_search_SVC.fit(X_train, y_train)\n",
        "clear_output()\n",
        "print(\n",
        "    \"RandomizedSearchCV took %.2f seconds for %d candidates parameter settings.\"\n",
        "    % ((time() - start), n_it)\n",
        ")\n",
        "report(random_search_SVC.cv_results_, f'{dataset}+{model_name}+SVC')"
      ]
    },
    {
      "cell_type": "code",
      "execution_count": 24,
      "metadata": {
        "colab": {
          "base_uri": "https://localhost:8080/"
        },
        "id": "f6IY3yWRaOYy",
        "outputId": "27293a58-a46c-401d-ec78-30903d5b212a"
      },
      "outputs": [
        {
          "name": "stdout",
          "output_type": "stream",
          "text": [
            "\u001b[1mA acurácia balanceada nos dados de teste: 0.7779\u001b[0m\n"
          ]
        }
      ],
      "source": [
        "from sklearn.metrics import balanced_accuracy_score\n",
        "balanced_acc = balanced_accuracy_score(y_test,random_search_SVC.best_estimator_.predict(X_test))\n",
        "print(color.BOLD+\"A acurácia balanceada nos dados de teste: {0:.4f}\".format(balanced_acc)+color.END)"
      ]
    },
    {
      "cell_type": "code",
      "execution_count": 25,
      "metadata": {},
      "outputs": [
        {
          "name": "stdout",
          "output_type": "stream",
          "text": [
            "RandomizedSearchCV took 149.72 seconds for 10 candidates parameter settings.\n",
            "\u001b[1mModel with rank: 1\u001b[0m\n",
            "\u001b[1mMean validation score: 0.7716 (std: 0.0080)\u001b[0m\n",
            "\u001b[1mParameters: {'n_estimators': 200}\u001b[0m\n",
            "\n",
            "\u001b[1mModel with rank: 2\u001b[0m\n",
            "\u001b[1mMean validation score: 0.7498 (std: 0.0087)\u001b[0m\n",
            "\u001b[1mParameters: {'n_estimators': 100}\u001b[0m\n",
            "\n",
            "\u001b[1mModel with rank: 3\u001b[0m\n",
            "\u001b[1mMean validation score: 0.7153 (std: 0.0136)\u001b[0m\n",
            "\u001b[1mParameters: {'n_estimators': 50}\u001b[0m\n",
            "\n",
            "\u001b[1mA acurácia balanceada nos dados de teste: 0.7829\u001b[0m\n"
          ]
        }
      ],
      "source": [
        "from sklearn.ensemble import RandomForestClassifier\n",
        "clf_RF = RandomForestClassifier(random_state=random_state)\n",
        "param_dist_RF = {\n",
        "    'n_estimators': [10,50,100,200],\n",
        "    }\n",
        "n_it = 10\n",
        "random_search_RF = RandomizedSearchCV(\n",
        "    clf_RF, param_distributions=param_dist_RF, n_iter=n_it, cv = cv, random_state = random_state, verbose = 2, scoring='balanced_accuracy', n_jobs=-1\n",
        ")\n",
        "start = time()\n",
        "random_search_RF.fit(X_train, y_train)\n",
        "clear_output()\n",
        "print(\n",
        "    \"RandomizedSearchCV took %.2f seconds for %d candidates parameter settings.\"\n",
        "    % ((time() - start), n_it)\n",
        ")\n",
        "report(random_search_RF.cv_results_, f'{dataset}+{model_name}+RF')\n",
        "from sklearn.metrics import balanced_accuracy_score\n",
        "balanced_acc = balanced_accuracy_score(y_test,random_search_RF.best_estimator_.predict(X_test))\n",
        "print(color.BOLD+\"A acurácia balanceada nos dados de teste: {0:.4f}\".format(balanced_acc)+color.END)"
      ]
    },
    {
      "cell_type": "markdown",
      "metadata": {
        "id": "DNpd80paKM6H"
      },
      "source": [
        "# Pipeline 3: WOS + all-MiniLM-L6-v2"
      ]
    },
    {
      "cell_type": "code",
      "execution_count": 26,
      "metadata": {
        "colab": {
          "base_uri": "https://localhost:8080/"
        },
        "id": "MaAbS-2qKFUc",
        "outputId": "eebb6b6b-c586-4b7e-87f2-e25e1f1d8bab"
      },
      "outputs": [
        {
          "name": "stdout",
          "output_type": "stream",
          "text": [
            "[-0.04389033 -0.09177981 -0.02245235 -0.05314789 -0.02382849 -0.08375161\n",
            " -0.01472456 -0.00565096  0.02871884  0.02558138] 30\n"
          ]
        }
      ],
      "source": [
        "#LOADING DATA\n",
        "import pandas as pd\n",
        "import numpy as np\n",
        "import pickle\n",
        "from IPython.display import clear_output\n",
        "from sklearn import preprocessing\n",
        "clear_output()\n",
        "#datasets = ['TC02_20news', 'TC14_wos']\n",
        "#models_names = [\"all-MiniLM-L6-v2\",\"all-MiniLM-L12-v2\"]\n",
        "dataset = 'TC14_wos'\n",
        "model_name = \"all-MiniLM-L6-v2\"\n",
        "embeddings_path = f'Arquivos TCC/embeddings/sbert/{model_name}_{dataset}.pkl'\n",
        "with open(embeddings_path, \"rb\") as fIn:\n",
        "  stored_data = pickle.load(fIn)\n",
        "embeddings = stored_data['embeddings']\n",
        "labels = stored_data['labels']\n",
        "labels_enc = preprocessing.LabelEncoder().fit_transform(labels)\n",
        "#Split hold-out test data\n",
        "from sklearn.model_selection import train_test_split\n",
        "X_train, X_test, y_train, y_test = train_test_split(embeddings, labels_enc, test_size=0.10, random_state=random_state,stratify=labels_enc)\n",
        "unique, counts = np.unique(y_test, return_counts=True)\n",
        "#K-fold cross validation strategy and import dependencies\n",
        "from sklearn.neighbors import KNeighborsClassifier\n",
        "from sklearn.linear_model import LogisticRegression\n",
        "from sklearn.model_selection import RandomizedSearchCV\n",
        "from sklearn.model_selection import StratifiedKFold\n",
        "from sklearn.metrics import balanced_accuracy_score\n",
        "cv = StratifiedKFold(n_splits=10, shuffle=True, random_state=random_state)\n",
        "print(X_train[10][:10], y_test[50])"
      ]
    },
    {
      "cell_type": "markdown",
      "metadata": {
        "id": "hxbpq6EI93aj"
      },
      "source": [
        "**KNN**"
      ]
    },
    {
      "cell_type": "code",
      "execution_count": 27,
      "metadata": {
        "colab": {
          "base_uri": "https://localhost:8080/"
        },
        "id": "OA1SEVBLKFRU",
        "outputId": "c27d7cfb-9409-42dd-8b0c-2aa3278f5322"
      },
      "outputs": [
        {
          "name": "stdout",
          "output_type": "stream",
          "text": [
            "RandomizedSearchCV took 159.55 seconds for 10 candidates parameter settings.\n",
            "\u001b[1mModel with rank: 1\u001b[0m\n",
            "\u001b[1mMean validation score: 0.7479 (std: 0.0099)\u001b[0m\n",
            "\u001b[1mParameters: {'weights': 'uniform', 'p': 2, 'n_neighbors': 11}\u001b[0m\n",
            "\n",
            "\u001b[1mModel with rank: 2\u001b[0m\n",
            "\u001b[1mMean validation score: 0.7471 (std: 0.0123)\u001b[0m\n",
            "\u001b[1mParameters: {'weights': 'distance', 'p': 1, 'n_neighbors': 21}\u001b[0m\n",
            "\n",
            "\u001b[1mModel with rank: 3\u001b[0m\n",
            "\u001b[1mMean validation score: 0.7363 (std: 0.0107)\u001b[0m\n",
            "\u001b[1mParameters: {'weights': 'distance', 'p': 2, 'n_neighbors': 51}\u001b[0m\n",
            "\n"
          ]
        }
      ],
      "source": [
        "#KNN\n",
        "clf_KNN = KNeighborsClassifier(algorithm= \"ball_tree\")\n",
        "param_dist_KNN = {\n",
        "    \"n_neighbors\": [3,5,11,21,51,101,151,201],\n",
        "    \"p\": [1,2],\n",
        "    \"weights\" :[\"uniform\",\"distance\"]\n",
        "}\n",
        "n_it = 10\n",
        "random_search_KNN = RandomizedSearchCV(\n",
        "    clf_KNN, param_distributions=param_dist_KNN, n_iter=n_it, cv = cv, random_state = random_state, verbose = 2, scoring='balanced_accuracy', n_jobs=-1\n",
        ")\n",
        "start = time()\n",
        "random_search_KNN.fit(X_train, y_train)\n",
        "clear_output()\n",
        "print(\n",
        "    \"RandomizedSearchCV took %.2f seconds for %d candidates parameter settings.\"\n",
        "    % ((time() - start), n_it)\n",
        ")\n",
        "report(random_search_KNN.cv_results_, f'{dataset}+{model_name}+KNN')"
      ]
    },
    {
      "cell_type": "code",
      "execution_count": 28,
      "metadata": {
        "colab": {
          "base_uri": "https://localhost:8080/"
        },
        "id": "Qv104r7VM7bA",
        "outputId": "aa4ec997-d0bf-42fc-8b42-1747335c7a95"
      },
      "outputs": [
        {
          "name": "stdout",
          "output_type": "stream",
          "text": [
            "\u001b[1mA acurácia balanceada nos dados de teste: 0.7393\u001b[0m\n"
          ]
        }
      ],
      "source": [
        "from sklearn.metrics import balanced_accuracy_score\n",
        "balanced_acc = balanced_accuracy_score(y_test,random_search_KNN.best_estimator_.predict(X_test))\n",
        "print(color.BOLD+\"A acurácia balanceada nos dados de teste: {0:.4f}\".format(balanced_acc)+color.END)"
      ]
    },
    {
      "cell_type": "markdown",
      "metadata": {
        "id": "8zsLpN7497Wk"
      },
      "source": [
        "**Logistic Regression**"
      ]
    },
    {
      "cell_type": "code",
      "execution_count": 29,
      "metadata": {
        "colab": {
          "base_uri": "https://localhost:8080/"
        },
        "id": "tJV64mHOKFOl",
        "outputId": "683276a0-b02c-40f7-83a7-fd2449df4cc2"
      },
      "outputs": [
        {
          "name": "stdout",
          "output_type": "stream",
          "text": [
            "RandomizedSearchCV took 98.86 seconds for 8 candidates parameter settings.\n",
            "\u001b[1mModel with rank: 1\u001b[0m\n",
            "\u001b[1mMean validation score: 0.7819 (std: 0.0149)\u001b[0m\n",
            "\u001b[1mParameters: {'C': 1}\u001b[0m\n",
            "\n",
            "\u001b[1mModel with rank: 2\u001b[0m\n",
            "\u001b[1mMean validation score: 0.7725 (std: 0.0168)\u001b[0m\n",
            "\u001b[1mParameters: {'C': 10}\u001b[0m\n",
            "\n",
            "\u001b[1mModel with rank: 3\u001b[0m\n",
            "\u001b[1mMean validation score: 0.7485 (std: 0.0165)\u001b[0m\n",
            "\u001b[1mParameters: {'C': 0.1}\u001b[0m\n",
            "\n"
          ]
        }
      ],
      "source": [
        "#Logistic Regression\n",
        "\n",
        "clf_LR = LogisticRegression(random_state=random_state,multi_class='multinomial', solver='sag', tol= 1e-4,max_iter=300)\n",
        "param_dist_LR = {\n",
        "    \"C\": [1e-1,1,10],\n",
        "    \"penalty\": [\"l2\", \"none\"]\n",
        "}\n",
        "n_it = 6\n",
        "random_search_LR = RandomizedSearchCV(\n",
        "    clf_LR, param_distributions=param_dist_LR, n_iter=n_it, cv = cv, random_state = random_state, verbose = 2, scoring='balanced_accuracy', n_jobs=-1\n",
        ")\n",
        "start = time()\n",
        "random_search_LR.fit(X_train, y_train)\n",
        "clear_output()\n",
        "print(\n",
        "    \"RandomizedSearchCV took %.2f seconds for %d candidates parameter settings.\"\n",
        "    % ((time() - start), n_it)\n",
        ")\n",
        "report(random_search_LR.cv_results_, f'{dataset}+{model_name}+LR')"
      ]
    },
    {
      "cell_type": "code",
      "execution_count": 30,
      "metadata": {
        "colab": {
          "base_uri": "https://localhost:8080/"
        },
        "id": "JUedvxaaKFLx",
        "outputId": "0770acbb-6810-4f8c-bc8b-88af96530463"
      },
      "outputs": [
        {
          "name": "stdout",
          "output_type": "stream",
          "text": [
            "\u001b[1mA acurácia balanceada nos dados de teste: 0.7847\u001b[0m\n"
          ]
        }
      ],
      "source": [
        "from sklearn.metrics import balanced_accuracy_score\n",
        "balanced_acc = balanced_accuracy_score(y_test,random_search_LR.best_estimator_.predict(X_test))\n",
        "print(color.BOLD+\"A acurácia balanceada nos dados de teste: {0:.4f}\".format(balanced_acc)+color.END)"
      ]
    },
    {
      "cell_type": "markdown",
      "metadata": {
        "id": "Q8Rb3pdD-BVX"
      },
      "source": [
        "**SVC**"
      ]
    },
    {
      "cell_type": "code",
      "execution_count": 31,
      "metadata": {
        "colab": {
          "base_uri": "https://localhost:8080/"
        },
        "id": "s54qxETCU1uC",
        "outputId": "491436ab-e570-47f7-a31c-a73dde223b3c"
      },
      "outputs": [
        {
          "name": "stdout",
          "output_type": "stream",
          "text": [
            "RandomizedSearchCV took 39.13 seconds for 6 candidates parameter settings.\n",
            "\u001b[1mModel with rank: 1\u001b[0m\n",
            "\u001b[1mMean validation score: 0.7842 (std: 0.0135)\u001b[0m\n",
            "\u001b[1mParameters: {'C': 0.1}\u001b[0m\n",
            "\n",
            "\u001b[1mModel with rank: 2\u001b[0m\n",
            "\u001b[1mMean validation score: 0.7761 (std: 0.0141)\u001b[0m\n",
            "\u001b[1mParameters: {'C': 1}\u001b[0m\n",
            "\n",
            "\u001b[1mModel with rank: 3\u001b[0m\n",
            "\u001b[1mMean validation score: 0.7415 (std: 0.0124)\u001b[0m\n",
            "\u001b[1mParameters: {'C': 10}\u001b[0m\n",
            "\n"
          ]
        }
      ],
      "source": [
        "from sklearn.svm import LinearSVC\n",
        "clf_SVC = LinearSVC(random_state=random_state, tol=1e-4)\n",
        "param_dist_SVC = {\n",
        "    'C': [1e-1,1,10],\n",
        "    \"penalty\": [\"l2\", \"none\"]\n",
        "    }\n",
        "n_it = 6\n",
        "random_search_SVC = RandomizedSearchCV(\n",
        "    clf_SVC, param_distributions=param_dist_SVC, n_iter=n_it, cv = cv, random_state = random_state, verbose = 2, scoring='balanced_accuracy', n_jobs=-1\n",
        ")\n",
        "start = time()\n",
        "random_search_SVC.fit(X_train, y_train)\n",
        "clear_output()\n",
        "print(\n",
        "    \"RandomizedSearchCV took %.2f seconds for %d candidates parameter settings.\"\n",
        "    % ((time() - start), n_it)\n",
        ")\n",
        "report(random_search_SVC.cv_results_, f'{dataset}+{model_name}+SVC')"
      ]
    },
    {
      "cell_type": "code",
      "execution_count": 32,
      "metadata": {
        "colab": {
          "base_uri": "https://localhost:8080/"
        },
        "id": "lf18dJGUU1qw",
        "outputId": "2d938ae8-789e-49ce-a4e2-e3ac65b5bc00"
      },
      "outputs": [
        {
          "name": "stdout",
          "output_type": "stream",
          "text": [
            "\u001b[1mA acurácia balanceada nos dados de teste: 0.7835\u001b[0m\n"
          ]
        }
      ],
      "source": [
        "from sklearn.metrics import balanced_accuracy_score\n",
        "balanced_acc = balanced_accuracy_score(y_test,random_search_SVC.best_estimator_.predict(X_test))\n",
        "print(color.BOLD+\"A acurácia balanceada nos dados de teste: {0:.4f}\".format(balanced_acc)+color.END)"
      ]
    },
    {
      "cell_type": "code",
      "execution_count": 33,
      "metadata": {
        "id": "9fZQBuHNy4Mt"
      },
      "outputs": [
        {
          "name": "stdout",
          "output_type": "stream",
          "text": [
            "RandomizedSearchCV took 99.39 seconds for 10 candidates parameter settings.\n",
            "\u001b[1mModel with rank: 1\u001b[0m\n",
            "\u001b[1mMean validation score: 0.7271 (std: 0.0114)\u001b[0m\n",
            "\u001b[1mParameters: {'n_estimators': 200}\u001b[0m\n",
            "\n",
            "\u001b[1mModel with rank: 2\u001b[0m\n",
            "\u001b[1mMean validation score: 0.7133 (std: 0.0082)\u001b[0m\n",
            "\u001b[1mParameters: {'n_estimators': 100}\u001b[0m\n",
            "\n",
            "\u001b[1mModel with rank: 3\u001b[0m\n",
            "\u001b[1mMean validation score: 0.6842 (std: 0.0093)\u001b[0m\n",
            "\u001b[1mParameters: {'n_estimators': 50}\u001b[0m\n",
            "\n",
            "\u001b[1mA acurácia balanceada nos dados de teste: 0.7456\u001b[0m\n"
          ]
        }
      ],
      "source": [
        "from sklearn.ensemble import RandomForestClassifier\n",
        "clf_RF = RandomForestClassifier(random_state=random_state)\n",
        "param_dist_RF = {\n",
        "    'n_estimators': [10,50,100,200],\n",
        "    }\n",
        "n_it = 10\n",
        "random_search_RF = RandomizedSearchCV(\n",
        "    clf_RF, param_distributions=param_dist_RF, n_iter=n_it, cv = cv, random_state = random_state, verbose = 2, scoring='balanced_accuracy', n_jobs=-1\n",
        ")\n",
        "start = time()\n",
        "random_search_RF.fit(X_train, y_train)\n",
        "clear_output()\n",
        "print(\n",
        "    \"RandomizedSearchCV took %.2f seconds for %d candidates parameter settings.\"\n",
        "    % ((time() - start), n_it)\n",
        ")\n",
        "report(random_search_RF.cv_results_, f'{dataset}+{model_name}+RF')\n",
        "from sklearn.metrics import balanced_accuracy_score\n",
        "balanced_acc = balanced_accuracy_score(y_test,random_search_RF.best_estimator_.predict(X_test))\n",
        "print(color.BOLD+\"A acurácia balanceada nos dados de teste: {0:.4f}\".format(balanced_acc)+color.END)"
      ]
    },
    {
      "cell_type": "markdown",
      "metadata": {
        "id": "_QhkQ9xrVuSU"
      },
      "source": [
        "# Pipeline 4: WOS + all-MiniLM-L12-v2\n"
      ]
    },
    {
      "cell_type": "code",
      "execution_count": 34,
      "metadata": {
        "colab": {
          "base_uri": "https://localhost:8080/"
        },
        "id": "borU74t0_4tG",
        "outputId": "7ca159d8-3a81-4f6a-e454-7c3d0f3abe5b"
      },
      "outputs": [
        {
          "name": "stdout",
          "output_type": "stream",
          "text": [
            "[-0.03677584 -0.08568367  0.03027113  0.00241753 -0.07861282 -0.10965899\n",
            " -0.09844724  0.00531735  0.06428049  0.03564424] 30\n"
          ]
        }
      ],
      "source": [
        "#LOADING DATA\n",
        "import pandas as pd\n",
        "import numpy as np\n",
        "import pickle\n",
        "from IPython.display import clear_output\n",
        "from sklearn import preprocessing\n",
        "clear_output()\n",
        "#datasets = ['TC02_20news', 'TC14_wos']\n",
        "#models_names = [\"all-MiniLM-L6-v2\",\"all-MiniLM-L12-v2\"]\n",
        "dataset = 'TC14_wos'\n",
        "model_name = \"all-MiniLM-L12-v2\"\n",
        "embeddings_path = f'Arquivos TCC/embeddings/sbert/{model_name}_{dataset}.pkl'\n",
        "with open(embeddings_path, \"rb\") as fIn:\n",
        "  stored_data = pickle.load(fIn)\n",
        "embeddings = stored_data['embeddings']\n",
        "labels = stored_data['labels']\n",
        "labels_enc = preprocessing.LabelEncoder().fit_transform(labels)\n",
        "#Split hold-out test data\n",
        "from sklearn.model_selection import train_test_split\n",
        "X_train, X_test, y_train, y_test = train_test_split(embeddings, labels_enc, test_size=0.10, random_state=random_state,stratify=labels_enc)\n",
        "unique, counts = np.unique(y_test, return_counts=True)\n",
        "#K-fold cross validation strategy and import dependencies\n",
        "from sklearn.neighbors import KNeighborsClassifier\n",
        "from sklearn.linear_model import LogisticRegression\n",
        "from sklearn.model_selection import RandomizedSearchCV\n",
        "from sklearn.model_selection import StratifiedKFold\n",
        "from sklearn.metrics import balanced_accuracy_score\n",
        "cv = StratifiedKFold(n_splits=10, shuffle=True, random_state=random_state)\n",
        "print(X_train[10][:10], y_test[50])"
      ]
    },
    {
      "cell_type": "markdown",
      "metadata": {
        "id": "ytqt7Mj__4tG"
      },
      "source": [
        "**KNN**"
      ]
    },
    {
      "cell_type": "code",
      "execution_count": 35,
      "metadata": {
        "colab": {
          "base_uri": "https://localhost:8080/"
        },
        "id": "5TsJyPVe_4tH",
        "outputId": "45da2d1a-473d-4daa-f040-0f5c8e633464"
      },
      "outputs": [
        {
          "name": "stdout",
          "output_type": "stream",
          "text": [
            "RandomizedSearchCV took 152.62 seconds for 10 candidates parameter settings.\n",
            "\u001b[1mModel with rank: 1\u001b[0m\n",
            "\u001b[1mMean validation score: 0.7280 (std: 0.0114)\u001b[0m\n",
            "\u001b[1mParameters: {'weights': 'distance', 'p': 1, 'n_neighbors': 21}\u001b[0m\n",
            "\n",
            "\u001b[1mModel with rank: 2\u001b[0m\n",
            "\u001b[1mMean validation score: 0.7264 (std: 0.0162)\u001b[0m\n",
            "\u001b[1mParameters: {'weights': 'uniform', 'p': 2, 'n_neighbors': 11}\u001b[0m\n",
            "\n",
            "\u001b[1mModel with rank: 3\u001b[0m\n",
            "\u001b[1mMean validation score: 0.7221 (std: 0.0090)\u001b[0m\n",
            "\u001b[1mParameters: {'weights': 'distance', 'p': 2, 'n_neighbors': 51}\u001b[0m\n",
            "\n"
          ]
        }
      ],
      "source": [
        "#KNN\n",
        "clf_KNN = KNeighborsClassifier(algorithm= \"ball_tree\")\n",
        "param_dist_KNN = {\n",
        "    \"n_neighbors\": [3,5,11,21,51,101,151,201],\n",
        "    \"p\": [1,2],\n",
        "    \"weights\" :[\"uniform\",\"distance\"]\n",
        "}\n",
        "n_it = 10\n",
        "random_search_KNN = RandomizedSearchCV(\n",
        "    clf_KNN, param_distributions=param_dist_KNN, n_iter=n_it, cv = cv, random_state = random_state, verbose = 2, scoring='balanced_accuracy', n_jobs=-1\n",
        ")\n",
        "start = time()\n",
        "random_search_KNN.fit(X_train, y_train)\n",
        "clear_output()\n",
        "print(\n",
        "    \"RandomizedSearchCV took %.2f seconds for %d candidates parameter settings.\"\n",
        "    % ((time() - start), n_it)\n",
        ")\n",
        "report(random_search_KNN.cv_results_, f'{dataset}+{model_name}+KNN')"
      ]
    },
    {
      "cell_type": "code",
      "execution_count": 36,
      "metadata": {
        "colab": {
          "base_uri": "https://localhost:8080/"
        },
        "id": "a_baoNbb_4tH",
        "outputId": "e56393a5-4d7f-4d42-d6eb-61b700543157"
      },
      "outputs": [
        {
          "name": "stdout",
          "output_type": "stream",
          "text": [
            "\u001b[1mA acurácia balanceada nos dados de teste: 0.7243\u001b[0m\n"
          ]
        }
      ],
      "source": [
        "from sklearn.metrics import balanced_accuracy_score\n",
        "balanced_acc = balanced_accuracy_score(y_test,random_search_KNN.best_estimator_.predict(X_test))\n",
        "print(color.BOLD+\"A acurácia balanceada nos dados de teste: {0:.4f}\".format(balanced_acc)+color.END)"
      ]
    },
    {
      "cell_type": "markdown",
      "metadata": {
        "id": "vcpiZdy9_4tH"
      },
      "source": [
        "**Logistic Regression**"
      ]
    },
    {
      "cell_type": "code",
      "execution_count": 37,
      "metadata": {
        "colab": {
          "base_uri": "https://localhost:8080/"
        },
        "id": "rZ1rsGMK_4tH",
        "outputId": "b5d9bfcc-f769-4dd0-e043-9a673d90d44c"
      },
      "outputs": [
        {
          "name": "stdout",
          "output_type": "stream",
          "text": [
            "RandomizedSearchCV took 102.03 seconds for 8 candidates parameter settings.\n",
            "\u001b[1mModel with rank: 1\u001b[0m\n",
            "\u001b[1mMean validation score: 0.7599 (std: 0.0138)\u001b[0m\n",
            "\u001b[1mParameters: {'C': 1}\u001b[0m\n",
            "\n",
            "\u001b[1mModel with rank: 2\u001b[0m\n",
            "\u001b[1mMean validation score: 0.7491 (std: 0.0135)\u001b[0m\n",
            "\u001b[1mParameters: {'C': 10}\u001b[0m\n",
            "\n",
            "\u001b[1mModel with rank: 3\u001b[0m\n",
            "\u001b[1mMean validation score: 0.7338 (std: 0.0110)\u001b[0m\n",
            "\u001b[1mParameters: {'C': 0.1}\u001b[0m\n",
            "\n"
          ]
        }
      ],
      "source": [
        "#Logistic Regression\n",
        "\n",
        "clf_LR = LogisticRegression(random_state=random_state,multi_class='multinomial', solver='sag', tol= 1e-4,max_iter=300)\n",
        "param_dist_LR = {\n",
        "    \"C\": [1e-1,1,10],\n",
        "    \"penalty\": [\"l2\", \"none\"]\n",
        "}\n",
        "n_it = 6\n",
        "random_search_LR = RandomizedSearchCV(\n",
        "    clf_LR, param_distributions=param_dist_LR, n_iter=n_it, cv = cv, random_state = random_state, verbose = 2, scoring='balanced_accuracy', n_jobs=-1\n",
        ")\n",
        "start = time()\n",
        "random_search_LR.fit(X_train, y_train)\n",
        "clear_output()\n",
        "print(\n",
        "    \"RandomizedSearchCV took %.2f seconds for %d candidates parameter settings.\"\n",
        "    % ((time() - start), n_it)\n",
        ")\n",
        "report(random_search_LR.cv_results_, f'{dataset}+{model_name}+LR')"
      ]
    },
    {
      "cell_type": "code",
      "execution_count": 38,
      "metadata": {
        "colab": {
          "base_uri": "https://localhost:8080/"
        },
        "id": "LfXj4XjA_4tH",
        "outputId": "b08af6c7-5160-4d3f-8e45-d207790cb919"
      },
      "outputs": [
        {
          "name": "stdout",
          "output_type": "stream",
          "text": [
            "\u001b[1mA acurácia balanceada nos dados de teste: 0.7666\u001b[0m\n"
          ]
        }
      ],
      "source": [
        "from sklearn.metrics import balanced_accuracy_score\n",
        "balanced_acc = balanced_accuracy_score(y_test,random_search_LR.best_estimator_.predict(X_test))\n",
        "print(color.BOLD+\"A acurácia balanceada nos dados de teste: {0:.4f}\".format(balanced_acc)+color.END)"
      ]
    },
    {
      "cell_type": "markdown",
      "metadata": {
        "id": "5E2nKG3h_4tI"
      },
      "source": [
        "**SVC**"
      ]
    },
    {
      "cell_type": "code",
      "execution_count": 39,
      "metadata": {
        "colab": {
          "base_uri": "https://localhost:8080/"
        },
        "id": "4z6-VhXv_4tI",
        "outputId": "ad1dcd7c-0197-49cf-d9fc-4b3d2207e04d"
      },
      "outputs": [
        {
          "name": "stdout",
          "output_type": "stream",
          "text": [
            "RandomizedSearchCV took 41.26 seconds for 6 candidates parameter settings.\n",
            "\u001b[1mModel with rank: 1\u001b[0m\n",
            "\u001b[1mMean validation score: 0.7621 (std: 0.0154)\u001b[0m\n",
            "\u001b[1mParameters: {'C': 0.1}\u001b[0m\n",
            "\n",
            "\u001b[1mModel with rank: 2\u001b[0m\n",
            "\u001b[1mMean validation score: 0.7531 (std: 0.0174)\u001b[0m\n",
            "\u001b[1mParameters: {'C': 1}\u001b[0m\n",
            "\n",
            "\u001b[1mModel with rank: 3\u001b[0m\n",
            "\u001b[1mMean validation score: 0.7129 (std: 0.0129)\u001b[0m\n",
            "\u001b[1mParameters: {'C': 10}\u001b[0m\n",
            "\n"
          ]
        }
      ],
      "source": [
        "from sklearn.svm import LinearSVC\n",
        "clf_SVC = LinearSVC(random_state=random_state, tol=1e-4)\n",
        "param_dist_SVC = {\n",
        "    'C': [1e-1,1,10],\n",
        "    \"penalty\": [\"l2\", \"none\"]\n",
        "    }\n",
        "n_it = 6\n",
        "random_search_SVC = RandomizedSearchCV(\n",
        "    clf_SVC, param_distributions=param_dist_SVC, n_iter=n_it, cv = cv, random_state = random_state, verbose = 2, scoring='balanced_accuracy', n_jobs=-1\n",
        ")\n",
        "start = time()\n",
        "random_search_SVC.fit(X_train, y_train)\n",
        "clear_output()\n",
        "print(\n",
        "    \"RandomizedSearchCV took %.2f seconds for %d candidates parameter settings.\"\n",
        "    % ((time() - start), n_it)\n",
        ")\n",
        "report(random_search_SVC.cv_results_, f'{dataset}+{model_name}+SVC')"
      ]
    },
    {
      "cell_type": "code",
      "execution_count": 40,
      "metadata": {
        "colab": {
          "base_uri": "https://localhost:8080/"
        },
        "id": "ab8ZB9D1_4tI",
        "outputId": "e9475a62-9c9c-4291-fab1-dabfad1a2fec"
      },
      "outputs": [
        {
          "name": "stdout",
          "output_type": "stream",
          "text": [
            "\u001b[1mA acurácia balanceada nos dados de teste: 0.7567\u001b[0m\n"
          ]
        }
      ],
      "source": [
        "from sklearn.metrics import balanced_accuracy_score\n",
        "balanced_acc = balanced_accuracy_score(y_test,random_search_SVC.best_estimator_.predict(X_test))\n",
        "print(color.BOLD+\"A acurácia balanceada nos dados de teste: {0:.4f}\".format(balanced_acc)+color.END)"
      ]
    },
    {
      "cell_type": "code",
      "execution_count": 41,
      "metadata": {
        "id": "z7PdEz2d_4tI"
      },
      "outputs": [
        {
          "name": "stdout",
          "output_type": "stream",
          "text": [
            "RandomizedSearchCV took 101.23 seconds for 10 candidates parameter settings.\n",
            "\u001b[1mModel with rank: 1\u001b[0m\n",
            "\u001b[1mMean validation score: 0.7154 (std: 0.0088)\u001b[0m\n",
            "\u001b[1mParameters: {'n_estimators': 200}\u001b[0m\n",
            "\n",
            "\u001b[1mModel with rank: 2\u001b[0m\n",
            "\u001b[1mMean validation score: 0.7005 (std: 0.0113)\u001b[0m\n",
            "\u001b[1mParameters: {'n_estimators': 100}\u001b[0m\n",
            "\n",
            "\u001b[1mModel with rank: 3\u001b[0m\n",
            "\u001b[1mMean validation score: 0.6675 (std: 0.0125)\u001b[0m\n",
            "\u001b[1mParameters: {'n_estimators': 50}\u001b[0m\n",
            "\n",
            "\u001b[1mA acurácia balanceada nos dados de teste: 0.7112\u001b[0m\n"
          ]
        }
      ],
      "source": [
        "from sklearn.ensemble import RandomForestClassifier\n",
        "clf_RF = RandomForestClassifier(random_state=random_state)\n",
        "param_dist_RF = {\n",
        "    'n_estimators': [10,50,100,200],\n",
        "    }\n",
        "n_it = 10\n",
        "random_search_RF = RandomizedSearchCV(\n",
        "    clf_RF, param_distributions=param_dist_RF, n_iter=n_it, cv = cv, random_state = random_state, verbose = 2, scoring='balanced_accuracy', n_jobs=-1\n",
        ")\n",
        "start = time()\n",
        "random_search_RF.fit(X_train, y_train)\n",
        "clear_output()\n",
        "print(\n",
        "    \"RandomizedSearchCV took %.2f seconds for %d candidates parameter settings.\"\n",
        "    % ((time() - start), n_it)\n",
        ")\n",
        "report(random_search_RF.cv_results_, f'{dataset}+{model_name}+RF')\n",
        "from sklearn.metrics import balanced_accuracy_score\n",
        "balanced_acc = balanced_accuracy_score(y_test,random_search_RF.best_estimator_.predict(X_test))\n",
        "print(color.BOLD+\"A acurácia balanceada nos dados de teste: {0:.4f}\".format(balanced_acc)+color.END)"
      ]
    },
    {
      "cell_type": "code",
      "execution_count": null,
      "metadata": {
        "id": "WLYTTlUvt383"
      },
      "outputs": [],
      "source": []
    },
    {
      "cell_type": "code",
      "execution_count": null,
      "metadata": {
        "id": "VUcNaxs8V2yb"
      },
      "outputs": [],
      "source": []
    },
    {
      "cell_type": "code",
      "execution_count": null,
      "metadata": {
        "id": "hr1DXQXtV2rs"
      },
      "outputs": [],
      "source": []
    },
    {
      "cell_type": "markdown",
      "metadata": {
        "id": "57JCOwzUV44d"
      },
      "source": [
        "# Pipeline 5: 20NG + TF-IDF\n"
      ]
    },
    {
      "cell_type": "code",
      "execution_count": 42,
      "metadata": {
        "id": "f0O0oBTpVrZc"
      },
      "outputs": [],
      "source": [
        "#TF-IDF\n",
        "from sklearn.feature_extraction.text import TfidfVectorizer\n",
        "from sklearn import preprocessing\n",
        "import pandas as pd\n",
        "import numpy as np\n",
        "import pickle\n",
        "from sklearn.pipeline import make_pipeline\n",
        "dataset = 'TC02_20news'\n",
        "model_name = 'TFIDF'\n",
        "df = pd.read_csv(f'Arquivos TCC/datasets/{dataset}.csv', sep=';')\n",
        "df = df.dropna()\n",
        "textos = df['text'].values.tolist()\n",
        "labels = df['label']\n",
        "labels_enc = preprocessing.LabelEncoder().fit_transform(labels)\n",
        "#Split hold-out test data\n",
        "from sklearn.model_selection import train_test_split\n",
        "textos_train, textos_test, y_train, y_test = train_test_split(textos, labels_enc, test_size=0.10, random_state=random_state,stratify=labels_enc)"
      ]
    },
    {
      "cell_type": "code",
      "execution_count": 43,
      "metadata": {
        "colab": {
          "base_uri": "https://localhost:8080/"
        },
        "id": "oRF3oV_9WQ8s",
        "outputId": "3ebd784e-ffd1-4d7b-d49b-fd528f866cc7"
      },
      "outputs": [
        {
          "name": "stdout",
          "output_type": "stream",
          "text": [
            "8 12\n"
          ]
        }
      ],
      "source": [
        "from sklearn.neighbors import KNeighborsClassifier\n",
        "from sklearn.linear_model import LogisticRegression\n",
        "from sklearn.svm import LinearSVC\n",
        "from sklearn.model_selection import RandomizedSearchCV\n",
        "from sklearn.model_selection import StratifiedKFold\n",
        "from sklearn.metrics import balanced_accuracy_score\n",
        "from sklearn.model_selection import cross_validate\n",
        "cv = StratifiedKFold(n_splits=10, shuffle=True, random_state=random_state)\n",
        "unique, counts = np.unique(y_test, return_counts=True)\n",
        "print(y_train[10], y_test[50])"
      ]
    },
    {
      "cell_type": "markdown",
      "metadata": {
        "id": "FS6dRCOx-WHE"
      },
      "source": [
        "**KNN**"
      ]
    },
    {
      "cell_type": "code",
      "execution_count": 44,
      "metadata": {
        "colab": {
          "base_uri": "https://localhost:8080/"
        },
        "id": "AUHpz_FPWc3l",
        "outputId": "2f49f9d6-a5f4-4317-df45-fc8d22321b80"
      },
      "outputs": [
        {
          "name": "stdout",
          "output_type": "stream",
          "text": [
            "\u001b[1mA acurácia balanceada nos dados de teste: 0.7413\u001b[0m\n"
          ]
        }
      ],
      "source": [
        "\n",
        "KNN = KNeighborsClassifier(n_neighbors=150, p = 2, weights='uniform', metric='cosine')\n",
        "LR = LogisticRegression(C=10, solver='sag', multi_class='multinomial', random_state=random_state, n_jobs=-1, tol = 1e-4, max_iter=200)\n",
        "SVC = LinearSVC()\n",
        "pipeline_KNN = make_pipeline(TfidfVectorizer(stop_words='english',smooth_idf=True), KNN)\n",
        "pipeline_KNN.fit(textos_train, y_train)\n",
        "pipeline_LR = make_pipeline(TfidfVectorizer(stop_words='english',smooth_idf=True), LR)\n",
        "pipeline_SVC = make_pipeline(TfidfVectorizer(stop_words='english',smooth_idf=True), SVC)\n",
        "\n",
        "from sklearn.metrics import balanced_accuracy_score\n",
        "balanced_acc = balanced_accuracy_score(y_test,pipeline_KNN.predict(textos_test))\n",
        "print(color.BOLD+\"A acurácia balanceada nos dados de teste: {0:.4f}\".format(balanced_acc)+color.END)"
      ]
    },
    {
      "cell_type": "code",
      "execution_count": 45,
      "metadata": {
        "colab": {
          "base_uri": "https://localhost:8080/"
        },
        "id": "vQWq41wmRroS",
        "outputId": "921ef984-95f6-4d6c-8c68-4e87388e0775"
      },
      "outputs": [
        {
          "data": {
            "text/plain": [
              "dict_keys(['memory', 'steps', 'verbose', 'tfidfvectorizer', 'linearsvc', 'tfidfvectorizer__analyzer', 'tfidfvectorizer__binary', 'tfidfvectorizer__decode_error', 'tfidfvectorizer__dtype', 'tfidfvectorizer__encoding', 'tfidfvectorizer__input', 'tfidfvectorizer__lowercase', 'tfidfvectorizer__max_df', 'tfidfvectorizer__max_features', 'tfidfvectorizer__min_df', 'tfidfvectorizer__ngram_range', 'tfidfvectorizer__norm', 'tfidfvectorizer__preprocessor', 'tfidfvectorizer__smooth_idf', 'tfidfvectorizer__stop_words', 'tfidfvectorizer__strip_accents', 'tfidfvectorizer__sublinear_tf', 'tfidfvectorizer__token_pattern', 'tfidfvectorizer__tokenizer', 'tfidfvectorizer__use_idf', 'tfidfvectorizer__vocabulary', 'linearsvc__C', 'linearsvc__class_weight', 'linearsvc__dual', 'linearsvc__fit_intercept', 'linearsvc__intercept_scaling', 'linearsvc__loss', 'linearsvc__max_iter', 'linearsvc__multi_class', 'linearsvc__penalty', 'linearsvc__random_state', 'linearsvc__tol', 'linearsvc__verbose'])"
            ]
          },
          "execution_count": 45,
          "metadata": {},
          "output_type": "execute_result"
        }
      ],
      "source": [
        "pipeline_SVC.get_params().keys()"
      ]
    },
    {
      "cell_type": "code",
      "execution_count": 46,
      "metadata": {
        "colab": {
          "base_uri": "https://localhost:8080/"
        },
        "id": "81fzDnrFSHVf",
        "outputId": "4397d251-dbfd-4071-dece-450e5294fe1a"
      },
      "outputs": [
        {
          "name": "stdout",
          "output_type": "stream",
          "text": [
            "RandomizedSearchCV took 61.25 seconds for 10 candidates parameter settings.\n",
            "\u001b[1mModel with rank: 1\u001b[0m\n",
            "\u001b[1mMean validation score: 0.7534 (std: 0.0074)\u001b[0m\n",
            "\u001b[1mParameters: {'kneighborsclassifier__weights': 'uniform', 'kneighborsclassifier__p': 2, 'kneighborsclassifier__n_neighbors': 51}\u001b[0m\n",
            "\n",
            "\u001b[1mModel with rank: 2\u001b[0m\n",
            "\u001b[1mMean validation score: 0.7412 (std: 0.0069)\u001b[0m\n",
            "\u001b[1mParameters: {'kneighborsclassifier__weights': 'distance', 'kneighborsclassifier__p': 2, 'kneighborsclassifier__n_neighbors': 101}\u001b[0m\n",
            "\n",
            "\u001b[1mModel with rank: 3\u001b[0m\n",
            "\u001b[1mMean validation score: 0.7338 (std: 0.0068)\u001b[0m\n",
            "\u001b[1mParameters: {'kneighborsclassifier__weights': 'distance', 'kneighborsclassifier__p': 2, 'kneighborsclassifier__n_neighbors': 151}\u001b[0m\n",
            "\n"
          ]
        }
      ],
      "source": [
        "clf_KNN = KNeighborsClassifier()\n",
        "param_dist_KNN_pipeline = {\n",
        "    'kneighborsclassifier__n_neighbors': [3,5,11,21,51,101,151,201],\n",
        "    'kneighborsclassifier__p': [2],\n",
        "    'kneighborsclassifier__weights' :[\"uniform\",\"distance\"]\n",
        "}\n",
        "pipeline_KNN = make_pipeline(TfidfVectorizer(stop_words='english',smooth_idf=True), clf_KNN)\n",
        "random_search_KNN = RandomizedSearchCV(\n",
        "    pipeline_KNN, param_distributions=param_dist_KNN_pipeline, n_iter=n_it, cv = cv, random_state = random_state, verbose = 2, scoring='balanced_accuracy', n_jobs=-1\n",
        ")\n",
        "start = time()\n",
        "random_search_KNN.fit(textos_train, y_train)\n",
        "clear_output()\n",
        "print(\n",
        "    \"RandomizedSearchCV took %.2f seconds for %d candidates parameter settings.\"\n",
        "    % ((time() - start), n_it)\n",
        ")\n",
        "report(random_search_KNN.cv_results_, f'{dataset}+{model_name}+KNN')"
      ]
    },
    {
      "cell_type": "code",
      "execution_count": 47,
      "metadata": {
        "colab": {
          "base_uri": "https://localhost:8080/"
        },
        "id": "KnzObCo2XND8",
        "outputId": "75061c4b-6d1d-4aa2-937f-e307368f5b69"
      },
      "outputs": [
        {
          "name": "stdout",
          "output_type": "stream",
          "text": [
            "\u001b[1mA acurácia balanceada nos dados de teste: 0.7408\u001b[0m\n"
          ]
        }
      ],
      "source": [
        "from sklearn.metrics import balanced_accuracy_score\n",
        "balanced_acc = balanced_accuracy_score(y_test,random_search_KNN.best_estimator_.predict(textos_test))\n",
        "print(color.BOLD+\"A acurácia balanceada nos dados de teste: {0:.4f}\".format(balanced_acc)+color.END)"
      ]
    },
    {
      "cell_type": "markdown",
      "metadata": {
        "id": "j_esu7ur-gJs"
      },
      "source": [
        "**Logistic Regression**"
      ]
    },
    {
      "cell_type": "code",
      "execution_count": 48,
      "metadata": {
        "colab": {
          "base_uri": "https://localhost:8080/"
        },
        "id": "phRjJy0DVFr4",
        "outputId": "52657004-7991-4d3f-abdb-7f6d94a052fe"
      },
      "outputs": [
        {
          "name": "stdout",
          "output_type": "stream",
          "text": [
            "RandomizedSearchCV took 73.60 seconds for 10 candidates parameter settings.\n",
            "\u001b[1mModel with rank: 1\u001b[0m\n",
            "\u001b[1mMean validation score: 0.8442 (std: 0.0055)\u001b[0m\n",
            "\u001b[1mParameters: {'logisticregression__C': 10}\u001b[0m\n",
            "\n",
            "\u001b[1mModel with rank: 2\u001b[0m\n",
            "\u001b[1mMean validation score: 0.8339 (std: 0.0069)\u001b[0m\n",
            "\u001b[1mParameters: {'logisticregression__C': 1}\u001b[0m\n",
            "\n",
            "\u001b[1mModel with rank: 3\u001b[0m\n",
            "\u001b[1mMean validation score: 0.7868 (std: 0.0104)\u001b[0m\n",
            "\u001b[1mParameters: {'logisticregression__C': 0.1}\u001b[0m\n",
            "\n"
          ]
        }
      ],
      "source": [
        "clf_LR = LogisticRegression(random_state=random_state,multi_class='multinomial', solver='sag', tol= 1e-4,max_iter=300)\n",
        "param_dist_LR_pipeline = {\n",
        "    'logisticregression__C': [0.1,1,10],\n",
        "    \"logisticregression__penalty\": [\"l2\", \"none\"]\n",
        "}\n",
        "pipeline_LR = make_pipeline(TfidfVectorizer(stop_words='english',smooth_idf=True), clf_LR)\n",
        "n_it = 10\n",
        "random_search_LR = RandomizedSearchCV(\n",
        "    pipeline_LR, param_distributions=param_dist_LR_pipeline, n_iter=n_it, cv = cv, random_state = random_state, verbose = 2, scoring='balanced_accuracy', n_jobs=-1\n",
        ")\n",
        "start = time()\n",
        "random_search_LR.fit(textos_train, y_train)\n",
        "clear_output()\n",
        "print(\n",
        "    \"RandomizedSearchCV took %.2f seconds for %d candidates parameter settings.\"\n",
        "    % ((time() - start), n_it)\n",
        ")\n",
        "report(random_search_LR.cv_results_, f'{dataset}+{model_name}+LR')"
      ]
    },
    {
      "cell_type": "code",
      "execution_count": 49,
      "metadata": {
        "colab": {
          "base_uri": "https://localhost:8080/"
        },
        "id": "fsnJqqMAVFkX",
        "outputId": "0af47e74-7193-48ba-a329-3751729a7d15"
      },
      "outputs": [
        {
          "name": "stdout",
          "output_type": "stream",
          "text": [
            "\u001b[1mA acurácia balanceada nos dados de teste: 0.8544\u001b[0m\n"
          ]
        }
      ],
      "source": [
        "from sklearn.metrics import balanced_accuracy_score\n",
        "balanced_acc = balanced_accuracy_score(y_test,random_search_LR.best_estimator_.predict(textos_test))\n",
        "print(color.BOLD+\"A acurácia balanceada nos dados de teste: {0:.4f}\".format(balanced_acc)+color.END)"
      ]
    },
    {
      "cell_type": "markdown",
      "metadata": {
        "id": "Tc7xe1O3-q5d"
      },
      "source": [
        "**SVC**"
      ]
    },
    {
      "cell_type": "code",
      "execution_count": 50,
      "metadata": {
        "colab": {
          "base_uri": "https://localhost:8080/"
        },
        "id": "QVyJ5FXx4061",
        "outputId": "2a434089-bc45-4dd3-dc9d-cbbe6a5b43ab"
      },
      "outputs": [
        {
          "name": "stdout",
          "output_type": "stream",
          "text": [
            "RandomizedSearchCV took 62.09 seconds for 6 candidates parameter settings.\n",
            "\u001b[1mModel with rank: 1\u001b[0m\n",
            "\u001b[1mMean validation score: 0.8534 (std: 0.0058)\u001b[0m\n",
            "\u001b[1mParameters: {'linearsvc__C': 1}\u001b[0m\n",
            "\n",
            "\u001b[1mModel with rank: 2\u001b[0m\n",
            "\u001b[1mMean validation score: 0.8497 (std: 0.0059)\u001b[0m\n",
            "\u001b[1mParameters: {'linearsvc__C': 10}\u001b[0m\n",
            "\n",
            "\u001b[1mModel with rank: 3\u001b[0m\n",
            "\u001b[1mMean validation score: 0.8389 (std: 0.0076)\u001b[0m\n",
            "\u001b[1mParameters: {'linearsvc__C': 0.1}\u001b[0m\n",
            "\n"
          ]
        }
      ],
      "source": [
        "from sklearn.svm import LinearSVC\n",
        "clf_SVC = LinearSVC(random_state=random_state, tol=1e-4)\n",
        "param_dist_SVC_pipeline = {\n",
        "    'linearsvc__C': [1e-1,1,10],\n",
        "    \"linearsvc__penalty\": [\"l2\", \"none\"]\n",
        "    }\n",
        "pipeline_SVC = make_pipeline(TfidfVectorizer(stop_words='english',smooth_idf=True), clf_SVC)\n",
        "n_it = 6\n",
        "random_search_SVC = RandomizedSearchCV(\n",
        "    pipeline_SVC, param_distributions=param_dist_SVC_pipeline, n_iter=n_it, cv = cv, random_state = random_state, verbose = 2, scoring='balanced_accuracy', n_jobs=-1\n",
        ")\n",
        "start = time()\n",
        "random_search_SVC.fit(textos_train, y_train)\n",
        "clear_output()\n",
        "print(\n",
        "    \"RandomizedSearchCV took %.2f seconds for %d candidates parameter settings.\"\n",
        "    % ((time() - start), n_it)\n",
        ")\n",
        "report(random_search_SVC.cv_results_, f'{dataset}+{model_name}+SVC')"
      ]
    },
    {
      "cell_type": "code",
      "execution_count": 51,
      "metadata": {
        "colab": {
          "base_uri": "https://localhost:8080/"
        },
        "id": "4l_jXNKr40us",
        "outputId": "13759e79-60b9-4624-b085-0f5f5719f9ab"
      },
      "outputs": [
        {
          "name": "stdout",
          "output_type": "stream",
          "text": [
            "\u001b[1mA acurácia balanceada nos dados de teste: 0.8604\u001b[0m\n"
          ]
        }
      ],
      "source": [
        "from sklearn.metrics import balanced_accuracy_score\n",
        "balanced_acc = balanced_accuracy_score(y_test,random_search_SVC.best_estimator_.predict(textos_test))\n",
        "print(color.BOLD+\"A acurácia balanceada nos dados de teste: {0:.4f}\".format(balanced_acc)+color.END)"
      ]
    },
    {
      "cell_type": "code",
      "execution_count": 52,
      "metadata": {
        "id": "iv5Wu3ex40i7"
      },
      "outputs": [
        {
          "name": "stdout",
          "output_type": "stream",
          "text": [
            "RandomizedSearchCV took 1315.91 seconds for 10 candidates parameter settings.\n",
            "\u001b[1mModel with rank: 1\u001b[0m\n",
            "\u001b[1mMean validation score: 0.7867 (std: 0.0098)\u001b[0m\n",
            "\u001b[1mParameters: {'randomforestclassifier__n_estimators': 100}\u001b[0m\n",
            "\n",
            "\u001b[1mModel with rank: 2\u001b[0m\n",
            "\u001b[1mMean validation score: 0.7685 (std: 0.0075)\u001b[0m\n",
            "\u001b[1mParameters: {'randomforestclassifier__n_estimators': 50}\u001b[0m\n",
            "\n",
            "\u001b[1mModel with rank: 3\u001b[0m\n",
            "\u001b[1mMean validation score: 0.6683 (std: 0.0068)\u001b[0m\n",
            "\u001b[1mParameters: {'randomforestclassifier__n_estimators': 10}\u001b[0m\n",
            "\n",
            "\u001b[1mA acurácia balanceada nos dados de teste: 0.7949\u001b[0m\n"
          ]
        }
      ],
      "source": [
        "from sklearn.ensemble import RandomForestClassifier\n",
        "clf_RF = RandomForestClassifier(random_state=random_state)\n",
        "param_dist_RF_pipeline = {\n",
        "    'randomforestclassifier__n_estimators': [10,50,100,200],\n",
        "    }\n",
        "pipeline_RF = make_pipeline(TfidfVectorizer(stop_words='english',smooth_idf=True), clf_RF)\n",
        "n_it = 10\n",
        "random_search_RF = RandomizedSearchCV(\n",
        "    pipeline_RF, param_distributions=param_dist_RF_pipeline, n_iter=n_it, cv = cv, random_state = random_state, verbose = 2, scoring='balanced_accuracy', n_jobs=-1\n",
        ")\n",
        "start = time()\n",
        "random_search_RF.fit(textos_train, y_train)\n",
        "clear_output()\n",
        "print(\n",
        "    \"RandomizedSearchCV took %.2f seconds for %d candidates parameter settings.\"\n",
        "    % ((time() - start), n_it)\n",
        ")\n",
        "report(random_search_RF.cv_results_, f'{dataset}+{model_name}+RF')\n",
        "from sklearn.metrics import balanced_accuracy_score\n",
        "balanced_acc = balanced_accuracy_score(y_test,random_search_RF.best_estimator_.predict(textos_test))\n",
        "print(color.BOLD+\"A acurácia balanceada nos dados de teste: {0:.4f}\".format(balanced_acc)+color.END)"
      ]
    },
    {
      "cell_type": "code",
      "execution_count": 53,
      "metadata": {
        "id": "tizuYixID0fh"
      },
      "outputs": [
        {
          "name": "stdout",
          "output_type": "stream",
          "text": [
            "\u001b[1mA acurácia balanceada nos dados de teste: 0.7949\u001b[0m\n"
          ]
        }
      ],
      "source": [
        "from sklearn.metrics import balanced_accuracy_score\n",
        "balanced_acc = balanced_accuracy_score(y_test,random_search_RF.best_estimator_.predict(textos_test))\n",
        "print(color.BOLD+\"A acurácia balanceada nos dados de teste: {0:.4f}\".format(balanced_acc)+color.END)"
      ]
    },
    {
      "cell_type": "markdown",
      "metadata": {
        "id": "ISFl8QMDD1xD"
      },
      "source": [
        "# Pipeline 6: WOS + TF-IDF"
      ]
    },
    {
      "cell_type": "code",
      "execution_count": 54,
      "metadata": {
        "id": "V9CHLv6yD0Yy"
      },
      "outputs": [],
      "source": [
        "#TF-IDF\n",
        "from sklearn.feature_extraction.text import TfidfVectorizer\n",
        "from sklearn import preprocessing\n",
        "import pandas as pd\n",
        "import numpy as np\n",
        "import pickle\n",
        "from sklearn.pipeline import make_pipeline\n",
        "dataset = 'TC14_wos'\n",
        "model_name = 'TFIDF'\n",
        "df = pd.read_csv(f'Arquivos TCC/datasets/{dataset}.csv', sep=';')\n",
        "df = df.dropna()\n",
        "textos = df['text'].values.tolist()\n",
        "from sklearn.neighbors import KNeighborsClassifier\n",
        "from sklearn.linear_model import LogisticRegression\n",
        "from sklearn.model_selection import RandomizedSearchCV\n",
        "from sklearn.model_selection import StratifiedKFold\n",
        "from sklearn.metrics import balanced_accuracy_score\n",
        "from sklearn.model_selection import cross_validate\n",
        "cv = StratifiedKFold(n_splits=10, shuffle=True, random_state=random_state)\n",
        "labels = df['label']\n",
        "labels_enc = preprocessing.LabelEncoder().fit_transform(labels)\n",
        "#Split hold-out test data\n",
        "from sklearn.model_selection import train_test_split\n",
        "textos_train, textos_test, y_train, y_test = train_test_split(textos, labels_enc, test_size=0.10, random_state=random_state,stratify=labels_enc)"
      ]
    },
    {
      "cell_type": "code",
      "execution_count": 55,
      "metadata": {
        "colab": {
          "base_uri": "https://localhost:8080/"
        },
        "id": "6J5nEjXhEKYZ",
        "outputId": "e0ac5c56-07c9-4567-eaf0-baf81b975a93"
      },
      "outputs": [
        {
          "name": "stdout",
          "output_type": "stream",
          "text": [
            "A acurácia balanceada nos dados de teste: 0.709\n"
          ]
        }
      ],
      "source": [
        "KNN = KNeighborsClassifier(n_neighbors=150, p = 2, weights='distance')\n",
        "KNN.fit(X_train, y_train)\n",
        "from sklearn.metrics import balanced_accuracy_score\n",
        "balanced_acc = balanced_accuracy_score(y_test,KNN.predict(X_test))\n",
        "print(\"A acurácia balanceada nos dados de teste: {0:.3f}\".format(balanced_acc))"
      ]
    },
    {
      "cell_type": "code",
      "execution_count": 56,
      "metadata": {
        "colab": {
          "base_uri": "https://localhost:8080/"
        },
        "id": "sxwULIQzEKS6",
        "outputId": "8f345e3c-be74-4140-a496-cda8ceaa1e6a"
      },
      "outputs": [
        {
          "name": "stdout",
          "output_type": "stream",
          "text": [
            "A acurácia balanceada nos dados de teste: 0.747\n"
          ]
        }
      ],
      "source": [
        "LR = LogisticRegression(C=10, solver='sag', multi_class='multinomial', random_state=random_state, n_jobs=-1, tol = 1e-4, max_iter=200)\n",
        "LR.fit(X_train, y_train)\n",
        "from sklearn.metrics import balanced_accuracy_score\n",
        "balanced_acc = balanced_accuracy_score(y_test,LR.predict(X_test))\n",
        "print(\"A acurácia balanceada nos dados de teste: {0:.3f}\".format(balanced_acc))"
      ]
    },
    {
      "cell_type": "markdown",
      "metadata": {
        "id": "7L8djSDlGvTc"
      },
      "source": [
        "**KNN**"
      ]
    },
    {
      "cell_type": "code",
      "execution_count": 57,
      "metadata": {
        "colab": {
          "base_uri": "https://localhost:8080/"
        },
        "id": "OHOizKx1GvTd",
        "outputId": "14d8b24d-f2af-42d5-a5cb-9c2a6e01c8b3"
      },
      "outputs": [
        {
          "name": "stdout",
          "output_type": "stream",
          "text": [
            "RandomizedSearchCV took 43.29 seconds for 10 candidates parameter settings.\n",
            "\u001b[1mModel with rank: 1\u001b[0m\n",
            "\u001b[1mMean validation score: 0.7016 (std: 0.0133)\u001b[0m\n",
            "\u001b[1mParameters: {'kneighborsclassifier__weights': 'distance', 'kneighborsclassifier__p': 2, 'kneighborsclassifier__n_neighbors': 201}\u001b[0m\n",
            "\n",
            "\u001b[1mModel with rank: 2\u001b[0m\n",
            "\u001b[1mMean validation score: 0.6993 (std: 0.0105)\u001b[0m\n",
            "\u001b[1mParameters: {'kneighborsclassifier__weights': 'distance', 'kneighborsclassifier__p': 2, 'kneighborsclassifier__n_neighbors': 151}\u001b[0m\n",
            "\n",
            "\u001b[1mModel with rank: 3\u001b[0m\n",
            "\u001b[1mMean validation score: 0.6966 (std: 0.0119)\u001b[0m\n",
            "\u001b[1mParameters: {'kneighborsclassifier__weights': 'distance', 'kneighborsclassifier__p': 2, 'kneighborsclassifier__n_neighbors': 101}\u001b[0m\n",
            "\n"
          ]
        }
      ],
      "source": [
        "clf_KNN = KNeighborsClassifier()\n",
        "param_dist_KNN_pipeline = {\n",
        "    'kneighborsclassifier__n_neighbors': [3,5,11,21,51,101,151,201],\n",
        "    'kneighborsclassifier__p': [2],\n",
        "    'kneighborsclassifier__weights' :[\"uniform\",\"distance\"]\n",
        "}\n",
        "pipeline_KNN = make_pipeline(TfidfVectorizer(stop_words='english',smooth_idf=True), clf_KNN)\n",
        "n_it=10\n",
        "random_search_KNN = RandomizedSearchCV(\n",
        "    pipeline_KNN, param_distributions=param_dist_KNN_pipeline, n_iter=n_it, cv = cv, random_state = random_state, verbose = 2, scoring='balanced_accuracy', n_jobs=-1\n",
        ")\n",
        "start = time()\n",
        "random_search_KNN.fit(textos_train, y_train)\n",
        "clear_output()\n",
        "print(\n",
        "    \"RandomizedSearchCV took %.2f seconds for %d candidates parameter settings.\"\n",
        "    % ((time() - start), n_it)\n",
        ")\n",
        "report(random_search_KNN.cv_results_, f'{dataset}+{model_name}+KNN')"
      ]
    },
    {
      "cell_type": "code",
      "execution_count": 58,
      "metadata": {
        "colab": {
          "base_uri": "https://localhost:8080/"
        },
        "id": "sJ5QyWRjGvTd",
        "outputId": "5c1711c9-77dd-467e-e298-40ce15ba92fa"
      },
      "outputs": [
        {
          "name": "stdout",
          "output_type": "stream",
          "text": [
            "\u001b[1mA acurácia balanceada nos dados de teste: 0.6987\u001b[0m\n"
          ]
        }
      ],
      "source": [
        "from sklearn.metrics import balanced_accuracy_score\n",
        "balanced_acc = balanced_accuracy_score(y_test,random_search_KNN.best_estimator_.predict(textos_test))\n",
        "print(color.BOLD+\"A acurácia balanceada nos dados de teste: {0:.4f}\".format(balanced_acc)+color.END)"
      ]
    },
    {
      "cell_type": "markdown",
      "metadata": {
        "id": "AJ8PCWKSGvTd"
      },
      "source": [
        "**Logistic Regression**"
      ]
    },
    {
      "cell_type": "code",
      "execution_count": 59,
      "metadata": {
        "colab": {
          "base_uri": "https://localhost:8080/"
        },
        "id": "7PmnL0aIGvTe",
        "outputId": "45c38414-b4c4-4647-bb8a-fb98fc0c4352"
      },
      "outputs": [
        {
          "name": "stdout",
          "output_type": "stream",
          "text": [
            "RandomizedSearchCV took 36.85 seconds for 6 candidates parameter settings.\n",
            "\u001b[1mModel with rank: 1\u001b[0m\n",
            "\u001b[1mMean validation score: 0.8192 (std: 0.0156)\u001b[0m\n",
            "\u001b[1mParameters: {'logisticregression__C': 10}\u001b[0m\n",
            "\n",
            "\u001b[1mModel with rank: 2\u001b[0m\n",
            "\u001b[1mMean validation score: 0.8080 (std: 0.0140)\u001b[0m\n",
            "\u001b[1mParameters: {'logisticregression__C': 1}\u001b[0m\n",
            "\n",
            "\u001b[1mModel with rank: 3\u001b[0m\n",
            "\u001b[1mMean validation score: 0.6967 (std: 0.0106)\u001b[0m\n",
            "\u001b[1mParameters: {'logisticregression__C': 0.1}\u001b[0m\n",
            "\n"
          ]
        }
      ],
      "source": [
        "clf_LR = LogisticRegression(random_state=random_state,multi_class='multinomial', solver='sag', tol= 1e-4,max_iter=300)\n",
        "param_dist_LR_pipeline = {\n",
        "    'logisticregression__C': [0.1,1,10],\n",
        "    \"logisticregression__penalty\": [\"l2\", \"none\"]\n",
        "}\n",
        "pipeline_LR = make_pipeline(TfidfVectorizer(stop_words='english',smooth_idf=True), clf_LR)\n",
        "n_it = 6\n",
        "random_search_LR = RandomizedSearchCV(\n",
        "    pipeline_LR, param_distributions=param_dist_LR_pipeline, n_iter=n_it, cv = cv, random_state = random_state, verbose = 2, scoring='balanced_accuracy', n_jobs=-1\n",
        ")\n",
        "start = time()\n",
        "random_search_LR.fit(textos_train, y_train)\n",
        "clear_output()\n",
        "print(\n",
        "    \"RandomizedSearchCV took %.2f seconds for %d candidates parameter settings.\"\n",
        "    % ((time() - start), n_it)\n",
        ")\n",
        "report(random_search_LR.cv_results_, f'{dataset}+{model_name}+LR')"
      ]
    },
    {
      "cell_type": "code",
      "execution_count": 60,
      "metadata": {
        "colab": {
          "base_uri": "https://localhost:8080/"
        },
        "id": "D8upf5DFGvTe",
        "outputId": "51314180-06e0-4141-bb2d-670382c57e6e"
      },
      "outputs": [
        {
          "name": "stdout",
          "output_type": "stream",
          "text": [
            "\u001b[1mA acurácia balanceada nos dados de teste: 0.8092\u001b[0m\n"
          ]
        }
      ],
      "source": [
        "from sklearn.metrics import balanced_accuracy_score\n",
        "balanced_acc = balanced_accuracy_score(y_test,random_search_LR.best_estimator_.predict(textos_test))\n",
        "print(color.BOLD+\"A acurácia balanceada nos dados de teste: {0:.4f}\".format(balanced_acc)+color.END)"
      ]
    },
    {
      "cell_type": "markdown",
      "metadata": {
        "id": "iGttvrJXGvTe"
      },
      "source": [
        "**SVC**"
      ]
    },
    {
      "cell_type": "code",
      "execution_count": 61,
      "metadata": {
        "colab": {
          "base_uri": "https://localhost:8080/"
        },
        "id": "R1l8rnW4GvTe",
        "outputId": "27956f18-7186-4bb8-bb37-f31bfc955f9c"
      },
      "outputs": [
        {
          "name": "stdout",
          "output_type": "stream",
          "text": [
            "RandomizedSearchCV took 19.41 seconds for 6 candidates parameter settings.\n",
            "\u001b[1mModel with rank: 1\u001b[0m\n",
            "\u001b[1mMean validation score: 0.8239 (std: 0.0147)\u001b[0m\n",
            "\u001b[1mParameters: {'linearsvc__C': 1}\u001b[0m\n",
            "\n",
            "\u001b[1mModel with rank: 2\u001b[0m\n",
            "\u001b[1mMean validation score: 0.8167 (std: 0.0153)\u001b[0m\n",
            "\u001b[1mParameters: {'linearsvc__C': 0.1}\u001b[0m\n",
            "\n",
            "\u001b[1mModel with rank: 3\u001b[0m\n",
            "\u001b[1mMean validation score: 0.8144 (std: 0.0142)\u001b[0m\n",
            "\u001b[1mParameters: {'linearsvc__C': 10}\u001b[0m\n",
            "\n"
          ]
        }
      ],
      "source": [
        "from sklearn.svm import LinearSVC\n",
        "clf_SVC = LinearSVC(random_state=random_state, tol=1e-4)\n",
        "param_dist_SVC_pipeline = {\n",
        "    'linearsvc__C': [1e-1,1,10],\n",
        "    \"linearsvc__penalty\": [\"l2\", \"none\"]\n",
        "    }\n",
        "pipeline_SVC = make_pipeline(TfidfVectorizer(stop_words='english',smooth_idf=True), clf_SVC)\n",
        "n_it = 6\n",
        "random_search_SVC = RandomizedSearchCV(\n",
        "    pipeline_SVC, param_distributions=param_dist_SVC_pipeline, n_iter=n_it, cv = cv, random_state = random_state, verbose = 2, scoring='balanced_accuracy', n_jobs=-1\n",
        ")\n",
        "start = time()\n",
        "random_search_SVC.fit(textos_train, y_train)\n",
        "clear_output()\n",
        "print(\n",
        "    \"RandomizedSearchCV took %.2f seconds for %d candidates parameter settings.\"\n",
        "    % ((time() - start), n_it)\n",
        ")\n",
        "report(random_search_SVC.cv_results_, f'{dataset}+{model_name}+SVC')"
      ]
    },
    {
      "cell_type": "code",
      "execution_count": 62,
      "metadata": {
        "colab": {
          "base_uri": "https://localhost:8080/"
        },
        "id": "--jJ3AjDGvTe",
        "outputId": "c22dcb84-109c-4f53-9d1d-a3f585c76c49"
      },
      "outputs": [
        {
          "name": "stdout",
          "output_type": "stream",
          "text": [
            "\u001b[1mA acurácia balanceada nos dados de teste: 0.8229\u001b[0m\n"
          ]
        }
      ],
      "source": [
        "from sklearn.metrics import balanced_accuracy_score\n",
        "balanced_acc = balanced_accuracy_score(y_test,random_search_SVC.best_estimator_.predict(textos_test))\n",
        "print(color.BOLD+\"A acurácia balanceada nos dados de teste: {0:.4f}\".format(balanced_acc)+color.END)"
      ]
    },
    {
      "cell_type": "code",
      "execution_count": 63,
      "metadata": {
        "id": "4Y4kJpM0GvTf"
      },
      "outputs": [
        {
          "name": "stdout",
          "output_type": "stream",
          "text": [
            "RandomizedSearchCV took 66.93 seconds for 10 candidates parameter settings.\n",
            "\u001b[1mModel with rank: 1\u001b[0m\n",
            "\u001b[1mMean validation score: 0.8429 (std: 0.0128)\u001b[0m\n",
            "\u001b[1mParameters: {'randomforestclassifier__n_estimators': 100}\u001b[0m\n",
            "\n",
            "\u001b[1mModel with rank: 2\u001b[0m\n",
            "\u001b[1mMean validation score: 0.8266 (std: 0.0116)\u001b[0m\n",
            "\u001b[1mParameters: {'randomforestclassifier__n_estimators': 50}\u001b[0m\n",
            "\n",
            "\u001b[1mModel with rank: 3\u001b[0m\n",
            "\u001b[1mMean validation score: 0.6943 (std: 0.0172)\u001b[0m\n",
            "\u001b[1mParameters: {'randomforestclassifier__n_estimators': 10}\u001b[0m\n",
            "\n",
            "\u001b[1mA acurácia balanceada nos dados de teste: 0.8450\u001b[0m\n"
          ]
        }
      ],
      "source": [
        "from sklearn.ensemble import RandomForestClassifier\n",
        "clf_RF = RandomForestClassifier(random_state=random_state)\n",
        "param_dist_RF_pipeline = {\n",
        "    'randomforestclassifier__n_estimators': [10,50,100,200],\n",
        "    }\n",
        "pipeline_RF = make_pipeline(TfidfVectorizer(stop_words='english',smooth_idf=True), clf_RF)\n",
        "n_it = 10\n",
        "random_search_RF = RandomizedSearchCV(\n",
        "    pipeline_RF, param_distributions=param_dist_RF_pipeline, n_iter=n_it, cv = cv, random_state = random_state, verbose = 2, scoring='balanced_accuracy', n_jobs=-1\n",
        ")\n",
        "start = time()\n",
        "random_search_RF.fit(textos_train, y_train)\n",
        "clear_output()\n",
        "print(\n",
        "    \"RandomizedSearchCV took %.2f seconds for %d candidates parameter settings.\"\n",
        "    % ((time() - start), n_it)\n",
        ")\n",
        "report(random_search_RF.cv_results_, f'{dataset}+{model_name}+RF')\n",
        "from sklearn.metrics import balanced_accuracy_score\n",
        "balanced_acc = balanced_accuracy_score(y_test,random_search_RF.best_estimator_.predict(textos_test))\n",
        "print(color.BOLD+\"A acurácia balanceada nos dados de teste: {0:.4f}\".format(balanced_acc)+color.END)"
      ]
    },
    {
      "cell_type": "code",
      "execution_count": null,
      "metadata": {
        "id": "7HJ45UahGvTf"
      },
      "outputs": [],
      "source": []
    },
    {
      "cell_type": "markdown",
      "metadata": {
        "id": "q8Gl7Q5Ry5mW"
      },
      "source": [
        "# Testes Resultados\n"
      ]
    },
    {
      "cell_type": "code",
      "execution_count": 64,
      "metadata": {
        "id": "vV0qMGYwz7HF"
      },
      "outputs": [],
      "source": [
        "#K-fold cross validation strategy and import dependencies\n",
        "from sklearn.neighbors import KNeighborsClassifier\n",
        "from sklearn.linear_model import LogisticRegression\n",
        "from sklearn.model_selection import RandomizedSearchCV\n",
        "from sklearn.model_selection import StratifiedKFold\n",
        "from sklearn.metrics import balanced_accuracy_score\n",
        "from sklearn.model_selection import cross_validate\n",
        "cv = StratifiedKFold(n_splits=10, shuffle=True, random_state=random_state)"
      ]
    },
    {
      "cell_type": "code",
      "execution_count": 65,
      "metadata": {
        "id": "t2_uyx00t35i"
      },
      "outputs": [],
      "source": [
        "best_KNN = KNeighborsClassifier(n_neighbors=2, p = 1, weights='distance', algorithm='ball_tree')\n",
        "cv_results = cross_validate(best_KNN, X_train, y_train, cv=cv, n_jobs=-1, scoring='balanced_accuracy')"
      ]
    },
    {
      "cell_type": "code",
      "execution_count": 66,
      "metadata": {
        "colab": {
          "base_uri": "https://localhost:8080/"
        },
        "id": "6V2Mr8-otyBD",
        "outputId": "310665e8-b27c-447f-dc21-449c565dd152"
      },
      "outputs": [
        {
          "data": {
            "text/plain": [
              "0.6676216753111552"
            ]
          },
          "execution_count": 66,
          "metadata": {},
          "output_type": "execute_result"
        }
      ],
      "source": [
        "cv_results['test_score'].mean()"
      ]
    },
    {
      "cell_type": "code",
      "execution_count": null,
      "metadata": {
        "id": "7Q2EMpb4tx5a"
      },
      "outputs": [],
      "source": []
    },
    {
      "cell_type": "code",
      "execution_count": null,
      "metadata": {
        "id": "gL8YrP1lQB2E"
      },
      "outputs": [],
      "source": []
    },
    {
      "cell_type": "code",
      "execution_count": null,
      "metadata": {
        "id": "i9Sn-_IpQBqd"
      },
      "outputs": [],
      "source": []
    },
    {
      "cell_type": "code",
      "execution_count": null,
      "metadata": {
        "id": "7K_QkJaeQBnu"
      },
      "outputs": [],
      "source": []
    },
    {
      "cell_type": "code",
      "execution_count": 67,
      "metadata": {
        "id": "mMuKFLt6QBks"
      },
      "outputs": [],
      "source": [
        "df_cv = pd.read_csv('Arquivos TCC/perfomance_cv.csv')"
      ]
    },
    {
      "cell_type": "code",
      "execution_count": 68,
      "metadata": {
        "colab": {
          "base_uri": "https://localhost:8080/",
          "height": 162
        },
        "id": "90AN6jItQBhr",
        "outputId": "02da8c1d-1d92-49be-faf9-1e33a20bfe12"
      },
      "outputs": [
        {
          "data": {
            "text/html": [
              "<div>\n",
              "<style scoped>\n",
              "    .dataframe tbody tr th:only-of-type {\n",
              "        vertical-align: middle;\n",
              "    }\n",
              "\n",
              "    .dataframe tbody tr th {\n",
              "        vertical-align: top;\n",
              "    }\n",
              "\n",
              "    .dataframe thead th {\n",
              "        text-align: right;\n",
              "    }\n",
              "</style>\n",
              "<table border=\"1\" class=\"dataframe\">\n",
              "  <thead>\n",
              "    <tr style=\"text-align: right;\">\n",
              "      <th></th>\n",
              "      <th>split0_test_score</th>\n",
              "      <th>split1_test_score</th>\n",
              "      <th>split2_test_score</th>\n",
              "      <th>split3_test_score</th>\n",
              "      <th>split4_test_score</th>\n",
              "      <th>split5_test_score</th>\n",
              "      <th>split6_test_score</th>\n",
              "      <th>split7_test_score</th>\n",
              "      <th>split8_test_score</th>\n",
              "      <th>split9_test_score</th>\n",
              "      <th>pipeline</th>\n",
              "      <th>params</th>\n",
              "    </tr>\n",
              "  </thead>\n",
              "  <tbody>\n",
              "    <tr>\n",
              "      <th>0</th>\n",
              "      <td>0.746498</td>\n",
              "      <td>0.729844</td>\n",
              "      <td>0.742484</td>\n",
              "      <td>0.750318</td>\n",
              "      <td>0.736504</td>\n",
              "      <td>0.753034</td>\n",
              "      <td>0.758034</td>\n",
              "      <td>0.735843</td>\n",
              "      <td>0.748102</td>\n",
              "      <td>0.735337</td>\n",
              "      <td>TC02_20news+all-MiniLM-L6-v2+LR</td>\n",
              "      <td>{'C': 0.1}</td>\n",
              "    </tr>\n",
              "    <tr>\n",
              "      <th>1</th>\n",
              "      <td>0.844875</td>\n",
              "      <td>0.813789</td>\n",
              "      <td>0.808652</td>\n",
              "      <td>0.828727</td>\n",
              "      <td>0.810456</td>\n",
              "      <td>0.825830</td>\n",
              "      <td>0.825880</td>\n",
              "      <td>0.835406</td>\n",
              "      <td>0.814313</td>\n",
              "      <td>0.827628</td>\n",
              "      <td>TC02_20news+all-MiniLM-L6-v2+KNN</td>\n",
              "      <td>{'weights': 'distance', 'p': 1, 'n_neighbors': 3}</td>\n",
              "    </tr>\n",
              "    <tr>\n",
              "      <th>2</th>\n",
              "      <td>0.785418</td>\n",
              "      <td>0.761511</td>\n",
              "      <td>0.767484</td>\n",
              "      <td>0.784788</td>\n",
              "      <td>0.772634</td>\n",
              "      <td>0.786423</td>\n",
              "      <td>0.787553</td>\n",
              "      <td>0.773096</td>\n",
              "      <td>0.774763</td>\n",
              "      <td>0.788702</td>\n",
              "      <td>TC02_20news+all-MiniLM-L6-v2+LR</td>\n",
              "      <td>{'C': 10}</td>\n",
              "    </tr>\n",
              "    <tr>\n",
              "      <th>3</th>\n",
              "      <td>0.781523</td>\n",
              "      <td>0.757634</td>\n",
              "      <td>0.770830</td>\n",
              "      <td>0.786479</td>\n",
              "      <td>0.769856</td>\n",
              "      <td>0.781960</td>\n",
              "      <td>0.794245</td>\n",
              "      <td>0.768127</td>\n",
              "      <td>0.779245</td>\n",
              "      <td>0.785387</td>\n",
              "      <td>TC02_20news+all-MiniLM-L6-v2+SVC</td>\n",
              "      <td>{'C': 1}</td>\n",
              "    </tr>\n",
              "    <tr>\n",
              "      <th>4</th>\n",
              "      <td>0.822653</td>\n",
              "      <td>0.814338</td>\n",
              "      <td>0.809732</td>\n",
              "      <td>0.824270</td>\n",
              "      <td>0.819307</td>\n",
              "      <td>0.820899</td>\n",
              "      <td>0.817572</td>\n",
              "      <td>0.829844</td>\n",
              "      <td>0.817079</td>\n",
              "      <td>0.822097</td>\n",
              "      <td>TC02_20news+all-MiniLM-L12-v2+KNN</td>\n",
              "      <td>{'weights': 'distance', 'p': 1, 'n_neighbors': 3}</td>\n",
              "    </tr>\n",
              "    <tr>\n",
              "      <th>5</th>\n",
              "      <td>0.780955</td>\n",
              "      <td>0.775993</td>\n",
              "      <td>0.771935</td>\n",
              "      <td>0.762541</td>\n",
              "      <td>0.773196</td>\n",
              "      <td>0.765262</td>\n",
              "      <td>0.779213</td>\n",
              "      <td>0.774201</td>\n",
              "      <td>0.774176</td>\n",
              "      <td>0.764763</td>\n",
              "      <td>TC02_20news+all-MiniLM-L12-v2+LR</td>\n",
              "      <td>{'C': 10}</td>\n",
              "    </tr>\n",
              "    <tr>\n",
              "      <th>6</th>\n",
              "      <td>0.774856</td>\n",
              "      <td>0.774881</td>\n",
              "      <td>0.774139</td>\n",
              "      <td>0.775343</td>\n",
              "      <td>0.773745</td>\n",
              "      <td>0.775843</td>\n",
              "      <td>0.781436</td>\n",
              "      <td>0.778670</td>\n",
              "      <td>0.771985</td>\n",
              "      <td>0.767578</td>\n",
              "      <td>TC02_20news+all-MiniLM-L12-v2+SVC</td>\n",
              "      <td>{'C': 1}</td>\n",
              "    </tr>\n",
              "    <tr>\n",
              "      <th>7</th>\n",
              "      <td>0.767507</td>\n",
              "      <td>0.752724</td>\n",
              "      <td>0.741839</td>\n",
              "      <td>0.728256</td>\n",
              "      <td>0.741307</td>\n",
              "      <td>0.753414</td>\n",
              "      <td>0.758569</td>\n",
              "      <td>0.752884</td>\n",
              "      <td>0.738314</td>\n",
              "      <td>0.753632</td>\n",
              "      <td>TC14_wos+all-MiniLM-L6-v2+KNN</td>\n",
              "      <td>{'weights': 'distance', 'p': 2, 'n_neighbors':...</td>\n",
              "    </tr>\n",
              "    <tr>\n",
              "      <th>8</th>\n",
              "      <td>0.792379</td>\n",
              "      <td>0.792123</td>\n",
              "      <td>0.779848</td>\n",
              "      <td>0.760539</td>\n",
              "      <td>0.775306</td>\n",
              "      <td>0.781250</td>\n",
              "      <td>0.795834</td>\n",
              "      <td>0.764415</td>\n",
              "      <td>0.770571</td>\n",
              "      <td>0.790859</td>\n",
              "      <td>TC14_wos+all-MiniLM-L6-v2+LR</td>\n",
              "      <td>{'C': 1}</td>\n",
              "    </tr>\n",
              "    <tr>\n",
              "      <th>9</th>\n",
              "      <td>0.794099</td>\n",
              "      <td>0.796451</td>\n",
              "      <td>0.780187</td>\n",
              "      <td>0.767930</td>\n",
              "      <td>0.776353</td>\n",
              "      <td>0.782674</td>\n",
              "      <td>0.800438</td>\n",
              "      <td>0.764082</td>\n",
              "      <td>0.771376</td>\n",
              "      <td>0.789538</td>\n",
              "      <td>TC14_wos+all-MiniLM-L6-v2+SVC</td>\n",
              "      <td>{'C': 0.1}</td>\n",
              "    </tr>\n",
              "    <tr>\n",
              "      <th>10</th>\n",
              "      <td>0.748923</td>\n",
              "      <td>0.738346</td>\n",
              "      <td>0.723196</td>\n",
              "      <td>0.716358</td>\n",
              "      <td>0.729923</td>\n",
              "      <td>0.729254</td>\n",
              "      <td>0.734434</td>\n",
              "      <td>0.734237</td>\n",
              "      <td>0.718763</td>\n",
              "      <td>0.723166</td>\n",
              "      <td>TC14_wos+all-MiniLM-L12-v2+KNN</td>\n",
              "      <td>{'weights': 'distance', 'p': 2, 'n_neighbors':...</td>\n",
              "    </tr>\n",
              "    <tr>\n",
              "      <th>11</th>\n",
              "      <td>0.777105</td>\n",
              "      <td>0.766694</td>\n",
              "      <td>0.762247</td>\n",
              "      <td>0.748348</td>\n",
              "      <td>0.759560</td>\n",
              "      <td>0.754774</td>\n",
              "      <td>0.766002</td>\n",
              "      <td>0.753146</td>\n",
              "      <td>0.761009</td>\n",
              "      <td>0.753210</td>\n",
              "      <td>TC14_wos+all-MiniLM-L12-v2+LR</td>\n",
              "      <td>{'C': 1}</td>\n",
              "    </tr>\n",
              "    <tr>\n",
              "      <th>12</th>\n",
              "      <td>0.771875</td>\n",
              "      <td>0.771798</td>\n",
              "      <td>0.757116</td>\n",
              "      <td>0.748363</td>\n",
              "      <td>0.755377</td>\n",
              "      <td>0.750924</td>\n",
              "      <td>0.770836</td>\n",
              "      <td>0.752591</td>\n",
              "      <td>0.751234</td>\n",
              "      <td>0.755198</td>\n",
              "      <td>TC14_wos+all-MiniLM-L12-v2+SVC</td>\n",
              "      <td>{'C': 0.1}</td>\n",
              "    </tr>\n",
              "    <tr>\n",
              "      <th>13</th>\n",
              "      <td>0.748152</td>\n",
              "      <td>0.749282</td>\n",
              "      <td>0.749744</td>\n",
              "      <td>0.749788</td>\n",
              "      <td>0.748702</td>\n",
              "      <td>0.761810</td>\n",
              "      <td>0.754182</td>\n",
              "      <td>0.772422</td>\n",
              "      <td>0.750749</td>\n",
              "      <td>0.749089</td>\n",
              "      <td>TC02_20news+TFIDF+KNN</td>\n",
              "      <td>{'kneighborsclassifier__weights': 'uniform', '...</td>\n",
              "    </tr>\n",
              "    <tr>\n",
              "      <th>14</th>\n",
              "      <td>0.775437</td>\n",
              "      <td>0.790999</td>\n",
              "      <td>0.790905</td>\n",
              "      <td>0.788727</td>\n",
              "      <td>0.788745</td>\n",
              "      <td>0.779170</td>\n",
              "      <td>0.781479</td>\n",
              "      <td>0.808140</td>\n",
              "      <td>0.794888</td>\n",
              "      <td>0.768677</td>\n",
              "      <td>TC02_20news+TFIDF+LR</td>\n",
              "      <td>{'logisticregression__C': 0.1}</td>\n",
              "    </tr>\n",
              "    <tr>\n",
              "      <th>15</th>\n",
              "      <td>0.841586</td>\n",
              "      <td>0.851604</td>\n",
              "      <td>0.862029</td>\n",
              "      <td>0.857135</td>\n",
              "      <td>0.854931</td>\n",
              "      <td>0.852584</td>\n",
              "      <td>0.853770</td>\n",
              "      <td>0.861561</td>\n",
              "      <td>0.848789</td>\n",
              "      <td>0.849869</td>\n",
              "      <td>TC02_20news+TFIDF+SVC</td>\n",
              "      <td>{'linearsvc__C': 1}</td>\n",
              "    </tr>\n",
              "    <tr>\n",
              "      <th>16</th>\n",
              "      <td>0.679917</td>\n",
              "      <td>0.718640</td>\n",
              "      <td>0.708037</td>\n",
              "      <td>0.692955</td>\n",
              "      <td>0.719004</td>\n",
              "      <td>0.713504</td>\n",
              "      <td>0.685356</td>\n",
              "      <td>0.694801</td>\n",
              "      <td>0.709901</td>\n",
              "      <td>0.693858</td>\n",
              "      <td>TC14_wos+TFIDF+KNN</td>\n",
              "      <td>{'kneighborsclassifier__weights': 'distance', ...</td>\n",
              "    </tr>\n",
              "    <tr>\n",
              "      <th>17</th>\n",
              "      <td>0.808159</td>\n",
              "      <td>0.841952</td>\n",
              "      <td>0.810501</td>\n",
              "      <td>0.833717</td>\n",
              "      <td>0.837343</td>\n",
              "      <td>0.816019</td>\n",
              "      <td>0.800357</td>\n",
              "      <td>0.801311</td>\n",
              "      <td>0.836752</td>\n",
              "      <td>0.805811</td>\n",
              "      <td>TC14_wos+TFIDF+LR</td>\n",
              "      <td>{'logisticregression__C': 10}</td>\n",
              "    </tr>\n",
              "    <tr>\n",
              "      <th>18</th>\n",
              "      <td>0.825526</td>\n",
              "      <td>0.839649</td>\n",
              "      <td>0.812014</td>\n",
              "      <td>0.830556</td>\n",
              "      <td>0.848779</td>\n",
              "      <td>0.828312</td>\n",
              "      <td>0.805687</td>\n",
              "      <td>0.801958</td>\n",
              "      <td>0.835230</td>\n",
              "      <td>0.811292</td>\n",
              "      <td>TC14_wos+TFIDF+SVC</td>\n",
              "      <td>{'linearsvc__C': 1}</td>\n",
              "    </tr>\n",
              "    <tr>\n",
              "      <th>19</th>\n",
              "      <td>0.778783</td>\n",
              "      <td>0.753202</td>\n",
              "      <td>0.752497</td>\n",
              "      <td>0.762566</td>\n",
              "      <td>0.764863</td>\n",
              "      <td>0.765818</td>\n",
              "      <td>0.772497</td>\n",
              "      <td>0.767541</td>\n",
              "      <td>0.763689</td>\n",
              "      <td>0.761467</td>\n",
              "      <td>TC02_20news+all-MiniLM-L6-v2+RF</td>\n",
              "      <td>{'n_estimators': 200}</td>\n",
              "    </tr>\n",
              "    <tr>\n",
              "      <th>20</th>\n",
              "      <td>0.834351</td>\n",
              "      <td>0.843271</td>\n",
              "      <td>0.852029</td>\n",
              "      <td>0.848233</td>\n",
              "      <td>0.846592</td>\n",
              "      <td>0.845356</td>\n",
              "      <td>0.838202</td>\n",
              "      <td>0.850999</td>\n",
              "      <td>0.844338</td>\n",
              "      <td>0.838184</td>\n",
              "      <td>TC02_20news+TFIDF+LR</td>\n",
              "      <td>{'logisticregression__C': 10}</td>\n",
              "    </tr>\n",
              "    <tr>\n",
              "      <th>21</th>\n",
              "      <td>0.782665</td>\n",
              "      <td>0.775993</td>\n",
              "      <td>0.756916</td>\n",
              "      <td>0.771417</td>\n",
              "      <td>0.784320</td>\n",
              "      <td>0.778614</td>\n",
              "      <td>0.769763</td>\n",
              "      <td>0.778664</td>\n",
              "      <td>0.753159</td>\n",
              "      <td>0.759806</td>\n",
              "      <td>TC02_20news+all-MiniLM-L12-v2+RF</td>\n",
              "      <td>{'n_estimators': 200}</td>\n",
              "    </tr>\n",
              "    <tr>\n",
              "      <th>22</th>\n",
              "      <td>0.781548</td>\n",
              "      <td>0.786579</td>\n",
              "      <td>0.799182</td>\n",
              "      <td>0.798171</td>\n",
              "      <td>0.783190</td>\n",
              "      <td>0.772484</td>\n",
              "      <td>0.772060</td>\n",
              "      <td>0.801498</td>\n",
              "      <td>0.785980</td>\n",
              "      <td>0.785936</td>\n",
              "      <td>TC02_20news+TFIDF+RF</td>\n",
              "      <td>{'randomforestclassifier__n_estimators': 100}</td>\n",
              "    </tr>\n",
              "    <tr>\n",
              "      <th>23</th>\n",
              "      <td>0.750304</td>\n",
              "      <td>0.735134</td>\n",
              "      <td>0.726965</td>\n",
              "      <td>0.721424</td>\n",
              "      <td>0.721628</td>\n",
              "      <td>0.744466</td>\n",
              "      <td>0.741177</td>\n",
              "      <td>0.733135</td>\n",
              "      <td>0.710150</td>\n",
              "      <td>0.727927</td>\n",
              "      <td>TC14_wos+all-MiniLM-L6-v2+RF</td>\n",
              "      <td>{'n_estimators': 200}</td>\n",
              "    </tr>\n",
              "    <tr>\n",
              "      <th>24</th>\n",
              "      <td>0.736690</td>\n",
              "      <td>0.728456</td>\n",
              "      <td>0.716963</td>\n",
              "      <td>0.702302</td>\n",
              "      <td>0.702770</td>\n",
              "      <td>0.712681</td>\n",
              "      <td>0.732511</td>\n",
              "      <td>0.707740</td>\n",
              "      <td>0.702009</td>\n",
              "      <td>0.718048</td>\n",
              "      <td>TC14_wos+all-MiniLM-L12-v2+RF</td>\n",
              "      <td>{'n_estimators': 200}</td>\n",
              "    </tr>\n",
              "    <tr>\n",
              "      <th>25</th>\n",
              "      <td>0.818404</td>\n",
              "      <td>0.855694</td>\n",
              "      <td>0.851834</td>\n",
              "      <td>0.852233</td>\n",
              "      <td>0.839215</td>\n",
              "      <td>0.847126</td>\n",
              "      <td>0.845872</td>\n",
              "      <td>0.823877</td>\n",
              "      <td>0.859097</td>\n",
              "      <td>0.835529</td>\n",
              "      <td>TC14_wos+TFIDF+RF</td>\n",
              "      <td>{'randomforestclassifier__n_estimators': 100}</td>\n",
              "    </tr>\n",
              "    <tr>\n",
              "      <th>26</th>\n",
              "      <td>0.818404</td>\n",
              "      <td>0.855694</td>\n",
              "      <td>0.851834</td>\n",
              "      <td>0.852233</td>\n",
              "      <td>0.839215</td>\n",
              "      <td>0.847126</td>\n",
              "      <td>0.845872</td>\n",
              "      <td>0.823877</td>\n",
              "      <td>0.859097</td>\n",
              "      <td>0.835529</td>\n",
              "      <td>TC14_wos+TFIDF+RF</td>\n",
              "      <td>{'randomforestclassifier__n_estimators': 100}</td>\n",
              "    </tr>\n",
              "    <tr>\n",
              "      <th>27</th>\n",
              "      <td>0.781548</td>\n",
              "      <td>0.786579</td>\n",
              "      <td>0.799182</td>\n",
              "      <td>0.798171</td>\n",
              "      <td>0.783190</td>\n",
              "      <td>0.772484</td>\n",
              "      <td>0.772060</td>\n",
              "      <td>0.801498</td>\n",
              "      <td>0.785980</td>\n",
              "      <td>0.785936</td>\n",
              "      <td>TC02_20news+TFIDF+RF</td>\n",
              "      <td>{'randomforestclassifier__n_estimators': 100}</td>\n",
              "    </tr>\n",
              "    <tr>\n",
              "      <th>28</th>\n",
              "      <td>0.818227</td>\n",
              "      <td>0.831042</td>\n",
              "      <td>0.828652</td>\n",
              "      <td>0.824800</td>\n",
              "      <td>0.827603</td>\n",
              "      <td>0.811966</td>\n",
              "      <td>0.816454</td>\n",
              "      <td>0.832029</td>\n",
              "      <td>0.819288</td>\n",
              "      <td>0.832072</td>\n",
              "      <td>TC02_20news+all-MiniLM-L6-v2+KNN</td>\n",
              "      <td>{'weights': 'distance', 'p': 1, 'n_neighbors': 3}</td>\n",
              "    </tr>\n",
              "    <tr>\n",
              "      <th>29</th>\n",
              "      <td>0.818227</td>\n",
              "      <td>0.831042</td>\n",
              "      <td>0.828652</td>\n",
              "      <td>0.824800</td>\n",
              "      <td>0.827603</td>\n",
              "      <td>0.811966</td>\n",
              "      <td>0.816454</td>\n",
              "      <td>0.832029</td>\n",
              "      <td>0.819288</td>\n",
              "      <td>0.832072</td>\n",
              "      <td>TC02_20news+all-MiniLM-L6-v2+KNN</td>\n",
              "      <td>{'weights': 'distance', 'p': 1, 'n_neighbors': 3}</td>\n",
              "    </tr>\n",
              "    <tr>\n",
              "      <th>30</th>\n",
              "      <td>0.767122</td>\n",
              "      <td>0.773783</td>\n",
              "      <td>0.776954</td>\n",
              "      <td>0.779788</td>\n",
              "      <td>0.789875</td>\n",
              "      <td>0.772472</td>\n",
              "      <td>0.768034</td>\n",
              "      <td>0.773059</td>\n",
              "      <td>0.769732</td>\n",
              "      <td>0.773633</td>\n",
              "      <td>TC02_20news+all-MiniLM-L6-v2+LR</td>\n",
              "      <td>{'C': 10}</td>\n",
              "    </tr>\n",
              "    <tr>\n",
              "      <th>31</th>\n",
              "      <td>0.765456</td>\n",
              "      <td>0.773783</td>\n",
              "      <td>0.774719</td>\n",
              "      <td>0.778146</td>\n",
              "      <td>0.800424</td>\n",
              "      <td>0.770818</td>\n",
              "      <td>0.768059</td>\n",
              "      <td>0.773652</td>\n",
              "      <td>0.778115</td>\n",
              "      <td>0.773664</td>\n",
              "      <td>TC02_20news+all-MiniLM-L6-v2+SVC</td>\n",
              "      <td>{'C': 1}</td>\n",
              "    </tr>\n",
              "    <tr>\n",
              "      <th>32</th>\n",
              "      <td>0.753777</td>\n",
              "      <td>0.769906</td>\n",
              "      <td>0.775262</td>\n",
              "      <td>0.774806</td>\n",
              "      <td>0.778745</td>\n",
              "      <td>0.755780</td>\n",
              "      <td>0.762516</td>\n",
              "      <td>0.766411</td>\n",
              "      <td>0.774794</td>\n",
              "      <td>0.767566</td>\n",
              "      <td>TC02_20news+all-MiniLM-L6-v2+RF</td>\n",
              "      <td>{'n_estimators': 200}</td>\n",
              "    </tr>\n",
              "    <tr>\n",
              "      <th>33</th>\n",
              "      <td>0.753777</td>\n",
              "      <td>0.769906</td>\n",
              "      <td>0.775262</td>\n",
              "      <td>0.774806</td>\n",
              "      <td>0.778745</td>\n",
              "      <td>0.755780</td>\n",
              "      <td>0.762516</td>\n",
              "      <td>0.766411</td>\n",
              "      <td>0.774794</td>\n",
              "      <td>0.767566</td>\n",
              "      <td>TC02_20news+all-MiniLM-L6-v2+RF</td>\n",
              "      <td>{'n_estimators': 200}</td>\n",
              "    </tr>\n",
              "    <tr>\n",
              "      <th>34</th>\n",
              "      <td>0.816567</td>\n",
              "      <td>0.815487</td>\n",
              "      <td>0.819800</td>\n",
              "      <td>0.823127</td>\n",
              "      <td>0.810393</td>\n",
              "      <td>0.808140</td>\n",
              "      <td>0.814838</td>\n",
              "      <td>0.822609</td>\n",
              "      <td>0.820961</td>\n",
              "      <td>0.821473</td>\n",
              "      <td>TC02_20news+all-MiniLM-L12-v2+KNN</td>\n",
              "      <td>{'weights': 'distance', 'p': 1, 'n_neighbors': 3}</td>\n",
              "    </tr>\n",
              "    <tr>\n",
              "      <th>35</th>\n",
              "      <td>0.761561</td>\n",
              "      <td>0.772665</td>\n",
              "      <td>0.772522</td>\n",
              "      <td>0.775930</td>\n",
              "      <td>0.780961</td>\n",
              "      <td>0.767466</td>\n",
              "      <td>0.763652</td>\n",
              "      <td>0.761885</td>\n",
              "      <td>0.787534</td>\n",
              "      <td>0.787553</td>\n",
              "      <td>TC02_20news+all-MiniLM-L12-v2+LR</td>\n",
              "      <td>{'C': 10}</td>\n",
              "    </tr>\n",
              "    <tr>\n",
              "      <th>36</th>\n",
              "      <td>0.767653</td>\n",
              "      <td>0.775456</td>\n",
              "      <td>0.770861</td>\n",
              "      <td>0.778702</td>\n",
              "      <td>0.785974</td>\n",
              "      <td>0.767459</td>\n",
              "      <td>0.765312</td>\n",
              "      <td>0.768577</td>\n",
              "      <td>0.788115</td>\n",
              "      <td>0.787566</td>\n",
              "      <td>TC02_20news+all-MiniLM-L12-v2+SVC</td>\n",
              "      <td>{'C': 1}</td>\n",
              "    </tr>\n",
              "    <tr>\n",
              "      <th>37</th>\n",
              "      <td>0.763801</td>\n",
              "      <td>0.769913</td>\n",
              "      <td>0.780805</td>\n",
              "      <td>0.766436</td>\n",
              "      <td>0.772085</td>\n",
              "      <td>0.755293</td>\n",
              "      <td>0.773152</td>\n",
              "      <td>0.774769</td>\n",
              "      <td>0.784276</td>\n",
              "      <td>0.775893</td>\n",
              "      <td>TC02_20news+all-MiniLM-L12-v2+RF</td>\n",
              "      <td>{'n_estimators': 200}</td>\n",
              "    </tr>\n",
              "    <tr>\n",
              "      <th>38</th>\n",
              "      <td>0.736856</td>\n",
              "      <td>0.755609</td>\n",
              "      <td>0.748009</td>\n",
              "      <td>0.735554</td>\n",
              "      <td>0.757634</td>\n",
              "      <td>0.755478</td>\n",
              "      <td>0.744571</td>\n",
              "      <td>0.734989</td>\n",
              "      <td>0.765595</td>\n",
              "      <td>0.744317</td>\n",
              "      <td>TC14_wos+all-MiniLM-L6-v2+KNN</td>\n",
              "      <td>{'weights': 'uniform', 'p': 2, 'n_neighbors': 11}</td>\n",
              "    </tr>\n",
              "    <tr>\n",
              "      <th>39</th>\n",
              "      <td>0.755587</td>\n",
              "      <td>0.796639</td>\n",
              "      <td>0.764504</td>\n",
              "      <td>0.778128</td>\n",
              "      <td>0.791815</td>\n",
              "      <td>0.799374</td>\n",
              "      <td>0.789978</td>\n",
              "      <td>0.768023</td>\n",
              "      <td>0.799334</td>\n",
              "      <td>0.775757</td>\n",
              "      <td>TC14_wos+all-MiniLM-L6-v2+LR</td>\n",
              "      <td>{'C': 1}</td>\n",
              "    </tr>\n",
              "    <tr>\n",
              "      <th>40</th>\n",
              "      <td>0.758429</td>\n",
              "      <td>0.793225</td>\n",
              "      <td>0.765923</td>\n",
              "      <td>0.784660</td>\n",
              "      <td>0.798790</td>\n",
              "      <td>0.798865</td>\n",
              "      <td>0.791144</td>\n",
              "      <td>0.771744</td>\n",
              "      <td>0.794922</td>\n",
              "      <td>0.783922</td>\n",
              "      <td>TC14_wos+all-MiniLM-L6-v2+SVC</td>\n",
              "      <td>{'C': 0.1}</td>\n",
              "    </tr>\n",
              "    <tr>\n",
              "      <th>41</th>\n",
              "      <td>0.709089</td>\n",
              "      <td>0.740043</td>\n",
              "      <td>0.714619</td>\n",
              "      <td>0.722761</td>\n",
              "      <td>0.731244</td>\n",
              "      <td>0.745676</td>\n",
              "      <td>0.735358</td>\n",
              "      <td>0.722306</td>\n",
              "      <td>0.734728</td>\n",
              "      <td>0.715597</td>\n",
              "      <td>TC14_wos+all-MiniLM-L6-v2+RF</td>\n",
              "      <td>{'n_estimators': 200}</td>\n",
              "    </tr>\n",
              "    <tr>\n",
              "      <th>42</th>\n",
              "      <td>0.703807</td>\n",
              "      <td>0.728126</td>\n",
              "      <td>0.722245</td>\n",
              "      <td>0.734477</td>\n",
              "      <td>0.738322</td>\n",
              "      <td>0.721673</td>\n",
              "      <td>0.737770</td>\n",
              "      <td>0.716549</td>\n",
              "      <td>0.743760</td>\n",
              "      <td>0.733097</td>\n",
              "      <td>TC14_wos+all-MiniLM-L12-v2+KNN</td>\n",
              "      <td>{'weights': 'distance', 'p': 1, 'n_neighbors':...</td>\n",
              "    </tr>\n",
              "    <tr>\n",
              "      <th>43</th>\n",
              "      <td>0.726569</td>\n",
              "      <td>0.762264</td>\n",
              "      <td>0.756991</td>\n",
              "      <td>0.758490</td>\n",
              "      <td>0.775961</td>\n",
              "      <td>0.769553</td>\n",
              "      <td>0.771019</td>\n",
              "      <td>0.748674</td>\n",
              "      <td>0.772814</td>\n",
              "      <td>0.756840</td>\n",
              "      <td>TC14_wos+all-MiniLM-L12-v2+LR</td>\n",
              "      <td>{'C': 1}</td>\n",
              "    </tr>\n",
              "    <tr>\n",
              "      <th>44</th>\n",
              "      <td>0.729358</td>\n",
              "      <td>0.769921</td>\n",
              "      <td>0.752637</td>\n",
              "      <td>0.765730</td>\n",
              "      <td>0.780659</td>\n",
              "      <td>0.765680</td>\n",
              "      <td>0.772343</td>\n",
              "      <td>0.741120</td>\n",
              "      <td>0.776238</td>\n",
              "      <td>0.767662</td>\n",
              "      <td>TC14_wos+all-MiniLM-L12-v2+SVC</td>\n",
              "      <td>{'C': 0.1}</td>\n",
              "    </tr>\n",
              "    <tr>\n",
              "      <th>45</th>\n",
              "      <td>0.695371</td>\n",
              "      <td>0.715570</td>\n",
              "      <td>0.710049</td>\n",
              "      <td>0.715570</td>\n",
              "      <td>0.726373</td>\n",
              "      <td>0.720478</td>\n",
              "      <td>0.715477</td>\n",
              "      <td>0.710656</td>\n",
              "      <td>0.728657</td>\n",
              "      <td>0.715918</td>\n",
              "      <td>TC14_wos+all-MiniLM-L12-v2+RF</td>\n",
              "      <td>{'n_estimators': 200}</td>\n",
              "    </tr>\n",
              "    <tr>\n",
              "      <th>46</th>\n",
              "      <td>0.748708</td>\n",
              "      <td>0.749282</td>\n",
              "      <td>0.749744</td>\n",
              "      <td>0.749788</td>\n",
              "      <td>0.748702</td>\n",
              "      <td>0.761810</td>\n",
              "      <td>0.754182</td>\n",
              "      <td>0.772422</td>\n",
              "      <td>0.750749</td>\n",
              "      <td>0.749089</td>\n",
              "      <td>TC02_20news+TFIDF+KNN</td>\n",
              "      <td>{'kneighborsclassifier__weights': 'uniform', '...</td>\n",
              "    </tr>\n",
              "    <tr>\n",
              "      <th>47</th>\n",
              "      <td>0.834351</td>\n",
              "      <td>0.843271</td>\n",
              "      <td>0.852029</td>\n",
              "      <td>0.848233</td>\n",
              "      <td>0.846592</td>\n",
              "      <td>0.845356</td>\n",
              "      <td>0.838202</td>\n",
              "      <td>0.850999</td>\n",
              "      <td>0.844338</td>\n",
              "      <td>0.838184</td>\n",
              "      <td>TC02_20news+TFIDF+LR</td>\n",
              "      <td>{'logisticregression__C': 10}</td>\n",
              "    </tr>\n",
              "    <tr>\n",
              "      <th>48</th>\n",
              "      <td>0.841586</td>\n",
              "      <td>0.851604</td>\n",
              "      <td>0.862029</td>\n",
              "      <td>0.857135</td>\n",
              "      <td>0.854931</td>\n",
              "      <td>0.852584</td>\n",
              "      <td>0.853770</td>\n",
              "      <td>0.861561</td>\n",
              "      <td>0.848789</td>\n",
              "      <td>0.849869</td>\n",
              "      <td>TC02_20news+TFIDF+SVC</td>\n",
              "      <td>{'linearsvc__C': 1}</td>\n",
              "    </tr>\n",
              "    <tr>\n",
              "      <th>49</th>\n",
              "      <td>0.781548</td>\n",
              "      <td>0.786579</td>\n",
              "      <td>0.799182</td>\n",
              "      <td>0.798171</td>\n",
              "      <td>0.783190</td>\n",
              "      <td>0.772484</td>\n",
              "      <td>0.772060</td>\n",
              "      <td>0.801498</td>\n",
              "      <td>0.785980</td>\n",
              "      <td>0.785936</td>\n",
              "      <td>TC02_20news+TFIDF+RF</td>\n",
              "      <td>{'randomforestclassifier__n_estimators': 100}</td>\n",
              "    </tr>\n",
              "    <tr>\n",
              "      <th>50</th>\n",
              "      <td>0.679917</td>\n",
              "      <td>0.718640</td>\n",
              "      <td>0.708037</td>\n",
              "      <td>0.692955</td>\n",
              "      <td>0.719004</td>\n",
              "      <td>0.713504</td>\n",
              "      <td>0.685356</td>\n",
              "      <td>0.694801</td>\n",
              "      <td>0.709901</td>\n",
              "      <td>0.693858</td>\n",
              "      <td>TC14_wos+TFIDF+KNN</td>\n",
              "      <td>{'kneighborsclassifier__weights': 'distance', ...</td>\n",
              "    </tr>\n",
              "    <tr>\n",
              "      <th>51</th>\n",
              "      <td>0.808159</td>\n",
              "      <td>0.841952</td>\n",
              "      <td>0.810501</td>\n",
              "      <td>0.833717</td>\n",
              "      <td>0.837343</td>\n",
              "      <td>0.816019</td>\n",
              "      <td>0.800357</td>\n",
              "      <td>0.801311</td>\n",
              "      <td>0.836752</td>\n",
              "      <td>0.805811</td>\n",
              "      <td>TC14_wos+TFIDF+LR</td>\n",
              "      <td>{'logisticregression__C': 10}</td>\n",
              "    </tr>\n",
              "    <tr>\n",
              "      <th>52</th>\n",
              "      <td>0.825526</td>\n",
              "      <td>0.839649</td>\n",
              "      <td>0.812014</td>\n",
              "      <td>0.830556</td>\n",
              "      <td>0.848779</td>\n",
              "      <td>0.828312</td>\n",
              "      <td>0.805687</td>\n",
              "      <td>0.801958</td>\n",
              "      <td>0.835230</td>\n",
              "      <td>0.811292</td>\n",
              "      <td>TC14_wos+TFIDF+SVC</td>\n",
              "      <td>{'linearsvc__C': 1}</td>\n",
              "    </tr>\n",
              "    <tr>\n",
              "      <th>53</th>\n",
              "      <td>0.818404</td>\n",
              "      <td>0.855694</td>\n",
              "      <td>0.851834</td>\n",
              "      <td>0.852233</td>\n",
              "      <td>0.839215</td>\n",
              "      <td>0.847126</td>\n",
              "      <td>0.845872</td>\n",
              "      <td>0.823877</td>\n",
              "      <td>0.859097</td>\n",
              "      <td>0.835529</td>\n",
              "      <td>TC14_wos+TFIDF+RF</td>\n",
              "      <td>{'randomforestclassifier__n_estimators': 100}</td>\n",
              "    </tr>\n",
              "  </tbody>\n",
              "</table>\n",
              "</div>"
            ],
            "text/plain": [
              "    split0_test_score  split1_test_score  split2_test_score  \\\n",
              "0            0.746498           0.729844           0.742484   \n",
              "1            0.844875           0.813789           0.808652   \n",
              "2            0.785418           0.761511           0.767484   \n",
              "3            0.781523           0.757634           0.770830   \n",
              "4            0.822653           0.814338           0.809732   \n",
              "5            0.780955           0.775993           0.771935   \n",
              "6            0.774856           0.774881           0.774139   \n",
              "7            0.767507           0.752724           0.741839   \n",
              "8            0.792379           0.792123           0.779848   \n",
              "9            0.794099           0.796451           0.780187   \n",
              "10           0.748923           0.738346           0.723196   \n",
              "11           0.777105           0.766694           0.762247   \n",
              "12           0.771875           0.771798           0.757116   \n",
              "13           0.748152           0.749282           0.749744   \n",
              "14           0.775437           0.790999           0.790905   \n",
              "15           0.841586           0.851604           0.862029   \n",
              "16           0.679917           0.718640           0.708037   \n",
              "17           0.808159           0.841952           0.810501   \n",
              "18           0.825526           0.839649           0.812014   \n",
              "19           0.778783           0.753202           0.752497   \n",
              "20           0.834351           0.843271           0.852029   \n",
              "21           0.782665           0.775993           0.756916   \n",
              "22           0.781548           0.786579           0.799182   \n",
              "23           0.750304           0.735134           0.726965   \n",
              "24           0.736690           0.728456           0.716963   \n",
              "25           0.818404           0.855694           0.851834   \n",
              "26           0.818404           0.855694           0.851834   \n",
              "27           0.781548           0.786579           0.799182   \n",
              "28           0.818227           0.831042           0.828652   \n",
              "29           0.818227           0.831042           0.828652   \n",
              "30           0.767122           0.773783           0.776954   \n",
              "31           0.765456           0.773783           0.774719   \n",
              "32           0.753777           0.769906           0.775262   \n",
              "33           0.753777           0.769906           0.775262   \n",
              "34           0.816567           0.815487           0.819800   \n",
              "35           0.761561           0.772665           0.772522   \n",
              "36           0.767653           0.775456           0.770861   \n",
              "37           0.763801           0.769913           0.780805   \n",
              "38           0.736856           0.755609           0.748009   \n",
              "39           0.755587           0.796639           0.764504   \n",
              "40           0.758429           0.793225           0.765923   \n",
              "41           0.709089           0.740043           0.714619   \n",
              "42           0.703807           0.728126           0.722245   \n",
              "43           0.726569           0.762264           0.756991   \n",
              "44           0.729358           0.769921           0.752637   \n",
              "45           0.695371           0.715570           0.710049   \n",
              "46           0.748708           0.749282           0.749744   \n",
              "47           0.834351           0.843271           0.852029   \n",
              "48           0.841586           0.851604           0.862029   \n",
              "49           0.781548           0.786579           0.799182   \n",
              "50           0.679917           0.718640           0.708037   \n",
              "51           0.808159           0.841952           0.810501   \n",
              "52           0.825526           0.839649           0.812014   \n",
              "53           0.818404           0.855694           0.851834   \n",
              "\n",
              "    split3_test_score  split4_test_score  split5_test_score  \\\n",
              "0            0.750318           0.736504           0.753034   \n",
              "1            0.828727           0.810456           0.825830   \n",
              "2            0.784788           0.772634           0.786423   \n",
              "3            0.786479           0.769856           0.781960   \n",
              "4            0.824270           0.819307           0.820899   \n",
              "5            0.762541           0.773196           0.765262   \n",
              "6            0.775343           0.773745           0.775843   \n",
              "7            0.728256           0.741307           0.753414   \n",
              "8            0.760539           0.775306           0.781250   \n",
              "9            0.767930           0.776353           0.782674   \n",
              "10           0.716358           0.729923           0.729254   \n",
              "11           0.748348           0.759560           0.754774   \n",
              "12           0.748363           0.755377           0.750924   \n",
              "13           0.749788           0.748702           0.761810   \n",
              "14           0.788727           0.788745           0.779170   \n",
              "15           0.857135           0.854931           0.852584   \n",
              "16           0.692955           0.719004           0.713504   \n",
              "17           0.833717           0.837343           0.816019   \n",
              "18           0.830556           0.848779           0.828312   \n",
              "19           0.762566           0.764863           0.765818   \n",
              "20           0.848233           0.846592           0.845356   \n",
              "21           0.771417           0.784320           0.778614   \n",
              "22           0.798171           0.783190           0.772484   \n",
              "23           0.721424           0.721628           0.744466   \n",
              "24           0.702302           0.702770           0.712681   \n",
              "25           0.852233           0.839215           0.847126   \n",
              "26           0.852233           0.839215           0.847126   \n",
              "27           0.798171           0.783190           0.772484   \n",
              "28           0.824800           0.827603           0.811966   \n",
              "29           0.824800           0.827603           0.811966   \n",
              "30           0.779788           0.789875           0.772472   \n",
              "31           0.778146           0.800424           0.770818   \n",
              "32           0.774806           0.778745           0.755780   \n",
              "33           0.774806           0.778745           0.755780   \n",
              "34           0.823127           0.810393           0.808140   \n",
              "35           0.775930           0.780961           0.767466   \n",
              "36           0.778702           0.785974           0.767459   \n",
              "37           0.766436           0.772085           0.755293   \n",
              "38           0.735554           0.757634           0.755478   \n",
              "39           0.778128           0.791815           0.799374   \n",
              "40           0.784660           0.798790           0.798865   \n",
              "41           0.722761           0.731244           0.745676   \n",
              "42           0.734477           0.738322           0.721673   \n",
              "43           0.758490           0.775961           0.769553   \n",
              "44           0.765730           0.780659           0.765680   \n",
              "45           0.715570           0.726373           0.720478   \n",
              "46           0.749788           0.748702           0.761810   \n",
              "47           0.848233           0.846592           0.845356   \n",
              "48           0.857135           0.854931           0.852584   \n",
              "49           0.798171           0.783190           0.772484   \n",
              "50           0.692955           0.719004           0.713504   \n",
              "51           0.833717           0.837343           0.816019   \n",
              "52           0.830556           0.848779           0.828312   \n",
              "53           0.852233           0.839215           0.847126   \n",
              "\n",
              "    split6_test_score  split7_test_score  split8_test_score  \\\n",
              "0            0.758034           0.735843           0.748102   \n",
              "1            0.825880           0.835406           0.814313   \n",
              "2            0.787553           0.773096           0.774763   \n",
              "3            0.794245           0.768127           0.779245   \n",
              "4            0.817572           0.829844           0.817079   \n",
              "5            0.779213           0.774201           0.774176   \n",
              "6            0.781436           0.778670           0.771985   \n",
              "7            0.758569           0.752884           0.738314   \n",
              "8            0.795834           0.764415           0.770571   \n",
              "9            0.800438           0.764082           0.771376   \n",
              "10           0.734434           0.734237           0.718763   \n",
              "11           0.766002           0.753146           0.761009   \n",
              "12           0.770836           0.752591           0.751234   \n",
              "13           0.754182           0.772422           0.750749   \n",
              "14           0.781479           0.808140           0.794888   \n",
              "15           0.853770           0.861561           0.848789   \n",
              "16           0.685356           0.694801           0.709901   \n",
              "17           0.800357           0.801311           0.836752   \n",
              "18           0.805687           0.801958           0.835230   \n",
              "19           0.772497           0.767541           0.763689   \n",
              "20           0.838202           0.850999           0.844338   \n",
              "21           0.769763           0.778664           0.753159   \n",
              "22           0.772060           0.801498           0.785980   \n",
              "23           0.741177           0.733135           0.710150   \n",
              "24           0.732511           0.707740           0.702009   \n",
              "25           0.845872           0.823877           0.859097   \n",
              "26           0.845872           0.823877           0.859097   \n",
              "27           0.772060           0.801498           0.785980   \n",
              "28           0.816454           0.832029           0.819288   \n",
              "29           0.816454           0.832029           0.819288   \n",
              "30           0.768034           0.773059           0.769732   \n",
              "31           0.768059           0.773652           0.778115   \n",
              "32           0.762516           0.766411           0.774794   \n",
              "33           0.762516           0.766411           0.774794   \n",
              "34           0.814838           0.822609           0.820961   \n",
              "35           0.763652           0.761885           0.787534   \n",
              "36           0.765312           0.768577           0.788115   \n",
              "37           0.773152           0.774769           0.784276   \n",
              "38           0.744571           0.734989           0.765595   \n",
              "39           0.789978           0.768023           0.799334   \n",
              "40           0.791144           0.771744           0.794922   \n",
              "41           0.735358           0.722306           0.734728   \n",
              "42           0.737770           0.716549           0.743760   \n",
              "43           0.771019           0.748674           0.772814   \n",
              "44           0.772343           0.741120           0.776238   \n",
              "45           0.715477           0.710656           0.728657   \n",
              "46           0.754182           0.772422           0.750749   \n",
              "47           0.838202           0.850999           0.844338   \n",
              "48           0.853770           0.861561           0.848789   \n",
              "49           0.772060           0.801498           0.785980   \n",
              "50           0.685356           0.694801           0.709901   \n",
              "51           0.800357           0.801311           0.836752   \n",
              "52           0.805687           0.801958           0.835230   \n",
              "53           0.845872           0.823877           0.859097   \n",
              "\n",
              "    split9_test_score                           pipeline  \\\n",
              "0            0.735337    TC02_20news+all-MiniLM-L6-v2+LR   \n",
              "1            0.827628   TC02_20news+all-MiniLM-L6-v2+KNN   \n",
              "2            0.788702    TC02_20news+all-MiniLM-L6-v2+LR   \n",
              "3            0.785387   TC02_20news+all-MiniLM-L6-v2+SVC   \n",
              "4            0.822097  TC02_20news+all-MiniLM-L12-v2+KNN   \n",
              "5            0.764763   TC02_20news+all-MiniLM-L12-v2+LR   \n",
              "6            0.767578  TC02_20news+all-MiniLM-L12-v2+SVC   \n",
              "7            0.753632      TC14_wos+all-MiniLM-L6-v2+KNN   \n",
              "8            0.790859       TC14_wos+all-MiniLM-L6-v2+LR   \n",
              "9            0.789538      TC14_wos+all-MiniLM-L6-v2+SVC   \n",
              "10           0.723166     TC14_wos+all-MiniLM-L12-v2+KNN   \n",
              "11           0.753210      TC14_wos+all-MiniLM-L12-v2+LR   \n",
              "12           0.755198     TC14_wos+all-MiniLM-L12-v2+SVC   \n",
              "13           0.749089              TC02_20news+TFIDF+KNN   \n",
              "14           0.768677               TC02_20news+TFIDF+LR   \n",
              "15           0.849869              TC02_20news+TFIDF+SVC   \n",
              "16           0.693858                 TC14_wos+TFIDF+KNN   \n",
              "17           0.805811                  TC14_wos+TFIDF+LR   \n",
              "18           0.811292                 TC14_wos+TFIDF+SVC   \n",
              "19           0.761467    TC02_20news+all-MiniLM-L6-v2+RF   \n",
              "20           0.838184               TC02_20news+TFIDF+LR   \n",
              "21           0.759806   TC02_20news+all-MiniLM-L12-v2+RF   \n",
              "22           0.785936               TC02_20news+TFIDF+RF   \n",
              "23           0.727927       TC14_wos+all-MiniLM-L6-v2+RF   \n",
              "24           0.718048      TC14_wos+all-MiniLM-L12-v2+RF   \n",
              "25           0.835529                  TC14_wos+TFIDF+RF   \n",
              "26           0.835529                  TC14_wos+TFIDF+RF   \n",
              "27           0.785936               TC02_20news+TFIDF+RF   \n",
              "28           0.832072   TC02_20news+all-MiniLM-L6-v2+KNN   \n",
              "29           0.832072   TC02_20news+all-MiniLM-L6-v2+KNN   \n",
              "30           0.773633    TC02_20news+all-MiniLM-L6-v2+LR   \n",
              "31           0.773664   TC02_20news+all-MiniLM-L6-v2+SVC   \n",
              "32           0.767566    TC02_20news+all-MiniLM-L6-v2+RF   \n",
              "33           0.767566    TC02_20news+all-MiniLM-L6-v2+RF   \n",
              "34           0.821473  TC02_20news+all-MiniLM-L12-v2+KNN   \n",
              "35           0.787553   TC02_20news+all-MiniLM-L12-v2+LR   \n",
              "36           0.787566  TC02_20news+all-MiniLM-L12-v2+SVC   \n",
              "37           0.775893   TC02_20news+all-MiniLM-L12-v2+RF   \n",
              "38           0.744317      TC14_wos+all-MiniLM-L6-v2+KNN   \n",
              "39           0.775757       TC14_wos+all-MiniLM-L6-v2+LR   \n",
              "40           0.783922      TC14_wos+all-MiniLM-L6-v2+SVC   \n",
              "41           0.715597       TC14_wos+all-MiniLM-L6-v2+RF   \n",
              "42           0.733097     TC14_wos+all-MiniLM-L12-v2+KNN   \n",
              "43           0.756840      TC14_wos+all-MiniLM-L12-v2+LR   \n",
              "44           0.767662     TC14_wos+all-MiniLM-L12-v2+SVC   \n",
              "45           0.715918      TC14_wos+all-MiniLM-L12-v2+RF   \n",
              "46           0.749089              TC02_20news+TFIDF+KNN   \n",
              "47           0.838184               TC02_20news+TFIDF+LR   \n",
              "48           0.849869              TC02_20news+TFIDF+SVC   \n",
              "49           0.785936               TC02_20news+TFIDF+RF   \n",
              "50           0.693858                 TC14_wos+TFIDF+KNN   \n",
              "51           0.805811                  TC14_wos+TFIDF+LR   \n",
              "52           0.811292                 TC14_wos+TFIDF+SVC   \n",
              "53           0.835529                  TC14_wos+TFIDF+RF   \n",
              "\n",
              "                                               params  \n",
              "0                                          {'C': 0.1}  \n",
              "1   {'weights': 'distance', 'p': 1, 'n_neighbors': 3}  \n",
              "2                                           {'C': 10}  \n",
              "3                                            {'C': 1}  \n",
              "4   {'weights': 'distance', 'p': 1, 'n_neighbors': 3}  \n",
              "5                                           {'C': 10}  \n",
              "6                                            {'C': 1}  \n",
              "7   {'weights': 'distance', 'p': 2, 'n_neighbors':...  \n",
              "8                                            {'C': 1}  \n",
              "9                                          {'C': 0.1}  \n",
              "10  {'weights': 'distance', 'p': 2, 'n_neighbors':...  \n",
              "11                                           {'C': 1}  \n",
              "12                                         {'C': 0.1}  \n",
              "13  {'kneighborsclassifier__weights': 'uniform', '...  \n",
              "14                     {'logisticregression__C': 0.1}  \n",
              "15                                {'linearsvc__C': 1}  \n",
              "16  {'kneighborsclassifier__weights': 'distance', ...  \n",
              "17                      {'logisticregression__C': 10}  \n",
              "18                                {'linearsvc__C': 1}  \n",
              "19                              {'n_estimators': 200}  \n",
              "20                      {'logisticregression__C': 10}  \n",
              "21                              {'n_estimators': 200}  \n",
              "22      {'randomforestclassifier__n_estimators': 100}  \n",
              "23                              {'n_estimators': 200}  \n",
              "24                              {'n_estimators': 200}  \n",
              "25      {'randomforestclassifier__n_estimators': 100}  \n",
              "26      {'randomforestclassifier__n_estimators': 100}  \n",
              "27      {'randomforestclassifier__n_estimators': 100}  \n",
              "28  {'weights': 'distance', 'p': 1, 'n_neighbors': 3}  \n",
              "29  {'weights': 'distance', 'p': 1, 'n_neighbors': 3}  \n",
              "30                                          {'C': 10}  \n",
              "31                                           {'C': 1}  \n",
              "32                              {'n_estimators': 200}  \n",
              "33                              {'n_estimators': 200}  \n",
              "34  {'weights': 'distance', 'p': 1, 'n_neighbors': 3}  \n",
              "35                                          {'C': 10}  \n",
              "36                                           {'C': 1}  \n",
              "37                              {'n_estimators': 200}  \n",
              "38  {'weights': 'uniform', 'p': 2, 'n_neighbors': 11}  \n",
              "39                                           {'C': 1}  \n",
              "40                                         {'C': 0.1}  \n",
              "41                              {'n_estimators': 200}  \n",
              "42  {'weights': 'distance', 'p': 1, 'n_neighbors':...  \n",
              "43                                           {'C': 1}  \n",
              "44                                         {'C': 0.1}  \n",
              "45                              {'n_estimators': 200}  \n",
              "46  {'kneighborsclassifier__weights': 'uniform', '...  \n",
              "47                      {'logisticregression__C': 10}  \n",
              "48                                {'linearsvc__C': 1}  \n",
              "49      {'randomforestclassifier__n_estimators': 100}  \n",
              "50  {'kneighborsclassifier__weights': 'distance', ...  \n",
              "51                      {'logisticregression__C': 10}  \n",
              "52                                {'linearsvc__C': 1}  \n",
              "53      {'randomforestclassifier__n_estimators': 100}  "
            ]
          },
          "execution_count": 68,
          "metadata": {},
          "output_type": "execute_result"
        }
      ],
      "source": [
        "df_cv"
      ]
    },
    {
      "cell_type": "code",
      "execution_count": 69,
      "metadata": {
        "id": "7O_dsopGQBe8"
      },
      "outputs": [],
      "source": [
        "\n",
        "df_cv_explode = df_cv.melt(['pipeline','params'], var_name='Date', value_name='Value')"
      ]
    },
    {
      "cell_type": "code",
      "execution_count": 70,
      "metadata": {
        "colab": {
          "base_uri": "https://localhost:8080/",
          "height": 145
        },
        "id": "hYDsrljBnfGy",
        "outputId": "71f0daae-81ab-4ff7-8884-e13deebe543e"
      },
      "outputs": [
        {
          "data": {
            "text/html": [
              "<div>\n",
              "<style scoped>\n",
              "    .dataframe tbody tr th:only-of-type {\n",
              "        vertical-align: middle;\n",
              "    }\n",
              "\n",
              "    .dataframe tbody tr th {\n",
              "        vertical-align: top;\n",
              "    }\n",
              "\n",
              "    .dataframe thead th {\n",
              "        text-align: right;\n",
              "    }\n",
              "</style>\n",
              "<table border=\"1\" class=\"dataframe\">\n",
              "  <thead>\n",
              "    <tr style=\"text-align: right;\">\n",
              "      <th></th>\n",
              "      <th>split0_test_score</th>\n",
              "      <th>split1_test_score</th>\n",
              "      <th>split2_test_score</th>\n",
              "      <th>split3_test_score</th>\n",
              "      <th>split4_test_score</th>\n",
              "      <th>split5_test_score</th>\n",
              "      <th>split6_test_score</th>\n",
              "      <th>split7_test_score</th>\n",
              "      <th>split8_test_score</th>\n",
              "      <th>split9_test_score</th>\n",
              "    </tr>\n",
              "  </thead>\n",
              "  <tbody>\n",
              "    <tr>\n",
              "      <th>0</th>\n",
              "      <td>0.746498</td>\n",
              "      <td>0.729844</td>\n",
              "      <td>0.742484</td>\n",
              "      <td>0.750318</td>\n",
              "      <td>0.736504</td>\n",
              "      <td>0.753034</td>\n",
              "      <td>0.758034</td>\n",
              "      <td>0.735843</td>\n",
              "      <td>0.748102</td>\n",
              "      <td>0.735337</td>\n",
              "    </tr>\n",
              "    <tr>\n",
              "      <th>1</th>\n",
              "      <td>0.844875</td>\n",
              "      <td>0.813789</td>\n",
              "      <td>0.808652</td>\n",
              "      <td>0.828727</td>\n",
              "      <td>0.810456</td>\n",
              "      <td>0.825830</td>\n",
              "      <td>0.825880</td>\n",
              "      <td>0.835406</td>\n",
              "      <td>0.814313</td>\n",
              "      <td>0.827628</td>\n",
              "    </tr>\n",
              "    <tr>\n",
              "      <th>2</th>\n",
              "      <td>0.785418</td>\n",
              "      <td>0.761511</td>\n",
              "      <td>0.767484</td>\n",
              "      <td>0.784788</td>\n",
              "      <td>0.772634</td>\n",
              "      <td>0.786423</td>\n",
              "      <td>0.787553</td>\n",
              "      <td>0.773096</td>\n",
              "      <td>0.774763</td>\n",
              "      <td>0.788702</td>\n",
              "    </tr>\n",
              "    <tr>\n",
              "      <th>3</th>\n",
              "      <td>0.781523</td>\n",
              "      <td>0.757634</td>\n",
              "      <td>0.770830</td>\n",
              "      <td>0.786479</td>\n",
              "      <td>0.769856</td>\n",
              "      <td>0.781960</td>\n",
              "      <td>0.794245</td>\n",
              "      <td>0.768127</td>\n",
              "      <td>0.779245</td>\n",
              "      <td>0.785387</td>\n",
              "    </tr>\n",
              "    <tr>\n",
              "      <th>4</th>\n",
              "      <td>0.822653</td>\n",
              "      <td>0.814338</td>\n",
              "      <td>0.809732</td>\n",
              "      <td>0.824270</td>\n",
              "      <td>0.819307</td>\n",
              "      <td>0.820899</td>\n",
              "      <td>0.817572</td>\n",
              "      <td>0.829844</td>\n",
              "      <td>0.817079</td>\n",
              "      <td>0.822097</td>\n",
              "    </tr>\n",
              "    <tr>\n",
              "      <th>5</th>\n",
              "      <td>0.780955</td>\n",
              "      <td>0.775993</td>\n",
              "      <td>0.771935</td>\n",
              "      <td>0.762541</td>\n",
              "      <td>0.773196</td>\n",
              "      <td>0.765262</td>\n",
              "      <td>0.779213</td>\n",
              "      <td>0.774201</td>\n",
              "      <td>0.774176</td>\n",
              "      <td>0.764763</td>\n",
              "    </tr>\n",
              "    <tr>\n",
              "      <th>6</th>\n",
              "      <td>0.774856</td>\n",
              "      <td>0.774881</td>\n",
              "      <td>0.774139</td>\n",
              "      <td>0.775343</td>\n",
              "      <td>0.773745</td>\n",
              "      <td>0.775843</td>\n",
              "      <td>0.781436</td>\n",
              "      <td>0.778670</td>\n",
              "      <td>0.771985</td>\n",
              "      <td>0.767578</td>\n",
              "    </tr>\n",
              "    <tr>\n",
              "      <th>7</th>\n",
              "      <td>0.767507</td>\n",
              "      <td>0.752724</td>\n",
              "      <td>0.741839</td>\n",
              "      <td>0.728256</td>\n",
              "      <td>0.741307</td>\n",
              "      <td>0.753414</td>\n",
              "      <td>0.758569</td>\n",
              "      <td>0.752884</td>\n",
              "      <td>0.738314</td>\n",
              "      <td>0.753632</td>\n",
              "    </tr>\n",
              "    <tr>\n",
              "      <th>8</th>\n",
              "      <td>0.792379</td>\n",
              "      <td>0.792123</td>\n",
              "      <td>0.779848</td>\n",
              "      <td>0.760539</td>\n",
              "      <td>0.775306</td>\n",
              "      <td>0.781250</td>\n",
              "      <td>0.795834</td>\n",
              "      <td>0.764415</td>\n",
              "      <td>0.770571</td>\n",
              "      <td>0.790859</td>\n",
              "    </tr>\n",
              "    <tr>\n",
              "      <th>9</th>\n",
              "      <td>0.794099</td>\n",
              "      <td>0.796451</td>\n",
              "      <td>0.780187</td>\n",
              "      <td>0.767930</td>\n",
              "      <td>0.776353</td>\n",
              "      <td>0.782674</td>\n",
              "      <td>0.800438</td>\n",
              "      <td>0.764082</td>\n",
              "      <td>0.771376</td>\n",
              "      <td>0.789538</td>\n",
              "    </tr>\n",
              "    <tr>\n",
              "      <th>10</th>\n",
              "      <td>0.748923</td>\n",
              "      <td>0.738346</td>\n",
              "      <td>0.723196</td>\n",
              "      <td>0.716358</td>\n",
              "      <td>0.729923</td>\n",
              "      <td>0.729254</td>\n",
              "      <td>0.734434</td>\n",
              "      <td>0.734237</td>\n",
              "      <td>0.718763</td>\n",
              "      <td>0.723166</td>\n",
              "    </tr>\n",
              "    <tr>\n",
              "      <th>11</th>\n",
              "      <td>0.777105</td>\n",
              "      <td>0.766694</td>\n",
              "      <td>0.762247</td>\n",
              "      <td>0.748348</td>\n",
              "      <td>0.759560</td>\n",
              "      <td>0.754774</td>\n",
              "      <td>0.766002</td>\n",
              "      <td>0.753146</td>\n",
              "      <td>0.761009</td>\n",
              "      <td>0.753210</td>\n",
              "    </tr>\n",
              "    <tr>\n",
              "      <th>12</th>\n",
              "      <td>0.771875</td>\n",
              "      <td>0.771798</td>\n",
              "      <td>0.757116</td>\n",
              "      <td>0.748363</td>\n",
              "      <td>0.755377</td>\n",
              "      <td>0.750924</td>\n",
              "      <td>0.770836</td>\n",
              "      <td>0.752591</td>\n",
              "      <td>0.751234</td>\n",
              "      <td>0.755198</td>\n",
              "    </tr>\n",
              "    <tr>\n",
              "      <th>13</th>\n",
              "      <td>0.748152</td>\n",
              "      <td>0.749282</td>\n",
              "      <td>0.749744</td>\n",
              "      <td>0.749788</td>\n",
              "      <td>0.748702</td>\n",
              "      <td>0.761810</td>\n",
              "      <td>0.754182</td>\n",
              "      <td>0.772422</td>\n",
              "      <td>0.750749</td>\n",
              "      <td>0.749089</td>\n",
              "    </tr>\n",
              "    <tr>\n",
              "      <th>14</th>\n",
              "      <td>0.775437</td>\n",
              "      <td>0.790999</td>\n",
              "      <td>0.790905</td>\n",
              "      <td>0.788727</td>\n",
              "      <td>0.788745</td>\n",
              "      <td>0.779170</td>\n",
              "      <td>0.781479</td>\n",
              "      <td>0.808140</td>\n",
              "      <td>0.794888</td>\n",
              "      <td>0.768677</td>\n",
              "    </tr>\n",
              "    <tr>\n",
              "      <th>15</th>\n",
              "      <td>0.841586</td>\n",
              "      <td>0.851604</td>\n",
              "      <td>0.862029</td>\n",
              "      <td>0.857135</td>\n",
              "      <td>0.854931</td>\n",
              "      <td>0.852584</td>\n",
              "      <td>0.853770</td>\n",
              "      <td>0.861561</td>\n",
              "      <td>0.848789</td>\n",
              "      <td>0.849869</td>\n",
              "    </tr>\n",
              "    <tr>\n",
              "      <th>16</th>\n",
              "      <td>0.679917</td>\n",
              "      <td>0.718640</td>\n",
              "      <td>0.708037</td>\n",
              "      <td>0.692955</td>\n",
              "      <td>0.719004</td>\n",
              "      <td>0.713504</td>\n",
              "      <td>0.685356</td>\n",
              "      <td>0.694801</td>\n",
              "      <td>0.709901</td>\n",
              "      <td>0.693858</td>\n",
              "    </tr>\n",
              "    <tr>\n",
              "      <th>17</th>\n",
              "      <td>0.808159</td>\n",
              "      <td>0.841952</td>\n",
              "      <td>0.810501</td>\n",
              "      <td>0.833717</td>\n",
              "      <td>0.837343</td>\n",
              "      <td>0.816019</td>\n",
              "      <td>0.800357</td>\n",
              "      <td>0.801311</td>\n",
              "      <td>0.836752</td>\n",
              "      <td>0.805811</td>\n",
              "    </tr>\n",
              "    <tr>\n",
              "      <th>18</th>\n",
              "      <td>0.825526</td>\n",
              "      <td>0.839649</td>\n",
              "      <td>0.812014</td>\n",
              "      <td>0.830556</td>\n",
              "      <td>0.848779</td>\n",
              "      <td>0.828312</td>\n",
              "      <td>0.805687</td>\n",
              "      <td>0.801958</td>\n",
              "      <td>0.835230</td>\n",
              "      <td>0.811292</td>\n",
              "    </tr>\n",
              "    <tr>\n",
              "      <th>19</th>\n",
              "      <td>0.778783</td>\n",
              "      <td>0.753202</td>\n",
              "      <td>0.752497</td>\n",
              "      <td>0.762566</td>\n",
              "      <td>0.764863</td>\n",
              "      <td>0.765818</td>\n",
              "      <td>0.772497</td>\n",
              "      <td>0.767541</td>\n",
              "      <td>0.763689</td>\n",
              "      <td>0.761467</td>\n",
              "    </tr>\n",
              "    <tr>\n",
              "      <th>20</th>\n",
              "      <td>0.834351</td>\n",
              "      <td>0.843271</td>\n",
              "      <td>0.852029</td>\n",
              "      <td>0.848233</td>\n",
              "      <td>0.846592</td>\n",
              "      <td>0.845356</td>\n",
              "      <td>0.838202</td>\n",
              "      <td>0.850999</td>\n",
              "      <td>0.844338</td>\n",
              "      <td>0.838184</td>\n",
              "    </tr>\n",
              "    <tr>\n",
              "      <th>21</th>\n",
              "      <td>0.782665</td>\n",
              "      <td>0.775993</td>\n",
              "      <td>0.756916</td>\n",
              "      <td>0.771417</td>\n",
              "      <td>0.784320</td>\n",
              "      <td>0.778614</td>\n",
              "      <td>0.769763</td>\n",
              "      <td>0.778664</td>\n",
              "      <td>0.753159</td>\n",
              "      <td>0.759806</td>\n",
              "    </tr>\n",
              "    <tr>\n",
              "      <th>22</th>\n",
              "      <td>0.781548</td>\n",
              "      <td>0.786579</td>\n",
              "      <td>0.799182</td>\n",
              "      <td>0.798171</td>\n",
              "      <td>0.783190</td>\n",
              "      <td>0.772484</td>\n",
              "      <td>0.772060</td>\n",
              "      <td>0.801498</td>\n",
              "      <td>0.785980</td>\n",
              "      <td>0.785936</td>\n",
              "    </tr>\n",
              "    <tr>\n",
              "      <th>23</th>\n",
              "      <td>0.750304</td>\n",
              "      <td>0.735134</td>\n",
              "      <td>0.726965</td>\n",
              "      <td>0.721424</td>\n",
              "      <td>0.721628</td>\n",
              "      <td>0.744466</td>\n",
              "      <td>0.741177</td>\n",
              "      <td>0.733135</td>\n",
              "      <td>0.710150</td>\n",
              "      <td>0.727927</td>\n",
              "    </tr>\n",
              "    <tr>\n",
              "      <th>24</th>\n",
              "      <td>0.736690</td>\n",
              "      <td>0.728456</td>\n",
              "      <td>0.716963</td>\n",
              "      <td>0.702302</td>\n",
              "      <td>0.702770</td>\n",
              "      <td>0.712681</td>\n",
              "      <td>0.732511</td>\n",
              "      <td>0.707740</td>\n",
              "      <td>0.702009</td>\n",
              "      <td>0.718048</td>\n",
              "    </tr>\n",
              "    <tr>\n",
              "      <th>25</th>\n",
              "      <td>0.818404</td>\n",
              "      <td>0.855694</td>\n",
              "      <td>0.851834</td>\n",
              "      <td>0.852233</td>\n",
              "      <td>0.839215</td>\n",
              "      <td>0.847126</td>\n",
              "      <td>0.845872</td>\n",
              "      <td>0.823877</td>\n",
              "      <td>0.859097</td>\n",
              "      <td>0.835529</td>\n",
              "    </tr>\n",
              "    <tr>\n",
              "      <th>26</th>\n",
              "      <td>0.818404</td>\n",
              "      <td>0.855694</td>\n",
              "      <td>0.851834</td>\n",
              "      <td>0.852233</td>\n",
              "      <td>0.839215</td>\n",
              "      <td>0.847126</td>\n",
              "      <td>0.845872</td>\n",
              "      <td>0.823877</td>\n",
              "      <td>0.859097</td>\n",
              "      <td>0.835529</td>\n",
              "    </tr>\n",
              "    <tr>\n",
              "      <th>27</th>\n",
              "      <td>0.781548</td>\n",
              "      <td>0.786579</td>\n",
              "      <td>0.799182</td>\n",
              "      <td>0.798171</td>\n",
              "      <td>0.783190</td>\n",
              "      <td>0.772484</td>\n",
              "      <td>0.772060</td>\n",
              "      <td>0.801498</td>\n",
              "      <td>0.785980</td>\n",
              "      <td>0.785936</td>\n",
              "    </tr>\n",
              "    <tr>\n",
              "      <th>28</th>\n",
              "      <td>0.818227</td>\n",
              "      <td>0.831042</td>\n",
              "      <td>0.828652</td>\n",
              "      <td>0.824800</td>\n",
              "      <td>0.827603</td>\n",
              "      <td>0.811966</td>\n",
              "      <td>0.816454</td>\n",
              "      <td>0.832029</td>\n",
              "      <td>0.819288</td>\n",
              "      <td>0.832072</td>\n",
              "    </tr>\n",
              "    <tr>\n",
              "      <th>29</th>\n",
              "      <td>0.818227</td>\n",
              "      <td>0.831042</td>\n",
              "      <td>0.828652</td>\n",
              "      <td>0.824800</td>\n",
              "      <td>0.827603</td>\n",
              "      <td>0.811966</td>\n",
              "      <td>0.816454</td>\n",
              "      <td>0.832029</td>\n",
              "      <td>0.819288</td>\n",
              "      <td>0.832072</td>\n",
              "    </tr>\n",
              "    <tr>\n",
              "      <th>30</th>\n",
              "      <td>0.767122</td>\n",
              "      <td>0.773783</td>\n",
              "      <td>0.776954</td>\n",
              "      <td>0.779788</td>\n",
              "      <td>0.789875</td>\n",
              "      <td>0.772472</td>\n",
              "      <td>0.768034</td>\n",
              "      <td>0.773059</td>\n",
              "      <td>0.769732</td>\n",
              "      <td>0.773633</td>\n",
              "    </tr>\n",
              "    <tr>\n",
              "      <th>31</th>\n",
              "      <td>0.765456</td>\n",
              "      <td>0.773783</td>\n",
              "      <td>0.774719</td>\n",
              "      <td>0.778146</td>\n",
              "      <td>0.800424</td>\n",
              "      <td>0.770818</td>\n",
              "      <td>0.768059</td>\n",
              "      <td>0.773652</td>\n",
              "      <td>0.778115</td>\n",
              "      <td>0.773664</td>\n",
              "    </tr>\n",
              "    <tr>\n",
              "      <th>32</th>\n",
              "      <td>0.753777</td>\n",
              "      <td>0.769906</td>\n",
              "      <td>0.775262</td>\n",
              "      <td>0.774806</td>\n",
              "      <td>0.778745</td>\n",
              "      <td>0.755780</td>\n",
              "      <td>0.762516</td>\n",
              "      <td>0.766411</td>\n",
              "      <td>0.774794</td>\n",
              "      <td>0.767566</td>\n",
              "    </tr>\n",
              "    <tr>\n",
              "      <th>33</th>\n",
              "      <td>0.753777</td>\n",
              "      <td>0.769906</td>\n",
              "      <td>0.775262</td>\n",
              "      <td>0.774806</td>\n",
              "      <td>0.778745</td>\n",
              "      <td>0.755780</td>\n",
              "      <td>0.762516</td>\n",
              "      <td>0.766411</td>\n",
              "      <td>0.774794</td>\n",
              "      <td>0.767566</td>\n",
              "    </tr>\n",
              "    <tr>\n",
              "      <th>34</th>\n",
              "      <td>0.816567</td>\n",
              "      <td>0.815487</td>\n",
              "      <td>0.819800</td>\n",
              "      <td>0.823127</td>\n",
              "      <td>0.810393</td>\n",
              "      <td>0.808140</td>\n",
              "      <td>0.814838</td>\n",
              "      <td>0.822609</td>\n",
              "      <td>0.820961</td>\n",
              "      <td>0.821473</td>\n",
              "    </tr>\n",
              "    <tr>\n",
              "      <th>35</th>\n",
              "      <td>0.761561</td>\n",
              "      <td>0.772665</td>\n",
              "      <td>0.772522</td>\n",
              "      <td>0.775930</td>\n",
              "      <td>0.780961</td>\n",
              "      <td>0.767466</td>\n",
              "      <td>0.763652</td>\n",
              "      <td>0.761885</td>\n",
              "      <td>0.787534</td>\n",
              "      <td>0.787553</td>\n",
              "    </tr>\n",
              "    <tr>\n",
              "      <th>36</th>\n",
              "      <td>0.767653</td>\n",
              "      <td>0.775456</td>\n",
              "      <td>0.770861</td>\n",
              "      <td>0.778702</td>\n",
              "      <td>0.785974</td>\n",
              "      <td>0.767459</td>\n",
              "      <td>0.765312</td>\n",
              "      <td>0.768577</td>\n",
              "      <td>0.788115</td>\n",
              "      <td>0.787566</td>\n",
              "    </tr>\n",
              "    <tr>\n",
              "      <th>37</th>\n",
              "      <td>0.763801</td>\n",
              "      <td>0.769913</td>\n",
              "      <td>0.780805</td>\n",
              "      <td>0.766436</td>\n",
              "      <td>0.772085</td>\n",
              "      <td>0.755293</td>\n",
              "      <td>0.773152</td>\n",
              "      <td>0.774769</td>\n",
              "      <td>0.784276</td>\n",
              "      <td>0.775893</td>\n",
              "    </tr>\n",
              "    <tr>\n",
              "      <th>38</th>\n",
              "      <td>0.736856</td>\n",
              "      <td>0.755609</td>\n",
              "      <td>0.748009</td>\n",
              "      <td>0.735554</td>\n",
              "      <td>0.757634</td>\n",
              "      <td>0.755478</td>\n",
              "      <td>0.744571</td>\n",
              "      <td>0.734989</td>\n",
              "      <td>0.765595</td>\n",
              "      <td>0.744317</td>\n",
              "    </tr>\n",
              "    <tr>\n",
              "      <th>39</th>\n",
              "      <td>0.755587</td>\n",
              "      <td>0.796639</td>\n",
              "      <td>0.764504</td>\n",
              "      <td>0.778128</td>\n",
              "      <td>0.791815</td>\n",
              "      <td>0.799374</td>\n",
              "      <td>0.789978</td>\n",
              "      <td>0.768023</td>\n",
              "      <td>0.799334</td>\n",
              "      <td>0.775757</td>\n",
              "    </tr>\n",
              "    <tr>\n",
              "      <th>40</th>\n",
              "      <td>0.758429</td>\n",
              "      <td>0.793225</td>\n",
              "      <td>0.765923</td>\n",
              "      <td>0.784660</td>\n",
              "      <td>0.798790</td>\n",
              "      <td>0.798865</td>\n",
              "      <td>0.791144</td>\n",
              "      <td>0.771744</td>\n",
              "      <td>0.794922</td>\n",
              "      <td>0.783922</td>\n",
              "    </tr>\n",
              "    <tr>\n",
              "      <th>41</th>\n",
              "      <td>0.709089</td>\n",
              "      <td>0.740043</td>\n",
              "      <td>0.714619</td>\n",
              "      <td>0.722761</td>\n",
              "      <td>0.731244</td>\n",
              "      <td>0.745676</td>\n",
              "      <td>0.735358</td>\n",
              "      <td>0.722306</td>\n",
              "      <td>0.734728</td>\n",
              "      <td>0.715597</td>\n",
              "    </tr>\n",
              "    <tr>\n",
              "      <th>42</th>\n",
              "      <td>0.703807</td>\n",
              "      <td>0.728126</td>\n",
              "      <td>0.722245</td>\n",
              "      <td>0.734477</td>\n",
              "      <td>0.738322</td>\n",
              "      <td>0.721673</td>\n",
              "      <td>0.737770</td>\n",
              "      <td>0.716549</td>\n",
              "      <td>0.743760</td>\n",
              "      <td>0.733097</td>\n",
              "    </tr>\n",
              "    <tr>\n",
              "      <th>43</th>\n",
              "      <td>0.726569</td>\n",
              "      <td>0.762264</td>\n",
              "      <td>0.756991</td>\n",
              "      <td>0.758490</td>\n",
              "      <td>0.775961</td>\n",
              "      <td>0.769553</td>\n",
              "      <td>0.771019</td>\n",
              "      <td>0.748674</td>\n",
              "      <td>0.772814</td>\n",
              "      <td>0.756840</td>\n",
              "    </tr>\n",
              "    <tr>\n",
              "      <th>44</th>\n",
              "      <td>0.729358</td>\n",
              "      <td>0.769921</td>\n",
              "      <td>0.752637</td>\n",
              "      <td>0.765730</td>\n",
              "      <td>0.780659</td>\n",
              "      <td>0.765680</td>\n",
              "      <td>0.772343</td>\n",
              "      <td>0.741120</td>\n",
              "      <td>0.776238</td>\n",
              "      <td>0.767662</td>\n",
              "    </tr>\n",
              "    <tr>\n",
              "      <th>45</th>\n",
              "      <td>0.695371</td>\n",
              "      <td>0.715570</td>\n",
              "      <td>0.710049</td>\n",
              "      <td>0.715570</td>\n",
              "      <td>0.726373</td>\n",
              "      <td>0.720478</td>\n",
              "      <td>0.715477</td>\n",
              "      <td>0.710656</td>\n",
              "      <td>0.728657</td>\n",
              "      <td>0.715918</td>\n",
              "    </tr>\n",
              "    <tr>\n",
              "      <th>46</th>\n",
              "      <td>0.748708</td>\n",
              "      <td>0.749282</td>\n",
              "      <td>0.749744</td>\n",
              "      <td>0.749788</td>\n",
              "      <td>0.748702</td>\n",
              "      <td>0.761810</td>\n",
              "      <td>0.754182</td>\n",
              "      <td>0.772422</td>\n",
              "      <td>0.750749</td>\n",
              "      <td>0.749089</td>\n",
              "    </tr>\n",
              "    <tr>\n",
              "      <th>47</th>\n",
              "      <td>0.834351</td>\n",
              "      <td>0.843271</td>\n",
              "      <td>0.852029</td>\n",
              "      <td>0.848233</td>\n",
              "      <td>0.846592</td>\n",
              "      <td>0.845356</td>\n",
              "      <td>0.838202</td>\n",
              "      <td>0.850999</td>\n",
              "      <td>0.844338</td>\n",
              "      <td>0.838184</td>\n",
              "    </tr>\n",
              "    <tr>\n",
              "      <th>48</th>\n",
              "      <td>0.841586</td>\n",
              "      <td>0.851604</td>\n",
              "      <td>0.862029</td>\n",
              "      <td>0.857135</td>\n",
              "      <td>0.854931</td>\n",
              "      <td>0.852584</td>\n",
              "      <td>0.853770</td>\n",
              "      <td>0.861561</td>\n",
              "      <td>0.848789</td>\n",
              "      <td>0.849869</td>\n",
              "    </tr>\n",
              "    <tr>\n",
              "      <th>49</th>\n",
              "      <td>0.781548</td>\n",
              "      <td>0.786579</td>\n",
              "      <td>0.799182</td>\n",
              "      <td>0.798171</td>\n",
              "      <td>0.783190</td>\n",
              "      <td>0.772484</td>\n",
              "      <td>0.772060</td>\n",
              "      <td>0.801498</td>\n",
              "      <td>0.785980</td>\n",
              "      <td>0.785936</td>\n",
              "    </tr>\n",
              "    <tr>\n",
              "      <th>50</th>\n",
              "      <td>0.679917</td>\n",
              "      <td>0.718640</td>\n",
              "      <td>0.708037</td>\n",
              "      <td>0.692955</td>\n",
              "      <td>0.719004</td>\n",
              "      <td>0.713504</td>\n",
              "      <td>0.685356</td>\n",
              "      <td>0.694801</td>\n",
              "      <td>0.709901</td>\n",
              "      <td>0.693858</td>\n",
              "    </tr>\n",
              "    <tr>\n",
              "      <th>51</th>\n",
              "      <td>0.808159</td>\n",
              "      <td>0.841952</td>\n",
              "      <td>0.810501</td>\n",
              "      <td>0.833717</td>\n",
              "      <td>0.837343</td>\n",
              "      <td>0.816019</td>\n",
              "      <td>0.800357</td>\n",
              "      <td>0.801311</td>\n",
              "      <td>0.836752</td>\n",
              "      <td>0.805811</td>\n",
              "    </tr>\n",
              "    <tr>\n",
              "      <th>52</th>\n",
              "      <td>0.825526</td>\n",
              "      <td>0.839649</td>\n",
              "      <td>0.812014</td>\n",
              "      <td>0.830556</td>\n",
              "      <td>0.848779</td>\n",
              "      <td>0.828312</td>\n",
              "      <td>0.805687</td>\n",
              "      <td>0.801958</td>\n",
              "      <td>0.835230</td>\n",
              "      <td>0.811292</td>\n",
              "    </tr>\n",
              "    <tr>\n",
              "      <th>53</th>\n",
              "      <td>0.818404</td>\n",
              "      <td>0.855694</td>\n",
              "      <td>0.851834</td>\n",
              "      <td>0.852233</td>\n",
              "      <td>0.839215</td>\n",
              "      <td>0.847126</td>\n",
              "      <td>0.845872</td>\n",
              "      <td>0.823877</td>\n",
              "      <td>0.859097</td>\n",
              "      <td>0.835529</td>\n",
              "    </tr>\n",
              "  </tbody>\n",
              "</table>\n",
              "</div>"
            ],
            "text/plain": [
              "    split0_test_score  split1_test_score  split2_test_score  \\\n",
              "0            0.746498           0.729844           0.742484   \n",
              "1            0.844875           0.813789           0.808652   \n",
              "2            0.785418           0.761511           0.767484   \n",
              "3            0.781523           0.757634           0.770830   \n",
              "4            0.822653           0.814338           0.809732   \n",
              "5            0.780955           0.775993           0.771935   \n",
              "6            0.774856           0.774881           0.774139   \n",
              "7            0.767507           0.752724           0.741839   \n",
              "8            0.792379           0.792123           0.779848   \n",
              "9            0.794099           0.796451           0.780187   \n",
              "10           0.748923           0.738346           0.723196   \n",
              "11           0.777105           0.766694           0.762247   \n",
              "12           0.771875           0.771798           0.757116   \n",
              "13           0.748152           0.749282           0.749744   \n",
              "14           0.775437           0.790999           0.790905   \n",
              "15           0.841586           0.851604           0.862029   \n",
              "16           0.679917           0.718640           0.708037   \n",
              "17           0.808159           0.841952           0.810501   \n",
              "18           0.825526           0.839649           0.812014   \n",
              "19           0.778783           0.753202           0.752497   \n",
              "20           0.834351           0.843271           0.852029   \n",
              "21           0.782665           0.775993           0.756916   \n",
              "22           0.781548           0.786579           0.799182   \n",
              "23           0.750304           0.735134           0.726965   \n",
              "24           0.736690           0.728456           0.716963   \n",
              "25           0.818404           0.855694           0.851834   \n",
              "26           0.818404           0.855694           0.851834   \n",
              "27           0.781548           0.786579           0.799182   \n",
              "28           0.818227           0.831042           0.828652   \n",
              "29           0.818227           0.831042           0.828652   \n",
              "30           0.767122           0.773783           0.776954   \n",
              "31           0.765456           0.773783           0.774719   \n",
              "32           0.753777           0.769906           0.775262   \n",
              "33           0.753777           0.769906           0.775262   \n",
              "34           0.816567           0.815487           0.819800   \n",
              "35           0.761561           0.772665           0.772522   \n",
              "36           0.767653           0.775456           0.770861   \n",
              "37           0.763801           0.769913           0.780805   \n",
              "38           0.736856           0.755609           0.748009   \n",
              "39           0.755587           0.796639           0.764504   \n",
              "40           0.758429           0.793225           0.765923   \n",
              "41           0.709089           0.740043           0.714619   \n",
              "42           0.703807           0.728126           0.722245   \n",
              "43           0.726569           0.762264           0.756991   \n",
              "44           0.729358           0.769921           0.752637   \n",
              "45           0.695371           0.715570           0.710049   \n",
              "46           0.748708           0.749282           0.749744   \n",
              "47           0.834351           0.843271           0.852029   \n",
              "48           0.841586           0.851604           0.862029   \n",
              "49           0.781548           0.786579           0.799182   \n",
              "50           0.679917           0.718640           0.708037   \n",
              "51           0.808159           0.841952           0.810501   \n",
              "52           0.825526           0.839649           0.812014   \n",
              "53           0.818404           0.855694           0.851834   \n",
              "\n",
              "    split3_test_score  split4_test_score  split5_test_score  \\\n",
              "0            0.750318           0.736504           0.753034   \n",
              "1            0.828727           0.810456           0.825830   \n",
              "2            0.784788           0.772634           0.786423   \n",
              "3            0.786479           0.769856           0.781960   \n",
              "4            0.824270           0.819307           0.820899   \n",
              "5            0.762541           0.773196           0.765262   \n",
              "6            0.775343           0.773745           0.775843   \n",
              "7            0.728256           0.741307           0.753414   \n",
              "8            0.760539           0.775306           0.781250   \n",
              "9            0.767930           0.776353           0.782674   \n",
              "10           0.716358           0.729923           0.729254   \n",
              "11           0.748348           0.759560           0.754774   \n",
              "12           0.748363           0.755377           0.750924   \n",
              "13           0.749788           0.748702           0.761810   \n",
              "14           0.788727           0.788745           0.779170   \n",
              "15           0.857135           0.854931           0.852584   \n",
              "16           0.692955           0.719004           0.713504   \n",
              "17           0.833717           0.837343           0.816019   \n",
              "18           0.830556           0.848779           0.828312   \n",
              "19           0.762566           0.764863           0.765818   \n",
              "20           0.848233           0.846592           0.845356   \n",
              "21           0.771417           0.784320           0.778614   \n",
              "22           0.798171           0.783190           0.772484   \n",
              "23           0.721424           0.721628           0.744466   \n",
              "24           0.702302           0.702770           0.712681   \n",
              "25           0.852233           0.839215           0.847126   \n",
              "26           0.852233           0.839215           0.847126   \n",
              "27           0.798171           0.783190           0.772484   \n",
              "28           0.824800           0.827603           0.811966   \n",
              "29           0.824800           0.827603           0.811966   \n",
              "30           0.779788           0.789875           0.772472   \n",
              "31           0.778146           0.800424           0.770818   \n",
              "32           0.774806           0.778745           0.755780   \n",
              "33           0.774806           0.778745           0.755780   \n",
              "34           0.823127           0.810393           0.808140   \n",
              "35           0.775930           0.780961           0.767466   \n",
              "36           0.778702           0.785974           0.767459   \n",
              "37           0.766436           0.772085           0.755293   \n",
              "38           0.735554           0.757634           0.755478   \n",
              "39           0.778128           0.791815           0.799374   \n",
              "40           0.784660           0.798790           0.798865   \n",
              "41           0.722761           0.731244           0.745676   \n",
              "42           0.734477           0.738322           0.721673   \n",
              "43           0.758490           0.775961           0.769553   \n",
              "44           0.765730           0.780659           0.765680   \n",
              "45           0.715570           0.726373           0.720478   \n",
              "46           0.749788           0.748702           0.761810   \n",
              "47           0.848233           0.846592           0.845356   \n",
              "48           0.857135           0.854931           0.852584   \n",
              "49           0.798171           0.783190           0.772484   \n",
              "50           0.692955           0.719004           0.713504   \n",
              "51           0.833717           0.837343           0.816019   \n",
              "52           0.830556           0.848779           0.828312   \n",
              "53           0.852233           0.839215           0.847126   \n",
              "\n",
              "    split6_test_score  split7_test_score  split8_test_score  split9_test_score  \n",
              "0            0.758034           0.735843           0.748102           0.735337  \n",
              "1            0.825880           0.835406           0.814313           0.827628  \n",
              "2            0.787553           0.773096           0.774763           0.788702  \n",
              "3            0.794245           0.768127           0.779245           0.785387  \n",
              "4            0.817572           0.829844           0.817079           0.822097  \n",
              "5            0.779213           0.774201           0.774176           0.764763  \n",
              "6            0.781436           0.778670           0.771985           0.767578  \n",
              "7            0.758569           0.752884           0.738314           0.753632  \n",
              "8            0.795834           0.764415           0.770571           0.790859  \n",
              "9            0.800438           0.764082           0.771376           0.789538  \n",
              "10           0.734434           0.734237           0.718763           0.723166  \n",
              "11           0.766002           0.753146           0.761009           0.753210  \n",
              "12           0.770836           0.752591           0.751234           0.755198  \n",
              "13           0.754182           0.772422           0.750749           0.749089  \n",
              "14           0.781479           0.808140           0.794888           0.768677  \n",
              "15           0.853770           0.861561           0.848789           0.849869  \n",
              "16           0.685356           0.694801           0.709901           0.693858  \n",
              "17           0.800357           0.801311           0.836752           0.805811  \n",
              "18           0.805687           0.801958           0.835230           0.811292  \n",
              "19           0.772497           0.767541           0.763689           0.761467  \n",
              "20           0.838202           0.850999           0.844338           0.838184  \n",
              "21           0.769763           0.778664           0.753159           0.759806  \n",
              "22           0.772060           0.801498           0.785980           0.785936  \n",
              "23           0.741177           0.733135           0.710150           0.727927  \n",
              "24           0.732511           0.707740           0.702009           0.718048  \n",
              "25           0.845872           0.823877           0.859097           0.835529  \n",
              "26           0.845872           0.823877           0.859097           0.835529  \n",
              "27           0.772060           0.801498           0.785980           0.785936  \n",
              "28           0.816454           0.832029           0.819288           0.832072  \n",
              "29           0.816454           0.832029           0.819288           0.832072  \n",
              "30           0.768034           0.773059           0.769732           0.773633  \n",
              "31           0.768059           0.773652           0.778115           0.773664  \n",
              "32           0.762516           0.766411           0.774794           0.767566  \n",
              "33           0.762516           0.766411           0.774794           0.767566  \n",
              "34           0.814838           0.822609           0.820961           0.821473  \n",
              "35           0.763652           0.761885           0.787534           0.787553  \n",
              "36           0.765312           0.768577           0.788115           0.787566  \n",
              "37           0.773152           0.774769           0.784276           0.775893  \n",
              "38           0.744571           0.734989           0.765595           0.744317  \n",
              "39           0.789978           0.768023           0.799334           0.775757  \n",
              "40           0.791144           0.771744           0.794922           0.783922  \n",
              "41           0.735358           0.722306           0.734728           0.715597  \n",
              "42           0.737770           0.716549           0.743760           0.733097  \n",
              "43           0.771019           0.748674           0.772814           0.756840  \n",
              "44           0.772343           0.741120           0.776238           0.767662  \n",
              "45           0.715477           0.710656           0.728657           0.715918  \n",
              "46           0.754182           0.772422           0.750749           0.749089  \n",
              "47           0.838202           0.850999           0.844338           0.838184  \n",
              "48           0.853770           0.861561           0.848789           0.849869  \n",
              "49           0.772060           0.801498           0.785980           0.785936  \n",
              "50           0.685356           0.694801           0.709901           0.693858  \n",
              "51           0.800357           0.801311           0.836752           0.805811  \n",
              "52           0.805687           0.801958           0.835230           0.811292  \n",
              "53           0.845872           0.823877           0.859097           0.835529  "
            ]
          },
          "execution_count": 70,
          "metadata": {},
          "output_type": "execute_result"
        }
      ],
      "source": [
        "df_cv.filter(regex=(\"split*\"))"
      ]
    },
    {
      "cell_type": "code",
      "execution_count": null,
      "metadata": {
        "id": "DsJGZi0vnhTP"
      },
      "outputs": [],
      "source": []
    }
  ],
  "metadata": {
    "colab": {
      "collapsed_sections": [
        "_nX89b1lVnwR"
      ],
      "provenance": []
    },
    "gpuClass": "standard",
    "interpreter": {
      "hash": "31f2aee4e71d21fbe5cf8b01ff0e069b9275f58929596ceb00d14d90e3e16cd6"
    },
    "kernelspec": {
      "display_name": "Python 3.8.10 64-bit",
      "name": "python3"
    },
    "language_info": {
      "codemirror_mode": {
        "name": "ipython",
        "version": 3
      },
      "file_extension": ".py",
      "mimetype": "text/x-python",
      "name": "python",
      "nbconvert_exporter": "python",
      "pygments_lexer": "ipython3",
      "version": "3.8.10"
    },
    "vscode": {
      "interpreter": {
        "hash": "767d51c1340bd893661ea55ea3124f6de3c7a262a8b4abca0554b478b1e2ff90"
      }
    }
  },
  "nbformat": 4,
  "nbformat_minor": 0
}
