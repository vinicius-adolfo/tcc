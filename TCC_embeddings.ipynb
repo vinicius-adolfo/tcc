{
 "cells": [
  {
   "cell_type": "code",
   "execution_count": null,
   "metadata": {},
   "outputs": [],
   "source": [
    "import pandas as pd\n",
    "import numpy as np\n",
    "!pip install -U sentence-transformers\n",
    "from IPython.display import clear_output\n",
    "from sentence_transformers import SentenceTransformer\n",
    "import pickle\n",
    "clear_output()"
   ]
  },
  {
   "cell_type": "code",
   "execution_count": null,
   "metadata": {},
   "outputs": [],
   "source": [
    "###### Models ######\n",
    "models_names = [\"all-MiniLM-L6-v2\",\"all-MiniLM-L12-v2\"]\n",
    "###### Datasets ######\n",
    "datasets = ['TC02_20news', 'TC14_wos']\n",
    "for dataset in datasets:\n",
    "  df = pd.read_csv(f'Arquivos TCC/datasets/{dataset}.csv', sep=';')\n",
    "  df = df.dropna()\n",
    "  for model_name in models_names:\n",
    "    model = SentenceTransformer(f\"sentence-transformers/{model_name}\")\n",
    "    textos = df['text'].values.tolist()\n",
    "    embeddings = model.encode(textos)\n",
    "    with open(f'Arquivos TCC/embeddings/sbert/{model_name}_{dataset}.pkl', \"wb\") as fOut:\n",
    "      pickle.dump({'sentences': textos, 'embeddings': embeddings, 'labels': df['label']}, fOut, protocol=pickle.HIGHEST_PROTOCOL)\n",
    "\n",
    "clear_output()"
   ]
  }
 ],
 "metadata": {
  "kernelspec": {
   "display_name": "Python 3.8.2 64-bit",
   "language": "python",
   "name": "python3"
  },
  "language_info": {
   "name": "python",
   "version": "3.8.10"
  },
  "orig_nbformat": 4,
  "vscode": {
   "interpreter": {
    "hash": "916dbcbb3f70747c44a77c7bcd40155683ae19c65e1c03b4aa3499c5328201f1"
   }
  }
 },
 "nbformat": 4,
 "nbformat_minor": 2
}
