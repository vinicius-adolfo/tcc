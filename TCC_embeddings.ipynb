{
 "cells": [
  {
   "cell_type": "code",
   "execution_count": null,
   "metadata": {},
   "outputs": [],
   "source": [
    "import pandas as pd\n",
    "import numpy as np\n",
    "!pip install -U sentence-transformers\n",
    "from IPython.display import clear_output\n",
    "from sentence_transformers import SentenceTransformer\n",
    "import pickle\n",
    "clear_output()"
   ]
  },
  {
   "cell_type": "code",
   "execution_count": null,
   "metadata": {},
   "outputs": [],
   "source": [
    "###### Models ######\n",
    "models_names = [\"all-MiniLM-L6-v2\",\"all-MiniLM-L12-v2\"]\n",
    "###### Datasets ######\n",
    "datasets = ['TC02_20news', 'TC14_wos']\n",
    "for dataset in datasets:\n",
    "  df = pd.read_csv(f'Arquivos TCC/datasets/{dataset}.csv', sep=';')\n",
    "  df = df.dropna()\n",
    "  for model_name in models_names:\n",
    "    model = SentenceTransformer(f\"sentence-transformers/{model_name}\")\n",
    "    textos = df['text'].values.tolist()\n",
    "    embeddings = model.encode(textos)\n",
    "    with open(f'Arquivos TCC/embeddings/sbert/{model_name}_{dataset}.pkl', \"wb\") as fOut:\n",
    "      pickle.dump({'sentences': textos, 'embeddings': embeddings, 'labels': df['label']}, fOut, protocol=pickle.HIGHEST_PROTOCOL)\n",
    "\n",
    "clear_output()"
   ]
  },
  {
   "cell_type": "code",
   "execution_count": null,
   "metadata": {},
   "outputs": [],
   "source": [
    "#umap para redução da dimensão do embedding\n",
    "!pip install umap-learn\n",
    "from umap import UMAP\n",
    "import pandas as pd\n",
    "import numpy as np\n",
    "import pickle\n",
    "from IPython.display import clear_output\n",
    "clear_output()\n",
    "datasets = ['TC02_20news', 'TC14_wos']\n",
    "models_names = [\"all-MiniLM-L6-v2\",\"all-MiniLM-L12-v2\"]\n",
    "for model_name in models_names:\n",
    "  for dataset in datasets:\n",
    "    embeddings_path = f'Arquivos TCC/embeddings/{model_name}_{dataset}.pkl'\n",
    "    with open(embeddings_path, \"rb\") as fIn:\n",
    "      stored_data = pickle.load(fIn)\n",
    "      stored_sentences = stored_data['sentences']\n",
    "      stored_embeddings = stored_data['embeddings']\n",
    "      stored_labels = stored_data['labels']\n",
    "      umap_model = UMAP(\n",
    "              n_components=30,\n",
    "              min_dist=0.01,\n",
    "              random_state=5,\n",
    "              n_neighbors=20,\n",
    "              metric='cosine',\n",
    "              low_memory=True\n",
    "          )\n",
    "      embeddings_umap = umap_model.fit_transform(stored_embeddings)\n",
    "      with open(f'Arquivos TCC/embeddings/umap/{model_name}_{dataset}.pkl', \"wb\") as fOut:\n",
    "        pickle.dump({'sentences': stored_sentences, 'umap_embeddings': embeddings_umap, 'labels': stored_labels}, fOut, protocol=pickle.HIGHEST_PROTOCOL)"
   ]
  }
 ],
 "metadata": {
  "kernelspec": {
   "display_name": "Python 3.8.2 64-bit",
   "language": "python",
   "name": "python3"
  },
  "language_info": {
   "name": "python",
   "version": "3.8.10"
  },
  "orig_nbformat": 4,
  "vscode": {
   "interpreter": {
    "hash": "916dbcbb3f70747c44a77c7bcd40155683ae19c65e1c03b4aa3499c5328201f1"
   }
  }
 },
 "nbformat": 4,
 "nbformat_minor": 2
}
