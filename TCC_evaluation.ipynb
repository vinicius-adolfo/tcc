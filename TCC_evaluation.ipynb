{
 "cells": [
  {
   "cell_type": "code",
   "execution_count": 1,
   "metadata": {},
   "outputs": [],
   "source": [
    "import pandas as pd\n",
    "random_state = 20\n",
    "class color:\n",
    "   PURPLE = '\\033[95m'\n",
    "   CYAN = '\\033[96m'\n",
    "   DARKCYAN = '\\033[36m'\n",
    "   BLUE = '\\033[94m'\n",
    "   GREEN = '\\033[92m'\n",
    "   YELLOW = '\\033[93m'\n",
    "   RED = '\\033[91m'\n",
    "   BOLD = '\\033[1m'\n",
    "   UNDERLINE = '\\033[4m'\n",
    "   END = '\\033[0m'"
   ]
  },
  {
   "cell_type": "code",
   "execution_count": 2,
   "metadata": {},
   "outputs": [],
   "source": [
    "random_state = 20\n",
    "def read_dataset(dataset, model_name):\n",
    "    import pandas as pd\n",
    "    import numpy as np\n",
    "    import pickle\n",
    "    from IPython.display import clear_output\n",
    "    from sklearn import preprocessing\n",
    "    clear_output()\n",
    "    #datasets = ['TC02_20news', 'TC14_wos']\n",
    "    #models_names = [\"all-MiniLM-L6-v2\",\"all-MiniLM-L12-v2\"]\n",
    "    if model_name != \"TFIDF\":\n",
    "        embeddings_path = f'Arquivos TCC/embeddings/sbert/{model_name}_{dataset}.pkl'\n",
    "        with open(embeddings_path, \"rb\") as fIn:\n",
    "            stored_data = pickle.load(fIn)\n",
    "        embeddings = stored_data['embeddings']\n",
    "        labels = stored_data['labels']\n",
    "        labels_enc = preprocessing.LabelEncoder().fit_transform(labels)\n",
    "        unique, counts = np.unique(stored_data['labels'], return_counts=True)\n",
    "        #Split hold-out test data\n",
    "        from sklearn.model_selection import train_test_split\n",
    "        X_train, X_test, y_train, y_test = train_test_split(embeddings, labels_enc, test_size=0.10, random_state=random_state,stratify=labels_enc)\n",
    "        return (X_train, X_test, y_train, y_test)\n",
    "    else:\n",
    "        df = pd.read_csv(f'Arquivos TCC/datasets/{dataset}.csv', sep=';')\n",
    "        df = df.dropna()\n",
    "        textos = df['text'].values.tolist()\n",
    "        labels = df['label']\n",
    "        labels_enc = preprocessing.LabelEncoder().fit_transform(labels)\n",
    "        #Split hold-out test data\n",
    "        from sklearn.model_selection import train_test_split\n",
    "        textos_train, textos_test, y_train, y_test = train_test_split(textos, labels_enc, test_size=0.10, random_state=random_state,stratify=labels_enc)\n",
    "        return (textos_train, textos_test, y_train, y_test)\n",
    "\n",
    "def get_opt_params(pipeline):\n",
    "    import ast\n",
    "    df_cv = pd.read_csv('Arquivos TCC/perfomance_cv.csv')\n",
    "    df_cv = df_cv.drop_duplicates(subset=['pipeline'], keep='last')\n",
    "    params = df_cv.loc[df_cv['pipeline']==pipeline , 'params']\n",
    "    params = ast.literal_eval(params.values[0])\n",
    "    return params\n",
    "\n",
    "def eval_classifier(pipeline):\n",
    "    import numpy as np\n",
    "    import pandas as pd\n",
    "    from sklearn.neighbors import KNeighborsClassifier\n",
    "    from sklearn.linear_model import LogisticRegression\n",
    "    from sklearn.svm import LinearSVC\n",
    "    from sklearn.ensemble import RandomForestClassifier\n",
    "    from sklearn.feature_extraction.text import TfidfVectorizer\n",
    "    from sklearn.pipeline import make_pipeline\n",
    "    from sklearn.metrics import balanced_accuracy_score\n",
    "    from sklearn.metrics import recall_score\n",
    "    from sklearn.metrics import precision_score\n",
    "    from sklearn.metrics import confusion_matrix\n",
    "    #pipeline = TC02_20news+all-MiniLM-L6-v2+KNN\n",
    "    dataset, model_name ,classifier =tuple(pipeline.split('+'))\n",
    "    params = get_opt_params(pipeline=pipeline) \n",
    "    print(params)\n",
    "    X_train, X_test, y_train, y_test = read_dataset(dataset=dataset, model_name=model_name)\n",
    "    if model_name != \"TFIDF\":\n",
    "        if classifier == 'KNN':\n",
    "            clf = KNeighborsClassifier(**params)\n",
    "        if classifier == 'LR':\n",
    "            clf = LogisticRegression(**params)\n",
    "        if classifier == 'SVC':\n",
    "            clf = LinearSVC(**params)\n",
    "        if classifier == 'RF':\n",
    "            clf = RandomForestClassifier(**params)\n",
    "        clf.fit(X_train, y_train)\n",
    "        y_pred = clf.predict(X_test)\n",
    "        balanced_acc = balanced_accuracy_score(y_test,y_pred)\n",
    "        recall = recall_score(y_test, y_pred, average='weighted')\n",
    "        precision = precision_score(y_test, y_pred, average='weighted')\n",
    "        conf_matrix = confusion_matrix(y_test, y_pred)\n",
    "        pd.DataFrame(conf_matrix).to_csv(f\"Arquivos TCC/confusion_matrix/{pipeline}.csv\", header=None, index=None,float_format='%.1f')\n",
    "        print(color.BOLD+\"A acurácia balanceada nos dados de teste: {0:.4f}\".format(balanced_acc)+color.END)\n",
    "        df_test_pred = pd.DataFrame()\n",
    "        df_test_pred['test_label'] = y_test\n",
    "        df_test_pred['pred_label'] = y_pred\n",
    "        df_test_pred.to_csv(f\"Arquivos TCC/test_set_predictions/{pipeline}.csv\", index=None,float_format='%.1f')\n",
    "        return (balanced_acc, recall, precision)\n",
    "    else:\n",
    "        if classifier == 'KNN':\n",
    "            clf = KNeighborsClassifier()\n",
    "        if classifier == 'LR':\n",
    "            clf = LogisticRegression()\n",
    "        if classifier == 'SVC':\n",
    "            clf = LinearSVC()\n",
    "        if classifier == 'RF':\n",
    "            clf = RandomForestClassifier()\n",
    "        pipeline_clf = make_pipeline(TfidfVectorizer(stop_words='english',smooth_idf=True), clf)\n",
    "        pipeline_clf.set_params(**params)\n",
    "        textos_train = X_train\n",
    "        textos_test = X_test\n",
    "        pipeline_clf.fit(textos_train, y_train)\n",
    "        y_pred = pipeline_clf.predict(textos_test)\n",
    "        balanced_acc = balanced_accuracy_score(y_test,y_pred)\n",
    "        recall = recall_score(y_test, y_pred, average='weighted')\n",
    "        precision = precision_score(y_test, y_pred, average='weighted')\n",
    "        conf_matrix = confusion_matrix(y_test, y_pred)\n",
    "        pd.DataFrame(conf_matrix).to_csv(f\"Arquivos TCC/confusion_matrix/{pipeline}.csv\", header=None, index=None,float_format='%.1f')\n",
    "        print(color.BOLD+\"A acurácia balanceada nos dados de teste: {0:.4f}\".format(balanced_acc)+color.END)\n",
    "        df_test_pred = pd.DataFrame()\n",
    "        df_test_pred['test_label'] = y_test\n",
    "        df_test_pred['pred_label'] = y_pred\n",
    "        df_test_pred.to_csv(f\"Arquivos TCC/test_set_predictions/{pipeline}.csv\", index=None,float_format='%.1f')\n",
    "        return (balanced_acc, recall, precision)\n"
   ]
  },
  {
   "cell_type": "code",
   "execution_count": 3,
   "metadata": {},
   "outputs": [
    {
     "data": {
      "text/plain": [
       "dict"
      ]
     },
     "execution_count": 3,
     "metadata": {},
     "output_type": "execute_result"
    }
   ],
   "source": [
    "df_cv = pd.read_csv('Arquivos TCC/perfomance_cv.csv')\n",
    "df_cv = df_cv.drop_duplicates(subset=['pipeline'], keep='last')\n",
    "for pipe in df_cv['pipeline'].unique()[-5:]:\n",
    "    params = get_opt_params(pipeline=pipe)\n",
    "    \n",
    "type(params)"
   ]
  },
  {
   "cell_type": "code",
   "execution_count": 4,
   "metadata": {},
   "outputs": [
    {
     "name": "stdout",
     "output_type": "stream",
     "text": [
      "and key si\n",
      "1999\n",
      "11    100\n",
      "14    100\n",
      "0     100\n",
      "17    100\n",
      "5     100\n",
      "1     100\n",
      "4     100\n",
      "9     100\n",
      "15    100\n",
      "16    100\n",
      "3     100\n",
      "7     100\n",
      "2     100\n",
      "13    100\n",
      "12    100\n",
      "18    100\n",
      "10    100\n",
      "8     100\n",
      "19    100\n",
      "6      99\n",
      "dtype: int64\n"
     ]
    }
   ],
   "source": [
    "dataset= 'TC02_20news'\n",
    "model_name='TFIDF'\n",
    "X_train, X_test, y_train, y_test = read_dataset(dataset=dataset, model_name=model_name)\n",
    "print(X_train[0][:10])\n",
    "print(len(y_test))\n",
    "print(pd.Series(y_test).value_counts())"
   ]
  },
  {
   "cell_type": "code",
   "execution_count": 5,
   "metadata": {},
   "outputs": [
    {
     "name": "stdout",
     "output_type": "stream",
     "text": [
      "\u001b[1mA acurácia balanceada nos dados de teste: 0.8604\u001b[0m\n",
      "TC02_20news+TFIDF+SVC 0.8604191919191919 0.8604302151075538\n"
     ]
    }
   ],
   "source": [
    "df_cv = pd.read_csv('Arquivos TCC/perfomance_cv.csv')\n",
    "df_cv = df_cv.drop_duplicates(subset=['pipeline'], keep='last')\n",
    "#for pipe in df_cv['pipeline'].unique()[:1]:\n",
    "\n",
    "pipe = 'TC02_20news+TFIDF+SVC'\n",
    "acc, recall, precision = eval_classifier(pipeline=pipe)\n",
    "print(pipe,acc, recall)"
   ]
  },
  {
   "cell_type": "code",
   "execution_count": 6,
   "metadata": {},
   "outputs": [
    {
     "name": "stdout",
     "output_type": "stream",
     "text": [
      "\u001b[1mA acurácia balanceada nos dados de teste: 0.8479\u001b[0m\n",
      "{'TC02_20news+all-MiniLM-L6-v2+KNN': (0.8274141414141413, 0.8274137068534267, 0.8294367161512026), 'TC02_20news+all-MiniLM-L6-v2+LR': (0.7763888888888888, 0.7763881940970485, 0.7747964441569772), 'TC02_20news+all-MiniLM-L6-v2+SVC': (0.7879141414141414, 0.7878939469734867, 0.7843601200001915), 'TC02_20news+all-MiniLM-L6-v2+RF': (0.7568535353535354, 0.7568784392196098, 0.752278271425051), 'TC02_20news+all-MiniLM-L12-v2+KNN': (0.8184191919191919, 0.8184092046023012, 0.8200427675302876), 'TC02_20news+all-MiniLM-L12-v2+LR': (0.7733838383838384, 0.7733866933466733, 0.7771961582822929), 'TC02_20news+all-MiniLM-L12-v2+SVC': (0.7778939393939394, 0.7778889444722361, 0.7764327415864273), 'TC02_20news+all-MiniLM-L12-v2+RF': (0.7788888888888889, 0.7788894447223612, 0.7770631423680294), 'TC14_wos+all-MiniLM-L6-v2+KNN': (0.7392962882355963, 0.7493734335839599, 0.7500942171236378), 'TC14_wos+all-MiniLM-L6-v2+LR': (0.7846916674467614, 0.7894736842105263, 0.7909831611389914), 'TC14_wos+all-MiniLM-L6-v2+SVC': (0.7835047468784679, 0.7878028404344194, 0.7893107948543343), 'TC14_wos+all-MiniLM-L6-v2+RF': (0.7320601160188488, 0.7435254803675856, 0.744452252903037), 'TC14_wos+all-MiniLM-L12-v2+KNN': (0.7242640876789967, 0.7351712614870509, 0.7388915856243542), 'TC14_wos+all-MiniLM-L12-v2+LR': (0.766612388507014, 0.7719298245614035, 0.7767255620162534), 'TC14_wos+all-MiniLM-L12-v2+SVC': (0.756727109552949, 0.7644110275689223, 0.7655758359621054), 'TC14_wos+all-MiniLM-L12-v2+RF': (0.7201448798490242, 0.733500417710944, 0.7376886523127771), 'TC02_20news+TFIDF+KNN': (0.7407979797979797, 0.7408704352176088, 0.7564466366873973), 'TC02_20news+TFIDF+LR': (0.8544343434343433, 0.8544272136068034, 0.8563148895347136), 'TC02_20news+TFIDF+SVC': (0.8604191919191919, 0.8604302151075538, 0.8614286630438546), 'TC02_20news+TFIDF+RF': (0.7929191919191919, 0.7928964482241121, 0.7889748756877745), 'TC14_wos+TFIDF+KNN': (0.6987338659497362, 0.7101086048454469, 0.7284659798426261), 'TC14_wos+TFIDF+LR': (0.8101840789698002, 0.8162071846282373, 0.8187984103729264), 'TC14_wos+TFIDF+SVC': (0.822927757798685, 0.8287385129490392, 0.8304343585641185), 'TC14_wos+TFIDF+RF': (0.8478872898035716, 0.8521303258145363, 0.8566662909268415)}\n"
     ]
    }
   ],
   "source": [
    "eval_dict = {}\n",
    "for pipe in df_cv['pipeline']:\n",
    "    eval_dict[pipe] = eval_classifier(pipeline=pipe)\n",
    "\n",
    "print(eval_dict)"
   ]
  },
  {
   "cell_type": "code",
   "execution_count": 7,
   "metadata": {},
   "outputs": [],
   "source": [
    "eval_dict = {'TC02_20news+all-MiniLM-L6-v2+KNN': (0.8274141414141413, 0.8274137068534267, 0.8294367161512026), 'TC02_20news+all-MiniLM-L6-v2+LR': (0.7763888888888888, 0.7763881940970485, 0.7747964441569772), 'TC02_20news+all-MiniLM-L6-v2+SVC': (0.7879141414141414, 0.7878939469734867, 0.7843601200001915), 'TC02_20news+all-MiniLM-L6-v2+RF': (0.7648939393939393, 0.7648824412206103, 0.7602691280999301), 'TC02_20news+all-MiniLM-L12-v2+KNN': (0.8184191919191919, 0.8184092046023012, 0.8200427675302876), 'TC02_20news+all-MiniLM-L12-v2+LR': (0.7733838383838384, 0.7733866933466733, 0.7771961582822929), 'TC02_20news+all-MiniLM-L12-v2+SVC': (0.7778939393939394, 0.7778889444722361, 0.7764327415864273), 'TC02_20news+all-MiniLM-L12-v2+RF': (0.7718838383838383, 0.7718859429714857, 0.7692920062551857), 'TC14_wos+all-MiniLM-L6-v2+KNN': (0.7392962882355963, 0.7493734335839599, 0.7500942171236378), 'TC14_wos+all-MiniLM-L6-v2+LR': (0.7846916674467614, 0.7894736842105263, 0.7909831611389914), 'TC14_wos+all-MiniLM-L6-v2+SVC': (0.7835047468784679, 0.7878028404344194, 0.7893107948543343), 'TC14_wos+all-MiniLM-L6-v2+RF': (0.7265016047315879, 0.7368421052631579, 0.7380088704902777), 'TC14_wos+all-MiniLM-L12-v2+KNN': (0.7242640876789967, 0.7351712614870509, 0.7388915856243542), 'TC14_wos+all-MiniLM-L12-v2+LR': (0.766612388507014, 0.7719298245614035, 0.7767255620162534), 'TC14_wos+all-MiniLM-L12-v2+SVC': (0.756727109552949, 0.7644110275689223, 0.7655758359621054), 'TC14_wos+all-MiniLM-L12-v2+RF': (0.7280875035502954, 0.7401837928153717, 0.7427305410303153), 'TC02_20news+TFIDF+KNN': (0.7407979797979797, 0.7408704352176088, 0.7564466366873973), 'TC02_20news+TFIDF+LR': (0.8544343434343433, 0.8544272136068034, 0.8563148895347136), 'TC02_20news+TFIDF+SVC': (0.8604191919191919, 0.8604302151075538, 0.8614286630438546), 'TC02_20news+TFIDF+RF': (0.7969040404040404, 0.7968984492246123, 0.7931393533590855), 'TC14_wos+TFIDF+KNN': (0.6987338659497362, 0.7101086048454469, 0.7284659798426261), 'TC14_wos+TFIDF+LR': (0.8101840789698002, 0.8162071846282373, 0.8187984103729264), 'TC14_wos+TFIDF+SVC': (0.822927757798685, 0.8287385129490392, 0.8304343585641185), 'TC14_wos+TFIDF+RF': (0.8430377772332633, 0.8471177944862155, 0.8503830907723287)}"
   ]
  },
  {
   "cell_type": "code",
   "execution_count": 8,
   "metadata": {},
   "outputs": [
    {
     "name": "stdout",
     "output_type": "stream",
     "text": [
      "\\begin{tabular}{llrrr}\n",
      "\\toprule\n",
      "        embedding & ml\\_alg &  balanced\\_acc &  weighted\\_recall &  weighted\\_precision \\\\\n",
      "\\midrule\n",
      " all-MiniLM-L6-v2 &    KNN &       0.82741 &          0.82741 &             0.82944 \\\\\n",
      " all-MiniLM-L6-v2 &     LR &       0.77639 &          0.77639 &             0.77480 \\\\\n",
      " all-MiniLM-L6-v2 &    SVC &       0.78791 &          0.78789 &             0.78436 \\\\\n",
      " all-MiniLM-L6-v2 &     RF &       0.76489 &          0.76488 &             0.76027 \\\\\n",
      "all-MiniLM-L12-v2 &    KNN &       0.81842 &          0.81841 &             0.82004 \\\\\n",
      "all-MiniLM-L12-v2 &     LR &       0.77338 &          0.77339 &             0.77720 \\\\\n",
      "all-MiniLM-L12-v2 &    SVC &       0.77789 &          0.77789 &             0.77643 \\\\\n",
      "all-MiniLM-L12-v2 &     RF &       0.77188 &          0.77189 &             0.76929 \\\\\n",
      "            TFIDF &    KNN &       0.74080 &          0.74087 &             0.75645 \\\\\n",
      "            TFIDF &     LR &       0.85443 &          0.85443 &             0.85631 \\\\\n",
      "            TFIDF &    SVC &       0.86042 &          0.86043 &             0.86143 \\\\\n",
      "            TFIDF &     RF &       0.79690 &          0.79690 &             0.79314 \\\\\n",
      "\\bottomrule\n",
      "\\end{tabular}\n",
      "\n"
     ]
    },
    {
     "name": "stderr",
     "output_type": "stream",
     "text": [
      "/tmp/ipykernel_432/3551327500.py:8: FutureWarning: In future versions `DataFrame.to_latex` is expected to utilise the base implementation of `Styler.to_latex` for formatting and rendering. The arguments signature may therefore change. It is recommended instead to use `DataFrame.style.to_latex` which also contains additional functionality.\n",
      "  print(df_eval_20ng.to_latex(index=False,float_format=\"%.5f\", multicolumn=True))\n"
     ]
    }
   ],
   "source": [
    "df_eval = pd.DataFrame.from_dict(eval_dict, orient='index', columns=['balanced_acc', 'weighted_recall', 'weighted_precision'])\n",
    "df_eval.reset_index(inplace=True)\n",
    "df_eval[['dataset','embedding','ml_alg']] = df_eval['index'].str.split('+',expand=True)\n",
    "df_eval = df_eval.drop(columns=['index'])\n",
    "df_eval = df_eval[['dataset', 'embedding','ml_alg','balanced_acc', 'weighted_recall', 'weighted_precision']]\n",
    "df_eval_20ng = df_eval[df_eval['dataset']=='TC02_20news'].drop(columns=['dataset'])\n",
    "df_eval_wos = df_eval[df_eval['dataset']=='TC14_wos'].drop(columns=['dataset'])\n",
    "print(df_eval_20ng.to_latex(index=False,float_format=\"%.5f\", multicolumn=True))"
   ]
  },
  {
   "cell_type": "code",
   "execution_count": 15,
   "metadata": {},
   "outputs": [
    {
     "name": "stdout",
     "output_type": "stream",
     "text": [
      "\\begin{tabular}{llrrr}\n",
      "\\toprule\n",
      "        embedding & ml\\_alg &  balanced\\_acc &  weighted\\_recall &  weighted\\_precision \\\\\n",
      "\\midrule\n",
      " all-MiniLM-L6-v2 &    KNN &       0.73930 &          0.74937 &             0.75009 \\\\\n",
      " all-MiniLM-L6-v2 &     LR &       0.78469 &          0.78947 &             0.79098 \\\\\n",
      " all-MiniLM-L6-v2 &    SVC &       0.78350 &          0.78780 &             0.78931 \\\\\n",
      " all-MiniLM-L6-v2 &     RF &       0.72650 &          0.73684 &             0.73801 \\\\\n",
      "all-MiniLM-L12-v2 &    KNN &       0.72426 &          0.73517 &             0.73889 \\\\\n",
      "all-MiniLM-L12-v2 &     LR &       0.76661 &          0.77193 &             0.77673 \\\\\n",
      "all-MiniLM-L12-v2 &    SVC &       0.75673 &          0.76441 &             0.76558 \\\\\n",
      "all-MiniLM-L12-v2 &     RF &       0.72809 &          0.74018 &             0.74273 \\\\\n",
      "            TFIDF &    KNN &       0.69873 &          0.71011 &             0.72847 \\\\\n",
      "            TFIDF &     LR &       0.81018 &          0.81621 &             0.81880 \\\\\n",
      "            TFIDF &    SVC &       0.82293 &          0.82874 &             0.83043 \\\\\n",
      "            TFIDF &     RF &       0.84304 &          0.84712 &             0.85038 \\\\\n",
      "\\bottomrule\n",
      "\\end{tabular}\n",
      "\n"
     ]
    },
    {
     "name": "stderr",
     "output_type": "stream",
     "text": [
      "/tmp/ipykernel_400/1027491184.py:1: FutureWarning: In future versions `DataFrame.to_latex` is expected to utilise the base implementation of `Styler.to_latex` for formatting and rendering. The arguments signature may therefore change. It is recommended instead to use `DataFrame.style.to_latex` which also contains additional functionality.\n",
      "  print(df_eval_wos.to_latex(index=False,float_format=\"%.5f\"))\n"
     ]
    }
   ],
   "source": [
    "print(df_eval_wos.to_latex(index=False,float_format=\"%.5f\"))"
   ]
  },
  {
   "cell_type": "code",
   "execution_count": 28,
   "metadata": {},
   "outputs": [
    {
     "name": "stdout",
     "output_type": "stream",
     "text": [
      "0.2857142857142857\n",
      "0.2857142857142857\n",
      "0.25\n"
     ]
    }
   ],
   "source": [
    "\n",
    "\n",
    "\n",
    "from sklearn.metrics import recall_score\n",
    "from sklearn.metrics import accuracy_score\n",
    "from sklearn.metrics import balanced_accuracy_score\n",
    "y_true = [0, 1, 2, 0, 1, 2, 3]\n",
    "y_pred = [0, 2, 1, 0, 3, 1, 1]\n",
    "print(recall_score(y_true, y_pred, average='weighted'))\n",
    "print(accuracy_score(y_true, y_pred))\n",
    "print(balanced_accuracy_score(y_true, y_pred))"
   ]
  },
  {
   "cell_type": "code",
   "execution_count": null,
   "metadata": {},
   "outputs": [],
   "source": []
  }
 ],
 "metadata": {
  "kernelspec": {
   "display_name": "Python 3.8.10 64-bit",
   "language": "python",
   "name": "python3"
  },
  "language_info": {
   "codemirror_mode": {
    "name": "ipython",
    "version": 3
   },
   "file_extension": ".py",
   "mimetype": "text/x-python",
   "name": "python",
   "nbconvert_exporter": "python",
   "pygments_lexer": "ipython3",
   "version": "3.8.10"
  },
  "orig_nbformat": 4,
  "vscode": {
   "interpreter": {
    "hash": "916dbcbb3f70747c44a77c7bcd40155683ae19c65e1c03b4aa3499c5328201f1"
   }
  }
 },
 "nbformat": 4,
 "nbformat_minor": 2
}
