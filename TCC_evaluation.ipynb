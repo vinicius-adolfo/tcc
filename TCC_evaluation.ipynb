{
 "cells": [
  {
   "cell_type": "code",
   "execution_count": 1,
   "metadata": {},
   "outputs": [],
   "source": [
    "import pandas as pd\n",
    "random_state = 20\n",
    "class color:\n",
    "   PURPLE = '\\033[95m'\n",
    "   CYAN = '\\033[96m'\n",
    "   DARKCYAN = '\\033[36m'\n",
    "   BLUE = '\\033[94m'\n",
    "   GREEN = '\\033[92m'\n",
    "   YELLOW = '\\033[93m'\n",
    "   RED = '\\033[91m'\n",
    "   BOLD = '\\033[1m'\n",
    "   UNDERLINE = '\\033[4m'\n",
    "   END = '\\033[0m'"
   ]
  },
  {
   "cell_type": "code",
   "execution_count": 2,
   "metadata": {},
   "outputs": [],
   "source": [
    "def read_dataset(dataset, model_name):\n",
    "    import pandas as pd\n",
    "    import numpy as np\n",
    "    import pickle\n",
    "    from IPython.display import clear_output\n",
    "    from sklearn import preprocessing\n",
    "    clear_output()\n",
    "    #datasets = ['TC02_20news', 'TC14_wos']\n",
    "    #models_names = [\"all-MiniLM-L6-v2\",\"all-MiniLM-L12-v2\"]\n",
    "    if model_name != \"TFIDF\":\n",
    "        embeddings_path = f'Arquivos TCC/embeddings/sbert/{model_name}_{dataset}.pkl'\n",
    "        with open(embeddings_path, \"rb\") as fIn:\n",
    "            stored_data = pickle.load(fIn)\n",
    "        embeddings = stored_data['embeddings']\n",
    "        labels = stored_data['labels']\n",
    "        labels_enc = preprocessing.LabelEncoder().fit_transform(labels)\n",
    "        unique, counts = np.unique(stored_data['labels'], return_counts=True)\n",
    "        #Split hold-out test data\n",
    "        from sklearn.model_selection import train_test_split\n",
    "        X_train, X_test, y_train, y_test = train_test_split(embeddings, labels_enc, test_size=0.10, random_state=random_state,stratify=labels_enc)\n",
    "        return (X_train, X_test, y_train, y_test)\n",
    "    else:\n",
    "        df = pd.read_csv(f'Arquivos TCC/datasets/{dataset}.csv', sep=';')\n",
    "        df = df.dropna()\n",
    "        textos = df['text'].values.tolist()\n",
    "        labels = df['label']\n",
    "        labels_enc = preprocessing.LabelEncoder().fit_transform(labels)\n",
    "        #Split hold-out test data\n",
    "        from sklearn.model_selection import train_test_split\n",
    "        textos_train, textos_test, y_train, y_test = train_test_split(textos, labels_enc, test_size=0.10, random_state=random_state,stratify=labels_enc)\n",
    "        return (textos_train, textos_test, y_train, y_test)\n",
    "\n",
    "def get_opt_params(pipeline):\n",
    "    import ast\n",
    "    df_cv = pd.read_csv('Arquivos TCC/perfomance_cv.csv')\n",
    "    df_cv = df_cv.drop_duplicates(subset=['pipeline'], keep='last')\n",
    "    params = df_cv.loc[df_cv['pipeline']==pipeline , 'params']\n",
    "    params = ast.literal_eval(params.values[0])\n",
    "    return params\n",
    "\n",
    "def eval_classifier(pipeline):\n",
    "    from sklearn.neighbors import KNeighborsClassifier\n",
    "    from sklearn.linear_model import LogisticRegression\n",
    "    from sklearn.svm import LinearSVC\n",
    "    from sklearn.ensemble import RandomForestClassifier\n",
    "    from sklearn.feature_extraction.text import TfidfVectorizer\n",
    "    from sklearn.pipeline import make_pipeline\n",
    "    from sklearn.metrics import balanced_accuracy_score\n",
    "    #pipeline = TC02_20news+all-MiniLM-L6-v2+KNN\n",
    "    dataset, model_name ,classifier =tuple(pipeline.split('+'))\n",
    "    params = get_opt_params(pipeline=pipeline) \n",
    "    print(params)\n",
    "    X_train, X_test, y_train, y_test = read_dataset(dataset=dataset, model_name=model_name)\n",
    "    if model_name != \"TFIDF\":\n",
    "        if classifier == 'KNN':\n",
    "            clf = KNeighborsClassifier(**params)\n",
    "        if classifier == 'LR':\n",
    "            clf = LogisticRegression(**params)\n",
    "        if classifier == 'SVC':\n",
    "            clf = LinearSVC(**params)\n",
    "        if classifier == 'RF':\n",
    "            clf = RandomForestClassifier(**params)\n",
    "        clf.fit(X_train, y_train)\n",
    "        balanced_acc = balanced_accuracy_score(y_test,clf.predict(X_test))\n",
    "        print(color.BOLD+\"A acurácia balanceada nos dados de teste: {0:.4f}\".format(balanced_acc)+color.END)\n",
    "        return balanced_acc\n",
    "    else:\n",
    "        if classifier == 'KNN':\n",
    "            clf = KNeighborsClassifier()\n",
    "        if classifier == 'LR':\n",
    "            clf = LogisticRegression()\n",
    "        if classifier == 'SVC':\n",
    "            clf = LinearSVC()\n",
    "        if classifier == 'RF':\n",
    "            clf = RandomForestClassifier()\n",
    "        pipeline_clf = make_pipeline(TfidfVectorizer(stop_words='english',smooth_idf=True), clf)\n",
    "        pipeline_clf.set_params(**params)\n",
    "        textos_train = X_train\n",
    "        textos_test = X_test\n",
    "        pipeline_clf.fit(textos_train, y_train)\n",
    "        balanced_acc = balanced_accuracy_score(y_test,pipeline_clf.predict(textos_test))\n",
    "        print(color.BOLD+\"A acurácia balanceada nos dados de teste: {0:.4f}\".format(balanced_acc)+color.END)\n",
    "        return balanced_acc\n"
   ]
  },
  {
   "cell_type": "code",
   "execution_count": 3,
   "metadata": {},
   "outputs": [
    {
     "data": {
      "text/plain": [
       "dict"
      ]
     },
     "execution_count": 3,
     "metadata": {},
     "output_type": "execute_result"
    }
   ],
   "source": [
    "df_cv = pd.read_csv('Arquivos TCC/perfomance_cv.csv')\n",
    "df_cv = df_cv.drop_duplicates(subset=['pipeline'], keep='last')\n",
    "for pipe in df_cv['pipeline'].unique()[-5:]:\n",
    "    params = get_opt_params(pipeline=pipe)\n",
    "    \n",
    "type(params)"
   ]
  },
  {
   "cell_type": "code",
   "execution_count": 4,
   "metadata": {},
   "outputs": [
    {
     "data": {
      "text/plain": [
       "'and key si'"
      ]
     },
     "execution_count": 4,
     "metadata": {},
     "output_type": "execute_result"
    }
   ],
   "source": [
    "dataset= 'TC02_20news'\n",
    "model_name='TFIDF'\n",
    "X_train, X_test, y_train, y_test = read_dataset(dataset=dataset, model_name=model_name)\n",
    "X_train[0][:10]"
   ]
  },
  {
   "cell_type": "code",
   "execution_count": 5,
   "metadata": {},
   "outputs": [
    {
     "name": "stdout",
     "output_type": "stream",
     "text": [
      "\u001b[1mA acurácia balanceada nos dados de teste: 0.8229\u001b[0m\n",
      "TC14_wos+TFIDF+SVC 0.822927757798685\n"
     ]
    }
   ],
   "source": [
    "df_cv = pd.read_csv('Arquivos TCC/perfomance_cv.csv')\n",
    "df_cv = df_cv.drop_duplicates(subset=['pipeline'], keep='last')\n",
    "#for pipe in df_cv['pipeline'].unique()[:1]:\n",
    "\n",
    "pipe = 'TC14_wos+TFIDF+SVC'\n",
    "print(pipe,eval_classifier(pipeline=pipe))"
   ]
  },
  {
   "cell_type": "code",
   "execution_count": null,
   "metadata": {},
   "outputs": [],
   "source": []
  }
 ],
 "metadata": {
  "kernelspec": {
   "display_name": "Python 3.8.10 64-bit",
   "language": "python",
   "name": "python3"
  },
  "language_info": {
   "codemirror_mode": {
    "name": "ipython",
    "version": 3
   },
   "file_extension": ".py",
   "mimetype": "text/x-python",
   "name": "python",
   "nbconvert_exporter": "python",
   "pygments_lexer": "ipython3",
   "version": "3.8.2"
  },
  "orig_nbformat": 4,
  "vscode": {
   "interpreter": {
    "hash": "916dbcbb3f70747c44a77c7bcd40155683ae19c65e1c03b4aa3499c5328201f1"
   }
  }
 },
 "nbformat": 4,
 "nbformat_minor": 2
}
