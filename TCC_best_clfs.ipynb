{
 "cells": [
  {
   "cell_type": "code",
   "execution_count": 9,
   "metadata": {},
   "outputs": [],
   "source": [
    "random_state = 20\n",
    "import pandas as pd\n",
    "import json\n",
    "def get_index_train_test(pipeline):\n",
    "    import pandas as pd\n",
    "    import numpy as np\n",
    "    from sklearn.model_selection import train_test_split\n",
    "    from sklearn import preprocessing\n",
    "    dataset, model_name ,classifier =tuple(pipeline.split('+'))\n",
    "    df = pd.read_csv(f'Arquivos TCC/datasets/{dataset}.csv', sep=';')\n",
    "    df = df.dropna()\n",
    "    textos = df['text']\n",
    "    labels = df['label']\n",
    "    le = preprocessing.LabelEncoder()\n",
    "    le.fit(labels)\n",
    "    labels_enc = le.transform(labels)\n",
    "    textos_train, textos_test, y_train, y_test = train_test_split(textos, labels_enc, test_size=0.10, random_state=random_state,stratify=labels_enc)\n",
    "    return (list(textos_train.index),list(textos_test.index))\n",
    "\n",
    "\n",
    "def get_df_test_pred(pipeline):\n",
    "    import pandas as pd\n",
    "    import numpy as np\n",
    "    from sklearn.model_selection import train_test_split\n",
    "    from sklearn import preprocessing\n",
    "    dataset, model_name ,classifier =tuple(pipeline.split('+'))\n",
    "    df = pd.read_csv(f'Arquivos TCC/datasets/{dataset}.csv', sep=';')\n",
    "    df = df.dropna()\n",
    "    textos = df['text']\n",
    "    labels = df['label']\n",
    "    le = preprocessing.LabelEncoder()\n",
    "    le.fit(labels)\n",
    "    labels_enc = le.transform(labels)\n",
    "    textos_train, textos_test, y_train, y_test = train_test_split(textos, labels_enc, test_size=0.10, random_state=random_state,stratify=labels_enc)\n",
    "    df_test_pred = pd.read_csv(f'Arquivos TCC/test_set_predictions/{pipeline}.csv', sep=',')\n",
    "    if dataset ==  'TC02_20news':\n",
    "        df_test_pred['sentence'] = textos_test.to_list()\n",
    "        df_test_pred['test_label'] = le.inverse_transform(df_test_pred['test_label'])\n",
    "        df_test_pred['pred_label'] = le.inverse_transform(df_test_pred['pred_label'])\n",
    "    if dataset == 'TC14_wos':\n",
    "        with open(\"wos_label_map.json\", \"r\") as read_file:\n",
    "            label_map = json.load(read_file)\n",
    "        df_test_pred['sentence'] = textos_test.to_list()  \n",
    "        df_test_pred['test_label'] = df_test_pred['test_label'].apply(lambda x : label_map[str(x)])\n",
    "        df_test_pred['pred_label'] = df_test_pred['pred_label'].apply(lambda x : label_map[str(x)])\n",
    "    df_test_pred['index_dataset'] = get_index_train_test(pipeline)[1]\n",
    "\n",
    "    #print(labels)\n",
    "    return df_test_pred\n",
    "\n",
    "\n",
    "\n"
   ]
  },
  {
   "cell_type": "code",
   "execution_count": 55,
   "metadata": {},
   "outputs": [
    {
     "data": {
      "text/html": [
       "<div>\n",
       "<style scoped>\n",
       "    .dataframe tbody tr th:only-of-type {\n",
       "        vertical-align: middle;\n",
       "    }\n",
       "\n",
       "    .dataframe tbody tr th {\n",
       "        vertical-align: top;\n",
       "    }\n",
       "\n",
       "    .dataframe thead th {\n",
       "        text-align: right;\n",
       "    }\n",
       "</style>\n",
       "<table border=\"1\" class=\"dataframe\">\n",
       "  <thead>\n",
       "    <tr style=\"text-align: right;\">\n",
       "      <th></th>\n",
       "      <th>test_label</th>\n",
       "      <th>pred_label</th>\n",
       "      <th>sentence</th>\n",
       "      <th>index_dataset</th>\n",
       "    </tr>\n",
       "  </thead>\n",
       "  <tbody>\n",
       "    <tr>\n",
       "      <th>0</th>\n",
       "      <td>sci.crypt</td>\n",
       "      <td>sci.crypt</td>\n",
       "      <td>22 perhaps one way of getting away from this c...</td>\n",
       "      <td>11349</td>\n",
       "    </tr>\n",
       "    <tr>\n",
       "      <th>1</th>\n",
       "      <td>sci.space</td>\n",
       "      <td>sci.space</td>\n",
       "      <td>all in all, im not certain that the single goa...</td>\n",
       "      <td>14439</td>\n",
       "    </tr>\n",
       "    <tr>\n",
       "      <th>2</th>\n",
       "      <td>rec.motorcycles</td>\n",
       "      <td>rec.motorcycles</td>\n",
       "      <td>there has been a running thread on the need to...</td>\n",
       "      <td>8531</td>\n",
       "    </tr>\n",
       "    <tr>\n",
       "      <th>3</th>\n",
       "      <td>rec.sport.hockey</td>\n",
       "      <td>rec.sport.hockey</td>\n",
       "      <td>door attendants at the joe louis arena have be...</td>\n",
       "      <td>10888</td>\n",
       "    </tr>\n",
       "    <tr>\n",
       "      <th>4</th>\n",
       "      <td>talk.politics.misc</td>\n",
       "      <td>talk.politics.misc</td>\n",
       "      <td>) ) ) the official and legal term for rape is ...</td>\n",
       "      <td>18935</td>\n",
       "    </tr>\n",
       "    <tr>\n",
       "      <th>5</th>\n",
       "      <td>sci.space</td>\n",
       "      <td>sci.space</td>\n",
       "      <td>this was known as journey to the far side of t...</td>\n",
       "      <td>14269</td>\n",
       "    </tr>\n",
       "    <tr>\n",
       "      <th>6</th>\n",
       "      <td>sci.electronics</td>\n",
       "      <td>sci.electronics</td>\n",
       "      <td>55 i am trying to build a circuit that detects...</td>\n",
       "      <td>12588</td>\n",
       "    </tr>\n",
       "    <tr>\n",
       "      <th>7</th>\n",
       "      <td>sci.med</td>\n",
       "      <td>sci.med</td>\n",
       "      <td>does anyone know how posionous centipedes and ...</td>\n",
       "      <td>13767</td>\n",
       "    </tr>\n",
       "    <tr>\n",
       "      <th>8</th>\n",
       "      <td>comp.os.ms-windows.misc</td>\n",
       "      <td>comp.sys.ibm.pc.hardware</td>\n",
       "      <td>7 just as the title suggest, is it okay to do ...</td>\n",
       "      <td>2332</td>\n",
       "    </tr>\n",
       "    <tr>\n",
       "      <th>9</th>\n",
       "      <td>sci.med</td>\n",
       "      <td>sci.med</td>\n",
       "      <td>jb jb ron roth recommends: once you have your ...</td>\n",
       "      <td>13119</td>\n",
       "    </tr>\n",
       "  </tbody>\n",
       "</table>\n",
       "</div>"
      ],
      "text/plain": [
       "                test_label                pred_label  \\\n",
       "0                sci.crypt                 sci.crypt   \n",
       "1                sci.space                 sci.space   \n",
       "2          rec.motorcycles           rec.motorcycles   \n",
       "3         rec.sport.hockey          rec.sport.hockey   \n",
       "4       talk.politics.misc        talk.politics.misc   \n",
       "5                sci.space                 sci.space   \n",
       "6          sci.electronics           sci.electronics   \n",
       "7                  sci.med                   sci.med   \n",
       "8  comp.os.ms-windows.misc  comp.sys.ibm.pc.hardware   \n",
       "9                  sci.med                   sci.med   \n",
       "\n",
       "                                            sentence  index_dataset  \n",
       "0  22 perhaps one way of getting away from this c...          11349  \n",
       "1  all in all, im not certain that the single goa...          14439  \n",
       "2  there has been a running thread on the need to...           8531  \n",
       "3  door attendants at the joe louis arena have be...          10888  \n",
       "4  ) ) ) the official and legal term for rape is ...          18935  \n",
       "5  this was known as journey to the far side of t...          14269  \n",
       "6  55 i am trying to build a circuit that detects...          12588  \n",
       "7  does anyone know how posionous centipedes and ...          13767  \n",
       "8  7 just as the title suggest, is it okay to do ...           2332  \n",
       "9  jb jb ron roth recommends: once you have your ...          13119  "
      ]
     },
     "execution_count": 55,
     "metadata": {},
     "output_type": "execute_result"
    }
   ],
   "source": [
    "best_pipes = [\"TC02_20news+TFIDF+SVC\",\"TC14_wos+TFIDF+RF\"]\n",
    "worst_pipes = [\"TC02_20news+TFIDF+KNN\",\"TC14_wos+TFIDF+KNN\"]\n",
    "df_test_pred = get_df_test_pred(best_pipes[0])\n",
    "df_test_pred.head(10)"
   ]
  },
  {
   "cell_type": "code",
   "execution_count": 56,
   "metadata": {},
   "outputs": [
    {
     "name": "stdout",
     "output_type": "stream",
     "text": [
      "True label: talk.religion.misc\n",
      "Most commom misunderstandings\n",
      "alt.atheism               23\n",
      "talk.politics.misc        15\n",
      "talk.politics.guns         4\n",
      "soc.religion.christian     2\n",
      "sci.med                    1\n",
      "Name: pred_label, dtype: int64\n",
      "==========================\n",
      "True label: alt.atheism\n",
      "Most commom misunderstandings\n",
      "talk.religion.misc        27\n",
      "sci.space                  2\n",
      "talk.politics.mideast      1\n",
      "soc.religion.christian     1\n",
      "sci.electronics            1\n",
      "Name: pred_label, dtype: int64\n",
      "==========================\n",
      "True label: talk.politics.misc\n",
      "Most commom misunderstandings\n",
      "talk.religion.misc       15\n",
      "talk.politics.mideast     8\n",
      "talk.politics.guns        5\n",
      "rec.sport.baseball        1\n",
      "Name: pred_label, dtype: int64\n",
      "==========================\n"
     ]
    }
   ],
   "source": [
    "df_error = df_test_pred[df_test_pred['test_label']!=df_test_pred['pred_label']]\n",
    "top_3_error_labels = df_error['test_label'].value_counts()[:3].index.tolist()\n",
    "for label in top_3_error_labels:\n",
    "    n = 5\n",
    "    df_error_label = df_error[df_error['test_label']==label]\n",
    "    top_n_misses = df_error_label['pred_label'].value_counts()[:n]\n",
    "    print(f'True label: {label}')\n",
    "    print('Most commom misunderstandings')\n",
    "    print(top_n_misses)\n",
    "    print('==========================')"
   ]
  },
  {
   "cell_type": "code",
   "execution_count": null,
   "metadata": {},
   "outputs": [],
   "source": []
  },
  {
   "cell_type": "code",
   "execution_count": null,
   "metadata": {},
   "outputs": [],
   "source": []
  },
  {
   "cell_type": "code",
   "execution_count": null,
   "metadata": {},
   "outputs": [],
   "source": []
  },
  {
   "cell_type": "code",
   "execution_count": 69,
   "metadata": {},
   "outputs": [
    {
     "data": {
      "text/html": [
       "<div>\n",
       "<style scoped>\n",
       "    .dataframe tbody tr th:only-of-type {\n",
       "        vertical-align: middle;\n",
       "    }\n",
       "\n",
       "    .dataframe tbody tr th {\n",
       "        vertical-align: top;\n",
       "    }\n",
       "\n",
       "    .dataframe thead th {\n",
       "        text-align: right;\n",
       "    }\n",
       "</style>\n",
       "<table border=\"1\" class=\"dataframe\">\n",
       "  <thead>\n",
       "    <tr style=\"text-align: right;\">\n",
       "      <th></th>\n",
       "      <th>test_label</th>\n",
       "      <th>pred_label</th>\n",
       "      <th>sentence</th>\n",
       "      <th>index_dataset</th>\n",
       "    </tr>\n",
       "  </thead>\n",
       "  <tbody>\n",
       "    <tr>\n",
       "      <th>47</th>\n",
       "      <td>23</td>\n",
       "      <td>23</td>\n",
       "      <td>Smokeless tobacco (ST) use among US high school males living in rural areas exceeds national levels. Subgroups at heightened risk of ST use have been identified, but less is known regarding ST decision-making within high-risk groups. The study objective was to describe rural adolescent males' pe...</td>\n",
       "      <td>4144</td>\n",
       "    </tr>\n",
       "    <tr>\n",
       "      <th>10</th>\n",
       "      <td>24</td>\n",
       "      <td>24</td>\n",
       "      <td>Purpose of reviewIt has been proposed that biodiversity loss leads to reduced interaction between environmental and human microbiotas. This, in turn, may lead to immune dysfunction and impaired tolerance mechanisms in humans. That is, contact with environmental biodiversity is expected to protec...</td>\n",
       "      <td>5154</td>\n",
       "    </tr>\n",
       "    <tr>\n",
       "      <th>16</th>\n",
       "      <td>25</td>\n",
       "      <td>25</td>\n",
       "      <td>A series of neurological and psychiatric symptoms occur after traumatic brain injury (TBI), with cognitive dysfunction being one of the most prominent sequela. Given that tau hyperphosphorylation is an important cause of cognitive impairment in patients of Alzheimer's disease, our present study ...</td>\n",
       "      <td>11661</td>\n",
       "    </tr>\n",
       "    <tr>\n",
       "      <th>28</th>\n",
       "      <td>26</td>\n",
       "      <td>9</td>\n",
       "      <td>Cortical functioning within the default mode network (DMN) and salience network (SN) is altered in chronic pain patients. The mechanisms underlying these alterations are unknown, but a novel unexamined source is cross-network communication. Aberrant functional connectivity (FC) between the DMN a...</td>\n",
       "      <td>728</td>\n",
       "    </tr>\n",
       "    <tr>\n",
       "      <th>36</th>\n",
       "      <td>27</td>\n",
       "      <td>27</td>\n",
       "      <td>With increasing rates of cancer patients undergoing radiation therapy, the treatment itself can cause patients significant amounts of anxiety and distress. This can be attributed to the diagnosis of the disease, lack of knowledge of what radiation therapy is, expectations and management of side ...</td>\n",
       "      <td>1032</td>\n",
       "    </tr>\n",
       "    <tr>\n",
       "      <th>6</th>\n",
       "      <td>28</td>\n",
       "      <td>28</td>\n",
       "      <td>This study aims to investigate the impacts of a digital learning module with guided peer feedback on students' domain-specific knowledge gain and their attitudinal change in the field of biotechnology and molecular life sciences. The extent to which the use of this module is appreciated by stude...</td>\n",
       "      <td>9068</td>\n",
       "    </tr>\n",
       "    <tr>\n",
       "      <th>11</th>\n",
       "      <td>29</td>\n",
       "      <td>29</td>\n",
       "      <td>In the past decade mass spectrometry-based proteomics has greatly contributed to shaping our knowledge about Saccharomyces cerevisiae mitochondria, from the initial identification of novel essential components in purified protein complexes, to the actual characterization of the mitochondrial pro...</td>\n",
       "      <td>5214</td>\n",
       "    </tr>\n",
       "    <tr>\n",
       "      <th>30</th>\n",
       "      <td>30</td>\n",
       "      <td>30</td>\n",
       "      <td>We review selected aspects of the interactions between protein and energy in human metabolism and nutrition. Following a short account of the underlying metabolic basis for the effects of energy on protein metabolism, the contribution made by whole body protein turnover to the metabolic rate is ...</td>\n",
       "      <td>1735</td>\n",
       "    </tr>\n",
       "    <tr>\n",
       "      <th>79</th>\n",
       "      <td>31</td>\n",
       "      <td>31</td>\n",
       "      <td>We introduce a versatile carrier system for in vitro and in vivo immune stimulation based on soft matter DNA nanoparticles (NPs). The incorporation of lipid-modified nucleotides into DNA strands enables the formation of micelles of uniform size. In a single self-assembly step, the micelles can b...</td>\n",
       "      <td>9809</td>\n",
       "    </tr>\n",
       "    <tr>\n",
       "      <th>1</th>\n",
       "      <td>32</td>\n",
       "      <td>31</td>\n",
       "      <td>Kawasaki disease is a multisystemic vasculitis that can result in coronary artery lesions. It predominantly affects young children and is characterized by prolonged fever, diffuse mucosal inflammation, indurative oedema of the hands and feet, a polymorphous skin rash and non-suppurative lymphade...</td>\n",
       "      <td>7526</td>\n",
       "    </tr>\n",
       "  </tbody>\n",
       "</table>\n",
       "</div>"
      ],
      "text/plain": [
       "    test_label  pred_label  \\\n",
       "47          23          23   \n",
       "10          24          24   \n",
       "16          25          25   \n",
       "28          26           9   \n",
       "36          27          27   \n",
       "6           28          28   \n",
       "11          29          29   \n",
       "30          30          30   \n",
       "79          31          31   \n",
       "1           32          31   \n",
       "\n",
       "                                                                                                                                                                                                                                                                                                       sentence  \\\n",
       "47  Smokeless tobacco (ST) use among US high school males living in rural areas exceeds national levels. Subgroups at heightened risk of ST use have been identified, but less is known regarding ST decision-making within high-risk groups. The study objective was to describe rural adolescent males' pe...   \n",
       "10  Purpose of reviewIt has been proposed that biodiversity loss leads to reduced interaction between environmental and human microbiotas. This, in turn, may lead to immune dysfunction and impaired tolerance mechanisms in humans. That is, contact with environmental biodiversity is expected to protec...   \n",
       "16  A series of neurological and psychiatric symptoms occur after traumatic brain injury (TBI), with cognitive dysfunction being one of the most prominent sequela. Given that tau hyperphosphorylation is an important cause of cognitive impairment in patients of Alzheimer's disease, our present study ...   \n",
       "28  Cortical functioning within the default mode network (DMN) and salience network (SN) is altered in chronic pain patients. The mechanisms underlying these alterations are unknown, but a novel unexamined source is cross-network communication. Aberrant functional connectivity (FC) between the DMN a...   \n",
       "36  With increasing rates of cancer patients undergoing radiation therapy, the treatment itself can cause patients significant amounts of anxiety and distress. This can be attributed to the diagnosis of the disease, lack of knowledge of what radiation therapy is, expectations and management of side ...   \n",
       "6   This study aims to investigate the impacts of a digital learning module with guided peer feedback on students' domain-specific knowledge gain and their attitudinal change in the field of biotechnology and molecular life sciences. The extent to which the use of this module is appreciated by stude...   \n",
       "11  In the past decade mass spectrometry-based proteomics has greatly contributed to shaping our knowledge about Saccharomyces cerevisiae mitochondria, from the initial identification of novel essential components in purified protein complexes, to the actual characterization of the mitochondrial pro...   \n",
       "30  We review selected aspects of the interactions between protein and energy in human metabolism and nutrition. Following a short account of the underlying metabolic basis for the effects of energy on protein metabolism, the contribution made by whole body protein turnover to the metabolic rate is ...   \n",
       "79  We introduce a versatile carrier system for in vitro and in vivo immune stimulation based on soft matter DNA nanoparticles (NPs). The incorporation of lipid-modified nucleotides into DNA strands enables the formation of micelles of uniform size. In a single self-assembly step, the micelles can b...   \n",
       "1   Kawasaki disease is a multisystemic vasculitis that can result in coronary artery lesions. It predominantly affects young children and is characterized by prolonged fever, diffuse mucosal inflammation, indurative oedema of the hands and feet, a polymorphous skin rash and non-suppurative lymphade...   \n",
       "\n",
       "    index_dataset  \n",
       "47           4144  \n",
       "10           5154  \n",
       "16          11661  \n",
       "28            728  \n",
       "36           1032  \n",
       "6            9068  \n",
       "11           5214  \n",
       "30           1735  \n",
       "79           9809  \n",
       "1            7526  "
      ]
     },
     "execution_count": 69,
     "metadata": {},
     "output_type": "execute_result"
    }
   ],
   "source": [
    "pd.options.display.max_colwidth = 300\n",
    "df_dropado = df_test_pred.drop_duplicates(subset=['test_label'], keep='first')\n",
    "df_dropado.sort_values(by=['test_label']).tail(10)\n"
   ]
  },
  {
   "cell_type": "code",
   "execution_count": 70,
   "metadata": {},
   "outputs": [],
   "source": [
    "data_catalog = pd.read_excel('/home/vinicius/Pré Processamento/Meta-data/Data.xlsx')"
   ]
  },
  {
   "cell_type": "code",
   "execution_count": 71,
   "metadata": {},
   "outputs": [
    {
     "data": {
      "text/plain": [
       "Index(['Y1', 'Y2', 'Y', 'Domain', 'area', 'keywords', 'Abstract'], dtype='object')"
      ]
     },
     "execution_count": 71,
     "metadata": {},
     "output_type": "execute_result"
    }
   ],
   "source": [
    "data_catalog.columns"
   ]
  },
  {
   "cell_type": "code",
   "execution_count": 75,
   "metadata": {},
   "outputs": [
    {
     "name": "stderr",
     "output_type": "stream",
     "text": [
      "/tmp/ipykernel_260/3465581413.py:5: UserWarning: This pattern is interpreted as a regular expression, and has match groups. To actually get the groups, use str.extract.\n",
      "  label_wos = data_catalog[data_catalog['Abstract'].str.contains(df_dropado['sentence'].iloc[row_index][1:50].strip())]['area'].values[0]\n"
     ]
    },
    {
     "name": "stdout",
     "output_type": "stream",
     "text": [
      "Não achou o label_wos do 3\n",
      "Adicionado manualmente\n",
      "Não achou o label_wos do 23\n",
      "Adicionado manualmente\n"
     ]
    }
   ],
   "source": [
    "label_map = {}\n",
    "for row_index in range(len(df_dropado)):\n",
    "    label_new = int(df_dropado['test_label'].values[row_index])\n",
    "    try:\n",
    "        label_wos = data_catalog[data_catalog['Abstract'].str.contains(df_dropado['sentence'].iloc[row_index][1:50].strip())]['area'].values[0]\n",
    "        label_map[label_new] = label_wos.strip()\n",
    "    except:\n",
    "        print(f'Não achou o label_wos do {label_new}')\n",
    "        print(\"Adicionado manualmente\")\n",
    "\n",
    "label_map[3] = 'Cryptography'\n",
    "label_map[23] = 'Addiction'"
   ]
  },
  {
   "cell_type": "code",
   "execution_count": 76,
   "metadata": {},
   "outputs": [],
   "source": [
    "label_map\n",
    "with open('wos_label_map.json', 'w') as fp:\n",
    "    json.dump(label_map, fp)"
   ]
  },
  {
   "cell_type": "code",
   "execution_count": 27,
   "metadata": {},
   "outputs": [
    {
     "data": {
      "text/plain": [
       "7"
      ]
     },
     "execution_count": 27,
     "metadata": {},
     "output_type": "execute_result"
    }
   ],
   "source": [
    "df_dropado['test_label'].values[row_index]"
   ]
  },
  {
   "cell_type": "code",
   "execution_count": 32,
   "metadata": {},
   "outputs": [
    {
     "data": {
      "text/plain": [
       "2"
      ]
     },
     "execution_count": 32,
     "metadata": {},
     "output_type": "execute_result"
    }
   ],
   "source": [
    "from sklearn import preprocessing\n",
    "df = pd.read_csv(f'Arquivos TCC/datasets/TC02_20news.csv', sep=';')\n",
    "df = df.dropna()\n",
    "textos = df['text']\n",
    "labels = df['label']\n",
    "le = preprocessing.LabelEncoder()\n",
    "le.fit(labels)\n",
    "labels_enc = le.transform(labels)\n",
    "label_map_20news = {}\n",
    "for i,label in enumerate(labels.unique()):\n",
    "    label_map_20news[i] = label\n",
    "\n",
    "with open('20news_label_map.json', 'w') as fp:\n",
    "    json.dump(label_map_20news, fp)"
   ]
  },
  {
   "cell_type": "code",
   "execution_count": 41,
   "metadata": {},
   "outputs": [
    {
     "data": {
      "text/plain": [
       "'This paper explores the large-signal and small-signal dynamics of a series-capacitor (SC) buck-type '"
      ]
     },
     "execution_count": 41,
     "metadata": {},
     "output_type": "execute_result"
    }
   ],
   "source": [
    "df_dropado['sentence'].iloc[row_index][0:100]"
   ]
  },
  {
   "cell_type": "code",
   "execution_count": 43,
   "metadata": {},
   "outputs": [
    {
     "data": {
      "text/plain": [
       "40638     Digital control  \n",
       "Name: area, dtype: object"
      ]
     },
     "execution_count": 43,
     "metadata": {},
     "output_type": "execute_result"
    }
   ],
   "source": [
    "data_catalog[data_catalog['Abstract'].str.contains(df_dropado['sentence'].iloc[row_index][4:50])]['area']"
   ]
  },
  {
   "cell_type": "code",
   "execution_count": null,
   "metadata": {},
   "outputs": [],
   "source": []
  }
 ],
 "metadata": {
  "kernelspec": {
   "display_name": "Python 3.8.10 64-bit",
   "language": "python",
   "name": "python3"
  },
  "language_info": {
   "codemirror_mode": {
    "name": "ipython",
    "version": 3
   },
   "file_extension": ".py",
   "mimetype": "text/x-python",
   "name": "python",
   "nbconvert_exporter": "python",
   "pygments_lexer": "ipython3",
   "version": "3.8.10"
  },
  "orig_nbformat": 4,
  "vscode": {
   "interpreter": {
    "hash": "916dbcbb3f70747c44a77c7bcd40155683ae19c65e1c03b4aa3499c5328201f1"
   }
  }
 },
 "nbformat": 4,
 "nbformat_minor": 2
}
