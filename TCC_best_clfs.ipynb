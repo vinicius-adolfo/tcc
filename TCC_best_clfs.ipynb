{
 "cells": [
  {
   "cell_type": "code",
   "execution_count": 89,
   "metadata": {},
   "outputs": [],
   "source": [
    "random_state = 20\n",
    "import pandas as pd\n",
    "import json\n",
    "def get_index_train_test(pipeline):\n",
    "    import pandas as pd\n",
    "    import numpy as np\n",
    "    from sklearn.model_selection import train_test_split\n",
    "    from sklearn import preprocessing\n",
    "    dataset, model_name ,classifier =tuple(pipeline.split('+'))\n",
    "    df = pd.read_csv(f'Arquivos TCC/datasets/{dataset}.csv', sep=';')\n",
    "    df = df.dropna()\n",
    "    textos = df['text']\n",
    "    labels = df['label']\n",
    "    le = preprocessing.LabelEncoder()\n",
    "    le.fit(labels)\n",
    "    labels_enc = le.transform(labels)\n",
    "    textos_train, textos_test, y_train, y_test = train_test_split(textos, labels_enc, test_size=0.10, random_state=random_state,stratify=labels_enc)\n",
    "    return (list(textos_train.index),list(textos_test.index))\n",
    "\n",
    "\n",
    "def get_df_test_pred(pipeline):\n",
    "    import pandas as pd\n",
    "    import numpy as np\n",
    "    from sklearn.model_selection import train_test_split\n",
    "    from sklearn import preprocessing\n",
    "    dataset, model_name ,classifier =tuple(pipeline.split('+'))\n",
    "    df = pd.read_csv(f'Arquivos TCC/datasets/{dataset}.csv', sep=';')\n",
    "    df = df.dropna()\n",
    "    textos = df['text']\n",
    "    labels = df['label']\n",
    "    le = preprocessing.LabelEncoder()\n",
    "    le.fit(labels)\n",
    "    labels_enc = le.transform(labels)\n",
    "    textos_train, textos_test, y_train, y_test = train_test_split(textos, labels_enc, test_size=0.10, random_state=random_state,stratify=labels_enc)\n",
    "    df_test_pred = pd.read_csv(f'Arquivos TCC/test_set_predictions/{pipeline}.csv', sep=',')\n",
    "    if dataset ==  'TC02_20news':\n",
    "        df_test_pred['sentence'] = textos_test.to_list()\n",
    "        df_test_pred['test_label'] = le.inverse_transform(df_test_pred['test_label'])\n",
    "        df_test_pred['pred_label'] = le.inverse_transform(df_test_pred['pred_label'])\n",
    "    if dataset == 'TC14_wos':\n",
    "        with open(\"wos_label_map.json\", \"r\") as read_file:\n",
    "            label_map = json.load(read_file)\n",
    "        df_test_pred['sentence'] = textos_test.to_list()  \n",
    "        df_test_pred['test_label'] = df_test_pred['test_label'].apply(lambda x : label_map[str(x)])\n",
    "        df_test_pred['pred_label'] = df_test_pred['pred_label'].apply(lambda x : label_map[str(x)])\n",
    "    df_test_pred['index_dataset'] = get_index_train_test(pipeline)[1]\n",
    "\n",
    "    #print(labels)\n",
    "    return df_test_pred\n",
    "\n",
    "\n",
    "\n"
   ]
  },
  {
   "cell_type": "code",
   "execution_count": null,
   "metadata": {},
   "outputs": [],
   "source": []
  },
  {
   "cell_type": "code",
   "execution_count": null,
   "metadata": {},
   "outputs": [],
   "source": []
  },
  {
   "cell_type": "code",
   "execution_count": 90,
   "metadata": {},
   "outputs": [
    {
     "name": "stdout",
     "output_type": "stream",
     "text": [
      "             test_label         pred_label  \\\n",
      "0      Social cognition   Social cognition   \n",
      "1              Genetics         Immunology   \n",
      "2              Genetics           Genetics   \n",
      "3       Digital control    Digital control   \n",
      "4       Digital control    Digital control   \n",
      "...                 ...                ...   \n",
      "1192     Machine design     Machine design   \n",
      "1193  Molecular biology  Molecular biology   \n",
      "1194   Human Metabolism   Human Metabolism   \n",
      "1195           Genetics   Human Metabolism   \n",
      "1196          Allergies          Allergies   \n",
      "\n",
      "                                                                                                                                                                                                                                                                                                         sentence  \\\n",
      "0     It was recently proposed that the neural substrate mediating smile production might play a key role also in the recognition of others' smile. This hypothesis, however, has been challenged by difficulties in eliciting ecological smiling in standard laboratory settings. Here we report of a case wh...   \n",
      "1     Kawasaki disease is a multisystemic vasculitis that can result in coronary artery lesions. It predominantly affects young children and is characterized by prolonged fever, diffuse mucosal inflammation, indurative oedema of the hands and feet, a polymorphous skin rash and non-suppurative lymphade...   \n",
      "2     The aim of the present study was to understand the context and psychological impact for patients diagnosed with hereditary hemorrhagic telangiectasia (HHT). Semi-structured interviews were conducted with 9 patients affected by HHT, and the transcripts were analyzed using interpretative phenomeno...   \n",
      "3     This paper explores the large-signal and small-signal dynamics of a series-capacitor (SC) buck-type converter and introduces an optimal closed-loop control scheme to accommodate both the steady-state and transient modes. As opposed to a conventional buck converter, where time-optimal control is ...   \n",
      "4     Design and implementation of a low cost grid-connected 5kVA solar photovoltaic (PV) system is proposed in this paper. Since the inverter is a major component of the PV system, the B4 inverter used in this paper reduces the total cost of the PV system. In order to eliminate the massive transforme...   \n",
      "...                                                                                                                                                                                                                                                                                                           ...   \n",
      "1192  This paper presents a new hybrid-structure machine, which possesses the distinct merit of multimode fault-tolerant operation for driving Mars Rover. Namely, the proposed machine is designed with three operation modes, including Mode I for the normal operation, Mode II for the remedial field-exci...   \n",
      "1193  The present study examines 536 Indian publications on Vitamin D Deficiency as covered in Scopus database during 2006-15, experiencing an annual average growth rate of 37.08%, citation impact per paper of 8.30 and international collaborative publication share of 15.30%. The global publications sh...   \n",
      "1194  Lipoprotein(a), a variant of LDL carrying the adhesive glycoprotein apo(a), is a leading risk factor for cardiovascular disease. Lipoprotein(a) (Lp(a)) is found in humans and subhuman primates but rarely in lower mammals. Better understanding of the evolutionary advantage of this molecule should...   \n",
      "1195  In the last few decades there has been increased consumer interest in the fatty acid (FA) composition of ruminant meat due to its content of saturated FAs, which have been implicated in diseases associated with modern life. However, recent studies have questioned the recommendations to reduce in...   \n",
      "1196  Allergen immunotherapy (AIT) has been in use since more than one century, when Leonard Noon experimentally proved its efficacy in hayfever (Noon, in Lancet 1: 1572-3, 1911). Since then, AIT was administered only as subcutaneous injections (SCIT) until the sublingual route (SLIT) was proposed in ...   \n",
      "\n",
      "      index_dataset  \n",
      "0              1660  \n",
      "1              7526  \n",
      "2              9144  \n",
      "3             10065  \n",
      "4             10613  \n",
      "...             ...  \n",
      "1192           7232  \n",
      "1193           3977  \n",
      "1194           4624  \n",
      "1195           3359  \n",
      "1196           2741  \n",
      "\n",
      "[1197 rows x 4 columns]\n"
     ]
    }
   ],
   "source": [
    "test_pipes = [\"TC02_20news+TFIDF+SVC\",\"TC14_wos+TFIDF+SVC\"]\n",
    "print(get_df_test_pred(test_pipes[1]))"
   ]
  },
  {
   "cell_type": "code",
   "execution_count": 91,
   "metadata": {},
   "outputs": [
    {
     "data": {
      "text/html": [
       "<div>\n",
       "<style scoped>\n",
       "    .dataframe tbody tr th:only-of-type {\n",
       "        vertical-align: middle;\n",
       "    }\n",
       "\n",
       "    .dataframe tbody tr th {\n",
       "        vertical-align: top;\n",
       "    }\n",
       "\n",
       "    .dataframe thead th {\n",
       "        text-align: right;\n",
       "    }\n",
       "</style>\n",
       "<table border=\"1\" class=\"dataframe\">\n",
       "  <thead>\n",
       "    <tr style=\"text-align: right;\">\n",
       "      <th></th>\n",
       "      <th>test_label</th>\n",
       "      <th>pred_label</th>\n",
       "      <th>sentence</th>\n",
       "      <th>index_dataset</th>\n",
       "    </tr>\n",
       "  </thead>\n",
       "  <tbody>\n",
       "    <tr>\n",
       "      <th>0</th>\n",
       "      <td>Social cognition</td>\n",
       "      <td>Social cognition</td>\n",
       "      <td>It was recently proposed that the neural substrate mediating smile production might play a key role also in the recognition of others' smile. This hypothesis, however, has been challenged by difficulties in eliciting ecological smiling in standard laboratory settings. Here we report of a case wh...</td>\n",
       "      <td>1660</td>\n",
       "    </tr>\n",
       "    <tr>\n",
       "      <th>1</th>\n",
       "      <td>Genetics</td>\n",
       "      <td>Immunology</td>\n",
       "      <td>Kawasaki disease is a multisystemic vasculitis that can result in coronary artery lesions. It predominantly affects young children and is characterized by prolonged fever, diffuse mucosal inflammation, indurative oedema of the hands and feet, a polymorphous skin rash and non-suppurative lymphade...</td>\n",
       "      <td>7526</td>\n",
       "    </tr>\n",
       "    <tr>\n",
       "      <th>2</th>\n",
       "      <td>Genetics</td>\n",
       "      <td>Genetics</td>\n",
       "      <td>The aim of the present study was to understand the context and psychological impact for patients diagnosed with hereditary hemorrhagic telangiectasia (HHT). Semi-structured interviews were conducted with 9 patients affected by HHT, and the transcripts were analyzed using interpretative phenomeno...</td>\n",
       "      <td>9144</td>\n",
       "    </tr>\n",
       "    <tr>\n",
       "      <th>3</th>\n",
       "      <td>Digital control</td>\n",
       "      <td>Digital control</td>\n",
       "      <td>This paper explores the large-signal and small-signal dynamics of a series-capacitor (SC) buck-type converter and introduces an optimal closed-loop control scheme to accommodate both the steady-state and transient modes. As opposed to a conventional buck converter, where time-optimal control is ...</td>\n",
       "      <td>10065</td>\n",
       "    </tr>\n",
       "    <tr>\n",
       "      <th>4</th>\n",
       "      <td>Digital control</td>\n",
       "      <td>Digital control</td>\n",
       "      <td>Design and implementation of a low cost grid-connected 5kVA solar photovoltaic (PV) system is proposed in this paper. Since the inverter is a major component of the PV system, the B4 inverter used in this paper reduces the total cost of the PV system. In order to eliminate the massive transforme...</td>\n",
       "      <td>10613</td>\n",
       "    </tr>\n",
       "    <tr>\n",
       "      <th>5</th>\n",
       "      <td>Person perception</td>\n",
       "      <td>Person perception</td>\n",
       "      <td>Women are less likely than men to engage in sexually agentic behavior (e.g., initiating sexual encounters), despite the benefits associated with sexual agency (Kiefer &amp; Sanchez, 2007). Two studies examined possible explanations, related to person perception, for gender differences in sexually ag...</td>\n",
       "      <td>3542</td>\n",
       "    </tr>\n",
       "    <tr>\n",
       "      <th>6</th>\n",
       "      <td>Molecular biology</td>\n",
       "      <td>Molecular biology</td>\n",
       "      <td>This study aims to investigate the impacts of a digital learning module with guided peer feedback on students' domain-specific knowledge gain and their attitudinal change in the field of biotechnology and molecular life sciences. The extent to which the use of this module is appreciated by stude...</td>\n",
       "      <td>9068</td>\n",
       "    </tr>\n",
       "    <tr>\n",
       "      <th>7</th>\n",
       "      <td>Social cognition</td>\n",
       "      <td>Nonverbal communication</td>\n",
       "      <td>The purpose of this study was to examine the utility of the Systematic Observation of Red Flags as an observational level-two screening measure to detect risk for autism spectrum disorder in toddlers when used with a video-recorded administration of the Communication and Symbolic Behavior Scales...</td>\n",
       "      <td>2716</td>\n",
       "    </tr>\n",
       "    <tr>\n",
       "      <th>8</th>\n",
       "      <td>Person perception</td>\n",
       "      <td>Prosocial behavior</td>\n",
       "      <td>Sexual harassment and coercion have mainly been considered from a sex difference perspective. While traditional social science theories have explained harassment as male dominance of females, the evolutionary perspective has suggested that sex differences in the desire for sex are a better expla...</td>\n",
       "      <td>5627</td>\n",
       "    </tr>\n",
       "    <tr>\n",
       "      <th>9</th>\n",
       "      <td>Digital control</td>\n",
       "      <td>Digital control</td>\n",
       "      <td>This paper presents a reference modification model digitally controlled dc-dc converter. The proposed method is able to obtain superior transient response because it modifies a reference of conventional feedback loop against the change of output voltage. The modifying process operates only in th...</td>\n",
       "      <td>3194</td>\n",
       "    </tr>\n",
       "  </tbody>\n",
       "</table>\n",
       "</div>"
      ],
      "text/plain": [
       "          test_label               pred_label  \\\n",
       "0   Social cognition         Social cognition   \n",
       "1           Genetics               Immunology   \n",
       "2           Genetics                 Genetics   \n",
       "3    Digital control          Digital control   \n",
       "4    Digital control          Digital control   \n",
       "5  Person perception        Person perception   \n",
       "6  Molecular biology        Molecular biology   \n",
       "7   Social cognition  Nonverbal communication   \n",
       "8  Person perception       Prosocial behavior   \n",
       "9    Digital control          Digital control   \n",
       "\n",
       "                                                                                                                                                                                                                                                                                                      sentence  \\\n",
       "0  It was recently proposed that the neural substrate mediating smile production might play a key role also in the recognition of others' smile. This hypothesis, however, has been challenged by difficulties in eliciting ecological smiling in standard laboratory settings. Here we report of a case wh...   \n",
       "1  Kawasaki disease is a multisystemic vasculitis that can result in coronary artery lesions. It predominantly affects young children and is characterized by prolonged fever, diffuse mucosal inflammation, indurative oedema of the hands and feet, a polymorphous skin rash and non-suppurative lymphade...   \n",
       "2  The aim of the present study was to understand the context and psychological impact for patients diagnosed with hereditary hemorrhagic telangiectasia (HHT). Semi-structured interviews were conducted with 9 patients affected by HHT, and the transcripts were analyzed using interpretative phenomeno...   \n",
       "3  This paper explores the large-signal and small-signal dynamics of a series-capacitor (SC) buck-type converter and introduces an optimal closed-loop control scheme to accommodate both the steady-state and transient modes. As opposed to a conventional buck converter, where time-optimal control is ...   \n",
       "4  Design and implementation of a low cost grid-connected 5kVA solar photovoltaic (PV) system is proposed in this paper. Since the inverter is a major component of the PV system, the B4 inverter used in this paper reduces the total cost of the PV system. In order to eliminate the massive transforme...   \n",
       "5  Women are less likely than men to engage in sexually agentic behavior (e.g., initiating sexual encounters), despite the benefits associated with sexual agency (Kiefer & Sanchez, 2007). Two studies examined possible explanations, related to person perception, for gender differences in sexually ag...   \n",
       "6  This study aims to investigate the impacts of a digital learning module with guided peer feedback on students' domain-specific knowledge gain and their attitudinal change in the field of biotechnology and molecular life sciences. The extent to which the use of this module is appreciated by stude...   \n",
       "7  The purpose of this study was to examine the utility of the Systematic Observation of Red Flags as an observational level-two screening measure to detect risk for autism spectrum disorder in toddlers when used with a video-recorded administration of the Communication and Symbolic Behavior Scales...   \n",
       "8  Sexual harassment and coercion have mainly been considered from a sex difference perspective. While traditional social science theories have explained harassment as male dominance of females, the evolutionary perspective has suggested that sex differences in the desire for sex are a better expla...   \n",
       "9  This paper presents a reference modification model digitally controlled dc-dc converter. The proposed method is able to obtain superior transient response because it modifies a reference of conventional feedback loop against the change of output voltage. The modifying process operates only in th...   \n",
       "\n",
       "   index_dataset  \n",
       "0           1660  \n",
       "1           7526  \n",
       "2           9144  \n",
       "3          10065  \n",
       "4          10613  \n",
       "5           3542  \n",
       "6           9068  \n",
       "7           2716  \n",
       "8           5627  \n",
       "9           3194  "
      ]
     },
     "execution_count": 91,
     "metadata": {},
     "output_type": "execute_result"
    }
   ],
   "source": [
    "df_test_pred = get_df_test_pred(test_pipes[1])\n",
    "df_test_pred.head(10)"
   ]
  },
  {
   "cell_type": "code",
   "execution_count": null,
   "metadata": {},
   "outputs": [],
   "source": []
  },
  {
   "cell_type": "code",
   "execution_count": null,
   "metadata": {},
   "outputs": [],
   "source": []
  },
  {
   "cell_type": "code",
   "execution_count": null,
   "metadata": {},
   "outputs": [],
   "source": []
  },
  {
   "cell_type": "code",
   "execution_count": null,
   "metadata": {},
   "outputs": [],
   "source": []
  },
  {
   "cell_type": "code",
   "execution_count": null,
   "metadata": {},
   "outputs": [],
   "source": []
  },
  {
   "cell_type": "code",
   "execution_count": null,
   "metadata": {},
   "outputs": [],
   "source": []
  },
  {
   "cell_type": "code",
   "execution_count": 69,
   "metadata": {},
   "outputs": [
    {
     "data": {
      "text/html": [
       "<div>\n",
       "<style scoped>\n",
       "    .dataframe tbody tr th:only-of-type {\n",
       "        vertical-align: middle;\n",
       "    }\n",
       "\n",
       "    .dataframe tbody tr th {\n",
       "        vertical-align: top;\n",
       "    }\n",
       "\n",
       "    .dataframe thead th {\n",
       "        text-align: right;\n",
       "    }\n",
       "</style>\n",
       "<table border=\"1\" class=\"dataframe\">\n",
       "  <thead>\n",
       "    <tr style=\"text-align: right;\">\n",
       "      <th></th>\n",
       "      <th>test_label</th>\n",
       "      <th>pred_label</th>\n",
       "      <th>sentence</th>\n",
       "      <th>index_dataset</th>\n",
       "    </tr>\n",
       "  </thead>\n",
       "  <tbody>\n",
       "    <tr>\n",
       "      <th>47</th>\n",
       "      <td>23</td>\n",
       "      <td>23</td>\n",
       "      <td>Smokeless tobacco (ST) use among US high school males living in rural areas exceeds national levels. Subgroups at heightened risk of ST use have been identified, but less is known regarding ST decision-making within high-risk groups. The study objective was to describe rural adolescent males' pe...</td>\n",
       "      <td>4144</td>\n",
       "    </tr>\n",
       "    <tr>\n",
       "      <th>10</th>\n",
       "      <td>24</td>\n",
       "      <td>24</td>\n",
       "      <td>Purpose of reviewIt has been proposed that biodiversity loss leads to reduced interaction between environmental and human microbiotas. This, in turn, may lead to immune dysfunction and impaired tolerance mechanisms in humans. That is, contact with environmental biodiversity is expected to protec...</td>\n",
       "      <td>5154</td>\n",
       "    </tr>\n",
       "    <tr>\n",
       "      <th>16</th>\n",
       "      <td>25</td>\n",
       "      <td>25</td>\n",
       "      <td>A series of neurological and psychiatric symptoms occur after traumatic brain injury (TBI), with cognitive dysfunction being one of the most prominent sequela. Given that tau hyperphosphorylation is an important cause of cognitive impairment in patients of Alzheimer's disease, our present study ...</td>\n",
       "      <td>11661</td>\n",
       "    </tr>\n",
       "    <tr>\n",
       "      <th>28</th>\n",
       "      <td>26</td>\n",
       "      <td>9</td>\n",
       "      <td>Cortical functioning within the default mode network (DMN) and salience network (SN) is altered in chronic pain patients. The mechanisms underlying these alterations are unknown, but a novel unexamined source is cross-network communication. Aberrant functional connectivity (FC) between the DMN a...</td>\n",
       "      <td>728</td>\n",
       "    </tr>\n",
       "    <tr>\n",
       "      <th>36</th>\n",
       "      <td>27</td>\n",
       "      <td>27</td>\n",
       "      <td>With increasing rates of cancer patients undergoing radiation therapy, the treatment itself can cause patients significant amounts of anxiety and distress. This can be attributed to the diagnosis of the disease, lack of knowledge of what radiation therapy is, expectations and management of side ...</td>\n",
       "      <td>1032</td>\n",
       "    </tr>\n",
       "    <tr>\n",
       "      <th>6</th>\n",
       "      <td>28</td>\n",
       "      <td>28</td>\n",
       "      <td>This study aims to investigate the impacts of a digital learning module with guided peer feedback on students' domain-specific knowledge gain and their attitudinal change in the field of biotechnology and molecular life sciences. The extent to which the use of this module is appreciated by stude...</td>\n",
       "      <td>9068</td>\n",
       "    </tr>\n",
       "    <tr>\n",
       "      <th>11</th>\n",
       "      <td>29</td>\n",
       "      <td>29</td>\n",
       "      <td>In the past decade mass spectrometry-based proteomics has greatly contributed to shaping our knowledge about Saccharomyces cerevisiae mitochondria, from the initial identification of novel essential components in purified protein complexes, to the actual characterization of the mitochondrial pro...</td>\n",
       "      <td>5214</td>\n",
       "    </tr>\n",
       "    <tr>\n",
       "      <th>30</th>\n",
       "      <td>30</td>\n",
       "      <td>30</td>\n",
       "      <td>We review selected aspects of the interactions between protein and energy in human metabolism and nutrition. Following a short account of the underlying metabolic basis for the effects of energy on protein metabolism, the contribution made by whole body protein turnover to the metabolic rate is ...</td>\n",
       "      <td>1735</td>\n",
       "    </tr>\n",
       "    <tr>\n",
       "      <th>79</th>\n",
       "      <td>31</td>\n",
       "      <td>31</td>\n",
       "      <td>We introduce a versatile carrier system for in vitro and in vivo immune stimulation based on soft matter DNA nanoparticles (NPs). The incorporation of lipid-modified nucleotides into DNA strands enables the formation of micelles of uniform size. In a single self-assembly step, the micelles can b...</td>\n",
       "      <td>9809</td>\n",
       "    </tr>\n",
       "    <tr>\n",
       "      <th>1</th>\n",
       "      <td>32</td>\n",
       "      <td>31</td>\n",
       "      <td>Kawasaki disease is a multisystemic vasculitis that can result in coronary artery lesions. It predominantly affects young children and is characterized by prolonged fever, diffuse mucosal inflammation, indurative oedema of the hands and feet, a polymorphous skin rash and non-suppurative lymphade...</td>\n",
       "      <td>7526</td>\n",
       "    </tr>\n",
       "  </tbody>\n",
       "</table>\n",
       "</div>"
      ],
      "text/plain": [
       "    test_label  pred_label  \\\n",
       "47          23          23   \n",
       "10          24          24   \n",
       "16          25          25   \n",
       "28          26           9   \n",
       "36          27          27   \n",
       "6           28          28   \n",
       "11          29          29   \n",
       "30          30          30   \n",
       "79          31          31   \n",
       "1           32          31   \n",
       "\n",
       "                                                                                                                                                                                                                                                                                                       sentence  \\\n",
       "47  Smokeless tobacco (ST) use among US high school males living in rural areas exceeds national levels. Subgroups at heightened risk of ST use have been identified, but less is known regarding ST decision-making within high-risk groups. The study objective was to describe rural adolescent males' pe...   \n",
       "10  Purpose of reviewIt has been proposed that biodiversity loss leads to reduced interaction between environmental and human microbiotas. This, in turn, may lead to immune dysfunction and impaired tolerance mechanisms in humans. That is, contact with environmental biodiversity is expected to protec...   \n",
       "16  A series of neurological and psychiatric symptoms occur after traumatic brain injury (TBI), with cognitive dysfunction being one of the most prominent sequela. Given that tau hyperphosphorylation is an important cause of cognitive impairment in patients of Alzheimer's disease, our present study ...   \n",
       "28  Cortical functioning within the default mode network (DMN) and salience network (SN) is altered in chronic pain patients. The mechanisms underlying these alterations are unknown, but a novel unexamined source is cross-network communication. Aberrant functional connectivity (FC) between the DMN a...   \n",
       "36  With increasing rates of cancer patients undergoing radiation therapy, the treatment itself can cause patients significant amounts of anxiety and distress. This can be attributed to the diagnosis of the disease, lack of knowledge of what radiation therapy is, expectations and management of side ...   \n",
       "6   This study aims to investigate the impacts of a digital learning module with guided peer feedback on students' domain-specific knowledge gain and their attitudinal change in the field of biotechnology and molecular life sciences. The extent to which the use of this module is appreciated by stude...   \n",
       "11  In the past decade mass spectrometry-based proteomics has greatly contributed to shaping our knowledge about Saccharomyces cerevisiae mitochondria, from the initial identification of novel essential components in purified protein complexes, to the actual characterization of the mitochondrial pro...   \n",
       "30  We review selected aspects of the interactions between protein and energy in human metabolism and nutrition. Following a short account of the underlying metabolic basis for the effects of energy on protein metabolism, the contribution made by whole body protein turnover to the metabolic rate is ...   \n",
       "79  We introduce a versatile carrier system for in vitro and in vivo immune stimulation based on soft matter DNA nanoparticles (NPs). The incorporation of lipid-modified nucleotides into DNA strands enables the formation of micelles of uniform size. In a single self-assembly step, the micelles can b...   \n",
       "1   Kawasaki disease is a multisystemic vasculitis that can result in coronary artery lesions. It predominantly affects young children and is characterized by prolonged fever, diffuse mucosal inflammation, indurative oedema of the hands and feet, a polymorphous skin rash and non-suppurative lymphade...   \n",
       "\n",
       "    index_dataset  \n",
       "47           4144  \n",
       "10           5154  \n",
       "16          11661  \n",
       "28            728  \n",
       "36           1032  \n",
       "6            9068  \n",
       "11           5214  \n",
       "30           1735  \n",
       "79           9809  \n",
       "1            7526  "
      ]
     },
     "execution_count": 69,
     "metadata": {},
     "output_type": "execute_result"
    }
   ],
   "source": [
    "pd.options.display.max_colwidth = 300\n",
    "df_dropado = df_test_pred.drop_duplicates(subset=['test_label'], keep='first')\n",
    "df_dropado.sort_values(by=['test_label']).tail(10)\n"
   ]
  },
  {
   "cell_type": "code",
   "execution_count": 70,
   "metadata": {},
   "outputs": [],
   "source": [
    "data_catalog = pd.read_excel('/home/vinicius/Pré Processamento/Meta-data/Data.xlsx')"
   ]
  },
  {
   "cell_type": "code",
   "execution_count": 71,
   "metadata": {},
   "outputs": [
    {
     "data": {
      "text/plain": [
       "Index(['Y1', 'Y2', 'Y', 'Domain', 'area', 'keywords', 'Abstract'], dtype='object')"
      ]
     },
     "execution_count": 71,
     "metadata": {},
     "output_type": "execute_result"
    }
   ],
   "source": [
    "data_catalog.columns"
   ]
  },
  {
   "cell_type": "code",
   "execution_count": 75,
   "metadata": {},
   "outputs": [
    {
     "name": "stderr",
     "output_type": "stream",
     "text": [
      "/tmp/ipykernel_260/3465581413.py:5: UserWarning: This pattern is interpreted as a regular expression, and has match groups. To actually get the groups, use str.extract.\n",
      "  label_wos = data_catalog[data_catalog['Abstract'].str.contains(df_dropado['sentence'].iloc[row_index][1:50].strip())]['area'].values[0]\n"
     ]
    },
    {
     "name": "stdout",
     "output_type": "stream",
     "text": [
      "Não achou o label_wos do 3\n",
      "Adicionado manualmente\n",
      "Não achou o label_wos do 23\n",
      "Adicionado manualmente\n"
     ]
    }
   ],
   "source": [
    "label_map = {}\n",
    "for row_index in range(len(df_dropado)):\n",
    "    label_new = int(df_dropado['test_label'].values[row_index])\n",
    "    try:\n",
    "        label_wos = data_catalog[data_catalog['Abstract'].str.contains(df_dropado['sentence'].iloc[row_index][1:50].strip())]['area'].values[0]\n",
    "        label_map[label_new] = label_wos.strip()\n",
    "    except:\n",
    "        print(f'Não achou o label_wos do {label_new}')\n",
    "        print(\"Adicionado manualmente\")\n",
    "\n",
    "label_map[3] = 'Cryptography'\n",
    "label_map[23] = 'Addiction'"
   ]
  },
  {
   "cell_type": "code",
   "execution_count": 76,
   "metadata": {},
   "outputs": [],
   "source": [
    "label_map\n",
    "with open('wos_label_map.json', 'w') as fp:\n",
    "    json.dump(label_map, fp)"
   ]
  },
  {
   "cell_type": "code",
   "execution_count": 27,
   "metadata": {},
   "outputs": [
    {
     "data": {
      "text/plain": [
       "7"
      ]
     },
     "execution_count": 27,
     "metadata": {},
     "output_type": "execute_result"
    }
   ],
   "source": [
    "df_dropado['test_label'].values[row_index]"
   ]
  },
  {
   "cell_type": "code",
   "execution_count": 32,
   "metadata": {},
   "outputs": [
    {
     "data": {
      "text/plain": [
       "2"
      ]
     },
     "execution_count": 32,
     "metadata": {},
     "output_type": "execute_result"
    }
   ],
   "source": [
    "row_index"
   ]
  },
  {
   "cell_type": "code",
   "execution_count": 38,
   "metadata": {},
   "outputs": [
    {
     "name": "stderr",
     "output_type": "stream",
     "text": [
      "/tmp/ipykernel_260/2196204584.py:1: UserWarning: This pattern is interpreted as a regular expression, and has match groups. To actually get the groups, use str.extract.\n",
      "  data_catalog[data_catalog['Abstract'].str.contains(df_dropado['sentence'].iloc[row_index][4:99])]['area'].values[0]\n"
     ]
    },
    {
     "ename": "IndexError",
     "evalue": "index 0 is out of bounds for axis 0 with size 0",
     "output_type": "error",
     "traceback": [
      "\u001b[0;31m---------------------------------------------------------------------------\u001b[0m",
      "\u001b[0;31mIndexError\u001b[0m                                Traceback (most recent call last)",
      "Cell \u001b[0;32mIn [38], line 1\u001b[0m\n\u001b[0;32m----> 1\u001b[0m data_catalog[data_catalog[\u001b[39m'\u001b[39;49m\u001b[39mAbstract\u001b[39;49m\u001b[39m'\u001b[39;49m]\u001b[39m.\u001b[39;49mstr\u001b[39m.\u001b[39;49mcontains(df_dropado[\u001b[39m'\u001b[39;49m\u001b[39msentence\u001b[39;49m\u001b[39m'\u001b[39;49m]\u001b[39m.\u001b[39;49miloc[row_index][\u001b[39m4\u001b[39;49m:\u001b[39m99\u001b[39;49m])][\u001b[39m'\u001b[39;49m\u001b[39marea\u001b[39;49m\u001b[39m'\u001b[39;49m]\u001b[39m.\u001b[39;49mvalues[\u001b[39m0\u001b[39;49m]\n",
      "\u001b[0;31mIndexError\u001b[0m: index 0 is out of bounds for axis 0 with size 0"
     ]
    }
   ],
   "source": [
    "data_catalog[data_catalog['Abstract'].str.contains(df_dropado['sentence'].iloc[row_index][4:])]['area'].values[0]"
   ]
  },
  {
   "cell_type": "code",
   "execution_count": 41,
   "metadata": {},
   "outputs": [
    {
     "data": {
      "text/plain": [
       "'This paper explores the large-signal and small-signal dynamics of a series-capacitor (SC) buck-type '"
      ]
     },
     "execution_count": 41,
     "metadata": {},
     "output_type": "execute_result"
    }
   ],
   "source": [
    "df_dropado['sentence'].iloc[row_index][0:100]"
   ]
  },
  {
   "cell_type": "code",
   "execution_count": 43,
   "metadata": {},
   "outputs": [
    {
     "data": {
      "text/plain": [
       "40638     Digital control  \n",
       "Name: area, dtype: object"
      ]
     },
     "execution_count": 43,
     "metadata": {},
     "output_type": "execute_result"
    }
   ],
   "source": [
    "data_catalog[data_catalog['Abstract'].str.contains(df_dropado['sentence'].iloc[row_index][4:50])]['area']"
   ]
  },
  {
   "cell_type": "code",
   "execution_count": null,
   "metadata": {},
   "outputs": [],
   "source": []
  }
 ],
 "metadata": {
  "kernelspec": {
   "display_name": "Python 3.8.10 64-bit",
   "language": "python",
   "name": "python3"
  },
  "language_info": {
   "codemirror_mode": {
    "name": "ipython",
    "version": 3
   },
   "file_extension": ".py",
   "mimetype": "text/x-python",
   "name": "python",
   "nbconvert_exporter": "python",
   "pygments_lexer": "ipython3",
   "version": "3.8.10"
  },
  "orig_nbformat": 4,
  "vscode": {
   "interpreter": {
    "hash": "916dbcbb3f70747c44a77c7bcd40155683ae19c65e1c03b4aa3499c5328201f1"
   }
  }
 },
 "nbformat": 4,
 "nbformat_minor": 2
}
