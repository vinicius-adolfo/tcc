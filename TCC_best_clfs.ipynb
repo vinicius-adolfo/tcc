{
 "cells": [
  {
   "cell_type": "code",
   "execution_count": 6,
   "metadata": {},
   "outputs": [],
   "source": [
    "random_state = 20\n",
    "import pandas as pd\n",
    "import json\n",
    "def get_index_train_test(pipeline):\n",
    "    import pandas as pd\n",
    "    import numpy as np\n",
    "    from sklearn.model_selection import train_test_split\n",
    "    from sklearn import preprocessing\n",
    "    dataset, model_name ,classifier =tuple(pipeline.split('+'))\n",
    "    df = pd.read_csv(f'Arquivos TCC/datasets/{dataset}.csv', sep=';')\n",
    "    df = df.dropna()\n",
    "    textos = df['text']\n",
    "    labels = df['label']\n",
    "    le = preprocessing.LabelEncoder()\n",
    "    le.fit(labels)\n",
    "    labels_enc = le.transform(labels)\n",
    "    textos_train, textos_test, y_train, y_test = train_test_split(textos, labels_enc, test_size=0.10, random_state=random_state,stratify=labels_enc)\n",
    "    return (list(textos_train.index),list(textos_test.index))\n",
    "\n",
    "\n",
    "def get_df_test_pred(pipeline):\n",
    "    import pandas as pd\n",
    "    import numpy as np\n",
    "    from sklearn.model_selection import train_test_split\n",
    "    from sklearn import preprocessing\n",
    "    dataset, model_name ,classifier =tuple(pipeline.split('+'))\n",
    "    df = pd.read_csv(f'Arquivos TCC/datasets/{dataset}.csv', sep=';')\n",
    "    df = df.dropna()\n",
    "    textos = df['text']\n",
    "    labels = df['label']\n",
    "    le = preprocessing.LabelEncoder()\n",
    "    le.fit(labels)\n",
    "    labels_enc = le.transform(labels)\n",
    "    textos_train, textos_test, y_train, y_test = train_test_split(textos, labels_enc, test_size=0.10, random_state=random_state,stratify=labels_enc)\n",
    "    df_test_pred = pd.read_csv(f'Arquivos TCC/test_set_predictions/{pipeline}.csv', sep=',')\n",
    "    if dataset ==  'TC02_20news':\n",
    "        df_test_pred['sentence'] = textos_test.to_list()\n",
    "        df_test_pred['test_label'] = le.inverse_transform(df_test_pred['test_label'])\n",
    "        df_test_pred['pred_label'] = le.inverse_transform(df_test_pred['pred_label'])\n",
    "    if dataset == 'TC14_wos':\n",
    "        with open(\"wos_label_map.json\", \"r\") as read_file:\n",
    "            label_map = json.load(read_file)\n",
    "        df_test_pred['sentence'] = textos_test.to_list()  \n",
    "        df_test_pred['test_label'] = df_test_pred['test_label'].apply(lambda x : label_map[str(x)])\n",
    "        df_test_pred['pred_label'] = df_test_pred['pred_label'].apply(lambda x : label_map[str(x)])\n",
    "    df_test_pred['index_dataset'] = get_index_train_test(pipeline)[1]\n",
    "\n",
    "    #print(labels)\n",
    "    return df_test_pred"
   ]
  },
  {
   "cell_type": "code",
   "execution_count": 7,
   "metadata": {},
   "outputs": [
    {
     "data": {
      "text/html": [
       "<div>\n",
       "<style scoped>\n",
       "    .dataframe tbody tr th:only-of-type {\n",
       "        vertical-align: middle;\n",
       "    }\n",
       "\n",
       "    .dataframe tbody tr th {\n",
       "        vertical-align: top;\n",
       "    }\n",
       "\n",
       "    .dataframe thead th {\n",
       "        text-align: right;\n",
       "    }\n",
       "</style>\n",
       "<table border=\"1\" class=\"dataframe\">\n",
       "  <thead>\n",
       "    <tr style=\"text-align: right;\">\n",
       "      <th></th>\n",
       "      <th>test_label</th>\n",
       "      <th>pred_label</th>\n",
       "      <th>sentence</th>\n",
       "      <th>index_dataset</th>\n",
       "    </tr>\n",
       "  </thead>\n",
       "  <tbody>\n",
       "    <tr>\n",
       "      <th>0</th>\n",
       "      <td>Social cognition</td>\n",
       "      <td>Social cognition</td>\n",
       "      <td>It was recently proposed that the neural subst...</td>\n",
       "      <td>1660</td>\n",
       "    </tr>\n",
       "    <tr>\n",
       "      <th>1</th>\n",
       "      <td>Genetics</td>\n",
       "      <td>Immunology</td>\n",
       "      <td>Kawasaki disease is a multisystemic vasculitis...</td>\n",
       "      <td>7526</td>\n",
       "    </tr>\n",
       "    <tr>\n",
       "      <th>2</th>\n",
       "      <td>Genetics</td>\n",
       "      <td>Genetics</td>\n",
       "      <td>The aim of the present study was to understand...</td>\n",
       "      <td>9144</td>\n",
       "    </tr>\n",
       "    <tr>\n",
       "      <th>3</th>\n",
       "      <td>Digital control</td>\n",
       "      <td>Digital control</td>\n",
       "      <td>This paper explores the large-signal and small...</td>\n",
       "      <td>10065</td>\n",
       "    </tr>\n",
       "    <tr>\n",
       "      <th>4</th>\n",
       "      <td>Digital control</td>\n",
       "      <td>Digital control</td>\n",
       "      <td>Design and implementation of a low cost grid-c...</td>\n",
       "      <td>10613</td>\n",
       "    </tr>\n",
       "    <tr>\n",
       "      <th>5</th>\n",
       "      <td>Person perception</td>\n",
       "      <td>Person perception</td>\n",
       "      <td>Women are less likely than men to engage in se...</td>\n",
       "      <td>3542</td>\n",
       "    </tr>\n",
       "    <tr>\n",
       "      <th>6</th>\n",
       "      <td>Molecular biology</td>\n",
       "      <td>Molecular biology</td>\n",
       "      <td>This study aims to investigate the impacts of ...</td>\n",
       "      <td>9068</td>\n",
       "    </tr>\n",
       "    <tr>\n",
       "      <th>7</th>\n",
       "      <td>Social cognition</td>\n",
       "      <td>Nonverbal communication</td>\n",
       "      <td>The purpose of this study was to examine the u...</td>\n",
       "      <td>2716</td>\n",
       "    </tr>\n",
       "    <tr>\n",
       "      <th>8</th>\n",
       "      <td>Person perception</td>\n",
       "      <td>Prejudice</td>\n",
       "      <td>Sexual harassment and coercion have mainly bee...</td>\n",
       "      <td>5627</td>\n",
       "    </tr>\n",
       "    <tr>\n",
       "      <th>9</th>\n",
       "      <td>Digital control</td>\n",
       "      <td>Digital control</td>\n",
       "      <td>This paper presents a reference modification m...</td>\n",
       "      <td>3194</td>\n",
       "    </tr>\n",
       "  </tbody>\n",
       "</table>\n",
       "</div>"
      ],
      "text/plain": [
       "          test_label               pred_label  \\\n",
       "0   Social cognition         Social cognition   \n",
       "1           Genetics               Immunology   \n",
       "2           Genetics                 Genetics   \n",
       "3    Digital control          Digital control   \n",
       "4    Digital control          Digital control   \n",
       "5  Person perception        Person perception   \n",
       "6  Molecular biology        Molecular biology   \n",
       "7   Social cognition  Nonverbal communication   \n",
       "8  Person perception                Prejudice   \n",
       "9    Digital control          Digital control   \n",
       "\n",
       "                                            sentence  index_dataset  \n",
       "0  It was recently proposed that the neural subst...           1660  \n",
       "1  Kawasaki disease is a multisystemic vasculitis...           7526  \n",
       "2  The aim of the present study was to understand...           9144  \n",
       "3  This paper explores the large-signal and small...          10065  \n",
       "4  Design and implementation of a low cost grid-c...          10613  \n",
       "5  Women are less likely than men to engage in se...           3542  \n",
       "6  This study aims to investigate the impacts of ...           9068  \n",
       "7  The purpose of this study was to examine the u...           2716  \n",
       "8  Sexual harassment and coercion have mainly bee...           5627  \n",
       "9  This paper presents a reference modification m...           3194  "
      ]
     },
     "execution_count": 7,
     "metadata": {},
     "output_type": "execute_result"
    }
   ],
   "source": [
    "best_pipes = [\"TC02_20news+TFIDF+SVC\",\"TC14_wos+TFIDF+RF\"]\n",
    "df_test_pred = get_df_test_pred(best_pipes[1])\n",
    "df_test_pred.head(10)"
   ]
  },
  {
   "cell_type": "code",
   "execution_count": 8,
   "metadata": {},
   "outputs": [
    {
     "name": "stdout",
     "output_type": "stream",
     "text": [
      "True label: Molecular biology\n",
      "Most commom misunderstandings\n",
      "Cell biology        8\n",
      "Immunology          1\n",
      "Human Metabolism    1\n",
      "Genetics            1\n",
      "Name: pred_label, dtype: int64\n",
      "==========================\n",
      "True label: Social cognition\n",
      "Most commom misunderstandings\n",
      "Nonverbal communication    3\n",
      "Prosocial behavior         3\n",
      "Prejudice                  3\n",
      "Anxiety                    1\n",
      "Alzheimer's Disease        1\n",
      "Name: pred_label, dtype: int64\n",
      "==========================\n",
      "True label: Genetics\n",
      "Most commom misunderstandings\n",
      "Molecular biology         4\n",
      "Human Metabolism          3\n",
      "Immunology                1\n",
      "Alzheimer's Disease       1\n",
      "Ankylosing Spondylitis    1\n",
      "Name: pred_label, dtype: int64\n",
      "==========================\n"
     ]
    }
   ],
   "source": [
    "df_error = df_test_pred[df_test_pred['test_label']!=df_test_pred['pred_label']]\n",
    "top_3_error_labels = df_error['test_label'].value_counts()[:3].index.tolist()\n",
    "for label in top_3_error_labels:\n",
    "    n = 5\n",
    "    df_error_label = df_error[df_error['test_label']==label]\n",
    "    top_n_misses = df_error_label['pred_label'].value_counts()[:n]\n",
    "    print(f'True label: {label}')\n",
    "    print('Most commom misunderstandings')\n",
    "    print(top_n_misses)\n",
    "    print('==========================')"
   ]
  },
  {
   "cell_type": "code",
   "execution_count": null,
   "metadata": {},
   "outputs": [],
   "source": []
  },
  {
   "cell_type": "code",
   "execution_count": null,
   "metadata": {},
   "outputs": [],
   "source": []
  },
  {
   "cell_type": "code",
   "execution_count": null,
   "metadata": {},
   "outputs": [],
   "source": []
  },
  {
   "cell_type": "code",
   "execution_count": 9,
   "metadata": {},
   "outputs": [
    {
     "data": {
      "text/html": [
       "<div>\n",
       "<style scoped>\n",
       "    .dataframe tbody tr th:only-of-type {\n",
       "        vertical-align: middle;\n",
       "    }\n",
       "\n",
       "    .dataframe tbody tr th {\n",
       "        vertical-align: top;\n",
       "    }\n",
       "\n",
       "    .dataframe thead th {\n",
       "        text-align: right;\n",
       "    }\n",
       "</style>\n",
       "<table border=\"1\" class=\"dataframe\">\n",
       "  <thead>\n",
       "    <tr style=\"text-align: right;\">\n",
       "      <th></th>\n",
       "      <th>test_label</th>\n",
       "      <th>pred_label</th>\n",
       "      <th>sentence</th>\n",
       "      <th>index_dataset</th>\n",
       "    </tr>\n",
       "  </thead>\n",
       "  <tbody>\n",
       "    <tr>\n",
       "      <th>20</th>\n",
       "      <td>Operating systems</td>\n",
       "      <td>Operating systems</td>\n",
       "      <td>The reproducibility of experiments is one of the main principles of the scientific method. However, numerical N-body experiments, especially those of planetary systems, are currently not reproducible. In themost optimistic scenario, they can only be replicated in an approximate or statistical se...</td>\n",
       "      <td>9035</td>\n",
       "    </tr>\n",
       "    <tr>\n",
       "      <th>5</th>\n",
       "      <td>Person perception</td>\n",
       "      <td>Person perception</td>\n",
       "      <td>Women are less likely than men to engage in sexually agentic behavior (e.g., initiating sexual encounters), despite the benefits associated with sexual agency (Kiefer &amp; Sanchez, 2007). Two studies examined possible explanations, related to person perception, for gender differences in sexually ag...</td>\n",
       "      <td>3542</td>\n",
       "    </tr>\n",
       "    <tr>\n",
       "      <th>29</th>\n",
       "      <td>Prejudice</td>\n",
       "      <td>Prejudice</td>\n",
       "      <td>Prior research indicates that there may be a disharmonious relationship between positive attitudes toward ethnic and cultural diversity and social identity within a socially dominant group. Recent work in cultural psychology, however, has implied that this disharmonious relationship may be confi...</td>\n",
       "      <td>10991</td>\n",
       "    </tr>\n",
       "    <tr>\n",
       "      <th>17</th>\n",
       "      <td>Prosocial behavior</td>\n",
       "      <td>Prosocial behavior</td>\n",
       "      <td>This study examined the role of children's trust beliefs and trustworthiness in the development of prosocial behavior using data from four waves of a longitudinal study in a large, ethnically-diverse sample of children in Switzerland (mean age = 8.11 years at Time 1, N = 1,028). Prosocial behavi...</td>\n",
       "      <td>9168</td>\n",
       "    </tr>\n",
       "    <tr>\n",
       "      <th>15</th>\n",
       "      <td>Rainwater Harvesting</td>\n",
       "      <td>Rainwater Harvesting</td>\n",
       "      <td>In comparison to other sources of water supply, rainwater harvesting (RWH) has the typical advantages of being cheaper and easier to operate and maintain. This study aimed at assessing the hydrologic rainwater harvesting potential of rural schools in South Africa by obtaining RWH storage capacit...</td>\n",
       "      <td>5367</td>\n",
       "    </tr>\n",
       "    <tr>\n",
       "      <th>13</th>\n",
       "      <td>Remote Sensing</td>\n",
       "      <td>Remote Sensing</td>\n",
       "      <td>Soil moisture distributions with high spatio-temporal resolution are scarce but beneficial for understanding ecohydrological processes and closing the water cycle at the basin scale. Sensor networks are innovative in their ability to capture the spatio-temporal heterogeneity and dynamics of soil...</td>\n",
       "      <td>5427</td>\n",
       "    </tr>\n",
       "    <tr>\n",
       "      <th>0</th>\n",
       "      <td>Social cognition</td>\n",
       "      <td>Social cognition</td>\n",
       "      <td>It was recently proposed that the neural substrate mediating smile production might play a key role also in the recognition of others' smile. This hypothesis, however, has been challenged by difficulties in eliciting ecological smiling in standard laboratory settings. Here we report of a case wh...</td>\n",
       "      <td>1660</td>\n",
       "    </tr>\n",
       "    <tr>\n",
       "      <th>31</th>\n",
       "      <td>Water Pollution</td>\n",
       "      <td>Water Pollution</td>\n",
       "      <td>The bivalve mollusks are among the aquatic bioindicators that are commonly used in monitoring water pollution studies, thanks to their behavior and metabolism. They are directly affected by the level of pollution in a given site. During this research, the study of the biological response in gill...</td>\n",
       "      <td>7163</td>\n",
       "    </tr>\n",
       "    <tr>\n",
       "      <th>90</th>\n",
       "      <td>computer-aided design</td>\n",
       "      <td>Electrical circuits</td>\n",
       "      <td>In this paper, we present morphological and electrical characteristics of a junction formed of Si p-type films deposited on an n-type silicon wafer using a hot wire chemical vapor deposition (HWCVD) tool. We describe the fabrication process and study the influence of diborane flow and postproces...</td>\n",
       "      <td>158</td>\n",
       "    </tr>\n",
       "    <tr>\n",
       "      <th>24</th>\n",
       "      <td>network security</td>\n",
       "      <td>network security</td>\n",
       "      <td>Facing with plethora network security events, network security risk evaluation is an effective method to prevent and respond to these security problems. Ignoring possible changes maybe occurred, traditional network security risk evaluation only emphasizes the preventive management in advance. Th...</td>\n",
       "      <td>10049</td>\n",
       "    </tr>\n",
       "  </tbody>\n",
       "</table>\n",
       "</div>"
      ],
      "text/plain": [
       "               test_label            pred_label  \\\n",
       "20      Operating systems     Operating systems   \n",
       "5       Person perception     Person perception   \n",
       "29              Prejudice             Prejudice   \n",
       "17     Prosocial behavior    Prosocial behavior   \n",
       "15   Rainwater Harvesting  Rainwater Harvesting   \n",
       "13         Remote Sensing        Remote Sensing   \n",
       "0        Social cognition      Social cognition   \n",
       "31        Water Pollution       Water Pollution   \n",
       "90  computer-aided design   Electrical circuits   \n",
       "24       network security      network security   \n",
       "\n",
       "                                                                                                                                                                                                                                                                                                       sentence  \\\n",
       "20  The reproducibility of experiments is one of the main principles of the scientific method. However, numerical N-body experiments, especially those of planetary systems, are currently not reproducible. In themost optimistic scenario, they can only be replicated in an approximate or statistical se...   \n",
       "5   Women are less likely than men to engage in sexually agentic behavior (e.g., initiating sexual encounters), despite the benefits associated with sexual agency (Kiefer & Sanchez, 2007). Two studies examined possible explanations, related to person perception, for gender differences in sexually ag...   \n",
       "29  Prior research indicates that there may be a disharmonious relationship between positive attitudes toward ethnic and cultural diversity and social identity within a socially dominant group. Recent work in cultural psychology, however, has implied that this disharmonious relationship may be confi...   \n",
       "17  This study examined the role of children's trust beliefs and trustworthiness in the development of prosocial behavior using data from four waves of a longitudinal study in a large, ethnically-diverse sample of children in Switzerland (mean age = 8.11 years at Time 1, N = 1,028). Prosocial behavi...   \n",
       "15  In comparison to other sources of water supply, rainwater harvesting (RWH) has the typical advantages of being cheaper and easier to operate and maintain. This study aimed at assessing the hydrologic rainwater harvesting potential of rural schools in South Africa by obtaining RWH storage capacit...   \n",
       "13  Soil moisture distributions with high spatio-temporal resolution are scarce but beneficial for understanding ecohydrological processes and closing the water cycle at the basin scale. Sensor networks are innovative in their ability to capture the spatio-temporal heterogeneity and dynamics of soil...   \n",
       "0   It was recently proposed that the neural substrate mediating smile production might play a key role also in the recognition of others' smile. This hypothesis, however, has been challenged by difficulties in eliciting ecological smiling in standard laboratory settings. Here we report of a case wh...   \n",
       "31  The bivalve mollusks are among the aquatic bioindicators that are commonly used in monitoring water pollution studies, thanks to their behavior and metabolism. They are directly affected by the level of pollution in a given site. During this research, the study of the biological response in gill...   \n",
       "90  In this paper, we present morphological and electrical characteristics of a junction formed of Si p-type films deposited on an n-type silicon wafer using a hot wire chemical vapor deposition (HWCVD) tool. We describe the fabrication process and study the influence of diborane flow and postproces...   \n",
       "24  Facing with plethora network security events, network security risk evaluation is an effective method to prevent and respond to these security problems. Ignoring possible changes maybe occurred, traditional network security risk evaluation only emphasizes the preventive management in advance. Th...   \n",
       "\n",
       "    index_dataset  \n",
       "20           9035  \n",
       "5            3542  \n",
       "29          10991  \n",
       "17           9168  \n",
       "15           5367  \n",
       "13           5427  \n",
       "0            1660  \n",
       "31           7163  \n",
       "90            158  \n",
       "24          10049  "
      ]
     },
     "execution_count": 9,
     "metadata": {},
     "output_type": "execute_result"
    }
   ],
   "source": [
    "pd.options.display.max_colwidth = 300\n",
    "df_dropado = df_test_pred.drop_duplicates(subset=['test_label'], keep='first')\n",
    "df_dropado.sort_values(by=['test_label']).tail(10)\n"
   ]
  },
  {
   "cell_type": "code",
   "execution_count": 10,
   "metadata": {},
   "outputs": [],
   "source": [
    "data_catalog = pd.read_excel('/home/vinicius/Pré Processamento/Meta-data/Data.xlsx')"
   ]
  },
  {
   "cell_type": "code",
   "execution_count": 11,
   "metadata": {},
   "outputs": [
    {
     "data": {
      "text/plain": [
       "Index(['Y1', 'Y2', 'Y', 'Domain', 'area', 'keywords', 'Abstract'], dtype='object')"
      ]
     },
     "execution_count": 11,
     "metadata": {},
     "output_type": "execute_result"
    }
   ],
   "source": [
    "data_catalog.columns"
   ]
  },
  {
   "cell_type": "code",
   "execution_count": 75,
   "metadata": {},
   "outputs": [
    {
     "name": "stderr",
     "output_type": "stream",
     "text": [
      "/tmp/ipykernel_260/3465581413.py:5: UserWarning: This pattern is interpreted as a regular expression, and has match groups. To actually get the groups, use str.extract.\n",
      "  label_wos = data_catalog[data_catalog['Abstract'].str.contains(df_dropado['sentence'].iloc[row_index][1:50].strip())]['area'].values[0]\n"
     ]
    },
    {
     "name": "stdout",
     "output_type": "stream",
     "text": [
      "Não achou o label_wos do 3\n",
      "Adicionado manualmente\n",
      "Não achou o label_wos do 23\n",
      "Adicionado manualmente\n"
     ]
    }
   ],
   "source": [
    "label_map = {}\n",
    "for row_index in range(len(df_dropado)):\n",
    "    label_new = int(df_dropado['test_label'].values[row_index])\n",
    "    try:\n",
    "        label_wos = data_catalog[data_catalog['Abstract'].str.contains(df_dropado['sentence'].iloc[row_index][1:50].strip())]['area'].values[0]\n",
    "        label_map[label_new] = label_wos.strip()\n",
    "    except:\n",
    "        print(f'Não achou o label_wos do {label_new}')\n",
    "        print(\"Adicionado manualmente\")\n",
    "\n",
    "label_map[3] = 'Cryptography'\n",
    "label_map[23] = 'Addiction'"
   ]
  },
  {
   "cell_type": "code",
   "execution_count": 76,
   "metadata": {},
   "outputs": [],
   "source": [
    "label_map\n",
    "with open('wos_label_map.json', 'w') as fp:\n",
    "    json.dump(label_map, fp)"
   ]
  },
  {
   "cell_type": "code",
   "execution_count": 27,
   "metadata": {},
   "outputs": [
    {
     "data": {
      "text/plain": [
       "7"
      ]
     },
     "execution_count": 27,
     "metadata": {},
     "output_type": "execute_result"
    }
   ],
   "source": [
    "df_dropado['test_label'].values[row_index]"
   ]
  },
  {
   "cell_type": "code",
   "execution_count": 32,
   "metadata": {},
   "outputs": [
    {
     "data": {
      "text/plain": [
       "2"
      ]
     },
     "execution_count": 32,
     "metadata": {},
     "output_type": "execute_result"
    }
   ],
   "source": [
    "from sklearn import preprocessing\n",
    "df = pd.read_csv(f'Arquivos TCC/datasets/TC02_20news.csv', sep=';')\n",
    "df = df.dropna()\n",
    "textos = df['text']\n",
    "labels = df['label']\n",
    "le = preprocessing.LabelEncoder()\n",
    "le.fit(labels)\n",
    "labels_enc = le.transform(labels)\n",
    "label_map_20news = {}\n",
    "for i,label in enumerate(labels.unique()):\n",
    "    label_map_20news[i] = label\n",
    "\n",
    "with open('20news_label_map.json', 'w') as fp:\n",
    "    json.dump(label_map_20news, fp)"
   ]
  },
  {
   "cell_type": "code",
   "execution_count": 41,
   "metadata": {},
   "outputs": [
    {
     "data": {
      "text/plain": [
       "'This paper explores the large-signal and small-signal dynamics of a series-capacitor (SC) buck-type '"
      ]
     },
     "execution_count": 41,
     "metadata": {},
     "output_type": "execute_result"
    }
   ],
   "source": [
    "df_dropado['sentence'].iloc[row_index][0:100]"
   ]
  },
  {
   "cell_type": "code",
   "execution_count": 43,
   "metadata": {},
   "outputs": [
    {
     "data": {
      "text/plain": [
       "40638     Digital control  \n",
       "Name: area, dtype: object"
      ]
     },
     "execution_count": 43,
     "metadata": {},
     "output_type": "execute_result"
    }
   ],
   "source": [
    "data_catalog[data_catalog['Abstract'].str.contains(df_dropado['sentence'].iloc[row_index][4:50])]['area']"
   ]
  },
  {
   "cell_type": "code",
   "execution_count": null,
   "metadata": {},
   "outputs": [],
   "source": []
  }
 ],
 "metadata": {
  "kernelspec": {
   "display_name": "Python 3.8.10 64-bit",
   "language": "python",
   "name": "python3"
  },
  "language_info": {
   "codemirror_mode": {
    "name": "ipython",
    "version": 3
   },
   "file_extension": ".py",
   "mimetype": "text/x-python",
   "name": "python",
   "nbconvert_exporter": "python",
   "pygments_lexer": "ipython3",
   "version": "3.8.10"
  },
  "orig_nbformat": 4,
  "vscode": {
   "interpreter": {
    "hash": "916dbcbb3f70747c44a77c7bcd40155683ae19c65e1c03b4aa3499c5328201f1"
   }
  }
 },
 "nbformat": 4,
 "nbformat_minor": 2
}
